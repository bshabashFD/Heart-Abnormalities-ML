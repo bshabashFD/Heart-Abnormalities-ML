{
 "cells": [
  {
   "cell_type": "code",
   "execution_count": 1,
   "metadata": {},
   "outputs": [],
   "source": [
    "import numpy as np\n",
    "import pandas as pd\n",
    "import time\n",
    "import librosa\n",
    "import librosa.display\n",
    "\n",
    "import warnings\n",
    "warnings.filterwarnings(\"ignore\")\n",
    "\n",
    "import matplotlib.pyplot as plt\n",
    "%matplotlib inline\n",
    "\n",
    "from boris_util import *"
   ]
  },
  {
   "cell_type": "code",
   "execution_count": 2,
   "metadata": {},
   "outputs": [],
   "source": [
    "from sklearn.model_selection import train_test_split\n",
    "from sklearn.preprocessing import MinMaxScaler, StandardScaler, LabelEncoder\n",
    "from sklearn.decomposition import PCA\n",
    "\n",
    "\n",
    "from sklearn.linear_model import LogisticRegression\n",
    "from sklearn.tree import DecisionTreeClassifier\n",
    "from sklearn.ensemble import RandomForestClassifier\n",
    "from sklearn.svm import SVC\n",
    "from sklearn.neighbors import KNeighborsClassifier as KNN\n",
    "\n",
    "from xgboost import XGBClassifier\n",
    "\n",
    "from sklearn.pipeline import Pipeline\n",
    "\n",
    "from sklearn.metrics import plot_confusion_matrix\n",
    "from sklearn.metrics import classification_report\n",
    "from sklearn.metrics import roc_auc_score\n",
    "from sklearn.model_selection import GridSearchCV"
   ]
  },
  {
   "cell_type": "markdown",
   "metadata": {},
   "source": [
    "# Exploring the Dataset\n",
    "\n",
    "First thing's first, let's load the dataset. I created a new function that loads up the dataset for me and converts it into a pandas dataframe for easy access. For more information on this, please see the `Data Cleaning` notebook"
   ]
  },
  {
   "cell_type": "code",
   "execution_count": 3,
   "metadata": {},
   "outputs": [
    {
     "name": "stdout",
     "output_type": "stream",
     "text": [
      "processed 100.00%\n",
      "(436, 4)\n"
     ]
    },
    {
     "data": {
      "text/html": [
       "<div>\n",
       "<style scoped>\n",
       "    .dataframe tbody tr th:only-of-type {\n",
       "        vertical-align: middle;\n",
       "    }\n",
       "\n",
       "    .dataframe tbody tr th {\n",
       "        vertical-align: top;\n",
       "    }\n",
       "\n",
       "    .dataframe thead th {\n",
       "        text-align: right;\n",
       "    }\n",
       "</style>\n",
       "<table border=\"1\" class=\"dataframe\">\n",
       "  <thead>\n",
       "    <tr style=\"text-align: right;\">\n",
       "      <th></th>\n",
       "      <th>signal</th>\n",
       "      <th>sampling_rate</th>\n",
       "      <th>audio_length</th>\n",
       "      <th>label</th>\n",
       "    </tr>\n",
       "  </thead>\n",
       "  <tbody>\n",
       "    <tr>\n",
       "      <th>0</th>\n",
       "      <td>[2.2960085e-05, -0.00012982322, -0.00018070513...</td>\n",
       "      <td>22050</td>\n",
       "      <td>9.0</td>\n",
       "      <td>artifact</td>\n",
       "    </tr>\n",
       "    <tr>\n",
       "      <th>1</th>\n",
       "      <td>[-1.0927635e-05, 1.0574424e-06, 2.108567e-06, ...</td>\n",
       "      <td>22050</td>\n",
       "      <td>9.0</td>\n",
       "      <td>artifact</td>\n",
       "    </tr>\n",
       "    <tr>\n",
       "      <th>2</th>\n",
       "      <td>[3.728857e-05, -0.0001664555, -7.4023155e-05, ...</td>\n",
       "      <td>22050</td>\n",
       "      <td>9.0</td>\n",
       "      <td>artifact</td>\n",
       "    </tr>\n",
       "    <tr>\n",
       "      <th>3</th>\n",
       "      <td>[-0.0027429417, -0.0066496185, -0.0049779303, ...</td>\n",
       "      <td>22050</td>\n",
       "      <td>9.0</td>\n",
       "      <td>artifact</td>\n",
       "    </tr>\n",
       "    <tr>\n",
       "      <th>4</th>\n",
       "      <td>[0.000106223946, 0.0015002153, 0.0097254915, 0...</td>\n",
       "      <td>22050</td>\n",
       "      <td>9.0</td>\n",
       "      <td>artifact</td>\n",
       "    </tr>\n",
       "  </tbody>\n",
       "</table>\n",
       "</div>"
      ],
      "text/plain": [
       "                                              signal  sampling_rate  \\\n",
       "0  [2.2960085e-05, -0.00012982322, -0.00018070513...          22050   \n",
       "1  [-1.0927635e-05, 1.0574424e-06, 2.108567e-06, ...          22050   \n",
       "2  [3.728857e-05, -0.0001664555, -7.4023155e-05, ...          22050   \n",
       "3  [-0.0027429417, -0.0066496185, -0.0049779303, ...          22050   \n",
       "4  [0.000106223946, 0.0015002153, 0.0097254915, 0...          22050   \n",
       "\n",
       "   audio_length     label  \n",
       "0           9.0  artifact  \n",
       "1           9.0  artifact  \n",
       "2           9.0  artifact  \n",
       "3           9.0  artifact  \n",
       "4           9.0  artifact  "
      ]
     },
     "execution_count": 3,
     "metadata": {},
     "output_type": "execute_result"
    }
   ],
   "source": [
    "dataset = read_and_combine_data('453_923_bundle_archive', read_noisy_data=False)\n",
    "print(dataset.shape)\n",
    "dataset.head()"
   ]
  },
  {
   "cell_type": "markdown",
   "metadata": {},
   "source": [
    "Let's take a look at the class distribution to see if there is any concern of class imbalance"
   ]
  },
  {
   "cell_type": "code",
   "execution_count": 4,
   "metadata": {},
   "outputs": [
    {
     "data": {
      "image/png": "[encoded data removed]",
      "text/plain": [
       "<Figure size 1080x360 with 1 Axes>"
      ]
     },
     "metadata": {
      "needs_background": "light"
     },
     "output_type": "display_data"
    }
   ],
   "source": [
    "label_counts = dataset['label'].value_counts()\n",
    "\n",
    "plt.figure(figsize=(15,5))\n",
    "plt.barh(label_counts.index, label_counts.values)\n",
    "plt.xlabel(\"Value Counts\")\n",
    "plt.ylabel(\"Condition\")\n",
    "plt.title(\"The Distribution of Different Labels in the Dataset\")\n",
    "plt.show()"
   ]
  },
  {
   "cell_type": "markdown",
   "metadata": {},
   "source": [
    "There is certainly an issue of class imbalance here. A naive classifier could guess pretty well by simply guessing \"Normal\" on all the examples"
   ]
  },
  {
   "cell_type": "markdown",
   "metadata": {},
   "source": [
    "## Combine all Abnormalities\n",
    "\n",
    "Let's try and simplify the problem first, we will combine all abnormalities into a single label \"abnormal\"."
   ]
  },
  {
   "cell_type": "code",
   "execution_count": 5,
   "metadata": {},
   "outputs": [],
   "source": [
    "def relabel(label):\n",
    "    if (label == \"normal\"):\n",
    "        return \"normal\"\n",
    "    else:\n",
    "        return \"abnormal\"\n",
    "dataset['label'] = dataset['label'].apply(relabel)"
   ]
  },
  {
   "cell_type": "code",
   "execution_count": 6,
   "metadata": {},
   "outputs": [
    {
     "data": {
      "image/png": "[encoded data removed]",
      "text/plain": [
       "<Figure size 1080x360 with 1 Axes>"
      ]
     },
     "metadata": {
      "needs_background": "light"
     },
     "output_type": "display_data"
    }
   ],
   "source": [
    "label_counts = dataset['label'].value_counts()\n",
    "\n",
    "plt.figure(figsize=(15,5))\n",
    "plt.barh(label_counts.index, label_counts.values)\n",
    "plt.xlabel(\"Value Counts\")\n",
    "plt.ylabel(\"Condition\")\n",
    "plt.title(\"The Distribution of Different Labels in the Re-labeled Dataset\")\n",
    "plt.show()"
   ]
  },
  {
   "cell_type": "markdown",
   "metadata": {},
   "source": [
    "Let's split our data now into a simple train/test stratified split"
   ]
  },
  {
   "cell_type": "code",
   "execution_count": 7,
   "metadata": {},
   "outputs": [
    {
     "name": "stdout",
     "output_type": "stream",
     "text": [
      "(305, 4)\n",
      "(131, 4)\n"
     ]
    }
   ],
   "source": [
    "from sklearn.model_selection import train_test_split\n",
    "\n",
    "train_dataset, test_dataset = train_test_split(dataset, test_size=0.3, stratify=dataset['label'], random_state=1)\n",
    "print(train_dataset.shape)\n",
    "print(test_dataset.shape)"
   ]
  },
  {
   "cell_type": "markdown",
   "metadata": {},
   "source": [
    "And look at the data. As we can see each row contains:\n",
    "* A signal (which is a numpy array)\n",
    "* A sampling rate (they all have the same sampling rate but it's useful to have that information handy)\n",
    "* The audio_length in seconds\n",
    "* The label which is the target"
   ]
  },
  {
   "cell_type": "code",
   "execution_count": 8,
   "metadata": {},
   "outputs": [
    {
     "data": {
      "text/html": [
       "<div>\n",
       "<style scoped>\n",
       "    .dataframe tbody tr th:only-of-type {\n",
       "        vertical-align: middle;\n",
       "    }\n",
       "\n",
       "    .dataframe tbody tr th {\n",
       "        vertical-align: top;\n",
       "    }\n",
       "\n",
       "    .dataframe thead th {\n",
       "        text-align: right;\n",
       "    }\n",
       "</style>\n",
       "<table border=\"1\" class=\"dataframe\">\n",
       "  <thead>\n",
       "    <tr style=\"text-align: right;\">\n",
       "      <th></th>\n",
       "      <th>signal</th>\n",
       "      <th>sampling_rate</th>\n",
       "      <th>audio_length</th>\n",
       "      <th>label</th>\n",
       "    </tr>\n",
       "  </thead>\n",
       "  <tbody>\n",
       "    <tr>\n",
       "      <th>302</th>\n",
       "      <td>[-0.014594975, -0.016623363, -0.017930867, -0....</td>\n",
       "      <td>22050</td>\n",
       "      <td>5.025533</td>\n",
       "      <td>normal</td>\n",
       "    </tr>\n",
       "    <tr>\n",
       "      <th>401</th>\n",
       "      <td>[0.00535502, 0.0048318487, 0.0038144102, 0.002...</td>\n",
       "      <td>22050</td>\n",
       "      <td>1.724263</td>\n",
       "      <td>normal</td>\n",
       "    </tr>\n",
       "    <tr>\n",
       "      <th>311</th>\n",
       "      <td>[-0.0009814408, -0.00052338943, 9.0988244e-05,...</td>\n",
       "      <td>22050</td>\n",
       "      <td>3.822766</td>\n",
       "      <td>normal</td>\n",
       "    </tr>\n",
       "    <tr>\n",
       "      <th>346</th>\n",
       "      <td>[-0.007578952, -0.011004641, -0.015165693, -0....</td>\n",
       "      <td>22050</td>\n",
       "      <td>4.312018</td>\n",
       "      <td>normal</td>\n",
       "    </tr>\n",
       "    <tr>\n",
       "      <th>410</th>\n",
       "      <td>[-0.030912954, -0.033952978, -0.035377894, -0....</td>\n",
       "      <td>22050</td>\n",
       "      <td>3.167755</td>\n",
       "      <td>normal</td>\n",
       "    </tr>\n",
       "  </tbody>\n",
       "</table>\n",
       "</div>"
      ],
      "text/plain": [
       "                                                signal  sampling_rate  \\\n",
       "302  [-0.014594975, -0.016623363, -0.017930867, -0....          22050   \n",
       "401  [0.00535502, 0.0048318487, 0.0038144102, 0.002...          22050   \n",
       "311  [-0.0009814408, -0.00052338943, 9.0988244e-05,...          22050   \n",
       "346  [-0.007578952, -0.011004641, -0.015165693, -0....          22050   \n",
       "410  [-0.030912954, -0.033952978, -0.035377894, -0....          22050   \n",
       "\n",
       "     audio_length   label  \n",
       "302      5.025533  normal  \n",
       "401      1.724263  normal  \n",
       "311      3.822766  normal  \n",
       "346      4.312018  normal  \n",
       "410      3.167755  normal  "
      ]
     },
     "execution_count": 8,
     "metadata": {},
     "output_type": "execute_result"
    }
   ],
   "source": [
    "train_dataset.head()"
   ]
  },
  {
   "cell_type": "markdown",
   "metadata": {},
   "source": [
    "Now let's define a class which will convert the signals into Mel spectrograms"
   ]
  },
  {
   "cell_type": "code",
   "execution_count": 9,
   "metadata": {},
   "outputs": [],
   "source": [
    "class MelEncoder:\n",
    "    \n",
    "    '''\n",
    "        This transformer takes an audio signal and employes librosa\n",
    "        to transform the audio signal into a Mel-frequency spectrogram.\n",
    "        \n",
    "        The transformation transforms the audio signal from samples in a \n",
    "        time domain, to frequencies over each time window. The frequencies\n",
    "        are then collected into buckets which are easily distinguished by\n",
    "        human hearing\n",
    "        \n",
    "        The code here is largely dervied from functions in \n",
    "        https://towardsdatascience.com/getting-to-know-the-mel-spectrogram-31bca3e2d9d0\n",
    "        \n",
    "        I took those and turned them into a class for an easy interface\n",
    "    '''\n",
    "    \n",
    "    def __init__(self, \n",
    "                 flatten=True, \n",
    "                 n_fft=2048, \n",
    "                 hop_length=512, \n",
    "                 n_mels=128, \n",
    "                 sampling_rate=22050.0, \n",
    "                 n_windows=1000, \n",
    "                 verbose=0):\n",
    "        \n",
    "        \n",
    "        self.n_fft = n_fft\n",
    "        self.hop_length = hop_length\n",
    "        self.n_mels = n_mels\n",
    "        self.sampling_rate = sampling_rate\n",
    "        self.n_windows = n_windows\n",
    "        self.verbose = verbose\n",
    "        \n",
    "        \n",
    "        self.flatten = flatten\n",
    "        \n",
    "    ################################################################################################\n",
    "    def fit(self, X, y=None):\n",
    "        '''\n",
    "            This method doesn't do much except initialize a private variables\n",
    "        '''\n",
    "        self.longest_signal_length = None\n",
    "        \n",
    "        \n",
    "    ################################################################################################    \n",
    "    def _signal_to_mel_spectrogram(self, signal):\n",
    "        '''\n",
    "            This method accepts an audio signal as a list of measurements\n",
    "            and returns the signal broken up into the Mel scale.\n",
    "            \n",
    "            If n_windows was specified, the signal is broken up into\n",
    "            n_windows. Otherwise, the signal is broken up based\n",
    "            on hop_length and is broken into however many windows\n",
    "            can be fitted using hop_length\n",
    "        '''\n",
    "        \n",
    "        \n",
    "        if (self.n_windows is not None):\n",
    "            hop_length = signal.shape[0]//self.n_windows\n",
    "        else:\n",
    "            hop_length = self.hop_length\n",
    "        S = librosa.feature.melspectrogram(signal, \n",
    "                                           sr=self.sampling_rate, \n",
    "                                           n_fft=self.n_fft, \n",
    "                                           hop_length=hop_length, \n",
    "                                           n_mels=self.n_mels)\n",
    "        S_DB = librosa.power_to_db(S, ref=np.max)\n",
    "        return S_DB\n",
    "    \n",
    "    ################################################################################################\n",
    "    def _create_spectrogram_list(self, X):\n",
    "        '''\n",
    "            This method accepts a an array of signals \n",
    "            (each signal is a list of measurements)\n",
    "            and returns a list of the Mel spectrograms\n",
    "            corresponding to each signal\n",
    "        '''\n",
    "        \n",
    "        spectrogram_list = []\n",
    "        \n",
    "        \n",
    "        for i, signal in enumerate(X):\n",
    "                mel_spectrogram = self._signal_to_mel_spectrogram(signal)\n",
    "                spectrogram_list.append(mel_spectrogram)\n",
    "                if (self.verbose):\n",
    "                    print(f\"processed: {round(100*i/X.shape[0], 2)}%\", end=\"\\r\")\n",
    "                    \n",
    "                \n",
    "        print(f\"processed: {round(100*i/X.shape[0], 2)}%\")\n",
    "        \n",
    "        return spectrogram_list\n",
    "    \n",
    "    ################################################################################################\n",
    "    def _find_longest_signal_length(self, spectrogram_list):\n",
    "        '''\n",
    "            This method accepts a spectrogram list and finds\n",
    "            the length of the longest spectrogram\n",
    "        '''\n",
    "        \n",
    "        max_length = 0\n",
    "        for mel_spectrogram in spectrogram_list:\n",
    "            if (mel_spectrogram.shape[1] > max_length):\n",
    "                max_length = mel_spectrogram.shape[1]\n",
    "\n",
    "        return max_length\n",
    "    \n",
    "    ################################################################################################\n",
    "    def _build_mel_spectrogram_stack(self, spectrogram_list):\n",
    "        '''\n",
    "            This method accepts a list of spectrograms and\n",
    "            returns a numpy array which is a stack of those\n",
    "            spectrograms of shape (len(spectrogram_list), n_mels, N)\n",
    "            where N is the length of the longest spectrogram\n",
    "            in the list. \n",
    "            Empty spots are filled with -80 \n",
    "            (the default value for no signal)\n",
    "        '''\n",
    "        \n",
    "        X_transformed = np.full(shape=(len(spectrogram_list), self.n_mels, self.longest_signal_length),\n",
    "                                fill_value=-80.0)\n",
    "        \n",
    "        for i, mel_spectrogram in enumerate(spectrogram_list):\n",
    "            if (mel_spectrogram.shape[1] <= self.longest_signal_length):\n",
    "                X_transformed[i, :, -mel_spectrogram.shape[1]:] = mel_spectrogram[:, :]\n",
    "            else:\n",
    "                X_transformed[i, :, :] = mel_spectrogram[:, -self.longest_signal_length:]\n",
    "                \n",
    "        return X_transformed\n",
    "    \n",
    "    \n",
    "    \n",
    "    ################################################################################################\n",
    "    def transform(self, X):\n",
    "        '''\n",
    "            This method accepts an array of audio signals and returns\n",
    "            a numpy array of spectrograms \n",
    "            \n",
    "            The spectrogram array returns with shape (len(X), n_mels, N) \n",
    "            where N is the length of the longest spectrogram, if flatten \n",
    "            was set to True\n",
    "            \n",
    "            The spectrogram array returns with shape (len(X), n_mels X N) \n",
    "            where N is the length of the longest spectrogram, if flatten \n",
    "            was set to False\n",
    "            \n",
    "            \n",
    "        '''\n",
    "        \n",
    "        spectrogram_list = self._create_spectrogram_list(X)\n",
    "        \n",
    "        if (self.longest_signal_length is None):\n",
    "            self.longest_signal_length = self._find_longest_signal_length(spectrogram_list)\n",
    "            \n",
    "        X_transformed = self._build_mel_spectrogram_stack(spectrogram_list)\n",
    "        \n",
    "        \n",
    "        if (self.flatten):\n",
    "            return X_transformed.reshape(X_transformed.shape[0], -1)\n",
    "        else:\n",
    "            return X_transformed\n",
    "        \n",
    "    ################################################################################################ \n",
    "    def fit_transform(self, X, y=None):\n",
    "        '''\n",
    "            This method accepts an array of audio signals and returns\n",
    "            a numpy array of spectrograms \n",
    "            \n",
    "            The spectrogram array returns with shape (len(X), n_mels, N) \n",
    "            where N is the length of the longest spectrogram, if flatten \n",
    "            was set to True\n",
    "            \n",
    "            The spectrogram array returns with shape (len(X), n_mels X N) \n",
    "            where N is the length of the longest spectrogram, if flatten \n",
    "            was set to False\n",
    "        '''\n",
    "        return self.fit(X).transform(X)"
   ]
  },
  {
   "cell_type": "markdown",
   "metadata": {},
   "source": [
    "Let's employ out encoder and transform the data. Since we'll be using basic machine learning models we will flatten the output"
   ]
  },
  {
   "cell_type": "code",
   "execution_count": 10,
   "metadata": {},
   "outputs": [
    {
     "name": "stdout",
     "output_type": "stream",
     "text": [
      "processed: 99.67%\n"
     ]
    },
    {
     "data": {
      "text/plain": [
       "(305, 134400)"
      ]
     },
     "execution_count": 10,
     "metadata": {},
     "output_type": "execute_result"
    }
   ],
   "source": [
    "my_encoder = MelEncoder(n_mels=128, n_windows=1000, verbose=1)\n",
    "my_encoder.fit(train_dataset['signal'])\n",
    "\n",
    "X_train_mel = my_encoder.transform(train_dataset['signal'])\n",
    "X_train_mel.shape"
   ]
  },
  {
   "cell_type": "code",
   "execution_count": 11,
   "metadata": {
    "scrolled": true
   },
   "outputs": [
    {
     "name": "stdout",
     "output_type": "stream",
     "text": [
      "processed: 99.24%\n"
     ]
    },
    {
     "data": {
      "text/plain": [
       "(131, 134400)"
      ]
     },
     "execution_count": 11,
     "metadata": {},
     "output_type": "execute_result"
    }
   ],
   "source": [
    "X_test_mel = my_encoder.transform(test_dataset['signal'])\n",
    "X_test_mel.shape"
   ]
  },
  {
   "cell_type": "markdown",
   "metadata": {},
   "source": [
    "## PCA\n",
    "\n",
    "Since there is a very small collection of data points, we can embed them in a much smaller dimensional space without losing any of the variance.\n",
    "\n",
    "Let's scale the data:"
   ]
  },
  {
   "cell_type": "code",
   "execution_count": 12,
   "metadata": {},
   "outputs": [],
   "source": [
    "from sklearn.preprocessing import MinMaxScaler"
   ]
  },
  {
   "cell_type": "code",
   "execution_count": 13,
   "metadata": {},
   "outputs": [
    {
     "name": "stdout",
     "output_type": "stream",
     "text": [
      "CPU times: user 444 ms, sys: 172 ms, total: 616 ms\n",
      "Wall time: 618 ms\n"
     ]
    }
   ],
   "source": [
    "%%time \n",
    "my_mmscaler = MinMaxScaler()\n",
    "\n",
    "X_train_mel = my_mmscaler.fit_transform(X_train_mel)\n",
    "X_test_mel = my_mmscaler.transform(X_test_mel)"
   ]
  },
  {
   "cell_type": "markdown",
   "metadata": {},
   "source": [
    "And employ PCA to reduce the number of dimensions to the smaller of the row number or column number. In this case the data is $305 \\times 134,400$ in size, so it will be reduced to $305 \\times 305$"
   ]
  },
  {
   "cell_type": "code",
   "execution_count": 15,
   "metadata": {},
   "outputs": [
    {
     "name": "stdout",
     "output_type": "stream",
     "text": [
      "CPU times: user 1min 44s, sys: 5.34 s, total: 1min 50s\n",
      "Wall time: 13.5 s\n"
     ]
    },
    {
     "data": {
      "text/plain": [
       "PCA(n_components=305)"
      ]
     },
     "execution_count": 15,
     "metadata": {},
     "output_type": "execute_result"
    }
   ],
   "source": [
    "%%time \n",
    "\n",
    "component_number = min(*X_train_mel.shape)\n",
    "my_pca = PCA(n_components=component_number, svd_solver='auto')\n",
    "my_pca.fit(X_train_mel)"
   ]
  },
  {
   "cell_type": "code",
   "execution_count": 16,
   "metadata": {},
   "outputs": [
    {
     "data": {
      "image/png": "[encoded data removed]",
      "text/plain": [
       "<Figure size 1080x360 with 1 Axes>"
      ]
     },
     "metadata": {
      "needs_background": "light"
     },
     "output_type": "display_data"
    }
   ],
   "source": [
    "plt.figure(figsize=(15,5))\n",
    "plt.plot(my_pca.explained_variance_ratio_.cumsum())\n",
    "plt.xlabel(\"Component Number\")\n",
    "plt.ylabel(\"Explained Variance\")\n",
    "plt.show()"
   ]
  },
  {
   "cell_type": "code",
   "execution_count": 17,
   "metadata": {},
   "outputs": [],
   "source": [
    "X_train_mel = my_pca.transform(X_train_mel)\n",
    "X_test_mel = my_pca.transform(X_test_mel)"
   ]
  },
  {
   "cell_type": "code",
   "execution_count": 18,
   "metadata": {},
   "outputs": [
    {
     "data": {
      "text/plain": [
       "(305, 305)"
      ]
     },
     "execution_count": 18,
     "metadata": {},
     "output_type": "execute_result"
    }
   ],
   "source": [
    "X_train_mel.shape"
   ]
  },
  {
   "cell_type": "code",
   "execution_count": 19,
   "metadata": {},
   "outputs": [
    {
     "data": {
      "text/plain": [
       "(131, 305)"
      ]
     },
     "execution_count": 19,
     "metadata": {},
     "output_type": "execute_result"
    }
   ],
   "source": [
    "X_test_mel.shape"
   ]
  },
  {
   "cell_type": "markdown",
   "metadata": {},
   "source": [
    "## Basic Model - Logistic Regression\n",
    "\n",
    "Let's start by establishing a baseline performance. I'm going to load the data into a logistic regression and see how it performs out-of-the-box"
   ]
  },
  {
   "cell_type": "code",
   "execution_count": 20,
   "metadata": {},
   "outputs": [],
   "source": [
    "CV_FOLD = 5"
   ]
  },
  {
   "cell_type": "markdown",
   "metadata": {},
   "source": [
    "Let's encode the categorical targets into labels"
   ]
  },
  {
   "cell_type": "code",
   "execution_count": 21,
   "metadata": {},
   "outputs": [
    {
     "name": "stdout",
     "output_type": "stream",
     "text": [
      "(305, 305) (131, 305)\n",
      "(305,) (131,)\n"
     ]
    }
   ],
   "source": [
    "condition_label_encoder = LabelEncoder()\n",
    "\n",
    "\n",
    "y_train = condition_label_encoder.fit_transform(train_dataset['label'])[:X_train_mel.shape[0]]\n",
    "y_test = condition_label_encoder.transform(test_dataset['label'])\n",
    "\n",
    "print(X_train_mel.shape, X_test_mel.shape)\n",
    "print(y_train.shape, y_test.shape)"
   ]
  },
  {
   "cell_type": "markdown",
   "metadata": {},
   "source": [
    "Now let's run out logistic regression"
   ]
  },
  {
   "cell_type": "code",
   "execution_count": 22,
   "metadata": {},
   "outputs": [
    {
     "name": "stdout",
     "output_type": "stream",
     "text": [
      "CPU times: user 439 ms, sys: 48.1 ms, total: 487 ms\n",
      "Wall time: 53.3 ms\n"
     ]
    }
   ],
   "source": [
    "%%time\n",
    "\n",
    "my_logit = LogisticRegression(solver='saga', random_state=1).fit(X_train_mel, y_train)\n",
    "train_acc = my_logit.score(X_train_mel, y_train)\n",
    "test_acc = my_logit.score(X_test_mel, y_test)"
   ]
  },
  {
   "cell_type": "code",
   "execution_count": 24,
   "metadata": {},
   "outputs": [
    {
     "name": "stdout",
     "output_type": "stream",
     "text": [
      "The training accuracy is 100.0%\n",
      "The test accuracy is 56.49%\n"
     ]
    }
   ],
   "source": [
    "print(f\"The training accuracy is {round(train_acc*100,2)}%\")\n",
    "print(f\"The test accuracy is {round(test_acc*100,2)}%\")"
   ]
  },
  {
   "cell_type": "markdown",
   "metadata": {},
   "source": [
    "Extremely suspicious results. There is clearly a very large sign of overfitting here. We can look at the confusion matrix, and normalize across the predictions"
   ]
  },
  {
   "cell_type": "code",
   "execution_count": 32,
   "metadata": {},
   "outputs": [
    {
     "data": {
      "image/png": "[encoded data removed]",
      "text/plain": [
       "<Figure size 504x504 with 2 Axes>"
      ]
     },
     "metadata": {
      "needs_background": "light"
     },
     "output_type": "display_data"
    }
   ],
   "source": [
    "figure, ax = plt.subplots(figsize=(7, 7))\n",
    "disp = plot_confusion_matrix(my_logit, X_test_mel, y_test,\n",
    "                             display_labels=condition_label_encoder.classes_,\n",
    "                             cmap=plt.cm.Blues,\n",
    "                             normalize='pred',\n",
    "                             ax=ax)\n",
    "disp.ax_.set_title(\"Logit Confusion Matrix\")\n",
    "plt.show()"
   ]
  },
  {
   "cell_type": "markdown",
   "metadata": {},
   "source": [
    "This shows us that if our model predicts an example to be \"normal\" it will be right 58% of the time, and wrong 48% of the time. Not very strong results.\n",
    "\n",
    "Let's run a grid search and see if we can find a better configuration"
   ]
  },
  {
   "cell_type": "code",
   "execution_count": 33,
   "metadata": {},
   "outputs": [],
   "source": [
    "param_grid = {'penalty': ['l1', 'l2'],\n",
    "              'C': [2**i for i in range(-17, 18)]}\n",
    "my_estimator = LogisticRegression(solver='saga')\n",
    "my_logit_gs = GridSearchCV(my_estimator, param_grid, cv=CV_FOLD, verbose=1, n_jobs=3)"
   ]
  },
  {
   "cell_type": "code",
   "execution_count": 34,
   "metadata": {
    "scrolled": false
   },
   "outputs": [
    {
     "name": "stdout",
     "output_type": "stream",
     "text": [
      "Fitting 5 folds for each of 70 candidates, totalling 350 fits\n"
     ]
    },
    {
     "name": "stderr",
     "output_type": "stream",
     "text": [
      "[Parallel(n_jobs=3)]: Using backend LokyBackend with 3 concurrent workers.\n",
      "[Parallel(n_jobs=3)]: Done 166 tasks      | elapsed:    4.4s\n"
     ]
    },
    {
     "name": "stdout",
     "output_type": "stream",
     "text": [
      "CPU times: user 306 ms, sys: 84.2 ms, total: 390 ms\n",
      "Wall time: 11.1 s\n"
     ]
    },
    {
     "name": "stderr",
     "output_type": "stream",
     "text": [
      "[Parallel(n_jobs=3)]: Done 350 out of 350 | elapsed:   11.0s finished\n"
     ]
    },
    {
     "data": {
      "text/plain": [
       "GridSearchCV(cv=5, estimator=LogisticRegression(solver='saga'), n_jobs=3,\n",
       "             param_grid={'C': [7.62939453125e-06, 1.52587890625e-05,\n",
       "                               3.0517578125e-05, 6.103515625e-05,\n",
       "                               0.0001220703125, 0.000244140625, 0.00048828125,\n",
       "                               0.0009765625, 0.001953125, 0.00390625, 0.0078125,\n",
       "                               0.015625, 0.03125, 0.0625, 0.125, 0.25, 0.5, 1,\n",
       "                               2, 4, 8, 16, 32, 64, 128, 256, 512, 1024, 2048,\n",
       "                               4096, ...],\n",
       "                         'penalty': ['l1', 'l2']},\n",
       "             verbose=1)"
      ]
     },
     "execution_count": 34,
     "metadata": {},
     "output_type": "execute_result"
    }
   ],
   "source": [
    "%%time\n",
    "my_logit_gs.fit(X_train_mel, y_train);"
   ]
  },
  {
   "cell_type": "code",
   "execution_count": 35,
   "metadata": {},
   "outputs": [
    {
     "data": {
      "text/plain": [
       "{'C': 0.0009765625, 'penalty': 'l2'}"
      ]
     },
     "execution_count": 35,
     "metadata": {},
     "output_type": "execute_result"
    }
   ],
   "source": [
    "my_logit_gs.best_params_"
   ]
  },
  {
   "cell_type": "code",
   "execution_count": 36,
   "metadata": {},
   "outputs": [],
   "source": [
    "train_acc = my_logit_gs.score(X_train_mel, y_train)\n",
    "test_acc = my_logit_gs.score(X_test_mel, y_test)"
   ]
  },
  {
   "cell_type": "code",
   "execution_count": 37,
   "metadata": {},
   "outputs": [
    {
     "name": "stdout",
     "output_type": "stream",
     "text": [
      "The training accuracy is 81.31%\n",
      "The test accuracy is 69.47%\n"
     ]
    }
   ],
   "source": [
    "print(f\"The training accuracy is {round(train_acc*100,2)}%\")\n",
    "print(f\"The test accuracy is {round(test_acc*100,2)}%\")"
   ]
  },
  {
   "cell_type": "code",
   "execution_count": 41,
   "metadata": {},
   "outputs": [
    {
     "data": {
      "image/png": "[encoded data removed]",
      "text/plain": [
       "<Figure size 504x504 with 2 Axes>"
      ]
     },
     "metadata": {
      "needs_background": "light"
     },
     "output_type": "display_data"
    }
   ],
   "source": [
    "figure, ax = plt.subplots(figsize=(7, 7))\n",
    "disp = plot_confusion_matrix(my_logit_gs, X_test_mel, y_test,\n",
    "                             display_labels=condition_label_encoder.classes_,\n",
    "                             cmap=plt.cm.Blues,\n",
    "                             normalize='pred',\n",
    "                             ax=ax)\n",
    "disp.ax_.set_title(\"Logit Confusion Matrix\")\n",
    "plt.show()"
   ]
  },
  {
   "cell_type": "markdown",
   "metadata": {},
   "source": [
    "Certainly our results improved slightly, we can now be much more confident in our model's predictions"
   ]
  },
  {
   "cell_type": "code",
   "execution_count": 42,
   "metadata": {},
   "outputs": [
    {
     "name": "stdout",
     "output_type": "stream",
     "text": [
      "              precision    recall  f1-score   support\n",
      "\n",
      "           0       0.70      0.63      0.66        62\n",
      "           1       0.69      0.75      0.72        69\n",
      "\n",
      "    accuracy                           0.69       131\n",
      "   macro avg       0.69      0.69      0.69       131\n",
      "weighted avg       0.69      0.69      0.69       131\n",
      "\n"
     ]
    }
   ],
   "source": [
    "print(classification_report(y_test, my_logit_gs.predict(X_test_mel)))"
   ]
  },
  {
   "cell_type": "code",
   "execution_count": 43,
   "metadata": {},
   "outputs": [],
   "source": [
    "y_proba = my_logit_gs.predict_proba(X_test_mel)"
   ]
  },
  {
   "cell_type": "code",
   "execution_count": 44,
   "metadata": {},
   "outputs": [
    {
     "data": {
      "image/png": "[encoded data removed]",
      "text/plain": [
       "<Figure size 1080x360 with 1 Axes>"
      ]
     },
     "metadata": {
      "needs_background": "light"
     },
     "output_type": "display_data"
    }
   ],
   "source": [
    "plt.figure(figsize=(15, 5))\n",
    "plt.scatter(y_proba[:, 1], y_test)\n",
    "plt.show();"
   ]
  },
  {
   "cell_type": "markdown",
   "metadata": {},
   "source": [
    "We are going to run other models for comparison purposes. Let's create a dataframe that will store these results for us. That way we can later easily perform a statistical analysis on the models and compare their performances visually"
   ]
  },
  {
   "cell_type": "code",
   "execution_count": 45,
   "metadata": {},
   "outputs": [
    {
     "data": {
      "text/html": [
       "<div>\n",
       "<style scoped>\n",
       "    .dataframe tbody tr th:only-of-type {\n",
       "        vertical-align: middle;\n",
       "    }\n",
       "\n",
       "    .dataframe tbody tr th {\n",
       "        vertical-align: top;\n",
       "    }\n",
       "\n",
       "    .dataframe thead th {\n",
       "        text-align: right;\n",
       "    }\n",
       "</style>\n",
       "<table border=\"1\" class=\"dataframe\">\n",
       "  <thead>\n",
       "    <tr style=\"text-align: right;\">\n",
       "      <th></th>\n",
       "      <th>model</th>\n",
       "      <th>dataset</th>\n",
       "      <th>score</th>\n",
       "    </tr>\n",
       "  </thead>\n",
       "  <tbody>\n",
       "  </tbody>\n",
       "</table>\n",
       "</div>"
      ],
      "text/plain": [
       "Empty DataFrame\n",
       "Columns: [model, dataset, score]\n",
       "Index: []"
      ]
     },
     "execution_count": 45,
     "metadata": {},
     "output_type": "execute_result"
    }
   ],
   "source": [
    "total_run_times_dataframe = pd.DataFrame({\"model\": [],\n",
    "                                          \"dataset\": [],\n",
    "                                          \"score\": []})\n",
    "total_run_times_dataframe"
   ]
  },
  {
   "cell_type": "code",
   "execution_count": 46,
   "metadata": {},
   "outputs": [
    {
     "data": {
      "text/html": [
       "<div>\n",
       "<style scoped>\n",
       "    .dataframe tbody tr th:only-of-type {\n",
       "        vertical-align: middle;\n",
       "    }\n",
       "\n",
       "    .dataframe tbody tr th {\n",
       "        vertical-align: top;\n",
       "    }\n",
       "\n",
       "    .dataframe thead th {\n",
       "        text-align: right;\n",
       "    }\n",
       "</style>\n",
       "<table border=\"1\" class=\"dataframe\">\n",
       "  <thead>\n",
       "    <tr style=\"text-align: right;\">\n",
       "      <th></th>\n",
       "      <th>model</th>\n",
       "      <th>dataset</th>\n",
       "      <th>score</th>\n",
       "    </tr>\n",
       "  </thead>\n",
       "  <tbody>\n",
       "    <tr>\n",
       "      <th>0</th>\n",
       "      <td>Logistic Regression</td>\n",
       "      <td>test</td>\n",
       "      <td>0.694656</td>\n",
       "    </tr>\n",
       "    <tr>\n",
       "      <th>1</th>\n",
       "      <td>Logistic Regression</td>\n",
       "      <td>train</td>\n",
       "      <td>0.813115</td>\n",
       "    </tr>\n",
       "  </tbody>\n",
       "</table>\n",
       "</div>"
      ],
      "text/plain": [
       "                 model dataset     score\n",
       "0  Logistic Regression    test  0.694656\n",
       "1  Logistic Regression   train  0.813115"
      ]
     },
     "execution_count": 46,
     "metadata": {},
     "output_type": "execute_result"
    }
   ],
   "source": [
    "current_row = total_run_times_dataframe.shape[0]\n",
    "total_run_times_dataframe.loc[current_row, 'model'] = \"Logistic Regression\"\n",
    "total_run_times_dataframe.loc[current_row, 'dataset'] = \"test\"\n",
    "total_run_times_dataframe.loc[current_row, 'score'] = test_acc\n",
    "\n",
    "current_row = total_run_times_dataframe.shape[0]\n",
    "total_run_times_dataframe.loc[current_row, 'model'] = \"Logistic Regression\"\n",
    "total_run_times_dataframe.loc[current_row, 'dataset'] = \"train\"\n",
    "total_run_times_dataframe.loc[current_row, 'score'] = train_acc\n",
    "total_run_times_dataframe"
   ]
  },
  {
   "cell_type": "markdown",
   "metadata": {},
   "source": [
    "### Let's write a function for all that\n",
    "\n",
    "The function will perform grid search, will output confusion matrices for us, and will update our dataframe of results"
   ]
  },
  {
   "cell_type": "code",
   "execution_count": 47,
   "metadata": {},
   "outputs": [],
   "source": [
    "def run_model(estimator, param_grid, X_train_mel, y_train, X_test_mel, y_test, total_run_times_dataframe, model_name):\n",
    "    \n",
    "    print(\"Fitting model\")\n",
    "    my_gs = GridSearchCV(estimator, param_grid, cv=CV_FOLD, verbose=1, n_jobs=3)\n",
    "    my_gs.fit(X_train_mel, y_train);\n",
    "    \n",
    "    train_acc = my_gs.score(X_train_mel, y_train)\n",
    "    test_acc = my_gs.score(X_test_mel, y_test)\n",
    "    \n",
    "    print(f\"The training accuracy is {round(train_acc*100,2)}%\")\n",
    "    print(f\"The test accuracy is {round(test_acc*100,2)}%\")\n",
    "    print(f\"Optimal Parameters are: {my_gs.best_params_}\")\n",
    "    \n",
    "    \n",
    "    figure, ax = plt.subplots(figsize=(7, 7))\n",
    "    disp = plot_confusion_matrix(my_gs, X_test_mel, y_test,\n",
    "                                 display_labels = condition_label_encoder.classes_,\n",
    "                                 cmap=plt.cm.Blues,\n",
    "                                 normalize=None,\n",
    "                                 ax=ax)\n",
    "    disp.ax_.set_title(f\"{model_name} Confusion Matrix\")\n",
    "    plt.show()\n",
    "    \n",
    "    figure, ax = plt.subplots(figsize=(7, 7))\n",
    "    disp = plot_confusion_matrix(my_gs, X_test_mel, y_test,\n",
    "                             display_labels=condition_label_encoder.classes_,\n",
    "                             cmap=plt.cm.Blues,\n",
    "                             normalize='pred',\n",
    "                             ax=ax)\n",
    "    disp.ax_.set_title(f\"{model_name} Confusion Matrix\")\n",
    "    plt.show()\n",
    "    \n",
    "    print(classification_report(y_test, my_gs.predict(X_test_mel)))\n",
    "    \n",
    "    y_proba = my_gs.predict_proba(X_test_mel)\n",
    "    \n",
    "    plt.figure(figsize=(15, 5))    \n",
    "    plt.scatter(y_proba[:, 1], y_test)\n",
    "    plt.xlabel(\"Probabilities\")\n",
    "    plt.ylabel(\"True Class\")\n",
    "    plt.title(f\"Probabilities Predicted by {model_name} versus the True Classes\")\n",
    "    plt.show();\n",
    "    \n",
    "    \n",
    "    current_row = total_run_times_dataframe.shape[0]\n",
    "    total_run_times_dataframe.loc[current_row, 'model'] = model_name\n",
    "    total_run_times_dataframe.loc[current_row, 'dataset'] = \"test\"\n",
    "    total_run_times_dataframe.loc[current_row, 'score'] = test_acc\n",
    "\n",
    "    current_row = total_run_times_dataframe.shape[0]\n",
    "    total_run_times_dataframe.loc[current_row, 'model'] = model_name\n",
    "    total_run_times_dataframe.loc[current_row, 'dataset'] = \"train\"\n",
    "    total_run_times_dataframe.loc[current_row, 'score'] = train_acc\n",
    "    total_run_times_dataframe\n",
    "    \n",
    "    \n",
    "    \n",
    "    \n",
    "    \n",
    "    "
   ]
  },
  {
   "cell_type": "markdown",
   "metadata": {},
   "source": [
    "Let's test that it works on the logistic regression and provides the same results as before:"
   ]
  },
  {
   "cell_type": "code",
   "execution_count": 48,
   "metadata": {},
   "outputs": [
    {
     "name": "stdout",
     "output_type": "stream",
     "text": [
      "Fitting model\n",
      "Fitting 5 folds for each of 70 candidates, totalling 350 fits\n"
     ]
    },
    {
     "name": "stderr",
     "output_type": "stream",
     "text": [
      "[Parallel(n_jobs=3)]: Using backend LokyBackend with 3 concurrent workers.\n",
      "[Parallel(n_jobs=3)]: Done 304 tasks      | elapsed:    1.7s\n",
      "[Parallel(n_jobs=3)]: Done 350 out of 350 | elapsed:    2.1s finished\n"
     ]
    },
    {
     "name": "stdout",
     "output_type": "stream",
     "text": [
      "The training accuracy is 74.75%\n",
      "The test accuracy is 70.23%\n"
     ]
    },
    {
     "data": {
      "image/png": "[encoded data removed]",
      "text/plain": [
       "<Figure size 504x504 with 2 Axes>"
      ]
     },
     "metadata": {
      "needs_background": "light"
     },
     "output_type": "display_data"
    },
    {
     "data": {
      "image/png": "[encoded data removed]",
      "text/plain": [
       "<Figure size 504x504 with 2 Axes>"
      ]
     },
     "metadata": {
      "needs_background": "light"
     },
     "output_type": "display_data"
    },
    {
     "name": "stdout",
     "output_type": "stream",
     "text": [
      "              precision    recall  f1-score   support\n",
      "\n",
      "           0       0.74      0.56      0.64        62\n",
      "           1       0.68      0.83      0.75        69\n",
      "\n",
      "    accuracy                           0.70       131\n",
      "   macro avg       0.71      0.70      0.69       131\n",
      "weighted avg       0.71      0.70      0.70       131\n",
      "\n"
     ]
    },
    {
     "data": {
      "image/png": "[encoded data removed]",
      "text/plain": [
       "<Figure size 1080x360 with 1 Axes>"
      ]
     },
     "metadata": {
      "needs_background": "light"
     },
     "output_type": "display_data"
    },
    {
     "data": {
      "text/html": [
       "<div>\n",
       "<style scoped>\n",
       "    .dataframe tbody tr th:only-of-type {\n",
       "        vertical-align: middle;\n",
       "    }\n",
       "\n",
       "    .dataframe tbody tr th {\n",
       "        vertical-align: top;\n",
       "    }\n",
       "\n",
       "    .dataframe thead th {\n",
       "        text-align: right;\n",
       "    }\n",
       "</style>\n",
       "<table border=\"1\" class=\"dataframe\">\n",
       "  <thead>\n",
       "    <tr style=\"text-align: right;\">\n",
       "      <th></th>\n",
       "      <th>model</th>\n",
       "      <th>dataset</th>\n",
       "      <th>score</th>\n",
       "    </tr>\n",
       "  </thead>\n",
       "  <tbody>\n",
       "    <tr>\n",
       "      <th>0</th>\n",
       "      <td>Logistic Regression</td>\n",
       "      <td>test</td>\n",
       "      <td>0.702290</td>\n",
       "    </tr>\n",
       "    <tr>\n",
       "      <th>1</th>\n",
       "      <td>Logistic Regression</td>\n",
       "      <td>train</td>\n",
       "      <td>0.747541</td>\n",
       "    </tr>\n",
       "  </tbody>\n",
       "</table>\n",
       "</div>"
      ],
      "text/plain": [
       "                 model dataset     score\n",
       "0  Logistic Regression    test  0.702290\n",
       "1  Logistic Regression   train  0.747541"
      ]
     },
     "execution_count": 48,
     "metadata": {},
     "output_type": "execute_result"
    }
   ],
   "source": [
    "total_run_times_dataframe = pd.DataFrame({\"model\": [],\n",
    "                                          \"dataset\": [],\n",
    "                                          \"score\": []})\n",
    "\n",
    "\n",
    "run_model(LogisticRegression(solver='saga', random_state=1), \n",
    "          param_grid, \n",
    "          X_train_mel, \n",
    "          y_train, \n",
    "          X_test_mel, \n",
    "          y_test, \n",
    "          total_run_times_dataframe, \n",
    "          \"Logistic Regression\")\n",
    "\n",
    "total_run_times_dataframe"
   ]
  },
  {
   "cell_type": "markdown",
   "metadata": {},
   "source": [
    "## Basic Model - Support Vector Machine\n",
    "\n",
    "We can also explore how well an optimized SVM will perform on our data. We will explore several regularization levels as well as several different out-of-the-box kernels available:"
   ]
  },
  {
   "cell_type": "code",
   "execution_count": 49,
   "metadata": {},
   "outputs": [
    {
     "name": "stdout",
     "output_type": "stream",
     "text": [
      "Fitting model\n",
      "Fitting 5 folds for each of 60 candidates, totalling 300 fits\n"
     ]
    },
    {
     "name": "stderr",
     "output_type": "stream",
     "text": [
      "[Parallel(n_jobs=3)]: Using backend LokyBackend with 3 concurrent workers.\n",
      "[Parallel(n_jobs=3)]: Done  82 tasks      | elapsed:    2.8s\n",
      "[Parallel(n_jobs=3)]: Done 300 out of 300 | elapsed:    9.8s finished\n"
     ]
    },
    {
     "name": "stdout",
     "output_type": "stream",
     "text": [
      "The training accuracy is 100.0%\n",
      "The test accuracy is 68.7%\n"
     ]
    },
    {
     "data": {
      "image/png": "[encoded data removed]",
      "text/plain": [
       "<Figure size 504x504 with 2 Axes>"
      ]
     },
     "metadata": {
      "needs_background": "light"
     },
     "output_type": "display_data"
    },
    {
     "data": {
      "image/png": "[encoded data removed]",
      "text/plain": [
       "<Figure size 504x504 with 2 Axes>"
      ]
     },
     "metadata": {
      "needs_background": "light"
     },
     "output_type": "display_data"
    },
    {
     "name": "stdout",
     "output_type": "stream",
     "text": [
      "              precision    recall  f1-score   support\n",
      "\n",
      "           0       0.82      0.44      0.57        62\n",
      "           1       0.64      0.91      0.75        69\n",
      "\n",
      "    accuracy                           0.69       131\n",
      "   macro avg       0.73      0.67      0.66       131\n",
      "weighted avg       0.73      0.69      0.67       131\n",
      "\n"
     ]
    },
    {
     "data": {
      "image/png": "[encoded data removed]",
      "text/plain": [
       "<Figure size 1080x360 with 1 Axes>"
      ]
     },
     "metadata": {
      "needs_background": "light"
     },
     "output_type": "display_data"
    },
    {
     "data": {
      "text/html": [
       "<div>\n",
       "<style scoped>\n",
       "    .dataframe tbody tr th:only-of-type {\n",
       "        vertical-align: middle;\n",
       "    }\n",
       "\n",
       "    .dataframe tbody tr th {\n",
       "        vertical-align: top;\n",
       "    }\n",
       "\n",
       "    .dataframe thead th {\n",
       "        text-align: right;\n",
       "    }\n",
       "</style>\n",
       "<table border=\"1\" class=\"dataframe\">\n",
       "  <thead>\n",
       "    <tr style=\"text-align: right;\">\n",
       "      <th></th>\n",
       "      <th>model</th>\n",
       "      <th>dataset</th>\n",
       "      <th>score</th>\n",
       "    </tr>\n",
       "  </thead>\n",
       "  <tbody>\n",
       "    <tr>\n",
       "      <th>0</th>\n",
       "      <td>Logistic Regression</td>\n",
       "      <td>test</td>\n",
       "      <td>0.702290</td>\n",
       "    </tr>\n",
       "    <tr>\n",
       "      <th>1</th>\n",
       "      <td>Logistic Regression</td>\n",
       "      <td>train</td>\n",
       "      <td>0.747541</td>\n",
       "    </tr>\n",
       "    <tr>\n",
       "      <th>2</th>\n",
       "      <td>SVM</td>\n",
       "      <td>test</td>\n",
       "      <td>0.687023</td>\n",
       "    </tr>\n",
       "    <tr>\n",
       "      <th>3</th>\n",
       "      <td>SVM</td>\n",
       "      <td>train</td>\n",
       "      <td>1.000000</td>\n",
       "    </tr>\n",
       "  </tbody>\n",
       "</table>\n",
       "</div>"
      ],
      "text/plain": [
       "                 model dataset     score\n",
       "0  Logistic Regression    test  0.702290\n",
       "1  Logistic Regression   train  0.747541\n",
       "2                  SVM    test  0.687023\n",
       "3                  SVM   train  1.000000"
      ]
     },
     "execution_count": 49,
     "metadata": {},
     "output_type": "execute_result"
    }
   ],
   "source": [
    "param_grid = {'C': [10**i for i in range(-7, 8)],\n",
    "              'kernel': ['poly', 'rbf', 'sigmoid', 'linear']}\n",
    "my_estimator = SVC(max_iter=1000, probability=True, random_state=1)\n",
    "\n",
    "\n",
    "\n",
    "run_model(my_estimator, \n",
    "          param_grid, \n",
    "          X_train_mel, \n",
    "          y_train, \n",
    "          X_test_mel, \n",
    "          y_test, \n",
    "          total_run_times_dataframe, \n",
    "          \"SVM\")\n",
    "\n",
    "total_run_times_dataframe"
   ]
  },
  {
   "cell_type": "markdown",
   "metadata": {},
   "source": [
    "This performance seems on-par with the logistic regression. We would need to repeat this experiment many times to see if there is a statistically significant difference in performance"
   ]
  },
  {
   "cell_type": "markdown",
   "metadata": {},
   "source": [
    "## Basic Model - KNN\n",
    "\n",
    "We can also explore the performance for KNN. KNN will search for the most similar spectrograms and use those to infer the new spectrogram example.\n",
    "\n",
    "We're going to experiment with many configurations for the neighbour number, as well as for the method of distance calculation. We're exploring both uniform distance calculations (i.e. the 5 closest neighbours simply vote on the identity of the new example), as well as distance weighted (i.e. the 5 closest neighbours vote is weighted by their distance, further neighbours get a more discounted vote)."
   ]
  },
  {
   "cell_type": "code",
   "execution_count": 51,
   "metadata": {},
   "outputs": [
    {
     "name": "stdout",
     "output_type": "stream",
     "text": [
      "Fitting model\n",
      "Fitting 5 folds for each of 56 candidates, totalling 280 fits\n"
     ]
    },
    {
     "name": "stderr",
     "output_type": "stream",
     "text": [
      "[Parallel(n_jobs=3)]: Using backend LokyBackend with 3 concurrent workers.\n",
      "[Parallel(n_jobs=3)]: Done 245 tasks      | elapsed:    1.0s\n",
      "[Parallel(n_jobs=3)]: Done 280 out of 280 | elapsed:    1.2s finished\n"
     ]
    },
    {
     "name": "stdout",
     "output_type": "stream",
     "text": [
      "The training accuracy is 68.52%\n",
      "The test accuracy is 66.41%\n"
     ]
    },
    {
     "data": {
      "image/png": "[encoded data removed]",
      "text/plain": [
       "<Figure size 504x504 with 2 Axes>"
      ]
     },
     "metadata": {
      "needs_background": "light"
     },
     "output_type": "display_data"
    },
    {
     "data": {
      "image/png": "[encoded data removed]",
      "text/plain": [
       "<Figure size 504x504 with 2 Axes>"
      ]
     },
     "metadata": {
      "needs_background": "light"
     },
     "output_type": "display_data"
    },
    {
     "name": "stdout",
     "output_type": "stream",
     "text": [
      "              precision    recall  f1-score   support\n",
      "\n",
      "           0       0.80      0.39      0.52        62\n",
      "           1       0.62      0.91      0.74        69\n",
      "\n",
      "    accuracy                           0.66       131\n",
      "   macro avg       0.71      0.65      0.63       131\n",
      "weighted avg       0.71      0.66      0.64       131\n",
      "\n"
     ]
    },
    {
     "data": {
      "image/png": "[encoded data removed]",
      "text/plain": [
       "<Figure size 1080x360 with 1 Axes>"
      ]
     },
     "metadata": {
      "needs_background": "light"
     },
     "output_type": "display_data"
    },
    {
     "data": {
      "text/html": [
       "<div>\n",
       "<style scoped>\n",
       "    .dataframe tbody tr th:only-of-type {\n",
       "        vertical-align: middle;\n",
       "    }\n",
       "\n",
       "    .dataframe tbody tr th {\n",
       "        vertical-align: top;\n",
       "    }\n",
       "\n",
       "    .dataframe thead th {\n",
       "        text-align: right;\n",
       "    }\n",
       "</style>\n",
       "<table border=\"1\" class=\"dataframe\">\n",
       "  <thead>\n",
       "    <tr style=\"text-align: right;\">\n",
       "      <th></th>\n",
       "      <th>model</th>\n",
       "      <th>dataset</th>\n",
       "      <th>score</th>\n",
       "    </tr>\n",
       "  </thead>\n",
       "  <tbody>\n",
       "    <tr>\n",
       "      <th>0</th>\n",
       "      <td>Logistic Regression</td>\n",
       "      <td>test</td>\n",
       "      <td>0.702290</td>\n",
       "    </tr>\n",
       "    <tr>\n",
       "      <th>1</th>\n",
       "      <td>Logistic Regression</td>\n",
       "      <td>train</td>\n",
       "      <td>0.747541</td>\n",
       "    </tr>\n",
       "    <tr>\n",
       "      <th>2</th>\n",
       "      <td>SVM</td>\n",
       "      <td>test</td>\n",
       "      <td>0.687023</td>\n",
       "    </tr>\n",
       "    <tr>\n",
       "      <th>3</th>\n",
       "      <td>SVM</td>\n",
       "      <td>train</td>\n",
       "      <td>1.000000</td>\n",
       "    </tr>\n",
       "    <tr>\n",
       "      <th>4</th>\n",
       "      <td>KNN</td>\n",
       "      <td>test</td>\n",
       "      <td>0.664122</td>\n",
       "    </tr>\n",
       "    <tr>\n",
       "      <th>5</th>\n",
       "      <td>KNN</td>\n",
       "      <td>train</td>\n",
       "      <td>0.685246</td>\n",
       "    </tr>\n",
       "  </tbody>\n",
       "</table>\n",
       "</div>"
      ],
      "text/plain": [
       "                 model dataset     score\n",
       "0  Logistic Regression    test  0.702290\n",
       "1  Logistic Regression   train  0.747541\n",
       "2                  SVM    test  0.687023\n",
       "3                  SVM   train  1.000000\n",
       "4                  KNN    test  0.664122\n",
       "5                  KNN   train  0.685246"
      ]
     },
     "execution_count": 51,
     "metadata": {},
     "output_type": "execute_result"
    }
   ],
   "source": [
    "param_grid = {'n_neighbors': [i for i in range(3,10)] + \\\n",
    "                             [i for i in range(10, 100, 5)] + \\\n",
    "                             [i for i in range(100, X_train_mel.shape[0]//2, 20)],\n",
    "              'weights': ['uniform', 'distance']}\n",
    "\n",
    "my_pipe = Pipeline([('scaler', MinMaxScaler()),\n",
    "                    ('knn', KNN(algorithm='auto'))])\n",
    "\n",
    "my_estimator = KNN()\n",
    "\n",
    "\n",
    "\n",
    "run_model(my_estimator, \n",
    "          param_grid, \n",
    "          X_train_mel, \n",
    "          y_train, \n",
    "          X_test_mel, \n",
    "          y_test, \n",
    "          total_run_times_dataframe, \n",
    "          \"KNN\")\n",
    "\n",
    "total_run_times_dataframe"
   ]
  },
  {
   "cell_type": "markdown",
   "metadata": {},
   "source": [
    "## Basic Model - Decision Tree\n",
    "\n",
    "As another baseline, I will train a decision tree on the data. We're going to experiment with the maximum depth the tree can grow to (limiting the number of features it can explore), the maximum features each split sees (prevents the tree from focusing on only a few features) and the minimum samples per leaf (prevents overfitting by forcing the tree to build larger regions containing multiple examples)."
   ]
  },
  {
   "cell_type": "code",
   "execution_count": 52,
   "metadata": {
    "scrolled": false
   },
   "outputs": [
    {
     "name": "stdout",
     "output_type": "stream",
     "text": [
      "Fitting model\n",
      "Fitting 5 folds for each of 1140 candidates, totalling 5700 fits\n"
     ]
    },
    {
     "name": "stderr",
     "output_type": "stream",
     "text": [
      "[Parallel(n_jobs=3)]: Using backend LokyBackend with 3 concurrent workers.\n",
      "[Parallel(n_jobs=3)]: Done 890 tasks      | elapsed:    3.3s\n",
      "[Parallel(n_jobs=3)]: Done 5394 tasks      | elapsed:   25.7s\n"
     ]
    },
    {
     "name": "stdout",
     "output_type": "stream",
     "text": [
      "The training accuracy is 79.02%\n",
      "The test accuracy is 57.25%\n"
     ]
    },
    {
     "name": "stderr",
     "output_type": "stream",
     "text": [
      "[Parallel(n_jobs=3)]: Done 5700 out of 5700 | elapsed:   27.9s finished\n"
     ]
    },
    {
     "data": {
      "image/png": "[encoded data removed]",
      "text/plain": [
       "<Figure size 504x504 with 2 Axes>"
      ]
     },
     "metadata": {
      "needs_background": "light"
     },
     "output_type": "display_data"
    },
    {
     "data": {
      "image/png": "[encoded data removed]",
      "text/plain": [
       "<Figure size 504x504 with 2 Axes>"
      ]
     },
     "metadata": {
      "needs_background": "light"
     },
     "output_type": "display_data"
    },
    {
     "name": "stdout",
     "output_type": "stream",
     "text": [
      "              precision    recall  f1-score   support\n",
      "\n",
      "           0       0.56      0.44      0.49        62\n",
      "           1       0.58      0.70      0.63        69\n",
      "\n",
      "    accuracy                           0.57       131\n",
      "   macro avg       0.57      0.57      0.56       131\n",
      "weighted avg       0.57      0.57      0.57       131\n",
      "\n"
     ]
    },
    {
     "data": {
      "image/png": "[encoded data removed]",
      "text/plain": [
       "<Figure size 1080x360 with 1 Axes>"
      ]
     },
     "metadata": {
      "needs_background": "light"
     },
     "output_type": "display_data"
    },
    {
     "name": "stdout",
     "output_type": "stream",
     "text": [
      "CPU times: user 1.65 s, sys: 90.9 ms, total: 1.74 s\n",
      "Wall time: 28.4 s\n"
     ]
    },
    {
     "data": {
      "text/html": [
       "<div>\n",
       "<style scoped>\n",
       "    .dataframe tbody tr th:only-of-type {\n",
       "        vertical-align: middle;\n",
       "    }\n",
       "\n",
       "    .dataframe tbody tr th {\n",
       "        vertical-align: top;\n",
       "    }\n",
       "\n",
       "    .dataframe thead th {\n",
       "        text-align: right;\n",
       "    }\n",
       "</style>\n",
       "<table border=\"1\" class=\"dataframe\">\n",
       "  <thead>\n",
       "    <tr style=\"text-align: right;\">\n",
       "      <th></th>\n",
       "      <th>model</th>\n",
       "      <th>dataset</th>\n",
       "      <th>score</th>\n",
       "    </tr>\n",
       "  </thead>\n",
       "  <tbody>\n",
       "    <tr>\n",
       "      <th>0</th>\n",
       "      <td>Logistic Regression</td>\n",
       "      <td>test</td>\n",
       "      <td>0.702290</td>\n",
       "    </tr>\n",
       "    <tr>\n",
       "      <th>1</th>\n",
       "      <td>Logistic Regression</td>\n",
       "      <td>train</td>\n",
       "      <td>0.747541</td>\n",
       "    </tr>\n",
       "    <tr>\n",
       "      <th>2</th>\n",
       "      <td>SVM</td>\n",
       "      <td>test</td>\n",
       "      <td>0.687023</td>\n",
       "    </tr>\n",
       "    <tr>\n",
       "      <th>3</th>\n",
       "      <td>SVM</td>\n",
       "      <td>train</td>\n",
       "      <td>1.000000</td>\n",
       "    </tr>\n",
       "    <tr>\n",
       "      <th>4</th>\n",
       "      <td>KNN</td>\n",
       "      <td>test</td>\n",
       "      <td>0.664122</td>\n",
       "    </tr>\n",
       "    <tr>\n",
       "      <th>5</th>\n",
       "      <td>KNN</td>\n",
       "      <td>train</td>\n",
       "      <td>0.685246</td>\n",
       "    </tr>\n",
       "    <tr>\n",
       "      <th>6</th>\n",
       "      <td>Decision Tree</td>\n",
       "      <td>test</td>\n",
       "      <td>0.572519</td>\n",
       "    </tr>\n",
       "    <tr>\n",
       "      <th>7</th>\n",
       "      <td>Decision Tree</td>\n",
       "      <td>train</td>\n",
       "      <td>0.790164</td>\n",
       "    </tr>\n",
       "  </tbody>\n",
       "</table>\n",
       "</div>"
      ],
      "text/plain": [
       "                 model dataset     score\n",
       "0  Logistic Regression    test  0.702290\n",
       "1  Logistic Regression   train  0.747541\n",
       "2                  SVM    test  0.687023\n",
       "3                  SVM   train  1.000000\n",
       "4                  KNN    test  0.664122\n",
       "5                  KNN   train  0.685246\n",
       "6        Decision Tree    test  0.572519\n",
       "7        Decision Tree   train  0.790164"
      ]
     },
     "execution_count": 52,
     "metadata": {},
     "output_type": "execute_result"
    }
   ],
   "source": [
    "%%time \n",
    "\n",
    "my_estimator = DecisionTreeClassifier(random_state=1)\n",
    "param_grid = {'min_samples_leaf': [i for i in range(1, 20)],\n",
    "              'max_depth' : [i for i in range(1, X_train_mel.shape[1], X_train_mel.shape[1]//10)]+[None],\n",
    "              'max_features': [i/10 for i in range(2, 11, 2)]}\n",
    "\n",
    "\n",
    "\n",
    "run_model(my_estimator, \n",
    "          param_grid, \n",
    "          X_train_mel, \n",
    "          y_train, \n",
    "          X_test_mel, \n",
    "          y_test, \n",
    "          total_run_times_dataframe, \n",
    "          \"Decision Tree\")\n",
    "\n",
    "total_run_times_dataframe"
   ]
  },
  {
   "cell_type": "markdown",
   "metadata": {},
   "source": [
    "Neither KNN nor the decision tree seem to provide comparable performance to logistic regression or SVM. Again, we will later on verify this using the appropriate statistical analysis."
   ]
  },
  {
   "cell_type": "markdown",
   "metadata": {},
   "source": [
    "## Advanced Model - Random Forest\n",
    "\n",
    "Decision trees performed especially poorly in the previous section. However, their performance can be improved by different ensemble methods. The easiest method to explore is the random forest, where a collection of trees is averaged out.\n",
    "\n",
    "What makes the random forest random is that each tree only sees a random bootstrapped subsample of the data. Thus outliers are only seen by some trees, but the trend in the data are seen by almost all trees."
   ]
  },
  {
   "cell_type": "code",
   "execution_count": 53,
   "metadata": {
    "scrolled": false
   },
   "outputs": [
    {
     "name": "stdout",
     "output_type": "stream",
     "text": [
      "Fitting model\n",
      "Fitting 5 folds for each of 2280 candidates, totalling 11400 fits\n"
     ]
    },
    {
     "name": "stderr",
     "output_type": "stream",
     "text": [
      "[Parallel(n_jobs=3)]: Using backend LokyBackend with 3 concurrent workers.\n",
      "[Parallel(n_jobs=3)]: Done 146 tasks      | elapsed:    3.0s\n",
      "[Parallel(n_jobs=3)]: Done 746 tasks      | elapsed:   24.0s\n",
      "[Parallel(n_jobs=3)]: Done 1359 tasks      | elapsed:   59.3s\n",
      "[Parallel(n_jobs=3)]: Done 1709 tasks      | elapsed:  1.6min\n",
      "[Parallel(n_jobs=3)]: Done 2308 tasks      | elapsed:  2.6min\n",
      "[Parallel(n_jobs=3)]: Done 2958 tasks      | elapsed:  3.8min\n",
      "[Parallel(n_jobs=3)]: Done 3818 tasks      | elapsed:  5.4min\n",
      "[Parallel(n_jobs=3)]: Done 4820 tasks      | elapsed:  7.0min\n",
      "[Parallel(n_jobs=3)]: Done 6024 tasks      | elapsed:  8.9min\n",
      "[Parallel(n_jobs=3)]: Done 7340 tasks      | elapsed: 11.2min\n",
      "[Parallel(n_jobs=3)]: Done 8615 tasks      | elapsed: 13.6min\n",
      "[Parallel(n_jobs=3)]: Done 10260 tasks      | elapsed: 16.2min\n",
      "[Parallel(n_jobs=3)]: Done 11400 out of 11400 | elapsed: 18.2min finished\n"
     ]
    },
    {
     "name": "stdout",
     "output_type": "stream",
     "text": [
      "The training accuracy is 95.41%\n",
      "The test accuracy is 67.94%\n"
     ]
    },
    {
     "data": {
      "image/png": "[encoded data removed]",
      "text/plain": [
       "<Figure size 504x504 with 2 Axes>"
      ]
     },
     "metadata": {
      "needs_background": "light"
     },
     "output_type": "display_data"
    },
    {
     "data": {
      "image/png": "[encoded data removed]",
      "text/plain": [
       "<Figure size 504x504 with 2 Axes>"
      ]
     },
     "metadata": {
      "needs_background": "light"
     },
     "output_type": "display_data"
    },
    {
     "name": "stdout",
     "output_type": "stream",
     "text": [
      "              precision    recall  f1-score   support\n",
      "\n",
      "           0       0.76      0.47      0.58        62\n",
      "           1       0.65      0.87      0.74        69\n",
      "\n",
      "    accuracy                           0.68       131\n",
      "   macro avg       0.70      0.67      0.66       131\n",
      "weighted avg       0.70      0.68      0.66       131\n",
      "\n"
     ]
    },
    {
     "data": {
      "image/png": "[encoded data removed]",
      "text/plain": [
       "<Figure size 1080x360 with 1 Axes>"
      ]
     },
     "metadata": {
      "needs_background": "light"
     },
     "output_type": "display_data"
    },
    {
     "data": {
      "text/html": [
       "<div>\n",
       "<style scoped>\n",
       "    .dataframe tbody tr th:only-of-type {\n",
       "        vertical-align: middle;\n",
       "    }\n",
       "\n",
       "    .dataframe tbody tr th {\n",
       "        vertical-align: top;\n",
       "    }\n",
       "\n",
       "    .dataframe thead th {\n",
       "        text-align: right;\n",
       "    }\n",
       "</style>\n",
       "<table border=\"1\" class=\"dataframe\">\n",
       "  <thead>\n",
       "    <tr style=\"text-align: right;\">\n",
       "      <th></th>\n",
       "      <th>model</th>\n",
       "      <th>dataset</th>\n",
       "      <th>score</th>\n",
       "    </tr>\n",
       "  </thead>\n",
       "  <tbody>\n",
       "    <tr>\n",
       "      <th>0</th>\n",
       "      <td>Logistic Regression</td>\n",
       "      <td>test</td>\n",
       "      <td>0.702290</td>\n",
       "    </tr>\n",
       "    <tr>\n",
       "      <th>1</th>\n",
       "      <td>Logistic Regression</td>\n",
       "      <td>train</td>\n",
       "      <td>0.747541</td>\n",
       "    </tr>\n",
       "    <tr>\n",
       "      <th>2</th>\n",
       "      <td>SVM</td>\n",
       "      <td>test</td>\n",
       "      <td>0.687023</td>\n",
       "    </tr>\n",
       "    <tr>\n",
       "      <th>3</th>\n",
       "      <td>SVM</td>\n",
       "      <td>train</td>\n",
       "      <td>1.000000</td>\n",
       "    </tr>\n",
       "    <tr>\n",
       "      <th>4</th>\n",
       "      <td>KNN</td>\n",
       "      <td>test</td>\n",
       "      <td>0.664122</td>\n",
       "    </tr>\n",
       "    <tr>\n",
       "      <th>5</th>\n",
       "      <td>KNN</td>\n",
       "      <td>train</td>\n",
       "      <td>0.685246</td>\n",
       "    </tr>\n",
       "    <tr>\n",
       "      <th>6</th>\n",
       "      <td>Decision Tree</td>\n",
       "      <td>test</td>\n",
       "      <td>0.572519</td>\n",
       "    </tr>\n",
       "    <tr>\n",
       "      <th>7</th>\n",
       "      <td>Decision Tree</td>\n",
       "      <td>train</td>\n",
       "      <td>0.790164</td>\n",
       "    </tr>\n",
       "    <tr>\n",
       "      <th>8</th>\n",
       "      <td>Random Forest</td>\n",
       "      <td>test</td>\n",
       "      <td>0.679389</td>\n",
       "    </tr>\n",
       "    <tr>\n",
       "      <th>9</th>\n",
       "      <td>Random Forest</td>\n",
       "      <td>train</td>\n",
       "      <td>0.954098</td>\n",
       "    </tr>\n",
       "  </tbody>\n",
       "</table>\n",
       "</div>"
      ],
      "text/plain": [
       "                 model dataset     score\n",
       "0  Logistic Regression    test  0.702290\n",
       "1  Logistic Regression   train  0.747541\n",
       "2                  SVM    test  0.687023\n",
       "3                  SVM   train  1.000000\n",
       "4                  KNN    test  0.664122\n",
       "5                  KNN   train  0.685246\n",
       "6        Decision Tree    test  0.572519\n",
       "7        Decision Tree   train  0.790164\n",
       "8        Random Forest    test  0.679389\n",
       "9        Random Forest   train  0.954098"
      ]
     },
     "execution_count": 53,
     "metadata": {},
     "output_type": "execute_result"
    }
   ],
   "source": [
    "param_grid = {'min_samples_leaf': [i for i in range(1, 20)],\n",
    "              'max_depth' : [i for i in range(1, X_train_mel.shape[1], X_train_mel.shape[1]//10)]+[None],\n",
    "              'max_features': [i/10 for i in range(2, 11, 2)],\n",
    "              'n_estimators': [i*10 for i in range(1,10, 5)]}\n",
    "my_estimator = RandomForestClassifier(random_state=1)\n",
    "\n",
    "run_model(my_estimator, \n",
    "          param_grid, \n",
    "          X_train_mel, \n",
    "          y_train, \n",
    "          X_test_mel, \n",
    "          y_test, \n",
    "          total_run_times_dataframe, \n",
    "          \"Random Forest\")\n",
    "\n",
    "total_run_times_dataframe"
   ]
  },
  {
   "cell_type": "markdown",
   "metadata": {},
   "source": [
    "Interestingly, it seems that employing a random forest did improve the accuracy that can be obtained from decision trees, but it is still inferior to the performance provided by SVM and logistic regression."
   ]
  },
  {
   "cell_type": "markdown",
   "metadata": {},
   "source": [
    "## Advanced Model - Gradient Boosting\n",
    "\n",
    "A more powerful way of improving performance in decision trees is the use of Gradient Boosting. In this case, trees are not averaged out but are built in sequence. Each tree makes the ensemble slightly better by correcting errors encountered so far.\n",
    "\n",
    "I will employ eXtreme Gradient Boosting (XGBoost) due to its quick implementation and thus faster training time."
   ]
  },
  {
   "cell_type": "code",
   "execution_count": 54,
   "metadata": {
    "scrolled": false
   },
   "outputs": [
    {
     "name": "stdout",
     "output_type": "stream",
     "text": [
      "Fitting model\n",
      "Fitting 5 folds for each of 2280 candidates, totalling 11400 fits\n"
     ]
    },
    {
     "name": "stderr",
     "output_type": "stream",
     "text": [
      "[Parallel(n_jobs=3)]: Using backend LokyBackend with 3 concurrent workers.\n",
      "[Parallel(n_jobs=3)]: Done 187 tasks      | elapsed:    2.4s\n",
      "[Parallel(n_jobs=3)]: Done 1387 tasks      | elapsed:   22.9s\n",
      "[Parallel(n_jobs=3)]: Done 3387 tasks      | elapsed:  1.1min\n",
      "[Parallel(n_jobs=3)]: Done 6187 tasks      | elapsed:  2.2min\n",
      "[Parallel(n_jobs=3)]: Done 9787 tasks      | elapsed:  3.5min\n",
      "[Parallel(n_jobs=3)]: Done 11400 out of 11400 | elapsed:  4.0min finished\n"
     ]
    },
    {
     "name": "stdout",
     "output_type": "stream",
     "text": [
      "The training accuracy is 99.02%\n",
      "The test accuracy is 64.89%\n"
     ]
    },
    {
     "data": {
      "image/png": "[encoded data removed]",
      "text/plain": [
       "<Figure size 504x504 with 2 Axes>"
      ]
     },
     "metadata": {
      "needs_background": "light"
     },
     "output_type": "display_data"
    },
    {
     "data": {
      "image/png": "[encoded data removed]",
      "text/plain": [
       "<Figure size 504x504 with 2 Axes>"
      ]
     },
     "metadata": {
      "needs_background": "light"
     },
     "output_type": "display_data"
    },
    {
     "name": "stdout",
     "output_type": "stream",
     "text": [
      "              precision    recall  f1-score   support\n",
      "\n",
      "           0       0.72      0.42      0.53        62\n",
      "           1       0.62      0.86      0.72        69\n",
      "\n",
      "    accuracy                           0.65       131\n",
      "   macro avg       0.67      0.64      0.63       131\n",
      "weighted avg       0.67      0.65      0.63       131\n",
      "\n"
     ]
    },
    {
     "data": {
      "image/png": "[encoded data removed]",
      "text/plain": [
       "<Figure size 1080x360 with 1 Axes>"
      ]
     },
     "metadata": {
      "needs_background": "light"
     },
     "output_type": "display_data"
    },
    {
     "data": {
      "text/html": [
       "<div>\n",
       "<style scoped>\n",
       "    .dataframe tbody tr th:only-of-type {\n",
       "        vertical-align: middle;\n",
       "    }\n",
       "\n",
       "    .dataframe tbody tr th {\n",
       "        vertical-align: top;\n",
       "    }\n",
       "\n",
       "    .dataframe thead th {\n",
       "        text-align: right;\n",
       "    }\n",
       "</style>\n",
       "<table border=\"1\" class=\"dataframe\">\n",
       "  <thead>\n",
       "    <tr style=\"text-align: right;\">\n",
       "      <th></th>\n",
       "      <th>model</th>\n",
       "      <th>dataset</th>\n",
       "      <th>score</th>\n",
       "    </tr>\n",
       "  </thead>\n",
       "  <tbody>\n",
       "    <tr>\n",
       "      <th>0</th>\n",
       "      <td>Logistic Regression</td>\n",
       "      <td>test</td>\n",
       "      <td>0.702290</td>\n",
       "    </tr>\n",
       "    <tr>\n",
       "      <th>1</th>\n",
       "      <td>Logistic Regression</td>\n",
       "      <td>train</td>\n",
       "      <td>0.747541</td>\n",
       "    </tr>\n",
       "    <tr>\n",
       "      <th>2</th>\n",
       "      <td>SVM</td>\n",
       "      <td>test</td>\n",
       "      <td>0.687023</td>\n",
       "    </tr>\n",
       "    <tr>\n",
       "      <th>3</th>\n",
       "      <td>SVM</td>\n",
       "      <td>train</td>\n",
       "      <td>1.000000</td>\n",
       "    </tr>\n",
       "    <tr>\n",
       "      <th>4</th>\n",
       "      <td>KNN</td>\n",
       "      <td>test</td>\n",
       "      <td>0.664122</td>\n",
       "    </tr>\n",
       "    <tr>\n",
       "      <th>5</th>\n",
       "      <td>KNN</td>\n",
       "      <td>train</td>\n",
       "      <td>0.685246</td>\n",
       "    </tr>\n",
       "    <tr>\n",
       "      <th>6</th>\n",
       "      <td>Decision Tree</td>\n",
       "      <td>test</td>\n",
       "      <td>0.572519</td>\n",
       "    </tr>\n",
       "    <tr>\n",
       "      <th>7</th>\n",
       "      <td>Decision Tree</td>\n",
       "      <td>train</td>\n",
       "      <td>0.790164</td>\n",
       "    </tr>\n",
       "    <tr>\n",
       "      <th>8</th>\n",
       "      <td>Random Forest</td>\n",
       "      <td>test</td>\n",
       "      <td>0.679389</td>\n",
       "    </tr>\n",
       "    <tr>\n",
       "      <th>9</th>\n",
       "      <td>Random Forest</td>\n",
       "      <td>train</td>\n",
       "      <td>0.954098</td>\n",
       "    </tr>\n",
       "    <tr>\n",
       "      <th>10</th>\n",
       "      <td>Gradient Boosting</td>\n",
       "      <td>test</td>\n",
       "      <td>0.648855</td>\n",
       "    </tr>\n",
       "    <tr>\n",
       "      <th>11</th>\n",
       "      <td>Gradient Boosting</td>\n",
       "      <td>train</td>\n",
       "      <td>0.990164</td>\n",
       "    </tr>\n",
       "  </tbody>\n",
       "</table>\n",
       "</div>"
      ],
      "text/plain": [
       "                  model dataset     score\n",
       "0   Logistic Regression    test  0.702290\n",
       "1   Logistic Regression   train  0.747541\n",
       "2                   SVM    test  0.687023\n",
       "3                   SVM   train  1.000000\n",
       "4                   KNN    test  0.664122\n",
       "5                   KNN   train  0.685246\n",
       "6         Decision Tree    test  0.572519\n",
       "7         Decision Tree   train  0.790164\n",
       "8         Random Forest    test  0.679389\n",
       "9         Random Forest   train  0.954098\n",
       "10    Gradient Boosting    test  0.648855\n",
       "11    Gradient Boosting   train  0.990164"
      ]
     },
     "execution_count": 54,
     "metadata": {},
     "output_type": "execute_result"
    }
   ],
   "source": [
    "param_grid = {'min_child_weight': [i for i in range(1, 20)],\n",
    "              'max_depth' : [i for i in range(1, X_train_mel.shape[1], X_train_mel.shape[1]//10)]+[None],\n",
    "              'subsample': [i/10 for i in range(2, 11, 2)],\n",
    "              'n_estimators': [i*10 for i in range(1,10, 5)]}\n",
    "my_estimator = XGBClassifier(learning_rate=0.1, random_state=1)\n",
    "\n",
    "run_model(my_estimator, \n",
    "          param_grid, \n",
    "          X_train_mel, \n",
    "          y_train, \n",
    "          X_test_mel, \n",
    "          y_test, \n",
    "          total_run_times_dataframe, \n",
    "          \"Gradient Boosting\")\n",
    "\n",
    "total_run_times_dataframe"
   ]
  },
  {
   "cell_type": "markdown",
   "metadata": {},
   "source": [
    "The results again show an improvement over a single decision tree, but are not enough to perform better than a logistic regression or SVM."
   ]
  },
  {
   "cell_type": "markdown",
   "metadata": {},
   "source": [
    "## Repeat the process for different splits\n",
    "\n",
    "All of the measurements we have are for a single train/test split. However, we would like to have a clearer image of the how the models compare on unseen data. Therefore, we will create a few functions that will encapsulate the workflow we have performed so far, and then repeat the process for many different splits\n",
    "\n",
    "Once we have observations for 30 splits, we will run a [Tukey's Test for Post-Hoc Analysis](https://aaronschlegel.me/tukeys-test-post-hoc-analysis.html) to see which methodologies indeed provide significantly different results"
   ]
  },
  {
   "cell_type": "code",
   "execution_count": 147,
   "metadata": {},
   "outputs": [],
   "source": [
    "def run_model(estimator, param_grid, X_train_mel, y_train, X_test_mel, y_test, total_run_times_dataframe, model_name, verbose=0, core_number=1):\n",
    "    \n",
    "    if (verbose):\n",
    "        print(\"Fitting model\")\n",
    "    my_gs = GridSearchCV(estimator, param_grid, cv=CV_FOLD, verbose=1, n_jobs=core_number)\n",
    "    my_gs.fit(X_train_mel, y_train);\n",
    "    \n",
    "    train_acc = my_gs.score(X_train_mel, y_train)\n",
    "    test_acc = my_gs.score(X_test_mel, y_test)\n",
    "    \n",
    "    if (verbose):\n",
    "        print(f\"The training accuracy is {round(train_acc*100,2)}%\")\n",
    "        print(f\"The test accuracy is {round(test_acc*100,2)}%\")\n",
    "    \n",
    "    print(f\"Optimal Parameters are: {my_gs.best_params_}\")\n",
    "\n",
    "    if (verbose):\n",
    "    \n",
    "        figure, ax = plt.subplots(figsize=(7, 7))\n",
    "        disp = plot_confusion_matrix(my_gs, X_test_mel, y_test,\n",
    "                                     display_labels = condition_label_encoder.classes_,\n",
    "                                     cmap=plt.cm.Blues,\n",
    "                                     normalize=None,\n",
    "                                     ax=ax)\n",
    "        disp.ax_.set_title(f\"{model_name} Confusion Matrix\")\n",
    "        plt.show()\n",
    "\n",
    "        figure, ax = plt.subplots(figsize=(7, 7))\n",
    "        disp = plot_confusion_matrix(my_gs, X_test_mel, y_test,\n",
    "                                 display_labels=condition_label_encoder.classes_,\n",
    "                                 cmap=plt.cm.Blues,\n",
    "                                 normalize='pred',\n",
    "                                 ax=ax)\n",
    "        disp.ax_.set_title(f\"{model_name} Confusion Matrix\")\n",
    "        plt.show()\n",
    "\n",
    "        print(classification_report(y_test, my_gs.predict(X_test_mel)))\n",
    "\n",
    "        y_proba = my_gs.predict_proba(X_test_mel)\n",
    "\n",
    "        plt.figure(figsize=(15, 5))    \n",
    "        plt.scatter(y_proba[:, 1], y_test)\n",
    "        plt.xlabel(\"Probabilities\")\n",
    "        plt.ylabel(\"True Class\")\n",
    "        plt.title(f\"Probabilities Predicted by {model_name} versus the True Classes\")\n",
    "        plt.show();\n",
    "    \n",
    "    \n",
    "    current_row = total_run_times_dataframe.shape[0]\n",
    "    total_run_times_dataframe.loc[current_row, 'model'] = model_name\n",
    "    total_run_times_dataframe.loc[current_row, 'dataset'] = \"test\"\n",
    "    total_run_times_dataframe.loc[current_row, 'score'] = test_acc\n",
    "\n",
    "    current_row = total_run_times_dataframe.shape[0]\n",
    "    total_run_times_dataframe.loc[current_row, 'model'] = model_name\n",
    "    total_run_times_dataframe.loc[current_row, 'dataset'] = \"train\"\n",
    "    total_run_times_dataframe.loc[current_row, 'score'] = train_acc\n",
    "    total_run_times_dataframe\n",
    "    "
   ]
  },
  {
   "cell_type": "markdown",
   "metadata": {},
   "source": [
    "Create another function for pre-processing. Notice that given more time for this project, I would incorporate the PCA and Mel Encoder into a pipeline for a proper workflow over the cross-validation. However, due to time constraints, I will pre-process the data first, and then perform cross validation"
   ]
  },
  {
   "cell_type": "code",
   "execution_count": 56,
   "metadata": {},
   "outputs": [],
   "source": [
    "def preprocess_data(dataset, random_state=None):\n",
    "    train_dataset, test_dataset = train_test_split(dataset, test_size=0.3, \n",
    "                                                   stratify=dataset['label'], \n",
    "                                                   random_state=random_state)\n",
    "\n",
    "    my_encoder = MelEncoder(n_mels=128, n_windows=1000, verbose=0)\n",
    "    my_encoder.fit(train_dataset['signal'])\n",
    "\n",
    "    X_train_mel = my_encoder.transform(train_dataset['signal'])\n",
    "    X_test_mel = my_encoder.transform(test_dataset['signal'])\n",
    "\n",
    "    my_mmscaler = MinMaxScaler()\n",
    "\n",
    "    X_train_mel = my_mmscaler.fit_transform(X_train_mel)\n",
    "    X_test_mel = my_mmscaler.transform(X_test_mel)\n",
    "\n",
    "    component_number = min(*X_train_mel.shape)\n",
    "    my_pca = PCA(n_components=component_number, svd_solver='auto')\n",
    "    my_pca.fit(X_train_mel)\n",
    "\n",
    "    X_train_mel = my_pca.transform(X_train_mel)\n",
    "    X_test_mel = my_pca.transform(X_test_mel)\n",
    "\n",
    "    condition_label_encoder = LabelEncoder()\n",
    "\n",
    "\n",
    "    y_train = condition_label_encoder.fit_transform(train_dataset['label'])[:X_train_mel.shape[0]]\n",
    "    y_test = condition_label_encoder.transform(test_dataset['label'])\n",
    "    \n",
    "    return X_train_mel, X_test_mel, y_train, y_test"
   ]
  },
  {
   "cell_type": "markdown",
   "metadata": {},
   "source": [
    "Now define all the different estimators, parameter grids, and display names, and cycle through them for different train/test splits of the data"
   ]
  },
  {
   "cell_type": "code",
   "execution_count": 172,
   "metadata": {},
   "outputs": [
    {
     "name": "stdout",
     "output_type": "stream",
     "text": [
      "0: Preprocessing data...\n",
      "processed: 99.67%\n",
      "processed: 99.24%\n",
      "Running Logistic Regression\n",
      "Fitting 5 folds for each of 70 candidates, totalling 350 fits\n"
     ]
    },
    {
     "name": "stderr",
     "output_type": "stream",
     "text": [
      "[Parallel(n_jobs=10)]: Using backend LokyBackend with 10 concurrent workers.\n",
      "[Parallel(n_jobs=10)]: Done  40 tasks      | elapsed:    0.2s\n",
      "[Parallel(n_jobs=10)]: Done 350 out of 350 | elapsed:    3.3s finished\n",
      "[Parallel(n_jobs=10)]: Using backend LokyBackend with 10 concurrent workers.\n"
     ]
    },
    {
     "name": "stdout",
     "output_type": "stream",
     "text": [
      "Optimal Parameters are: {'C': 0.015625, 'penalty': 'l1'}\n",
      "Running SVM\n",
      "Fitting 5 folds for each of 60 candidates, totalling 300 fits\n"
     ]
    },
    {
     "name": "stderr",
     "output_type": "stream",
     "text": [
      "[Parallel(n_jobs=10)]: Done  40 tasks      | elapsed:    0.6s\n",
      "[Parallel(n_jobs=10)]: Done 300 out of 300 | elapsed:    4.0s finished\n",
      "[Parallel(n_jobs=10)]: Using backend LokyBackend with 10 concurrent workers.\n"
     ]
    },
    {
     "name": "stdout",
     "output_type": "stream",
     "text": [
      "Optimal Parameters are: {'C': 1, 'kernel': 'rbf'}\n",
      "Running KNN\n",
      "Fitting 5 folds for each of 56 candidates, totalling 280 fits\n"
     ]
    },
    {
     "name": "stderr",
     "output_type": "stream",
     "text": [
      "[Parallel(n_jobs=10)]: Done  40 tasks      | elapsed:    0.2s\n",
      "[Parallel(n_jobs=10)]: Done 280 out of 280 | elapsed:    0.7s finished\n",
      "[Parallel(n_jobs=10)]: Using backend LokyBackend with 10 concurrent workers.\n",
      "[Parallel(n_jobs=10)]: Done  40 tasks      | elapsed:    0.1s\n"
     ]
    },
    {
     "name": "stdout",
     "output_type": "stream",
     "text": [
      "Optimal Parameters are: {'n_neighbors': 20, 'weights': 'distance'}\n",
      "Running Decision Tree\n",
      "Fitting 5 folds for each of 1140 candidates, totalling 5700 fits\n"
     ]
    },
    {
     "name": "stderr",
     "output_type": "stream",
     "text": [
      "[Parallel(n_jobs=10)]: Done 3180 tasks      | elapsed:    7.1s\n",
      "[Parallel(n_jobs=10)]: Done 5700 out of 5700 | elapsed:   12.8s finished\n",
      "[Parallel(n_jobs=10)]: Using backend LokyBackend with 10 concurrent workers.\n"
     ]
    },
    {
     "name": "stdout",
     "output_type": "stream",
     "text": [
      "Optimal Parameters are: {'max_depth': 1, 'max_features': 0.4, 'min_samples_leaf': 1}\n",
      "Running Random Forest\n",
      "Fitting 5 folds for each of 2280 candidates, totalling 11400 fits\n"
     ]
    },
    {
     "name": "stderr",
     "output_type": "stream",
     "text": [
      "[Parallel(n_jobs=10)]: Done  40 tasks      | elapsed:    0.6s\n",
      "[Parallel(n_jobs=10)]: Done 340 tasks      | elapsed:    4.7s\n",
      "[Parallel(n_jobs=10)]: Done 840 tasks      | elapsed:   15.4s\n",
      "[Parallel(n_jobs=10)]: Done 1400 tasks      | elapsed:   34.4s\n",
      "[Parallel(n_jobs=10)]: Done 1850 tasks      | elapsed:  1.1min\n",
      "[Parallel(n_jobs=10)]: Done 2400 tasks      | elapsed:  1.4min\n",
      "[Parallel(n_jobs=10)]: Done 3050 tasks      | elapsed:  2.0min\n",
      "[Parallel(n_jobs=10)]: Done 3800 tasks      | elapsed:  2.7min\n",
      "[Parallel(n_jobs=10)]: Done 4650 tasks      | elapsed:  3.4min\n",
      "[Parallel(n_jobs=10)]: Done 5600 tasks      | elapsed:  4.2min\n",
      "[Parallel(n_jobs=10)]: Done 6650 tasks      | elapsed:  5.2min\n",
      "[Parallel(n_jobs=10)]: Done 7800 tasks      | elapsed:  6.1min\n",
      "[Parallel(n_jobs=10)]: Done 9050 tasks      | elapsed:  7.1min\n",
      "[Parallel(n_jobs=10)]: Done 10400 tasks      | elapsed:  8.3min\n",
      "[Parallel(n_jobs=10)]: Done 11400 out of 11400 | elapsed:  9.2min finished\n"
     ]
    },
    {
     "name": "stdout",
     "output_type": "stream",
     "text": [
      "Optimal Parameters are: {'max_depth': 31, 'max_features': 0.2, 'min_samples_leaf': 3, 'n_estimators': 60}\n",
      "Running Gradient Boosting\n",
      "Fitting 5 folds for each of 2280 candidates, totalling 11400 fits\n"
     ]
    },
    {
     "name": "stderr",
     "output_type": "stream",
     "text": [
      "[Parallel(n_jobs=10)]: Using backend LokyBackend with 10 concurrent workers.\n",
      "[Parallel(n_jobs=10)]: Done  40 tasks      | elapsed:    0.5s\n",
      "[Parallel(n_jobs=10)]: Done 620 tasks      | elapsed:    5.4s\n",
      "[Parallel(n_jobs=10)]: Done 1260 tasks      | elapsed:   16.6s\n",
      "[Parallel(n_jobs=10)]: Done 1770 tasks      | elapsed:   24.5s\n",
      "[Parallel(n_jobs=10)]: Done 2670 tasks      | elapsed:   41.8s\n",
      "[Parallel(n_jobs=10)]: Done 3770 tasks      | elapsed:  1.0min\n",
      "[Parallel(n_jobs=10)]: Done 5070 tasks      | elapsed:  1.4min\n",
      "[Parallel(n_jobs=10)]: Done 6570 tasks      | elapsed:  1.9min\n",
      "[Parallel(n_jobs=10)]: Done 8270 tasks      | elapsed:  2.4min\n",
      "[Parallel(n_jobs=10)]: Done 10170 tasks      | elapsed:  3.0min\n",
      "[Parallel(n_jobs=10)]: Done 11400 out of 11400 | elapsed:  3.3min finished\n"
     ]
    },
    {
     "name": "stdout",
     "output_type": "stream",
     "text": [
      "Optimal Parameters are: {'max_depth': 31, 'min_child_weight': 2, 'n_estimators': 60, 'subsample': 0.6}\n",
      "1: Preprocessing data...\n",
      "processed: 99.67%\n",
      "processed: 99.24%\n",
      "Running Logistic Regression\n",
      "Fitting 5 folds for each of 70 candidates, totalling 350 fits\n"
     ]
    },
    {
     "name": "stderr",
     "output_type": "stream",
     "text": [
      "[Parallel(n_jobs=10)]: Using backend LokyBackend with 10 concurrent workers.\n",
      "[Parallel(n_jobs=10)]: Done  40 tasks      | elapsed:    0.2s\n",
      "[Parallel(n_jobs=10)]: Done 350 out of 350 | elapsed:    3.2s finished\n",
      "[Parallel(n_jobs=10)]: Using backend LokyBackend with 10 concurrent workers.\n"
     ]
    },
    {
     "name": "stdout",
     "output_type": "stream",
     "text": [
      "Optimal Parameters are: {'C': 0.00048828125, 'penalty': 'l2'}\n",
      "Running SVM\n",
      "Fitting 5 folds for each of 60 candidates, totalling 300 fits\n"
     ]
    },
    {
     "name": "stderr",
     "output_type": "stream",
     "text": [
      "[Parallel(n_jobs=10)]: Done  40 tasks      | elapsed:    0.5s\n",
      "[Parallel(n_jobs=10)]: Done 300 out of 300 | elapsed:    3.6s finished\n",
      "[Parallel(n_jobs=10)]: Using backend LokyBackend with 10 concurrent workers.\n"
     ]
    },
    {
     "name": "stdout",
     "output_type": "stream",
     "text": [
      "Optimal Parameters are: {'C': 1, 'kernel': 'rbf'}\n",
      "Running KNN\n",
      "Fitting 5 folds for each of 56 candidates, totalling 280 fits\n"
     ]
    },
    {
     "name": "stderr",
     "output_type": "stream",
     "text": [
      "[Parallel(n_jobs=10)]: Done  40 tasks      | elapsed:    0.1s\n",
      "[Parallel(n_jobs=10)]: Done 280 out of 280 | elapsed:    0.6s finished\n",
      "[Parallel(n_jobs=10)]: Using backend LokyBackend with 10 concurrent workers.\n",
      "[Parallel(n_jobs=10)]: Done  40 tasks      | elapsed:    0.1s\n"
     ]
    },
    {
     "name": "stdout",
     "output_type": "stream",
     "text": [
      "Optimal Parameters are: {'n_neighbors': 20, 'weights': 'uniform'}\n",
      "Running Decision Tree\n",
      "Fitting 5 folds for each of 1140 candidates, totalling 5700 fits\n"
     ]
    },
    {
     "name": "stderr",
     "output_type": "stream",
     "text": [
      "[Parallel(n_jobs=10)]: Done 3180 tasks      | elapsed:    7.5s\n",
      "[Parallel(n_jobs=10)]: Done 5700 out of 5700 | elapsed:   14.1s finished\n",
      "[Parallel(n_jobs=10)]: Using backend LokyBackend with 10 concurrent workers.\n"
     ]
    },
    {
     "name": "stdout",
     "output_type": "stream",
     "text": [
      "Optimal Parameters are: {'max_depth': 1, 'max_features': 0.4, 'min_samples_leaf': 1}\n",
      "Running Random Forest\n",
      "Fitting 5 folds for each of 2280 candidates, totalling 11400 fits\n"
     ]
    },
    {
     "name": "stderr",
     "output_type": "stream",
     "text": [
      "[Parallel(n_jobs=10)]: Done  40 tasks      | elapsed:    0.5s\n",
      "[Parallel(n_jobs=10)]: Done 340 tasks      | elapsed:    4.6s\n",
      "[Parallel(n_jobs=10)]: Done 840 tasks      | elapsed:   15.6s\n",
      "[Parallel(n_jobs=10)]: Done 1470 tasks      | elapsed:   37.4s\n",
      "[Parallel(n_jobs=10)]: Done 1920 tasks      | elapsed:  1.1min\n",
      "[Parallel(n_jobs=10)]: Done 2470 tasks      | elapsed:  1.5min\n",
      "[Parallel(n_jobs=10)]: Done 3120 tasks      | elapsed:  2.0min\n",
      "[Parallel(n_jobs=10)]: Done 3870 tasks      | elapsed:  2.7min\n",
      "[Parallel(n_jobs=10)]: Done 4720 tasks      | elapsed:  3.5min\n",
      "[Parallel(n_jobs=10)]: Done 5670 tasks      | elapsed:  4.3min\n",
      "[Parallel(n_jobs=10)]: Done 6720 tasks      | elapsed:  5.2min\n",
      "[Parallel(n_jobs=10)]: Done 7870 tasks      | elapsed:  6.1min\n",
      "[Parallel(n_jobs=10)]: Done 9120 tasks      | elapsed:  7.2min\n",
      "[Parallel(n_jobs=10)]: Done 10470 tasks      | elapsed:  8.5min\n",
      "[Parallel(n_jobs=10)]: Done 11400 out of 11400 | elapsed:  9.3min finished\n"
     ]
    },
    {
     "name": "stdout",
     "output_type": "stream",
     "text": [
      "Optimal Parameters are: {'max_depth': 31, 'max_features': 0.4, 'min_samples_leaf': 11, 'n_estimators': 60}\n",
      "Running Gradient Boosting\n",
      "Fitting 5 folds for each of 2280 candidates, totalling 11400 fits\n"
     ]
    },
    {
     "name": "stderr",
     "output_type": "stream",
     "text": [
      "[Parallel(n_jobs=10)]: Using backend LokyBackend with 10 concurrent workers.\n",
      "[Parallel(n_jobs=10)]: Done  40 tasks      | elapsed:    0.5s\n",
      "[Parallel(n_jobs=10)]: Done 620 tasks      | elapsed:    5.3s\n",
      "[Parallel(n_jobs=10)]: Done 1260 tasks      | elapsed:   16.5s\n",
      "[Parallel(n_jobs=10)]: Done 1640 tasks      | elapsed:   22.8s\n",
      "[Parallel(n_jobs=10)]: Done 2540 tasks      | elapsed:   40.1s\n",
      "[Parallel(n_jobs=10)]: Done 3640 tasks      | elapsed:   59.6s\n",
      "[Parallel(n_jobs=10)]: Done 4940 tasks      | elapsed:  1.4min\n",
      "[Parallel(n_jobs=10)]: Done 6440 tasks      | elapsed:  1.9min\n",
      "[Parallel(n_jobs=10)]: Done 8140 tasks      | elapsed:  2.4min\n",
      "[Parallel(n_jobs=10)]: Done 10040 tasks      | elapsed:  3.0min\n",
      "[Parallel(n_jobs=10)]: Done 11400 out of 11400 | elapsed:  3.4min finished\n"
     ]
    },
    {
     "name": "stdout",
     "output_type": "stream",
     "text": [
      "Optimal Parameters are: {'max_depth': None, 'min_child_weight': 1, 'n_estimators': 60, 'subsample': 0.8}\n",
      "2: Preprocessing data...\n",
      "processed: 99.67%\n",
      "processed: 99.24%\n",
      "Running Logistic Regression\n",
      "Fitting 5 folds for each of 70 candidates, totalling 350 fits\n"
     ]
    },
    {
     "name": "stderr",
     "output_type": "stream",
     "text": [
      "[Parallel(n_jobs=10)]: Using backend LokyBackend with 10 concurrent workers.\n",
      "[Parallel(n_jobs=10)]: Done  40 tasks      | elapsed:    0.2s\n",
      "[Parallel(n_jobs=10)]: Done 350 out of 350 | elapsed:    3.3s finished\n",
      "[Parallel(n_jobs=10)]: Using backend LokyBackend with 10 concurrent workers.\n"
     ]
    },
    {
     "name": "stdout",
     "output_type": "stream",
     "text": [
      "Optimal Parameters are: {'C': 0.000244140625, 'penalty': 'l2'}\n",
      "Running SVM\n",
      "Fitting 5 folds for each of 60 candidates, totalling 300 fits\n"
     ]
    },
    {
     "name": "stderr",
     "output_type": "stream",
     "text": [
      "[Parallel(n_jobs=10)]: Done  40 tasks      | elapsed:    0.5s\n",
      "[Parallel(n_jobs=10)]: Done 300 out of 300 | elapsed:    3.7s finished\n",
      "[Parallel(n_jobs=10)]: Using backend LokyBackend with 10 concurrent workers.\n"
     ]
    },
    {
     "name": "stdout",
     "output_type": "stream",
     "text": [
      "Optimal Parameters are: {'C': 1, 'kernel': 'rbf'}\n",
      "Running KNN\n",
      "Fitting 5 folds for each of 56 candidates, totalling 280 fits\n"
     ]
    },
    {
     "name": "stderr",
     "output_type": "stream",
     "text": [
      "[Parallel(n_jobs=10)]: Done  40 tasks      | elapsed:    0.1s\n",
      "[Parallel(n_jobs=10)]: Done 280 out of 280 | elapsed:    0.6s finished\n",
      "[Parallel(n_jobs=10)]: Using backend LokyBackend with 10 concurrent workers.\n",
      "[Parallel(n_jobs=10)]: Done  40 tasks      | elapsed:    0.1s\n"
     ]
    },
    {
     "name": "stdout",
     "output_type": "stream",
     "text": [
      "Optimal Parameters are: {'n_neighbors': 10, 'weights': 'distance'}\n",
      "Running Decision Tree\n",
      "Fitting 5 folds for each of 1140 candidates, totalling 5700 fits\n"
     ]
    },
    {
     "name": "stderr",
     "output_type": "stream",
     "text": [
      "[Parallel(n_jobs=10)]: Done 3180 tasks      | elapsed:    7.3s\n",
      "[Parallel(n_jobs=10)]: Done 5700 out of 5700 | elapsed:   13.7s finished\n",
      "[Parallel(n_jobs=10)]: Using backend LokyBackend with 10 concurrent workers.\n"
     ]
    },
    {
     "name": "stdout",
     "output_type": "stream",
     "text": [
      "Optimal Parameters are: {'max_depth': 31, 'max_features': 0.6, 'min_samples_leaf': 10}\n",
      "Running Random Forest\n",
      "Fitting 5 folds for each of 2280 candidates, totalling 11400 fits\n"
     ]
    },
    {
     "name": "stderr",
     "output_type": "stream",
     "text": [
      "[Parallel(n_jobs=10)]: Done  40 tasks      | elapsed:    0.5s\n",
      "[Parallel(n_jobs=10)]: Done 340 tasks      | elapsed:    4.7s\n",
      "[Parallel(n_jobs=10)]: Done 840 tasks      | elapsed:   15.7s\n",
      "[Parallel(n_jobs=10)]: Done 1470 tasks      | elapsed:   37.5s\n",
      "[Parallel(n_jobs=10)]: Done 1920 tasks      | elapsed:  1.1min\n",
      "[Parallel(n_jobs=10)]: Done 2470 tasks      | elapsed:  1.5min\n",
      "[Parallel(n_jobs=10)]: Done 3120 tasks      | elapsed:  2.1min\n",
      "[Parallel(n_jobs=10)]: Done 3870 tasks      | elapsed:  2.8min\n",
      "[Parallel(n_jobs=10)]: Done 4720 tasks      | elapsed:  3.5min\n",
      "[Parallel(n_jobs=10)]: Done 5670 tasks      | elapsed:  4.3min\n",
      "[Parallel(n_jobs=10)]: Done 6720 tasks      | elapsed:  5.2min\n",
      "[Parallel(n_jobs=10)]: Done 7870 tasks      | elapsed:  6.1min\n",
      "[Parallel(n_jobs=10)]: Done 9120 tasks      | elapsed:  7.2min\n",
      "[Parallel(n_jobs=10)]: Done 10470 tasks      | elapsed:  8.5min\n",
      "[Parallel(n_jobs=10)]: Done 11400 out of 11400 | elapsed:  9.3min finished\n"
     ]
    },
    {
     "name": "stdout",
     "output_type": "stream",
     "text": [
      "Optimal Parameters are: {'max_depth': 31, 'max_features': 0.6, 'min_samples_leaf': 10, 'n_estimators': 60}\n",
      "Running Gradient Boosting\n",
      "Fitting 5 folds for each of 2280 candidates, totalling 11400 fits\n"
     ]
    },
    {
     "name": "stderr",
     "output_type": "stream",
     "text": [
      "[Parallel(n_jobs=10)]: Using backend LokyBackend with 10 concurrent workers.\n",
      "[Parallel(n_jobs=10)]: Done  40 tasks      | elapsed:    0.5s\n",
      "[Parallel(n_jobs=10)]: Done 620 tasks      | elapsed:    5.4s\n",
      "[Parallel(n_jobs=10)]: Done 1260 tasks      | elapsed:   16.7s\n",
      "[Parallel(n_jobs=10)]: Done 1670 tasks      | elapsed:   23.6s\n",
      "[Parallel(n_jobs=10)]: Done 2570 tasks      | elapsed:   40.9s\n",
      "[Parallel(n_jobs=10)]: Done 3670 tasks      | elapsed:  1.0min\n",
      "[Parallel(n_jobs=10)]: Done 4970 tasks      | elapsed:  1.4min\n",
      "[Parallel(n_jobs=10)]: Done 6470 tasks      | elapsed:  1.9min\n",
      "[Parallel(n_jobs=10)]: Done 8170 tasks      | elapsed:  2.4min\n",
      "[Parallel(n_jobs=10)]: Done 10070 tasks      | elapsed:  3.0min\n"
     ]
    },
    {
     "name": "stdout",
     "output_type": "stream",
     "text": [
      "Optimal Parameters are: {'max_depth': 1, 'min_child_weight': 4, 'n_estimators': 60, 'subsample': 1.0}\n",
      "CPU times: user 16min 24s, sys: 41.7 s, total: 17min 6s\n",
      "Wall time: 40min 23s\n"
     ]
    },
    {
     "name": "stderr",
     "output_type": "stream",
     "text": [
      "[Parallel(n_jobs=10)]: Done 11400 out of 11400 | elapsed:  3.4min finished\n"
     ]
    },
    {
     "data": {
      "text/html": [
       "<div>\n",
       "<style scoped>\n",
       "    .dataframe tbody tr th:only-of-type {\n",
       "        vertical-align: middle;\n",
       "    }\n",
       "\n",
       "    .dataframe tbody tr th {\n",
       "        vertical-align: top;\n",
       "    }\n",
       "\n",
       "    .dataframe thead th {\n",
       "        text-align: right;\n",
       "    }\n",
       "</style>\n",
       "<table border=\"1\" class=\"dataframe\">\n",
       "  <thead>\n",
       "    <tr style=\"text-align: right;\">\n",
       "      <th></th>\n",
       "      <th>model</th>\n",
       "      <th>dataset</th>\n",
       "      <th>score</th>\n",
       "    </tr>\n",
       "  </thead>\n",
       "  <tbody>\n",
       "    <tr>\n",
       "      <th>0</th>\n",
       "      <td>Logistic Regression</td>\n",
       "      <td>test</td>\n",
       "      <td>0.702290</td>\n",
       "    </tr>\n",
       "    <tr>\n",
       "      <th>1</th>\n",
       "      <td>Logistic Regression</td>\n",
       "      <td>train</td>\n",
       "      <td>0.770492</td>\n",
       "    </tr>\n",
       "    <tr>\n",
       "      <th>2</th>\n",
       "      <td>SVM</td>\n",
       "      <td>test</td>\n",
       "      <td>0.725191</td>\n",
       "    </tr>\n",
       "    <tr>\n",
       "      <th>3</th>\n",
       "      <td>SVM</td>\n",
       "      <td>train</td>\n",
       "      <td>0.773770</td>\n",
       "    </tr>\n",
       "    <tr>\n",
       "      <th>4</th>\n",
       "      <td>KNN</td>\n",
       "      <td>test</td>\n",
       "      <td>0.725191</td>\n",
       "    </tr>\n",
       "    <tr>\n",
       "      <th>...</th>\n",
       "      <td>...</td>\n",
       "      <td>...</td>\n",
       "      <td>...</td>\n",
       "    </tr>\n",
       "    <tr>\n",
       "      <th>363</th>\n",
       "      <td>Decision Tree</td>\n",
       "      <td>train</td>\n",
       "      <td>0.868852</td>\n",
       "    </tr>\n",
       "    <tr>\n",
       "      <th>364</th>\n",
       "      <td>Random Forest</td>\n",
       "      <td>test</td>\n",
       "      <td>0.717557</td>\n",
       "    </tr>\n",
       "    <tr>\n",
       "      <th>365</th>\n",
       "      <td>Random Forest</td>\n",
       "      <td>train</td>\n",
       "      <td>0.957377</td>\n",
       "    </tr>\n",
       "    <tr>\n",
       "      <th>366</th>\n",
       "      <td>Gradient Boosting</td>\n",
       "      <td>test</td>\n",
       "      <td>0.641221</td>\n",
       "    </tr>\n",
       "    <tr>\n",
       "      <th>367</th>\n",
       "      <td>Gradient Boosting</td>\n",
       "      <td>train</td>\n",
       "      <td>0.832787</td>\n",
       "    </tr>\n",
       "  </tbody>\n",
       "</table>\n",
       "<p>368 rows × 3 columns</p>\n",
       "</div>"
      ],
      "text/plain": [
       "                   model dataset     score\n",
       "0    Logistic Regression    test  0.702290\n",
       "1    Logistic Regression   train  0.770492\n",
       "2                    SVM    test  0.725191\n",
       "3                    SVM   train  0.773770\n",
       "4                    KNN    test  0.725191\n",
       "..                   ...     ...       ...\n",
       "363        Decision Tree   train  0.868852\n",
       "364        Random Forest    test  0.717557\n",
       "365        Random Forest   train  0.957377\n",
       "366    Gradient Boosting    test  0.641221\n",
       "367    Gradient Boosting   train  0.832787\n",
       "\n",
       "[368 rows x 3 columns]"
      ]
     },
     "execution_count": 172,
     "metadata": {},
     "output_type": "execute_result"
    }
   ],
   "source": [
    "%%time\n",
    "import multiprocessing\n",
    "\n",
    "# Logistic Regression parameters\n",
    "logit = LogisticRegression(solver='saga')\n",
    "logit_params = param_grid = {'penalty': ['l1', 'l2'],\n",
    "              'C': [2**i for i in range(-17, 18)]}\n",
    "logit_name = \"Logistic Regression\"\n",
    "\n",
    "logit_tuple = (logit, logit_params, logit_name)\n",
    "\n",
    "\n",
    "# SVM parameters\n",
    "svm_model = SVC(max_iter=1000, probability=True, random_state=1)\n",
    "svm_params = {'C': [10**i for i in range(-7, 8)],\n",
    "              'kernel': ['poly', 'rbf', 'sigmoid', 'linear']}\n",
    "svm_name = \"SVM\"\n",
    "svm_tuple = (svm_model, svm_params, svm_name)\n",
    "\n",
    "\n",
    "# k-Nearest Neighbour parameters\n",
    "knn = KNN()\n",
    "knn_params = {'n_neighbors': [i for i in range(3,10)] + \\\n",
    "                             [i for i in range(10, 100, 5)] + \\\n",
    "                             [i for i in range(100, X_train_mel.shape[0]//2, 20)],\n",
    "              'weights': ['uniform', 'distance']}\n",
    "knn_name = \"KNN\"\n",
    "knn_tuple = (knn, knn_params, knn_name)\n",
    "\n",
    "# Decision tree parameters\n",
    "dt = DecisionTreeClassifier(random_state=1)\n",
    "dt_params = {'min_samples_leaf': [i for i in range(1, 20)],\n",
    "              'max_depth' : [i for i in range(1, X_train_mel.shape[1], X_train_mel.shape[1]//10)]+[None],\n",
    "              'max_features': [i/10 for i in range(2, 11, 2)]}\n",
    "dt_name = \"Decision Tree\"\n",
    "dt_tuple = (dt, dt_params, dt_name)\n",
    "\n",
    "# Random forest parameters\n",
    "rf = RandomForestClassifier(random_state=1)\n",
    "rf_params = {'min_samples_leaf': [i for i in range(1, 20)],\n",
    "              'max_depth' : [i for i in range(1, X_train_mel.shape[1], X_train_mel.shape[1]//10)]+[None],\n",
    "              'max_features': [i/10 for i in range(2, 11, 2)],\n",
    "              'n_estimators': [i*10 for i in range(1,10, 5)]}\n",
    "rf_name = \"Random Forest\"\n",
    "rf_tuple = (rf, rf_params, rf_name)\n",
    "\n",
    "# Gradient boosting parameters\n",
    "xgb = XGBClassifier(learning_rate=0.1, random_state=1)\n",
    "xgb_params = {'min_child_weight': [i for i in range(1, 20)],\n",
    "              'max_depth' : [i for i in range(1, X_train_mel.shape[1], X_train_mel.shape[1]//10)]+[None],\n",
    "              'subsample': [i/10 for i in range(2, 11, 2)],\n",
    "              'n_estimators': [i*10 for i in range(1,10, 5)]}\n",
    "xgb_name = \"Gradient Boosting\"\n",
    "xgb_tuple = (xgb, xgb_params, xgb_name)\n",
    "\n",
    "\n",
    "\n",
    "# Place all model collections into a list\n",
    "model_list = [logit_tuple, svm_tuple, knn_tuple, dt_tuple, rf_tuple, xgb_tuple]\n",
    "\n",
    "# And run through them for different splits\n",
    "for i in range(3):\n",
    "    \n",
    "    # create a different split\n",
    "    print(f\"{i}: Preprocessing data...\")\n",
    "    X_train_mel, X_test_mel, y_train, y_test = preprocess_data(dataset, random_state=None)\n",
    "    \n",
    "    # Run through all the models\n",
    "    for estimator, param_grid, model_name in model_list:\n",
    "        print(f\"Running {model_name}\")\n",
    "\n",
    "        run_model(estimator, \n",
    "                  param_grid, \n",
    "                  X_train_mel, \n",
    "                  y_train, \n",
    "                  X_test_mel, \n",
    "                  y_test, \n",
    "                  total_run_times_dataframe, \n",
    "                  model_name,\n",
    "                  core_number = multiprocessing.cpu_count()-2)\n",
    "\n",
    "\n",
    "    # After every successful model run, save result to hard-drive in case of kernel crash\n",
    "    total_run_times_dataframe.to_csv('outputs/scores.csv', index=False)\n",
    "    \n",
    "    \n",
    "total_run_times_dataframe"
   ]
  },
  {
   "cell_type": "markdown",
   "metadata": {},
   "source": [
    "Aggregate the results based on model and dataset, and calculate the mean and standard deviation. We then separate the results into a train and test dataframes for easy visualization"
   ]
  },
  {
   "cell_type": "code",
   "execution_count": 173,
   "metadata": {},
   "outputs": [
    {
     "data": {
      "text/html": [
       "<div>\n",
       "<style scoped>\n",
       "    .dataframe tbody tr th:only-of-type {\n",
       "        vertical-align: middle;\n",
       "    }\n",
       "\n",
       "    .dataframe tbody tr th {\n",
       "        vertical-align: top;\n",
       "    }\n",
       "\n",
       "    .dataframe thead tr th {\n",
       "        text-align: left;\n",
       "    }\n",
       "</style>\n",
       "<table border=\"1\" class=\"dataframe\">\n",
       "  <thead>\n",
       "    <tr>\n",
       "      <th></th>\n",
       "      <th>model</th>\n",
       "      <th>dataset</th>\n",
       "      <th colspan=\"2\" halign=\"left\">score</th>\n",
       "    </tr>\n",
       "    <tr>\n",
       "      <th></th>\n",
       "      <th></th>\n",
       "      <th></th>\n",
       "      <th>mean</th>\n",
       "      <th>std</th>\n",
       "    </tr>\n",
       "  </thead>\n",
       "  <tbody>\n",
       "    <tr>\n",
       "      <th>1</th>\n",
       "      <td>Decision Tree</td>\n",
       "      <td>train</td>\n",
       "      <td>0.828662</td>\n",
       "      <td>0.099559</td>\n",
       "    </tr>\n",
       "    <tr>\n",
       "      <th>3</th>\n",
       "      <td>Gradient Boosting</td>\n",
       "      <td>train</td>\n",
       "      <td>0.892568</td>\n",
       "      <td>0.095129</td>\n",
       "    </tr>\n",
       "    <tr>\n",
       "      <th>5</th>\n",
       "      <td>KNN</td>\n",
       "      <td>train</td>\n",
       "      <td>0.819038</td>\n",
       "      <td>0.129405</td>\n",
       "    </tr>\n",
       "    <tr>\n",
       "      <th>7</th>\n",
       "      <td>Logistic Regression</td>\n",
       "      <td>train</td>\n",
       "      <td>0.744262</td>\n",
       "      <td>0.055130</td>\n",
       "    </tr>\n",
       "    <tr>\n",
       "      <th>9</th>\n",
       "      <td>Random Forest</td>\n",
       "      <td>train</td>\n",
       "      <td>0.969399</td>\n",
       "      <td>0.039853</td>\n",
       "    </tr>\n",
       "    <tr>\n",
       "      <th>11</th>\n",
       "      <td>SVM</td>\n",
       "      <td>train</td>\n",
       "      <td>0.808250</td>\n",
       "      <td>0.084392</td>\n",
       "    </tr>\n",
       "  </tbody>\n",
       "</table>\n",
       "</div>"
      ],
      "text/plain": [
       "                  model dataset     score          \n",
       "                                     mean       std\n",
       "1         Decision Tree   train  0.828662  0.099559\n",
       "3     Gradient Boosting   train  0.892568  0.095129\n",
       "5                   KNN   train  0.819038  0.129405\n",
       "7   Logistic Regression   train  0.744262  0.055130\n",
       "9         Random Forest   train  0.969399  0.039853\n",
       "11                  SVM   train  0.808250  0.084392"
      ]
     },
     "metadata": {},
     "output_type": "display_data"
    },
    {
     "data": {
      "text/html": [
       "<div>\n",
       "<style scoped>\n",
       "    .dataframe tbody tr th:only-of-type {\n",
       "        vertical-align: middle;\n",
       "    }\n",
       "\n",
       "    .dataframe tbody tr th {\n",
       "        vertical-align: top;\n",
       "    }\n",
       "\n",
       "    .dataframe thead tr th {\n",
       "        text-align: left;\n",
       "    }\n",
       "</style>\n",
       "<table border=\"1\" class=\"dataframe\">\n",
       "  <thead>\n",
       "    <tr>\n",
       "      <th></th>\n",
       "      <th>model</th>\n",
       "      <th>dataset</th>\n",
       "      <th colspan=\"2\" halign=\"left\">score</th>\n",
       "    </tr>\n",
       "    <tr>\n",
       "      <th></th>\n",
       "      <th></th>\n",
       "      <th></th>\n",
       "      <th>mean</th>\n",
       "      <th>std</th>\n",
       "    </tr>\n",
       "  </thead>\n",
       "  <tbody>\n",
       "    <tr>\n",
       "      <th>0</th>\n",
       "      <td>Decision Tree</td>\n",
       "      <td>test</td>\n",
       "      <td>0.622753</td>\n",
       "      <td>0.039996</td>\n",
       "    </tr>\n",
       "    <tr>\n",
       "      <th>2</th>\n",
       "      <td>Gradient Boosting</td>\n",
       "      <td>test</td>\n",
       "      <td>0.653435</td>\n",
       "      <td>0.049211</td>\n",
       "    </tr>\n",
       "    <tr>\n",
       "      <th>4</th>\n",
       "      <td>KNN</td>\n",
       "      <td>test</td>\n",
       "      <td>0.666831</td>\n",
       "      <td>0.032118</td>\n",
       "    </tr>\n",
       "    <tr>\n",
       "      <th>6</th>\n",
       "      <td>Logistic Regression</td>\n",
       "      <td>test</td>\n",
       "      <td>0.679143</td>\n",
       "      <td>0.024339</td>\n",
       "    </tr>\n",
       "    <tr>\n",
       "      <th>8</th>\n",
       "      <td>Random Forest</td>\n",
       "      <td>test</td>\n",
       "      <td>0.673537</td>\n",
       "      <td>0.049782</td>\n",
       "    </tr>\n",
       "    <tr>\n",
       "      <th>10</th>\n",
       "      <td>SVM</td>\n",
       "      <td>test</td>\n",
       "      <td>0.704506</td>\n",
       "      <td>0.024633</td>\n",
       "    </tr>\n",
       "  </tbody>\n",
       "</table>\n",
       "</div>"
      ],
      "text/plain": [
       "                  model dataset     score          \n",
       "                                     mean       std\n",
       "0         Decision Tree    test  0.622753  0.039996\n",
       "2     Gradient Boosting    test  0.653435  0.049211\n",
       "4                   KNN    test  0.666831  0.032118\n",
       "6   Logistic Regression    test  0.679143  0.024339\n",
       "8         Random Forest    test  0.673537  0.049782\n",
       "10                  SVM    test  0.704506  0.024633"
      ]
     },
     "metadata": {},
     "output_type": "display_data"
    }
   ],
   "source": [
    "grouped_df = total_run_times_dataframe.groupby(['model', 'dataset']).agg(['mean', 'std']).reset_index()\n",
    "\n",
    "\n",
    "train_grouped_df = grouped_df[grouped_df['dataset'] == 'train']\n",
    "display(train_grouped_df)\n",
    "\n",
    "test_grouped_df = grouped_df[grouped_df['dataset'] == 'test']\n",
    "display(test_grouped_df)"
   ]
  },
  {
   "cell_type": "markdown",
   "metadata": {},
   "source": [
    "And visualize the results:"
   ]
  },
  {
   "cell_type": "code",
   "execution_count": 174,
   "metadata": {},
   "outputs": [
    {
     "data": {
      "application/vnd.plotly.v1+json": {
       "config": {
        "plotlyServerURL": "https://plot.ly"
       },
       "data": [
        {
         "error_y": {
          "array": [
           9.96,
           9.51,
           12.94,
           5.51,
           3.99,
           8.44
          ]
         },
         "name": "Train",
         "type": "bar",
         "x": [
          "Decision Tree",
          "Gradient Boosting",
          "KNN",
          "Logistic Regression",
          "Random Forest",
          "SVM"
         ],
         "y": [
          82.87,
          89.26,
          81.9,
          74.43,
          96.94,
          80.82
         ]
        },
        {
         "error_y": {
          "array": [
           4,
           4.92,
           3.21,
           2.43,
           4.98,
           2.46
          ]
         },
         "name": "Test",
         "type": "bar",
         "x": [
          "Decision Tree",
          "Gradient Boosting",
          "KNN",
          "Logistic Regression",
          "Random Forest",
          "SVM"
         ],
         "y": [
          62.28,
          65.34,
          66.68,
          67.91,
          67.35,
          70.45
         ]
        }
       ],
       "layout": {
        "barmode": "group",
        "template": {
         "data": {
          "bar": [
           {
            "error_x": {
             "color": "#2a3f5f"
            },
            "error_y": {
             "color": "#2a3f5f"
            },
            "marker": {
             "line": {
              "color": "#E5ECF6",
              "width": 0.5
             }
            },
            "type": "bar"
           }
          ],
          "barpolar": [
           {
            "marker": {
             "line": {
              "color": "#E5ECF6",
              "width": 0.5
             }
            },
            "type": "barpolar"
           }
          ],
          "carpet": [
           {
            "aaxis": {
             "endlinecolor": "#2a3f5f",
             "gridcolor": "white",
             "linecolor": "white",
             "minorgridcolor": "white",
             "startlinecolor": "#2a3f5f"
            },
            "baxis": {
             "endlinecolor": "#2a3f5f",
             "gridcolor": "white",
             "linecolor": "white",
             "minorgridcolor": "white",
             "startlinecolor": "#2a3f5f"
            },
            "type": "carpet"
           }
          ],
          "choropleth": [
           {
            "colorbar": {
             "outlinewidth": 0,
             "ticks": ""
            },
            "type": "choropleth"
           }
          ],
          "contour": [
           {
            "colorbar": {
             "outlinewidth": 0,
             "ticks": ""
            },
            "colorscale": [
             [
              0,
              "#0d0887"
             ],
             [
              0.1111111111111111,
              "#46039f"
             ],
             [
              0.2222222222222222,
              "#7201a8"
             ],
             [
              0.3333333333333333,
              "#9c179e"
             ],
             [
              0.4444444444444444,
              "#bd3786"
             ],
             [
              0.5555555555555556,
              "#d8576b"
             ],
             [
              0.6666666666666666,
              "#ed7953"
             ],
             [
              0.7777777777777778,
              "#fb9f3a"
             ],
             [
              0.8888888888888888,
              "#fdca26"
             ],
             [
              1,
              "#f0f921"
             ]
            ],
            "type": "contour"
           }
          ],
          "contourcarpet": [
           {
            "colorbar": {
             "outlinewidth": 0,
             "ticks": ""
            },
            "type": "contourcarpet"
           }
          ],
          "heatmap": [
           {
            "colorbar": {
             "outlinewidth": 0,
             "ticks": ""
            },
            "colorscale": [
             [
              0,
              "#0d0887"
             ],
             [
              0.1111111111111111,
              "#46039f"
             ],
             [
              0.2222222222222222,
              "#7201a8"
             ],
             [
              0.3333333333333333,
              "#9c179e"
             ],
             [
              0.4444444444444444,
              "#bd3786"
             ],
             [
              0.5555555555555556,
              "#d8576b"
             ],
             [
              0.6666666666666666,
              "#ed7953"
             ],
             [
              0.7777777777777778,
              "#fb9f3a"
             ],
             [
              0.8888888888888888,
              "#fdca26"
             ],
             [
              1,
              "#f0f921"
             ]
            ],
            "type": "heatmap"
           }
          ],
          "heatmapgl": [
           {
            "colorbar": {
             "outlinewidth": 0,
             "ticks": ""
            },
            "colorscale": [
             [
              0,
              "#0d0887"
             ],
             [
              0.1111111111111111,
              "#46039f"
             ],
             [
              0.2222222222222222,
              "#7201a8"
             ],
             [
              0.3333333333333333,
              "#9c179e"
             ],
             [
              0.4444444444444444,
              "#bd3786"
             ],
             [
              0.5555555555555556,
              "#d8576b"
             ],
             [
              0.6666666666666666,
              "#ed7953"
             ],
             [
              0.7777777777777778,
              "#fb9f3a"
             ],
             [
              0.8888888888888888,
              "#fdca26"
             ],
             [
              1,
              "#f0f921"
             ]
            ],
            "type": "heatmapgl"
           }
          ],
          "histogram": [
           {
            "marker": {
             "colorbar": {
              "outlinewidth": 0,
              "ticks": ""
             }
            },
            "type": "histogram"
           }
          ],
          "histogram2d": [
           {
            "colorbar": {
             "outlinewidth": 0,
             "ticks": ""
            },
            "colorscale": [
             [
              0,
              "#0d0887"
             ],
             [
              0.1111111111111111,
              "#46039f"
             ],
             [
              0.2222222222222222,
              "#7201a8"
             ],
             [
              0.3333333333333333,
              "#9c179e"
             ],
             [
              0.4444444444444444,
              "#bd3786"
             ],
             [
              0.5555555555555556,
              "#d8576b"
             ],
             [
              0.6666666666666666,
              "#ed7953"
             ],
             [
              0.7777777777777778,
              "#fb9f3a"
             ],
             [
              0.8888888888888888,
              "#fdca26"
             ],
             [
              1,
              "#f0f921"
             ]
            ],
            "type": "histogram2d"
           }
          ],
          "histogram2dcontour": [
           {
            "colorbar": {
             "outlinewidth": 0,
             "ticks": ""
            },
            "colorscale": [
             [
              0,
              "#0d0887"
             ],
             [
              0.1111111111111111,
              "#46039f"
             ],
             [
              0.2222222222222222,
              "#7201a8"
             ],
             [
              0.3333333333333333,
              "#9c179e"
             ],
             [
              0.4444444444444444,
              "#bd3786"
             ],
             [
              0.5555555555555556,
              "#d8576b"
             ],
             [
              0.6666666666666666,
              "#ed7953"
             ],
             [
              0.7777777777777778,
              "#fb9f3a"
             ],
             [
              0.8888888888888888,
              "#fdca26"
             ],
             [
              1,
              "#f0f921"
             ]
            ],
            "type": "histogram2dcontour"
           }
          ],
          "mesh3d": [
           {
            "colorbar": {
             "outlinewidth": 0,
             "ticks": ""
            },
            "type": "mesh3d"
           }
          ],
          "parcoords": [
           {
            "line": {
             "colorbar": {
              "outlinewidth": 0,
              "ticks": ""
             }
            },
            "type": "parcoords"
           }
          ],
          "pie": [
           {
            "automargin": true,
            "type": "pie"
           }
          ],
          "scatter": [
           {
            "marker": {
             "colorbar": {
              "outlinewidth": 0,
              "ticks": ""
             }
            },
            "type": "scatter"
           }
          ],
          "scatter3d": [
           {
            "line": {
             "colorbar": {
              "outlinewidth": 0,
              "ticks": ""
             }
            },
            "marker": {
             "colorbar": {
              "outlinewidth": 0,
              "ticks": ""
             }
            },
            "type": "scatter3d"
           }
          ],
          "scattercarpet": [
           {
            "marker": {
             "colorbar": {
              "outlinewidth": 0,
              "ticks": ""
             }
            },
            "type": "scattercarpet"
           }
          ],
          "scattergeo": [
           {
            "marker": {
             "colorbar": {
              "outlinewidth": 0,
              "ticks": ""
             }
            },
            "type": "scattergeo"
           }
          ],
          "scattergl": [
           {
            "marker": {
             "colorbar": {
              "outlinewidth": 0,
              "ticks": ""
             }
            },
            "type": "scattergl"
           }
          ],
          "scattermapbox": [
           {
            "marker": {
             "colorbar": {
              "outlinewidth": 0,
              "ticks": ""
             }
            },
            "type": "scattermapbox"
           }
          ],
          "scatterpolar": [
           {
            "marker": {
             "colorbar": {
              "outlinewidth": 0,
              "ticks": ""
             }
            },
            "type": "scatterpolar"
           }
          ],
          "scatterpolargl": [
           {
            "marker": {
             "colorbar": {
              "outlinewidth": 0,
              "ticks": ""
             }
            },
            "type": "scatterpolargl"
           }
          ],
          "scatterternary": [
           {
            "marker": {
             "colorbar": {
              "outlinewidth": 0,
              "ticks": ""
             }
            },
            "type": "scatterternary"
           }
          ],
          "surface": [
           {
            "colorbar": {
             "outlinewidth": 0,
             "ticks": ""
            },
            "colorscale": [
             [
              0,
              "#0d0887"
             ],
             [
              0.1111111111111111,
              "#46039f"
             ],
             [
              0.2222222222222222,
              "#7201a8"
             ],
             [
              0.3333333333333333,
              "#9c179e"
             ],
             [
              0.4444444444444444,
              "#bd3786"
             ],
             [
              0.5555555555555556,
              "#d8576b"
             ],
             [
              0.6666666666666666,
              "#ed7953"
             ],
             [
              0.7777777777777778,
              "#fb9f3a"
             ],
             [
              0.8888888888888888,
              "#fdca26"
             ],
             [
              1,
              "#f0f921"
             ]
            ],
            "type": "surface"
           }
          ],
          "table": [
           {
            "cells": {
             "fill": {
              "color": "#EBF0F8"
             },
             "line": {
              "color": "white"
             }
            },
            "header": {
             "fill": {
              "color": "#C8D4E3"
             },
             "line": {
              "color": "white"
             }
            },
            "type": "table"
           }
          ]
         },
         "layout": {
          "annotationdefaults": {
           "arrowcolor": "#2a3f5f",
           "arrowhead": 0,
           "arrowwidth": 1
          },
          "coloraxis": {
           "colorbar": {
            "outlinewidth": 0,
            "ticks": ""
           }
          },
          "colorscale": {
           "diverging": [
            [
             0,
             "#8e0152"
            ],
            [
             0.1,
             "#c51b7d"
            ],
            [
             0.2,
             "#de77ae"
            ],
            [
             0.3,
             "#f1b6da"
            ],
            [
             0.4,
             "#fde0ef"
            ],
            [
             0.5,
             "#f7f7f7"
            ],
            [
             0.6,
             "#e6f5d0"
            ],
            [
             0.7,
             "#b8e186"
            ],
            [
             0.8,
             "#7fbc41"
            ],
            [
             0.9,
             "#4d9221"
            ],
            [
             1,
             "#276419"
            ]
           ],
           "sequential": [
            [
             0,
             "#0d0887"
            ],
            [
             0.1111111111111111,
             "#46039f"
            ],
            [
             0.2222222222222222,
             "#7201a8"
            ],
            [
             0.3333333333333333,
             "#9c179e"
            ],
            [
             0.4444444444444444,
             "#bd3786"
            ],
            [
             0.5555555555555556,
             "#d8576b"
            ],
            [
             0.6666666666666666,
             "#ed7953"
            ],
            [
             0.7777777777777778,
             "#fb9f3a"
            ],
            [
             0.8888888888888888,
             "#fdca26"
            ],
            [
             1,
             "#f0f921"
            ]
           ],
           "sequentialminus": [
            [
             0,
             "#0d0887"
            ],
            [
             0.1111111111111111,
             "#46039f"
            ],
            [
             0.2222222222222222,
             "#7201a8"
            ],
            [
             0.3333333333333333,
             "#9c179e"
            ],
            [
             0.4444444444444444,
             "#bd3786"
            ],
            [
             0.5555555555555556,
             "#d8576b"
            ],
            [
             0.6666666666666666,
             "#ed7953"
            ],
            [
             0.7777777777777778,
             "#fb9f3a"
            ],
            [
             0.8888888888888888,
             "#fdca26"
            ],
            [
             1,
             "#f0f921"
            ]
           ]
          },
          "colorway": [
           "#636efa",
           "#EF553B",
           "#00cc96",
           "#ab63fa",
           "#FFA15A",
           "#19d3f3",
           "#FF6692",
           "#B6E880",
           "#FF97FF",
           "#FECB52"
          ],
          "font": {
           "color": "#2a3f5f"
          },
          "geo": {
           "bgcolor": "white",
           "lakecolor": "white",
           "landcolor": "#E5ECF6",
           "showlakes": true,
           "showland": true,
           "subunitcolor": "white"
          },
          "hoverlabel": {
           "align": "left"
          },
          "hovermode": "closest",
          "mapbox": {
           "style": "light"
          },
          "paper_bgcolor": "white",
          "plot_bgcolor": "#E5ECF6",
          "polar": {
           "angularaxis": {
            "gridcolor": "white",
            "linecolor": "white",
            "ticks": ""
           },
           "bgcolor": "#E5ECF6",
           "radialaxis": {
            "gridcolor": "white",
            "linecolor": "white",
            "ticks": ""
           }
          },
          "scene": {
           "xaxis": {
            "backgroundcolor": "#E5ECF6",
            "gridcolor": "white",
            "gridwidth": 2,
            "linecolor": "white",
            "showbackground": true,
            "ticks": "",
            "zerolinecolor": "white"
           },
           "yaxis": {
            "backgroundcolor": "#E5ECF6",
            "gridcolor": "white",
            "gridwidth": 2,
            "linecolor": "white",
            "showbackground": true,
            "ticks": "",
            "zerolinecolor": "white"
           },
           "zaxis": {
            "backgroundcolor": "#E5ECF6",
            "gridcolor": "white",
            "gridwidth": 2,
            "linecolor": "white",
            "showbackground": true,
            "ticks": "",
            "zerolinecolor": "white"
           }
          },
          "shapedefaults": {
           "line": {
            "color": "#2a3f5f"
           }
          },
          "ternary": {
           "aaxis": {
            "gridcolor": "white",
            "linecolor": "white",
            "ticks": ""
           },
           "baxis": {
            "gridcolor": "white",
            "linecolor": "white",
            "ticks": ""
           },
           "bgcolor": "#E5ECF6",
           "caxis": {
            "gridcolor": "white",
            "linecolor": "white",
            "ticks": ""
           }
          },
          "title": {
           "x": 0.05
          },
          "xaxis": {
           "automargin": true,
           "gridcolor": "white",
           "linecolor": "white",
           "ticks": "",
           "title": {
            "standoff": 15
           },
           "zerolinecolor": "white",
           "zerolinewidth": 2
          },
          "yaxis": {
           "automargin": true,
           "gridcolor": "white",
           "linecolor": "white",
           "ticks": "",
           "title": {
            "standoff": 15
           },
           "zerolinecolor": "white",
           "zerolinewidth": 2
          }
         }
        },
        "title": {
         "text": "Accuracy Comparison across Different Models"
        }
       }
      },
      "text/html": [
       "<div>\n",
       "        \n",
       "        \n",
       "            <div id=\"620a4f47-cf93-4f5d-947d-9f958d418e35\" class=\"plotly-graph-div\" style=\"height:525px; width:100%;\"></div>\n",
       "            <script type=\"text/javascript\">\n",
       "                require([\"plotly\"], function(Plotly) {\n",
       "                    window.PLOTLYENV=window.PLOTLYENV || {};\n",
       "                    \n",
       "                if (document.getElementById(\"620a4f47-cf93-4f5d-947d-9f958d418e35\")) {\n",
       "                    Plotly.newPlot(\n",
       "                        '620a4f47-cf93-4f5d-947d-9f958d418e35',\n",
       "                        [{\"error_y\": {\"array\": [9.96, 9.51, 12.94, 5.51, 3.99, 8.44]}, \"name\": \"Train\", \"type\": \"bar\", \"x\": [\"Decision Tree\", \"Gradient Boosting\", \"KNN\", \"Logistic Regression\", \"Random Forest\", \"SVM\"], \"y\": [82.87, 89.26, 81.9, 74.43, 96.94, 80.82]}, {\"error_y\": {\"array\": [4.0, 4.92, 3.21, 2.43, 4.98, 2.46]}, \"name\": \"Test\", \"type\": \"bar\", \"x\": [\"Decision Tree\", \"Gradient Boosting\", \"KNN\", \"Logistic Regression\", \"Random Forest\", \"SVM\"], \"y\": [62.28, 65.34, 66.68, 67.91, 67.35, 70.45]}],\n",
       "                        {\"barmode\": \"group\", \"template\": {\"data\": {\"bar\": [{\"error_x\": {\"color\": \"#2a3f5f\"}, \"error_y\": {\"color\": \"#2a3f5f\"}, \"marker\": {\"line\": {\"color\": \"#E5ECF6\", \"width\": 0.5}}, \"type\": \"bar\"}], \"barpolar\": [{\"marker\": {\"line\": {\"color\": \"#E5ECF6\", \"width\": 0.5}}, \"type\": \"barpolar\"}], \"carpet\": [{\"aaxis\": {\"endlinecolor\": \"#2a3f5f\", \"gridcolor\": \"white\", \"linecolor\": \"white\", \"minorgridcolor\": \"white\", \"startlinecolor\": \"#2a3f5f\"}, \"baxis\": {\"endlinecolor\": \"#2a3f5f\", \"gridcolor\": \"white\", \"linecolor\": \"white\", \"minorgridcolor\": \"white\", \"startlinecolor\": \"#2a3f5f\"}, \"type\": \"carpet\"}], \"choropleth\": [{\"colorbar\": {\"outlinewidth\": 0, \"ticks\": \"\"}, \"type\": \"choropleth\"}], \"contour\": [{\"colorbar\": {\"outlinewidth\": 0, \"ticks\": \"\"}, \"colorscale\": [[0.0, \"#0d0887\"], [0.1111111111111111, \"#46039f\"], [0.2222222222222222, \"#7201a8\"], [0.3333333333333333, \"#9c179e\"], [0.4444444444444444, \"#bd3786\"], [0.5555555555555556, \"#d8576b\"], [0.6666666666666666, \"#ed7953\"], [0.7777777777777778, \"#fb9f3a\"], [0.8888888888888888, \"#fdca26\"], [1.0, \"#f0f921\"]], \"type\": \"contour\"}], \"contourcarpet\": [{\"colorbar\": {\"outlinewidth\": 0, \"ticks\": \"\"}, \"type\": \"contourcarpet\"}], \"heatmap\": [{\"colorbar\": {\"outlinewidth\": 0, \"ticks\": \"\"}, \"colorscale\": [[0.0, \"#0d0887\"], [0.1111111111111111, \"#46039f\"], [0.2222222222222222, \"#7201a8\"], [0.3333333333333333, \"#9c179e\"], [0.4444444444444444, \"#bd3786\"], [0.5555555555555556, \"#d8576b\"], [0.6666666666666666, \"#ed7953\"], [0.7777777777777778, \"#fb9f3a\"], [0.8888888888888888, \"#fdca26\"], [1.0, \"#f0f921\"]], \"type\": \"heatmap\"}], \"heatmapgl\": [{\"colorbar\": {\"outlinewidth\": 0, \"ticks\": \"\"}, \"colorscale\": [[0.0, \"#0d0887\"], [0.1111111111111111, \"#46039f\"], [0.2222222222222222, \"#7201a8\"], [0.3333333333333333, \"#9c179e\"], [0.4444444444444444, \"#bd3786\"], [0.5555555555555556, \"#d8576b\"], [0.6666666666666666, \"#ed7953\"], [0.7777777777777778, \"#fb9f3a\"], [0.8888888888888888, \"#fdca26\"], [1.0, \"#f0f921\"]], \"type\": \"heatmapgl\"}], \"histogram\": [{\"marker\": {\"colorbar\": {\"outlinewidth\": 0, \"ticks\": \"\"}}, \"type\": \"histogram\"}], \"histogram2d\": [{\"colorbar\": {\"outlinewidth\": 0, \"ticks\": \"\"}, \"colorscale\": [[0.0, \"#0d0887\"], [0.1111111111111111, \"#46039f\"], [0.2222222222222222, \"#7201a8\"], [0.3333333333333333, \"#9c179e\"], [0.4444444444444444, \"#bd3786\"], [0.5555555555555556, \"#d8576b\"], [0.6666666666666666, \"#ed7953\"], [0.7777777777777778, \"#fb9f3a\"], [0.8888888888888888, \"#fdca26\"], [1.0, \"#f0f921\"]], \"type\": \"histogram2d\"}], \"histogram2dcontour\": [{\"colorbar\": {\"outlinewidth\": 0, \"ticks\": \"\"}, \"colorscale\": [[0.0, \"#0d0887\"], [0.1111111111111111, \"#46039f\"], [0.2222222222222222, \"#7201a8\"], [0.3333333333333333, \"#9c179e\"], [0.4444444444444444, \"#bd3786\"], [0.5555555555555556, \"#d8576b\"], [0.6666666666666666, \"#ed7953\"], [0.7777777777777778, \"#fb9f3a\"], [0.8888888888888888, \"#fdca26\"], [1.0, \"#f0f921\"]], \"type\": \"histogram2dcontour\"}], \"mesh3d\": [{\"colorbar\": {\"outlinewidth\": 0, \"ticks\": \"\"}, \"type\": \"mesh3d\"}], \"parcoords\": [{\"line\": {\"colorbar\": {\"outlinewidth\": 0, \"ticks\": \"\"}}, \"type\": \"parcoords\"}], \"pie\": [{\"automargin\": true, \"type\": \"pie\"}], \"scatter\": [{\"marker\": {\"colorbar\": {\"outlinewidth\": 0, \"ticks\": \"\"}}, \"type\": \"scatter\"}], \"scatter3d\": [{\"line\": {\"colorbar\": {\"outlinewidth\": 0, \"ticks\": \"\"}}, \"marker\": {\"colorbar\": {\"outlinewidth\": 0, \"ticks\": \"\"}}, \"type\": \"scatter3d\"}], \"scattercarpet\": [{\"marker\": {\"colorbar\": {\"outlinewidth\": 0, \"ticks\": \"\"}}, \"type\": \"scattercarpet\"}], \"scattergeo\": [{\"marker\": {\"colorbar\": {\"outlinewidth\": 0, \"ticks\": \"\"}}, \"type\": \"scattergeo\"}], \"scattergl\": [{\"marker\": {\"colorbar\": {\"outlinewidth\": 0, \"ticks\": \"\"}}, \"type\": \"scattergl\"}], \"scattermapbox\": [{\"marker\": {\"colorbar\": {\"outlinewidth\": 0, \"ticks\": \"\"}}, \"type\": \"scattermapbox\"}], \"scatterpolar\": [{\"marker\": {\"colorbar\": {\"outlinewidth\": 0, \"ticks\": \"\"}}, \"type\": \"scatterpolar\"}], \"scatterpolargl\": [{\"marker\": {\"colorbar\": {\"outlinewidth\": 0, \"ticks\": \"\"}}, \"type\": \"scatterpolargl\"}], \"scatterternary\": [{\"marker\": {\"colorbar\": {\"outlinewidth\": 0, \"ticks\": \"\"}}, \"type\": \"scatterternary\"}], \"surface\": [{\"colorbar\": {\"outlinewidth\": 0, \"ticks\": \"\"}, \"colorscale\": [[0.0, \"#0d0887\"], [0.1111111111111111, \"#46039f\"], [0.2222222222222222, \"#7201a8\"], [0.3333333333333333, \"#9c179e\"], [0.4444444444444444, \"#bd3786\"], [0.5555555555555556, \"#d8576b\"], [0.6666666666666666, \"#ed7953\"], [0.7777777777777778, \"#fb9f3a\"], [0.8888888888888888, \"#fdca26\"], [1.0, \"#f0f921\"]], \"type\": \"surface\"}], \"table\": [{\"cells\": {\"fill\": {\"color\": \"#EBF0F8\"}, \"line\": {\"color\": \"white\"}}, \"header\": {\"fill\": {\"color\": \"#C8D4E3\"}, \"line\": {\"color\": \"white\"}}, \"type\": \"table\"}]}, \"layout\": {\"annotationdefaults\": {\"arrowcolor\": \"#2a3f5f\", \"arrowhead\": 0, \"arrowwidth\": 1}, \"coloraxis\": {\"colorbar\": {\"outlinewidth\": 0, \"ticks\": \"\"}}, \"colorscale\": {\"diverging\": [[0, \"#8e0152\"], [0.1, \"#c51b7d\"], [0.2, \"#de77ae\"], [0.3, \"#f1b6da\"], [0.4, \"#fde0ef\"], [0.5, \"#f7f7f7\"], [0.6, \"#e6f5d0\"], [0.7, \"#b8e186\"], [0.8, \"#7fbc41\"], [0.9, \"#4d9221\"], [1, \"#276419\"]], \"sequential\": [[0.0, \"#0d0887\"], [0.1111111111111111, \"#46039f\"], [0.2222222222222222, \"#7201a8\"], [0.3333333333333333, \"#9c179e\"], [0.4444444444444444, \"#bd3786\"], [0.5555555555555556, \"#d8576b\"], [0.6666666666666666, \"#ed7953\"], [0.7777777777777778, \"#fb9f3a\"], [0.8888888888888888, \"#fdca26\"], [1.0, \"#f0f921\"]], \"sequentialminus\": [[0.0, \"#0d0887\"], [0.1111111111111111, \"#46039f\"], [0.2222222222222222, \"#7201a8\"], [0.3333333333333333, \"#9c179e\"], [0.4444444444444444, \"#bd3786\"], [0.5555555555555556, \"#d8576b\"], [0.6666666666666666, \"#ed7953\"], [0.7777777777777778, \"#fb9f3a\"], [0.8888888888888888, \"#fdca26\"], [1.0, \"#f0f921\"]]}, \"colorway\": [\"#636efa\", \"#EF553B\", \"#00cc96\", \"#ab63fa\", \"#FFA15A\", \"#19d3f3\", \"#FF6692\", \"#B6E880\", \"#FF97FF\", \"#FECB52\"], \"font\": {\"color\": \"#2a3f5f\"}, \"geo\": {\"bgcolor\": \"white\", \"lakecolor\": \"white\", \"landcolor\": \"#E5ECF6\", \"showlakes\": true, \"showland\": true, \"subunitcolor\": \"white\"}, \"hoverlabel\": {\"align\": \"left\"}, \"hovermode\": \"closest\", \"mapbox\": {\"style\": \"light\"}, \"paper_bgcolor\": \"white\", \"plot_bgcolor\": \"#E5ECF6\", \"polar\": {\"angularaxis\": {\"gridcolor\": \"white\", \"linecolor\": \"white\", \"ticks\": \"\"}, \"bgcolor\": \"#E5ECF6\", \"radialaxis\": {\"gridcolor\": \"white\", \"linecolor\": \"white\", \"ticks\": \"\"}}, \"scene\": {\"xaxis\": {\"backgroundcolor\": \"#E5ECF6\", \"gridcolor\": \"white\", \"gridwidth\": 2, \"linecolor\": \"white\", \"showbackground\": true, \"ticks\": \"\", \"zerolinecolor\": \"white\"}, \"yaxis\": {\"backgroundcolor\": \"#E5ECF6\", \"gridcolor\": \"white\", \"gridwidth\": 2, \"linecolor\": \"white\", \"showbackground\": true, \"ticks\": \"\", \"zerolinecolor\": \"white\"}, \"zaxis\": {\"backgroundcolor\": \"#E5ECF6\", \"gridcolor\": \"white\", \"gridwidth\": 2, \"linecolor\": \"white\", \"showbackground\": true, \"ticks\": \"\", \"zerolinecolor\": \"white\"}}, \"shapedefaults\": {\"line\": {\"color\": \"#2a3f5f\"}}, \"ternary\": {\"aaxis\": {\"gridcolor\": \"white\", \"linecolor\": \"white\", \"ticks\": \"\"}, \"baxis\": {\"gridcolor\": \"white\", \"linecolor\": \"white\", \"ticks\": \"\"}, \"bgcolor\": \"#E5ECF6\", \"caxis\": {\"gridcolor\": \"white\", \"linecolor\": \"white\", \"ticks\": \"\"}}, \"title\": {\"x\": 0.05}, \"xaxis\": {\"automargin\": true, \"gridcolor\": \"white\", \"linecolor\": \"white\", \"ticks\": \"\", \"title\": {\"standoff\": 15}, \"zerolinecolor\": \"white\", \"zerolinewidth\": 2}, \"yaxis\": {\"automargin\": true, \"gridcolor\": \"white\", \"linecolor\": \"white\", \"ticks\": \"\", \"title\": {\"standoff\": 15}, \"zerolinecolor\": \"white\", \"zerolinewidth\": 2}}}, \"title\": {\"text\": \"Accuracy Comparison across Different Models\"}},\n",
       "                        {\"responsive\": true}\n",
       "                    ).then(function(){\n",
       "                            \n",
       "var gd = document.getElementById('620a4f47-cf93-4f5d-947d-9f958d418e35');\n",
       "var x = new MutationObserver(function (mutations, observer) {{\n",
       "        var display = window.getComputedStyle(gd).display;\n",
       "        if (!display || display === 'none') {{\n",
       "            console.log([gd, 'removed!']);\n",
       "            Plotly.purge(gd);\n",
       "            observer.disconnect();\n",
       "        }}\n",
       "}});\n",
       "\n",
       "// Listen for the removal of the full notebook cells\n",
       "var notebookContainer = gd.closest('#notebook-container');\n",
       "if (notebookContainer) {{\n",
       "    x.observe(notebookContainer, {childList: true});\n",
       "}}\n",
       "\n",
       "// Listen for the clearing of the current output cell\n",
       "var outputEl = gd.closest('.output');\n",
       "if (outputEl) {{\n",
       "    x.observe(outputEl, {childList: true});\n",
       "}}\n",
       "\n",
       "                        })\n",
       "                };\n",
       "                });\n",
       "            </script>\n",
       "        </div>"
      ]
     },
     "metadata": {},
     "output_type": "display_data"
    }
   ],
   "source": [
    "import plotly.graph_objects as go\n",
    "models = train_grouped_df['model']\n",
    "\n",
    "fig = go.Figure(data=[\n",
    "    go.Bar(name='Train', \n",
    "           x=models, \n",
    "           y=np.round(100*train_grouped_df['score']['mean'], 2), \n",
    "           error_y={\"array\":np.round(100*train_grouped_df['score']['std'], 2)}),\n",
    "    go.Bar(name='Test', \n",
    "           x=models, \n",
    "           y=round(100*test_grouped_df['score']['mean'], 2), \n",
    "           error_y={\"array\":np.round(100*test_grouped_df['score']['std'],2)})\n",
    "])\n",
    "# Change the bar mode\n",
    "fig.update_layout(barmode='group', \n",
    "                  title_text='Accuracy Comparison across Different Models',\n",
    "                  xaxis_title=\"Model\",\n",
    "                  yaxis_title=\"Accuracy Score (%)\",\n",
    "                  legend_title=\"Dataset\",\n",
    "                  font=dict(\n",
    "                      family=\"Courier New, monospace\",\n",
    "                      size=18)\n",
    "                 )\n",
    "\n",
    "fig.show()"
   ]
  },
  {
   "cell_type": "markdown",
   "metadata": {},
   "source": [
    "We also want to check where there are statistically significant differences"
   ]
  },
  {
   "cell_type": "code",
   "execution_count": 175,
   "metadata": {},
   "outputs": [
    {
     "data": {
      "text/html": [
       "<div>\n",
       "<style scoped>\n",
       "    .dataframe tbody tr th:only-of-type {\n",
       "        vertical-align: middle;\n",
       "    }\n",
       "\n",
       "    .dataframe tbody tr th {\n",
       "        vertical-align: top;\n",
       "    }\n",
       "\n",
       "    .dataframe thead th {\n",
       "        text-align: right;\n",
       "    }\n",
       "</style>\n",
       "<table border=\"1\" class=\"dataframe\">\n",
       "  <thead>\n",
       "    <tr style=\"text-align: right;\">\n",
       "      <th></th>\n",
       "      <th>model</th>\n",
       "      <th>dataset</th>\n",
       "      <th>score</th>\n",
       "    </tr>\n",
       "  </thead>\n",
       "  <tbody>\n",
       "    <tr>\n",
       "      <th>0</th>\n",
       "      <td>Logistic Regression</td>\n",
       "      <td>test</td>\n",
       "      <td>0.702290</td>\n",
       "    </tr>\n",
       "    <tr>\n",
       "      <th>2</th>\n",
       "      <td>SVM</td>\n",
       "      <td>test</td>\n",
       "      <td>0.725191</td>\n",
       "    </tr>\n",
       "    <tr>\n",
       "      <th>4</th>\n",
       "      <td>KNN</td>\n",
       "      <td>test</td>\n",
       "      <td>0.725191</td>\n",
       "    </tr>\n",
       "    <tr>\n",
       "      <th>6</th>\n",
       "      <td>Decision Tree</td>\n",
       "      <td>test</td>\n",
       "      <td>0.595420</td>\n",
       "    </tr>\n",
       "    <tr>\n",
       "      <th>8</th>\n",
       "      <td>Random Forest</td>\n",
       "      <td>test</td>\n",
       "      <td>0.702290</td>\n",
       "    </tr>\n",
       "  </tbody>\n",
       "</table>\n",
       "</div>"
      ],
      "text/plain": [
       "                 model dataset     score\n",
       "0  Logistic Regression    test  0.702290\n",
       "2                  SVM    test  0.725191\n",
       "4                  KNN    test  0.725191\n",
       "6        Decision Tree    test  0.595420\n",
       "8        Random Forest    test  0.702290"
      ]
     },
     "execution_count": 175,
     "metadata": {},
     "output_type": "execute_result"
    }
   ],
   "source": [
    "ungrouped_test_df.head()"
   ]
  },
  {
   "cell_type": "code",
   "execution_count": 176,
   "metadata": {},
   "outputs": [
    {
     "data": {
      "text/html": [
       "<table class=\"simpletable\">\n",
       "<caption>Multiple Comparison of Means - Tukey HSD, FWER=0.05</caption>\n",
       "<tr>\n",
       "        <th>group1</th>              <th>group2</th>        <th>meandiff</th>  <th>p-adj</th>  <th>lower</th>   <th>upper</th> <th>reject</th>\n",
       "</tr>\n",
       "<tr>\n",
       "     <td>Decision Tree</td>     <td>Gradient Boosting</td>   <td>0.0307</td>   <td>0.023</td> <td>0.0026</td>  <td>0.0587</td>  <td>True</td> \n",
       "</tr>\n",
       "<tr>\n",
       "     <td>Decision Tree</td>            <td>KNN</td>          <td>0.0441</td>   <td>0.001</td> <td>0.0163</td>  <td>0.0719</td>  <td>True</td> \n",
       "</tr>\n",
       "<tr>\n",
       "     <td>Decision Tree</td>    <td>Logistic Regression</td>  <td>0.0564</td>   <td>0.001</td> <td>0.0286</td>  <td>0.0842</td>  <td>True</td> \n",
       "</tr>\n",
       "<tr>\n",
       "     <td>Decision Tree</td>       <td>Random Forest</td>     <td>0.0508</td>   <td>0.001</td> <td>0.0227</td>  <td>0.0788</td>  <td>True</td> \n",
       "</tr>\n",
       "<tr>\n",
       "     <td>Decision Tree</td>            <td>SVM</td>          <td>0.0818</td>   <td>0.001</td> <td>0.0539</td>  <td>0.1096</td>  <td>True</td> \n",
       "</tr>\n",
       "<tr>\n",
       "   <td>Gradient Boosting</td>          <td>KNN</td>          <td>0.0134</td>  <td>0.7141</td> <td>-0.0146</td> <td>0.0414</td>  <td>False</td>\n",
       "</tr>\n",
       "<tr>\n",
       "   <td>Gradient Boosting</td>  <td>Logistic Regression</td>  <td>0.0257</td>  <td>0.0926</td> <td>-0.0023</td> <td>0.0537</td>  <td>False</td>\n",
       "</tr>\n",
       "<tr>\n",
       "   <td>Gradient Boosting</td>     <td>Random Forest</td>     <td>0.0201</td>  <td>0.3191</td> <td>-0.0082</td> <td>0.0484</td>  <td>False</td>\n",
       "</tr>\n",
       "<tr>\n",
       "   <td>Gradient Boosting</td>          <td>SVM</td>          <td>0.0511</td>   <td>0.001</td>  <td>0.023</td>  <td>0.0791</td>  <td>True</td> \n",
       "</tr>\n",
       "<tr>\n",
       "          <td>KNN</td>         <td>Logistic Regression</td>  <td>0.0123</td>  <td>0.7718</td> <td>-0.0155</td> <td>0.0401</td>  <td>False</td>\n",
       "</tr>\n",
       "<tr>\n",
       "          <td>KNN</td>            <td>Random Forest</td>     <td>0.0067</td>    <td>0.9</td>  <td>-0.0213</td> <td>0.0347</td>  <td>False</td>\n",
       "</tr>\n",
       "<tr>\n",
       "          <td>KNN</td>                 <td>SVM</td>          <td>0.0377</td>  <td>0.0018</td> <td>0.0099</td>  <td>0.0655</td>  <td>True</td> \n",
       "</tr>\n",
       "<tr>\n",
       "  <td>Logistic Regression</td>    <td>Random Forest</td>     <td>-0.0056</td>   <td>0.9</td>  <td>-0.0336</td> <td>0.0224</td>  <td>False</td>\n",
       "</tr>\n",
       "<tr>\n",
       "  <td>Logistic Regression</td>         <td>SVM</td>          <td>0.0254</td>  <td>0.0958</td> <td>-0.0024</td> <td>0.0532</td>  <td>False</td>\n",
       "</tr>\n",
       "<tr>\n",
       "     <td>Random Forest</td>            <td>SVM</td>           <td>0.031</td>   <td>0.021</td> <td>0.0029</td>   <td>0.059</td>  <td>True</td> \n",
       "</tr>\n",
       "</table>"
      ],
      "text/plain": [
       "<class 'statsmodels.iolib.table.SimpleTable'>"
      ]
     },
     "execution_count": 176,
     "metadata": {},
     "output_type": "execute_result"
    }
   ],
   "source": [
    "from statsmodels.stats.multicomp import pairwise_tukeyhsd\n",
    "\n",
    "ungrouped_test_df = total_run_times_dataframe[total_run_times_dataframe['dataset'] == 'test']\n",
    "result = pairwise_tukeyhsd(ungrouped_test_df['score'], \n",
    "                           ungrouped_test_df['model'])\n",
    "result.summary()"
   ]
  },
  {
   "cell_type": "markdown",
   "metadata": {},
   "source": [
    "We can see that SVMs are statistically better than all other attempted models, while decision trees are statistically worse than all other explored models.\n",
    "\n",
    "With only 30 observations for each model, we have little support for other inferences, but certainly we see that algorithm like KNN, gradient boosting, and logistic regression, perform no worse than SVMs.\n",
    "\n",
    "Still, with an accuracy rate of 70%, we might ask ourselves if we can improve these results. We will first attempt to improve the results with data augmentation shown in the next notebook."
   ]
  }
 ],
 "metadata": {
  "hide_input": false,
  "kernelspec": {
   "display_name": "Python 3",
   "language": "python",
   "name": "python3"
  },
  "language_info": {
   "codemirror_mode": {
    "name": "ipython",
    "version": 3
   },
   "file_extension": ".py",
   "mimetype": "text/x-python",
   "name": "python",
   "nbconvert_exporter": "python",
   "pygments_lexer": "ipython3",
   "version": "3.8.5"
  }
 },
 "nbformat": 4,
 "nbformat_minor": 4
}
