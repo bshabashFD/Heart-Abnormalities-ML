{
 "cells": [
  {
   "cell_type": "code",
   "execution_count": 1,
   "metadata": {},
   "outputs": [],
   "source": [
    "import numpy as np\n",
    "import pandas as pd\n",
    "import time\n",
    "\n",
    "import warnings\n",
    "warnings.filterwarnings(\"ignore\")\n",
    "\n",
    "import matplotlib.pyplot as plt\n",
    "%matplotlib inline\n",
    "\n",
    "from boris_util import *"
   ]
  },
  {
   "cell_type": "markdown",
   "metadata": {},
   "source": [
    "# Exploring the Dataset\n",
    "\n",
    "First thing's first, let's load the dataset. I created a new function that loads up the dataset for me and converts it into a pandas dataframe for easy access. For more information on this, please see the `Data Cleaning` notebook"
   ]
  },
  {
   "cell_type": "code",
   "execution_count": 2,
   "metadata": {},
   "outputs": [
    {
     "name": "stdout",
     "output_type": "stream",
     "text": [
      "Longest file has 396900 measurements\n",
      "(585, 396901)\n"
     ]
    },
    {
     "data": {
      "text/html": [
       "<div>\n",
       "<style scoped>\n",
       "    .dataframe tbody tr th:only-of-type {\n",
       "        vertical-align: middle;\n",
       "    }\n",
       "\n",
       "    .dataframe tbody tr th {\n",
       "        vertical-align: top;\n",
       "    }\n",
       "\n",
       "    .dataframe thead th {\n",
       "        text-align: right;\n",
       "    }\n",
       "</style>\n",
       "<table border=\"1\" class=\"dataframe\">\n",
       "  <thead>\n",
       "    <tr style=\"text-align: right;\">\n",
       "      <th></th>\n",
       "      <th>0</th>\n",
       "      <th>1</th>\n",
       "      <th>2</th>\n",
       "      <th>3</th>\n",
       "      <th>4</th>\n",
       "      <th>5</th>\n",
       "      <th>6</th>\n",
       "      <th>7</th>\n",
       "      <th>8</th>\n",
       "      <th>9</th>\n",
       "      <th>...</th>\n",
       "      <th>396891</th>\n",
       "      <th>396892</th>\n",
       "      <th>396893</th>\n",
       "      <th>396894</th>\n",
       "      <th>396895</th>\n",
       "      <th>396896</th>\n",
       "      <th>396897</th>\n",
       "      <th>396898</th>\n",
       "      <th>396899</th>\n",
       "      <th>label</th>\n",
       "    </tr>\n",
       "  </thead>\n",
       "  <tbody>\n",
       "    <tr>\n",
       "      <th>0</th>\n",
       "      <td>1.0</td>\n",
       "      <td>-3.0</td>\n",
       "      <td>-1.0</td>\n",
       "      <td>-7.0</td>\n",
       "      <td>-9.0</td>\n",
       "      <td>-2.0</td>\n",
       "      <td>-6.0</td>\n",
       "      <td>-5.0</td>\n",
       "      <td>-3.0</td>\n",
       "      <td>4.0</td>\n",
       "      <td>...</td>\n",
       "      <td>10.0</td>\n",
       "      <td>3.0</td>\n",
       "      <td>1.0</td>\n",
       "      <td>-4.0</td>\n",
       "      <td>-5.0</td>\n",
       "      <td>1.0</td>\n",
       "      <td>0.0</td>\n",
       "      <td>1.0</td>\n",
       "      <td>0.0</td>\n",
       "      <td>artifact</td>\n",
       "    </tr>\n",
       "    <tr>\n",
       "      <th>1</th>\n",
       "      <td>-2.0</td>\n",
       "      <td>3.0</td>\n",
       "      <td>-4.0</td>\n",
       "      <td>4.0</td>\n",
       "      <td>-3.0</td>\n",
       "      <td>2.0</td>\n",
       "      <td>-1.0</td>\n",
       "      <td>0.0</td>\n",
       "      <td>0.0</td>\n",
       "      <td>0.0</td>\n",
       "      <td>...</td>\n",
       "      <td>9.0</td>\n",
       "      <td>18.0</td>\n",
       "      <td>7.0</td>\n",
       "      <td>6.0</td>\n",
       "      <td>2.0</td>\n",
       "      <td>-6.0</td>\n",
       "      <td>0.0</td>\n",
       "      <td>-7.0</td>\n",
       "      <td>-6.0</td>\n",
       "      <td>artifact</td>\n",
       "    </tr>\n",
       "    <tr>\n",
       "      <th>2</th>\n",
       "      <td>6.0</td>\n",
       "      <td>-4.0</td>\n",
       "      <td>-9.0</td>\n",
       "      <td>-1.0</td>\n",
       "      <td>-4.0</td>\n",
       "      <td>1.0</td>\n",
       "      <td>-5.0</td>\n",
       "      <td>2.0</td>\n",
       "      <td>4.0</td>\n",
       "      <td>3.0</td>\n",
       "      <td>...</td>\n",
       "      <td>1.0</td>\n",
       "      <td>7.0</td>\n",
       "      <td>5.0</td>\n",
       "      <td>1.0</td>\n",
       "      <td>2.0</td>\n",
       "      <td>0.0</td>\n",
       "      <td>3.0</td>\n",
       "      <td>2.0</td>\n",
       "      <td>-3.0</td>\n",
       "      <td>artifact</td>\n",
       "    </tr>\n",
       "    <tr>\n",
       "      <th>3</th>\n",
       "      <td>-85.0</td>\n",
       "      <td>-198.0</td>\n",
       "      <td>-214.0</td>\n",
       "      <td>-173.0</td>\n",
       "      <td>-177.0</td>\n",
       "      <td>-206.0</td>\n",
       "      <td>-256.0</td>\n",
       "      <td>-274.0</td>\n",
       "      <td>-171.0</td>\n",
       "      <td>-33.0</td>\n",
       "      <td>...</td>\n",
       "      <td>-228.0</td>\n",
       "      <td>-271.0</td>\n",
       "      <td>-277.0</td>\n",
       "      <td>-248.0</td>\n",
       "      <td>-198.0</td>\n",
       "      <td>-166.0</td>\n",
       "      <td>-110.0</td>\n",
       "      <td>-74.0</td>\n",
       "      <td>-76.0</td>\n",
       "      <td>artifact</td>\n",
       "    </tr>\n",
       "    <tr>\n",
       "      <th>4</th>\n",
       "      <td>53.0</td>\n",
       "      <td>-35.0</td>\n",
       "      <td>47.0</td>\n",
       "      <td>170.0</td>\n",
       "      <td>340.0</td>\n",
       "      <td>436.0</td>\n",
       "      <td>535.0</td>\n",
       "      <td>639.0</td>\n",
       "      <td>647.0</td>\n",
       "      <td>569.0</td>\n",
       "      <td>...</td>\n",
       "      <td>534.0</td>\n",
       "      <td>440.0</td>\n",
       "      <td>435.0</td>\n",
       "      <td>375.0</td>\n",
       "      <td>238.0</td>\n",
       "      <td>67.0</td>\n",
       "      <td>-37.0</td>\n",
       "      <td>-71.0</td>\n",
       "      <td>32.0</td>\n",
       "      <td>artifact</td>\n",
       "    </tr>\n",
       "  </tbody>\n",
       "</table>\n",
       "<p>5 rows × 396901 columns</p>\n",
       "</div>"
      ],
      "text/plain": [
       "      0      1      2      3      4      5      6      7      8      9  ...  \\\n",
       "0   1.0   -3.0   -1.0   -7.0   -9.0   -2.0   -6.0   -5.0   -3.0    4.0  ...   \n",
       "1  -2.0    3.0   -4.0    4.0   -3.0    2.0   -1.0    0.0    0.0    0.0  ...   \n",
       "2   6.0   -4.0   -9.0   -1.0   -4.0    1.0   -5.0    2.0    4.0    3.0  ...   \n",
       "3 -85.0 -198.0 -214.0 -173.0 -177.0 -206.0 -256.0 -274.0 -171.0  -33.0  ...   \n",
       "4  53.0  -35.0   47.0  170.0  340.0  436.0  535.0  639.0  647.0  569.0  ...   \n",
       "\n",
       "   396891  396892  396893  396894  396895  396896  396897  396898  396899  \\\n",
       "0    10.0     3.0     1.0    -4.0    -5.0     1.0     0.0     1.0     0.0   \n",
       "1     9.0    18.0     7.0     6.0     2.0    -6.0     0.0    -7.0    -6.0   \n",
       "2     1.0     7.0     5.0     1.0     2.0     0.0     3.0     2.0    -3.0   \n",
       "3  -228.0  -271.0  -277.0  -248.0  -198.0  -166.0  -110.0   -74.0   -76.0   \n",
       "4   534.0   440.0   435.0   375.0   238.0    67.0   -37.0   -71.0    32.0   \n",
       "\n",
       "      label  \n",
       "0  artifact  \n",
       "1  artifact  \n",
       "2  artifact  \n",
       "3  artifact  \n",
       "4  artifact  \n",
       "\n",
       "[5 rows x 396901 columns]"
      ]
     },
     "execution_count": 2,
     "metadata": {},
     "output_type": "execute_result"
    }
   ],
   "source": [
    "dataset = read_original_data('453_923_bundle_archive')\n",
    "print(dataset.shape)\n",
    "dataset.head()"
   ]
  },
  {
   "cell_type": "markdown",
   "metadata": {},
   "source": [
    "Let's take a look at the class distribution to see if there is any concern of class imbalance"
   ]
  },
  {
   "cell_type": "code",
   "execution_count": 3,
   "metadata": {},
   "outputs": [
    {
     "data": {
      "image/png": "[encoded data removed]",
      "text/plain": [
       "<Figure size 1080x360 with 1 Axes>"
      ]
     },
     "metadata": {
      "needs_background": "light"
     },
     "output_type": "display_data"
    }
   ],
   "source": [
    "label_counts = dataset['label'].value_counts()\n",
    "\n",
    "plt.figure(figsize=(15,5))\n",
    "plt.barh(label_counts.index, label_counts.values)\n",
    "plt.xlabel(\"Value Counts\")\n",
    "plt.ylabel(\"Condition\")\n",
    "plt.title(\"The Distribution of Different Labels in the Dataset\")\n",
    "plt.show()"
   ]
  },
  {
   "cell_type": "markdown",
   "metadata": {},
   "source": [
    "There is certainly an issue of class imbalance here. A naive classifier could guess pretty well by simply guessing \"Normal\" on all the examples"
   ]
  },
  {
   "cell_type": "markdown",
   "metadata": {},
   "source": [
    "## Basic Model - Logistic Regression\n",
    "\n",
    "Let's start by establishing a baseline performance. I am just going to load the raw audio data as features (where each feature is an audio measurement) and see how well a simple logistic regression (linear model) and decision tree (non-linear model) will perform"
   ]
  },
  {
   "cell_type": "code",
   "execution_count": 41,
   "metadata": {},
   "outputs": [],
   "source": [
    "class_mapping = {'artifact': 0, \n",
    "                 'extrahls': 1, \n",
    "                 'murmur': 2, \n",
    "                 'normal': 3,\n",
    "                 'extrastole': 4}"
   ]
  },
  {
   "cell_type": "code",
   "execution_count": 43,
   "metadata": {},
   "outputs": [
    {
     "name": "stdout",
     "output_type": "stream",
     "text": [
      "(468, 396900) (117, 396900)\n",
      "(468,) (117,)\n"
     ]
    }
   ],
   "source": [
    "from sklearn.model_selection import train_test_split\n",
    "\n",
    "\n",
    "X = dataset.drop('label', axis=1)\n",
    "y = dataset['label'].map(class_mapping)\n",
    "\n",
    "X_train, X_test, y_train, y_test = train_test_split(X, y, test_size=0.2, stratify=y.values, random_state=1)\n",
    "print(X_train.shape, X_test.shape)\n",
    "print(y_train.shape, y_test.shape)"
   ]
  },
  {
   "cell_type": "code",
   "execution_count": 45,
   "metadata": {},
   "outputs": [
    {
     "name": "stdout",
     "output_type": "stream",
     "text": [
      "Fitting took 47.6 seconds\n"
     ]
    }
   ],
   "source": [
    "from sklearn.linear_model import LogisticRegression\n",
    "\n",
    "fit_start = time.time()\n",
    "my_model = LogisticRegression().fit(X_train, y_train)\n",
    "fit_end = time.time()\n",
    "print(f\"Fitting took {round(fit_end - fit_start,2)} seconds\")\n",
    "\n",
    "train_acc = my_model.score(X_train, y_train)\n",
    "test_acc = my_model.score(X_test, y_test)"
   ]
  },
  {
   "cell_type": "code",
   "execution_count": 46,
   "metadata": {},
   "outputs": [
    {
     "name": "stdout",
     "output_type": "stream",
     "text": [
      "The training accuracy is 100.0%\n",
      "The test accuracy is 28.21%\n"
     ]
    }
   ],
   "source": [
    "print(f\"The training accuracy is {round(train_acc*100,2)}%\")\n",
    "print(f\"The test accuracy is {round(test_acc*100,2)}%\")"
   ]
  },
  {
   "cell_type": "markdown",
   "metadata": {},
   "source": [
    "Extremely suspicious results. There is clearly a very large sign of overfitting here. Let's explore how the logistic regression makes decisions.\n",
    "\n",
    "Let's plot the coefficients as if they were an audio mask (which is really what they end up becoming)."
   ]
  },
  {
   "cell_type": "code",
   "execution_count": 47,
   "metadata": {},
   "outputs": [
    {
     "data": {
      "image/png": "[encoded data removed]",
      "text/plain": [
       "<Figure size 1080x360 with 1 Axes>"
      ]
     },
     "metadata": {
      "needs_background": "light"
     },
     "output_type": "display_data"
    }
   ],
   "source": [
    "plt.figure(figsize=(15, 5))\n",
    "plt.plot(np.abs(my_model.coef_).mean(axis=0))\n",
    "plt.xlabel(\"Timestamp\")\n",
    "plt.ylabel(\"Coefficient Absolute Mean Value\")\n",
    "plt.title(\"Logistic Regression Coefficients\")\n",
    "plt.show()"
   ]
  },
  {
   "cell_type": "markdown",
   "metadata": {},
   "source": [
    "Most of the decision is happening at the end of the sound bite. It looks like we can chop all audio clips to the last 10,000 sound measurements and get comparable results"
   ]
  },
  {
   "cell_type": "code",
   "execution_count": 48,
   "metadata": {},
   "outputs": [
    {
     "name": "stdout",
     "output_type": "stream",
     "text": [
      "(468, 100000) (117, 100000)\n",
      "(468,) (117,)\n"
     ]
    }
   ],
   "source": [
    "X_truncated = X.iloc[:, -100000:]\n",
    "\n",
    "X_train, X_test, y_train, y_test = train_test_split(X_truncated, y, test_size=0.2, stratify=y, random_state=1)\n",
    "print(X_train.shape, X_test.shape)\n",
    "print(y_train.shape, y_test.shape)"
   ]
  },
  {
   "cell_type": "code",
   "execution_count": 49,
   "metadata": {},
   "outputs": [
    {
     "name": "stdout",
     "output_type": "stream",
     "text": [
      "Fitting took 10.47 seconds\n",
      "The training accuracy is 100.0%\n",
      "The test accuracy is 29.06%\n"
     ]
    }
   ],
   "source": [
    "from sklearn.linear_model import LogisticRegression\n",
    "\n",
    "fit_start = time.time()\n",
    "my_model = LogisticRegression().fit(X_train, y_train)\n",
    "fit_end = time.time()\n",
    "print(f\"Fitting took {round(fit_end - fit_start,2)} seconds\")\n",
    "\n",
    "train_acc = my_model.score(X_train, y_train)\n",
    "test_acc = my_model.score(X_test, y_test)\n",
    "\n",
    "print(f\"The training accuracy is {round(train_acc*100,2)}%\")\n",
    "print(f\"The test accuracy is {round(test_acc*100,2)}%\")"
   ]
  },
  {
   "cell_type": "markdown",
   "metadata": {},
   "source": [
    "Interestingly for the logistic regression I got comparable performance with only $\\frac{1}{3}$ of the run time."
   ]
  },
  {
   "cell_type": "markdown",
   "metadata": {},
   "source": [
    "## Basic Model - Decision Tree\n",
    "\n",
    "As another baseline, I will train a decision tree to see if introducing non-linearity to the learning process produces better results"
   ]
  },
  {
   "cell_type": "code",
   "execution_count": 50,
   "metadata": {},
   "outputs": [
    {
     "name": "stdout",
     "output_type": "stream",
     "text": [
      "(468, 396900) (117, 396900)\n",
      "(468,) (117,)\n"
     ]
    }
   ],
   "source": [
    "X_train, X_test, y_train, y_test = train_test_split(X, y, test_size=0.2, stratify=y.values, random_state=1)\n",
    "print(X_train.shape, X_test.shape)\n",
    "print(y_train.shape, y_test.shape)"
   ]
  },
  {
   "cell_type": "code",
   "execution_count": 51,
   "metadata": {},
   "outputs": [
    {
     "name": "stdout",
     "output_type": "stream",
     "text": [
      "Fitting took 90.73 seconds\n"
     ]
    }
   ],
   "source": [
    "from sklearn.tree import DecisionTreeClassifier\n",
    "\n",
    "fit_start = time.time()\n",
    "# Let's set some regularization otherwise we know the tree will overfit\n",
    "my_model = DecisionTreeClassifier(min_samples_leaf=2).fit(X_train, y_train)\n",
    "fit_end = time.time()\n",
    "print(f\"Fitting took {round(fit_end - fit_start,2)} seconds\")\n",
    "\n",
    "train_acc = my_model.score(X_train, y_train)\n",
    "test_acc = my_model.score(X_test, y_test)"
   ]
  },
  {
   "cell_type": "code",
   "execution_count": 52,
   "metadata": {},
   "outputs": [
    {
     "name": "stdout",
     "output_type": "stream",
     "text": [
      "The training accuracy is 96.79%\n",
      "The test accuracy is 50.43%\n"
     ]
    }
   ],
   "source": [
    "print(f\"The training accuracy is {round(train_acc*100,2)}%\")\n",
    "print(f\"The test accuracy is {round(test_acc*100,2)}%\")"
   ]
  },
  {
   "cell_type": "markdown",
   "metadata": {},
   "source": [
    "Much better results! However, let's see how the model performs using the confusion matrix of the test set\n",
    "\n"
   ]
  },
  {
   "cell_type": "code",
   "execution_count": 53,
   "metadata": {},
   "outputs": [],
   "source": [
    "from sklearn.metrics import plot_confusion_matrix"
   ]
  },
  {
   "cell_type": "code",
   "execution_count": 37,
   "metadata": {},
   "outputs": [
    {
     "data": {
      "image/png": "[encoded data removed]",
      "text/plain": [
       "<Figure size 432x288 with 2 Axes>"
      ]
     },
     "metadata": {
      "needs_background": "light"
     },
     "output_type": "display_data"
    }
   ],
   "source": [
    "#plt.figure(figsize=(10, 10))\n",
    "disp = plot_confusion_matrix(my_model, X_test, y_test,\n",
    "                             display_labels=y_test.drop_duplicates(),\n",
    "                             cmap=plt.cm.Blues,\n",
    "                             normalize='true')\n",
    "disp.ax_.set_title(\"Decision Tree Confusion Matrix\")\n",
    "plt.show()"
   ]
  },
  {
   "cell_type": "code",
   "execution_count": 38,
   "metadata": {},
   "outputs": [
    {
     "data": {
      "image/png": "[encoded data removed]",
      "text/plain": [
       "<Figure size 432x288 with 2 Axes>"
      ]
     },
     "metadata": {
      "needs_background": "light"
     },
     "output_type": "display_data"
    }
   ],
   "source": [
    "disp = plot_confusion_matrix(my_model, X_test, y_test,\n",
    "                             display_labels=y_test.drop_duplicates(),\n",
    "                             cmap=plt.cm.Blues,\n",
    "                             normalize=None)\n",
    "disp.ax_.set_title(\"Decision Tree Confusion Matrix\")\n",
    "plt.show()"
   ]
  },
  {
   "cell_type": "code",
   "execution_count": 39,
   "metadata": {},
   "outputs": [
    {
     "data": {
      "text/plain": [
       "normal        70\n",
       "murmur        26\n",
       "extrastole     9\n",
       "artifact       8\n",
       "extrahls       4\n",
       "Name: label, dtype: int64"
      ]
     },
     "execution_count": 39,
     "metadata": {},
     "output_type": "execute_result"
    }
   ],
   "source": [
    "y_test.value_counts()"
   ]
  },
  {
   "cell_type": "code",
   "execution_count": null,
   "metadata": {},
   "outputs": [],
   "source": []
  }
 ],
 "metadata": {
  "hide_input": false,
  "kernelspec": {
   "display_name": "Python 3",
   "language": "python",
   "name": "python3"
  },
  "language_info": {
   "codemirror_mode": {
    "name": "ipython",
    "version": 3
   },
   "file_extension": ".py",
   "mimetype": "text/x-python",
   "name": "python",
   "nbconvert_exporter": "python",
   "pygments_lexer": "ipython3",
   "version": "3.7.3"
  }
 },
 "nbformat": 4,
 "nbformat_minor": 4
}
