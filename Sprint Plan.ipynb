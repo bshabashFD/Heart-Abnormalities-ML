{
 "cells": [
  {
   "cell_type": "markdown",
   "metadata": {},
   "source": [
    "## Week 7\n",
    "\n",
    "* Clean data folder structure and csv file\n",
    "* Read wave files into numpy arrays and prepare a dataframe\n",
    "* Perform basic EDA on data (dedicate ~30-60 mins) for any immediate abnormalities\n",
    "* Try simple models on raw amplitude data"
   ]
  },
  {
   "cell_type": "markdown",
   "metadata": {},
   "source": [
    "## Week 8\n",
    "\n",
    "* Try more advanced models on raw amplitude data\n",
    "* Research more advanced audio methods and feature extraction\n",
    "* Explore misclassified examples through EDA and see if there is anything unusual about them"
   ]
  },
  {
   "cell_type": "markdown",
   "metadata": {},
   "source": [
    "## Week 9\n",
    "\n",
    "* Employ advanced models on newly transformed data\n",
    "* Compare results on raw data and on modified data, employ statistical tests"
   ]
  },
  {
   "cell_type": "markdown",
   "metadata": {},
   "source": [
    "## Week 10\n",
    "\n",
    "* Employ neural network based models on my data\n",
    "* Compare NN based models to previous approaches using statistics"
   ]
  },
  {
   "cell_type": "markdown",
   "metadata": {},
   "source": [
    "## Week 11\n",
    "\n",
    "* Collect and combine conclusions into a presentation\n",
    "* Prepare final capstone presentation"
   ]
  },
  {
   "cell_type": "markdown",
   "metadata": {},
   "source": [
    "## Week 12\n",
    "\n",
    "* Present project on showcase (if I were a student)\n",
    "* Organize work and make sure it's all presentable"
   ]
  }
 ],
 "metadata": {
  "hide_input": false,
  "kernelspec": {
   "display_name": "Python 3",
   "language": "python",
   "name": "python3"
  },
  "language_info": {
   "codemirror_mode": {
    "name": "ipython",
    "version": 3
   },
   "file_extension": ".py",
   "mimetype": "text/x-python",
   "name": "python",
   "nbconvert_exporter": "python",
   "pygments_lexer": "ipython3",
   "version": "3.7.3"
  }
 },
 "nbformat": 4,
 "nbformat_minor": 4
}
