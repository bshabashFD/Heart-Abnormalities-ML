{
 "cells": [
  {
   "cell_type": "code",
   "execution_count": 1,
   "metadata": {},
   "outputs": [],
   "source": [
    "import numpy as np\n",
    "import pandas as pd\n",
    "import time\n",
    "import librosa\n",
    "import librosa.display\n",
    "\n",
    "import warnings\n",
    "warnings.filterwarnings(\"ignore\")\n",
    "\n",
    "import matplotlib.pyplot as plt\n",
    "%matplotlib inline\n",
    "\n",
    "from boris_util import *"
   ]
  },
  {
   "cell_type": "code",
   "execution_count": 2,
   "metadata": {},
   "outputs": [],
   "source": [
    "from sklearn.model_selection import train_test_split\n",
    "from sklearn.preprocessing import MinMaxScaler, StandardScaler, LabelEncoder\n",
    "from sklearn.decomposition import PCA\n",
    "\n",
    "\n",
    "from sklearn.linear_model import LogisticRegression\n",
    "from sklearn.tree import DecisionTreeClassifier\n",
    "from sklearn.ensemble import GradientBoostingClassifier\n",
    "from sklearn.ensemble import RandomForestClassifier\n",
    "from sklearn.svm import SVC\n",
    "from sklearn.neighbors import KNeighborsClassifier as KNN\n",
    "\n",
    "from sklearn.pipeline import Pipeline\n",
    "\n",
    "from sklearn.metrics import plot_confusion_matrix\n",
    "from sklearn.metrics import classification_report\n",
    "from sklearn.metrics import roc_auc_score\n",
    "from sklearn.model_selection import GridSearchCV"
   ]
  },
  {
   "cell_type": "markdown",
   "metadata": {},
   "source": [
    "# Exploring the Dataset\n",
    "\n",
    "First thing's first, let's load the dataset. I created a new function that loads up the dataset for me and converts it into a pandas dataframe for easy access. For more information on this, please see the `Data Cleaning` notebook"
   ]
  },
  {
   "cell_type": "code",
   "execution_count": 3,
   "metadata": {},
   "outputs": [
    {
     "name": "stdout",
     "output_type": "stream",
     "text": [
      "processed 100.00%\n",
      "(436, 4)\n"
     ]
    },
    {
     "data": {
      "text/html": [
       "<div>\n",
       "<style scoped>\n",
       "    .dataframe tbody tr th:only-of-type {\n",
       "        vertical-align: middle;\n",
       "    }\n",
       "\n",
       "    .dataframe tbody tr th {\n",
       "        vertical-align: top;\n",
       "    }\n",
       "\n",
       "    .dataframe thead th {\n",
       "        text-align: right;\n",
       "    }\n",
       "</style>\n",
       "<table border=\"1\" class=\"dataframe\">\n",
       "  <thead>\n",
       "    <tr style=\"text-align: right;\">\n",
       "      <th></th>\n",
       "      <th>signal</th>\n",
       "      <th>sampling_rate</th>\n",
       "      <th>audio_length</th>\n",
       "      <th>label</th>\n",
       "    </tr>\n",
       "  </thead>\n",
       "  <tbody>\n",
       "    <tr>\n",
       "      <th>0</th>\n",
       "      <td>[2.2960085e-05, -0.00012982322, -0.00018070513...</td>\n",
       "      <td>22050</td>\n",
       "      <td>9.0</td>\n",
       "      <td>artifact</td>\n",
       "    </tr>\n",
       "    <tr>\n",
       "      <th>1</th>\n",
       "      <td>[-1.0927635e-05, 1.0574424e-06, 2.108567e-06, ...</td>\n",
       "      <td>22050</td>\n",
       "      <td>9.0</td>\n",
       "      <td>artifact</td>\n",
       "    </tr>\n",
       "    <tr>\n",
       "      <th>2</th>\n",
       "      <td>[3.728857e-05, -0.0001664555, -7.4023155e-05, ...</td>\n",
       "      <td>22050</td>\n",
       "      <td>9.0</td>\n",
       "      <td>artifact</td>\n",
       "    </tr>\n",
       "    <tr>\n",
       "      <th>3</th>\n",
       "      <td>[-0.0027429417, -0.0066496185, -0.0049779303, ...</td>\n",
       "      <td>22050</td>\n",
       "      <td>9.0</td>\n",
       "      <td>artifact</td>\n",
       "    </tr>\n",
       "    <tr>\n",
       "      <th>4</th>\n",
       "      <td>[0.000106223946, 0.0015002153, 0.0097254915, 0...</td>\n",
       "      <td>22050</td>\n",
       "      <td>9.0</td>\n",
       "      <td>artifact</td>\n",
       "    </tr>\n",
       "  </tbody>\n",
       "</table>\n",
       "</div>"
      ],
      "text/plain": [
       "                                              signal  sampling_rate  \\\n",
       "0  [2.2960085e-05, -0.00012982322, -0.00018070513...          22050   \n",
       "1  [-1.0927635e-05, 1.0574424e-06, 2.108567e-06, ...          22050   \n",
       "2  [3.728857e-05, -0.0001664555, -7.4023155e-05, ...          22050   \n",
       "3  [-0.0027429417, -0.0066496185, -0.0049779303, ...          22050   \n",
       "4  [0.000106223946, 0.0015002153, 0.0097254915, 0...          22050   \n",
       "\n",
       "   audio_length     label  \n",
       "0           9.0  artifact  \n",
       "1           9.0  artifact  \n",
       "2           9.0  artifact  \n",
       "3           9.0  artifact  \n",
       "4           9.0  artifact  "
      ]
     },
     "execution_count": 3,
     "metadata": {},
     "output_type": "execute_result"
    }
   ],
   "source": [
    "dataset = read_and_combine_data('453_923_bundle_archive', read_noisy_data=False)\n",
    "print(dataset.shape)\n",
    "dataset.head()"
   ]
  },
  {
   "cell_type": "markdown",
   "metadata": {},
   "source": [
    "Let's take a look at the class distribution to see if there is any concern of class imbalance"
   ]
  },
  {
   "cell_type": "code",
   "execution_count": 4,
   "metadata": {},
   "outputs": [
    {
     "data": {
      "image/png": "[encoded data removed]",
      "text/plain": [
       "<Figure size 1080x360 with 1 Axes>"
      ]
     },
     "metadata": {
      "needs_background": "light"
     },
     "output_type": "display_data"
    }
   ],
   "source": [
    "label_counts = dataset['label'].value_counts()\n",
    "\n",
    "plt.figure(figsize=(15,5))\n",
    "plt.barh(label_counts.index, label_counts.values)\n",
    "plt.xlabel(\"Value Counts\")\n",
    "plt.ylabel(\"Condition\")\n",
    "plt.title(\"The Distribution of Different Labels in the Dataset\")\n",
    "plt.show()"
   ]
  },
  {
   "cell_type": "markdown",
   "metadata": {},
   "source": [
    "There is certainly an issue of class imbalance here. A naive classifier could guess pretty well by simply guessing \"Normal\" on all the examples"
   ]
  },
  {
   "cell_type": "markdown",
   "metadata": {},
   "source": [
    "## Combine all Abnormalities\n",
    "\n",
    "Let's try a simple example first, we will combine all abnormalities into a single label \"abnormal\". We won't count artifacts in that category"
   ]
  },
  {
   "cell_type": "code",
   "execution_count": 5,
   "metadata": {},
   "outputs": [],
   "source": [
    "def relabel(label):\n",
    "    if (label == \"normal\"):\n",
    "        return \"normal\"\n",
    "    else:\n",
    "        return \"abnormal\"\n",
    "dataset['label'] = dataset['label'].apply(relabel)"
   ]
  },
  {
   "cell_type": "code",
   "execution_count": 6,
   "metadata": {},
   "outputs": [
    {
     "data": {
      "image/png": "[encoded data removed]",
      "text/plain": [
       "<Figure size 1080x360 with 1 Axes>"
      ]
     },
     "metadata": {
      "needs_background": "light"
     },
     "output_type": "display_data"
    }
   ],
   "source": [
    "label_counts = dataset['label'].value_counts()\n",
    "\n",
    "plt.figure(figsize=(15,5))\n",
    "plt.barh(label_counts.index, label_counts.values)\n",
    "plt.xlabel(\"Value Counts\")\n",
    "plt.ylabel(\"Condition\")\n",
    "plt.title(\"The Distribution of Different Labels in the Re-labeled Dataset\")\n",
    "plt.show()"
   ]
  },
  {
   "cell_type": "markdown",
   "metadata": {},
   "source": [
    "Let's split our data now into a simple train/test stratified split"
   ]
  },
  {
   "cell_type": "code",
   "execution_count": 7,
   "metadata": {},
   "outputs": [
    {
     "name": "stdout",
     "output_type": "stream",
     "text": [
      "(305, 4)\n",
      "(131, 4)\n"
     ]
    }
   ],
   "source": [
    "from sklearn.model_selection import train_test_split\n",
    "\n",
    "train_dataset, test_dataset = train_test_split(dataset, test_size=0.3, stratify=dataset['label'], random_state=1)\n",
    "print(train_dataset.shape)\n",
    "print(test_dataset.shape)"
   ]
  },
  {
   "cell_type": "code",
   "execution_count": 8,
   "metadata": {},
   "outputs": [
    {
     "data": {
      "text/html": [
       "<div>\n",
       "<style scoped>\n",
       "    .dataframe tbody tr th:only-of-type {\n",
       "        vertical-align: middle;\n",
       "    }\n",
       "\n",
       "    .dataframe tbody tr th {\n",
       "        vertical-align: top;\n",
       "    }\n",
       "\n",
       "    .dataframe thead th {\n",
       "        text-align: right;\n",
       "    }\n",
       "</style>\n",
       "<table border=\"1\" class=\"dataframe\">\n",
       "  <thead>\n",
       "    <tr style=\"text-align: right;\">\n",
       "      <th></th>\n",
       "      <th>signal</th>\n",
       "      <th>sampling_rate</th>\n",
       "      <th>audio_length</th>\n",
       "      <th>label</th>\n",
       "    </tr>\n",
       "  </thead>\n",
       "  <tbody>\n",
       "    <tr>\n",
       "      <th>302</th>\n",
       "      <td>[-0.014594975, -0.016623363, -0.017930867, -0....</td>\n",
       "      <td>22050</td>\n",
       "      <td>5.025533</td>\n",
       "      <td>normal</td>\n",
       "    </tr>\n",
       "    <tr>\n",
       "      <th>401</th>\n",
       "      <td>[0.00535502, 0.0048318487, 0.0038144102, 0.002...</td>\n",
       "      <td>22050</td>\n",
       "      <td>1.724263</td>\n",
       "      <td>normal</td>\n",
       "    </tr>\n",
       "    <tr>\n",
       "      <th>311</th>\n",
       "      <td>[-0.0009814408, -0.00052338943, 9.0988244e-05,...</td>\n",
       "      <td>22050</td>\n",
       "      <td>3.822766</td>\n",
       "      <td>normal</td>\n",
       "    </tr>\n",
       "    <tr>\n",
       "      <th>346</th>\n",
       "      <td>[-0.007578952, -0.011004641, -0.015165693, -0....</td>\n",
       "      <td>22050</td>\n",
       "      <td>4.312018</td>\n",
       "      <td>normal</td>\n",
       "    </tr>\n",
       "    <tr>\n",
       "      <th>410</th>\n",
       "      <td>[-0.030912954, -0.033952978, -0.035377894, -0....</td>\n",
       "      <td>22050</td>\n",
       "      <td>3.167755</td>\n",
       "      <td>normal</td>\n",
       "    </tr>\n",
       "  </tbody>\n",
       "</table>\n",
       "</div>"
      ],
      "text/plain": [
       "                                                signal  sampling_rate  \\\n",
       "302  [-0.014594975, -0.016623363, -0.017930867, -0....          22050   \n",
       "401  [0.00535502, 0.0048318487, 0.0038144102, 0.002...          22050   \n",
       "311  [-0.0009814408, -0.00052338943, 9.0988244e-05,...          22050   \n",
       "346  [-0.007578952, -0.011004641, -0.015165693, -0....          22050   \n",
       "410  [-0.030912954, -0.033952978, -0.035377894, -0....          22050   \n",
       "\n",
       "     audio_length   label  \n",
       "302      5.025533  normal  \n",
       "401      1.724263  normal  \n",
       "311      3.822766  normal  \n",
       "346      4.312018  normal  \n",
       "410      3.167755  normal  "
      ]
     },
     "execution_count": 8,
     "metadata": {},
     "output_type": "execute_result"
    }
   ],
   "source": [
    "train_dataset.head()"
   ]
  },
  {
   "cell_type": "markdown",
   "metadata": {},
   "source": [
    "## Dataset Augmentation\n",
    "\n",
    "We won't get very far with the examples we have. There aren't very many of them\n",
    "\n",
    "Luckily, we can easily augment the dataset by shifting the data and/or adding some noise"
   ]
  },
  {
   "cell_type": "code",
   "execution_count": 9,
   "metadata": {},
   "outputs": [],
   "source": [
    "DATASET_TARGET = train_dataset.shape[0]\n",
    "#DATASET_TARGET = 2000\n",
    "CV_FOLD = 10"
   ]
  },
  {
   "cell_type": "code",
   "execution_count": 10,
   "metadata": {},
   "outputs": [
    {
     "data": {
      "text/plain": [
       "normal      0.468852\n",
       "abnormal    0.531148\n",
       "Name: label, dtype: float64"
      ]
     },
     "execution_count": 10,
     "metadata": {},
     "output_type": "execute_result"
    }
   ],
   "source": [
    "# find the label ratios\n",
    "inverse_counts = 1/train_dataset['label'].value_counts()\n",
    "probability_counts = inverse_counts/inverse_counts.sum()\n",
    "probability_counts"
   ]
  },
  {
   "cell_type": "code",
   "execution_count": 11,
   "metadata": {},
   "outputs": [],
   "source": [
    "# https://medium.com/@makcedward/data-augmentation-for-audio-76912b01fdf6\n",
    "    \n",
    "def shift_sound(data, sampling_rate, shift_max, shift_direction='both'):\n",
    "    shift = np.random.randint(int(shift_max * data.shape[0]))\n",
    "    if shift_direction == 'right':\n",
    "        shift = -shift\n",
    "    elif shift_direction == 'both':\n",
    "        direction = np.random.randint(0, 2)\n",
    "        if direction == 1:\n",
    "            shift = -shift\n",
    "    augmented_data = np.roll(data, shift)\n",
    "    # Set to silence for heading/ tailing\n",
    "    if shift > 0:\n",
    "        augmented_data = augmented_data[shift:]\n",
    "    else:\n",
    "        augmented_data = augmented_data[:shift]\n",
    "    return augmented_data"
   ]
  },
  {
   "cell_type": "code",
   "execution_count": 12,
   "metadata": {},
   "outputs": [],
   "source": [
    "def make_noise(data, noise_factor):\n",
    "    \n",
    "    noise = np.random.randn(len(data))\n",
    "    augmented_data = data + noise_factor * noise\n",
    "    \n",
    "    \n",
    "    return augmented_data"
   ]
  },
  {
   "cell_type": "code",
   "execution_count": 13,
   "metadata": {},
   "outputs": [],
   "source": [
    "choices = np.random.choice(probability_counts.index, \n",
    "                           p=probability_counts.values, \n",
    "                           size=(DATASET_TARGET,))\n",
    "i = 0\n",
    "while train_dataset.shape[0] < DATASET_TARGET:\n",
    "    choice = choices[i]\n",
    "    available_instances = train_dataset[train_dataset['label'] == choice]\n",
    "    selected_row_position = np.random.randint(available_instances.shape[0])\n",
    "    \n",
    "    selected_row = available_instances.iloc[selected_row_position]\n",
    "    \n",
    "    base_signal = selected_row['signal']\n",
    "    sampling_rate = selected_row['sampling_rate']\n",
    "    \n",
    "    shift_direction = 'both'\n",
    "    new_signal = shift_sound(base_signal, sampling_rate, (np.random.random()*0.3), shift_direction)\n",
    "    \n",
    "        \n",
    "    if (new_signal.shape[0] > 0):\n",
    "        \n",
    "        inject_noise = np.random.random() > 0.5\n",
    "    \n",
    "        if (inject_noise):\n",
    "            new_signal = make_noise(new_signal, 0.01)\n",
    "    \n",
    "        new_series = pd.Series({'signal' :new_signal, 'sampling_rate': sampling_rate, 'label': choice})\n",
    "        train_dataset = train_dataset.append(new_series, ignore_index=True)\n",
    "    \n",
    "        print(train_dataset.shape, end=\"\\r\")\n",
    "    i+= 1"
   ]
  },
  {
   "cell_type": "markdown",
   "metadata": {},
   "source": [
    "Now let's define a class which will convert the signals into Mel spectrograms"
   ]
  },
  {
   "cell_type": "code",
   "execution_count": 14,
   "metadata": {},
   "outputs": [],
   "source": [
    "class MelEncoder:\n",
    "    \n",
    "    '''\n",
    "        This transformer takes an audio signal and employes librosa\n",
    "        to transform the audio signal into a Mel-frequency spectrogram.\n",
    "        \n",
    "        The transformation transforms the audio signal from samples in a \n",
    "        time domain, to frequencies over each time window. The frequencies\n",
    "        are then collected into buckets which are easily distinguished by\n",
    "        human hearing\n",
    "    '''\n",
    "    \n",
    "    def __init__(self, flatten=True, n_fft=2048, hop_length=512, n_mels=128, sampling_rate=22050.0, n_windows=1000, verbose=0):\n",
    "        \n",
    "        \n",
    "        self.n_fft = n_fft\n",
    "        self.hop_length = hop_length\n",
    "        self.n_mels = n_mels\n",
    "        self.sampling_rate = sampling_rate\n",
    "        self.n_windows = n_windows\n",
    "        self.verbose = verbose\n",
    "        \n",
    "        \n",
    "        self.flatten = flatten\n",
    "        \n",
    "    \n",
    "    def fit(self, X, y=None):\n",
    "        '''\n",
    "            This method doesn't do much except initialize\n",
    "        '''\n",
    "        self.longest_signal_length = None\n",
    "        \n",
    "    \n",
    "    \n",
    "    def _create_spectrogram_list(self, X):\n",
    "        \n",
    "        spectrogram_list = []\n",
    "        \n",
    "        \n",
    "        for i, signal in enumerate(X):\n",
    "                mel_spectrogram = self._signal_to_mel_spectrogram(signal)\n",
    "                spectrogram_list.append(mel_spectrogram)\n",
    "                if (self.verbose):\n",
    "                    print(f\"processed: {round(100*i/X.shape[0], 2)}%\", end=\"\\r\")\n",
    "                    \n",
    "                \n",
    "        print(f\"processed: {round(100*i/X.shape[0], 2)}%\")\n",
    "        \n",
    "        return spectrogram_list\n",
    "    \n",
    "    \n",
    "    def _find_longest_signal_length(self, spectrogram_list):\n",
    "        \n",
    "        max_length = 0\n",
    "        for mel_spectrogram in spectrogram_list:\n",
    "            if (mel_spectrogram.shape[1] > max_length):\n",
    "                max_length = mel_spectrogram.shape[1]\n",
    "\n",
    "        return max_length\n",
    "            \n",
    "    def _build_mel_spectrogram_stack(self, spectrogram_list):\n",
    "        \n",
    "        X_transformed = np.zeros((len(spectrogram_list), self.n_mels, self.longest_signal_length))\n",
    "        \n",
    "        for i, mel_spectrogram in enumerate(spectrogram_list):\n",
    "            if (mel_spectrogram.shape[1] <= self.longest_signal_length):\n",
    "                X_transformed[i, :, -mel_spectrogram.shape[1]:] = mel_spectrogram[:, :]\n",
    "            else:\n",
    "                X_transformed[i, :, :] = mel_spectrogram[:, -self.longest_signal_length:]\n",
    "                \n",
    "        return X_transformed\n",
    "    \n",
    "    \n",
    "    def transform(self, X):\n",
    "        \n",
    "        spectrogram_list = self._create_spectrogram_list(X)\n",
    "        \n",
    "        if (self.longest_signal_length is None):\n",
    "            self.longest_signal_length = self._find_longest_signal_length(spectrogram_list)\n",
    "            \n",
    "        X_transformed = self._build_mel_spectrogram_stack(spectrogram_list)\n",
    "        \n",
    "        \n",
    "        if (self.flatten):\n",
    "            return X_transformed.reshape(X_transformed.shape[0], -1)\n",
    "        else:\n",
    "            return X_transformed\n",
    "        \n",
    "        \n",
    "    def fit_transform(self, X, y=None):\n",
    "        return self.fit(X).transform(X)\n",
    "        \n",
    "        \n",
    "        \n",
    "        \n",
    "    # https://towardsdatascience.com/getting-to-know-the-mel-spectrogram-31bca3e2d9d0\n",
    "    def _longest_signal(self, signals):\n",
    "        max_length = 0\n",
    "        for signal in signals:\n",
    "            if (len(signal) > max_length):\n",
    "                max_length = len(signal)\n",
    "\n",
    "        return max_length\n",
    "    \n",
    "    \n",
    "    def _signal_to_mel_spectrogram(self, signal):\n",
    "        \n",
    "        \n",
    "        if (self.n_windows is not None):\n",
    "            hop_length = signal.shape[0]//self.n_windows\n",
    "        else:\n",
    "            hop_length = self.hop_length\n",
    "        S = librosa.feature.melspectrogram(signal, \n",
    "                                           sr=self.sampling_rate, \n",
    "                                           n_fft=self.n_fft, \n",
    "                                           hop_length=hop_length, \n",
    "                                           n_mels=self.n_mels)\n",
    "        S_DB = librosa.power_to_db(S, ref=np.max)\n",
    "        return S_DB"
   ]
  },
  {
   "cell_type": "code",
   "execution_count": 15,
   "metadata": {},
   "outputs": [],
   "source": [
    "my_encoder = MelEncoder(n_mels=128, n_windows=1000, verbose=1)"
   ]
  },
  {
   "cell_type": "code",
   "execution_count": 16,
   "metadata": {},
   "outputs": [],
   "source": [
    "my_encoder.fit(train_dataset['signal'])"
   ]
  },
  {
   "cell_type": "code",
   "execution_count": 17,
   "metadata": {
    "scrolled": true
   },
   "outputs": [
    {
     "name": "stdout",
     "output_type": "stream",
     "text": [
      "processed: 99.67%\n"
     ]
    }
   ],
   "source": [
    "X_train_mel = my_encoder.transform(train_dataset['signal'])"
   ]
  },
  {
   "cell_type": "code",
   "execution_count": 18,
   "metadata": {},
   "outputs": [
    {
     "data": {
      "text/plain": [
       "(305, 134400)"
      ]
     },
     "execution_count": 18,
     "metadata": {},
     "output_type": "execute_result"
    }
   ],
   "source": [
    "X_train_mel.shape"
   ]
  },
  {
   "cell_type": "code",
   "execution_count": 19,
   "metadata": {
    "scrolled": true
   },
   "outputs": [
    {
     "name": "stdout",
     "output_type": "stream",
     "text": [
      "processed: 99.24%\n"
     ]
    }
   ],
   "source": [
    "X_test_mel = my_encoder.transform(test_dataset['signal'])"
   ]
  },
  {
   "cell_type": "code",
   "execution_count": 20,
   "metadata": {},
   "outputs": [
    {
     "data": {
      "text/plain": [
       "(131, 134400)"
      ]
     },
     "execution_count": 20,
     "metadata": {},
     "output_type": "execute_result"
    }
   ],
   "source": [
    "X_test_mel.shape"
   ]
  },
  {
   "cell_type": "markdown",
   "metadata": {},
   "source": [
    "## PCA"
   ]
  },
  {
   "cell_type": "code",
   "execution_count": 21,
   "metadata": {},
   "outputs": [],
   "source": [
    "from sklearn.preprocessing import MinMaxScaler"
   ]
  },
  {
   "cell_type": "code",
   "execution_count": 22,
   "metadata": {},
   "outputs": [
    {
     "name": "stdout",
     "output_type": "stream",
     "text": [
      "CPU times: user 454 ms, sys: 169 ms, total: 623 ms\n",
      "Wall time: 622 ms\n"
     ]
    }
   ],
   "source": [
    "%%time \n",
    "my_mmscaler = MinMaxScaler()\n",
    "\n",
    "X_train_mel = my_mmscaler.fit_transform(X_train_mel)\n",
    "X_test_mel = my_mmscaler.transform(X_test_mel)"
   ]
  },
  {
   "cell_type": "code",
   "execution_count": 23,
   "metadata": {},
   "outputs": [
    {
     "data": {
      "text/plain": [
       "(305, 134400)"
      ]
     },
     "execution_count": 23,
     "metadata": {},
     "output_type": "execute_result"
    }
   ],
   "source": [
    "X_train_mel = X_train_mel\n",
    "X_train_mel.shape"
   ]
  },
  {
   "cell_type": "code",
   "execution_count": 24,
   "metadata": {},
   "outputs": [
    {
     "name": "stdout",
     "output_type": "stream",
     "text": [
      "CPU times: user 1min 47s, sys: 5.58 s, total: 1min 52s\n",
      "Wall time: 14.5 s\n"
     ]
    },
    {
     "data": {
      "text/plain": [
       "PCA(n_components=305)"
      ]
     },
     "execution_count": 24,
     "metadata": {},
     "output_type": "execute_result"
    }
   ],
   "source": [
    "%%time \n",
    "\n",
    "component_number = min(*X_train_mel.shape)\n",
    "my_pca = PCA(n_components=component_number, svd_solver='auto')\n",
    "my_pca.fit(X_train_mel)"
   ]
  },
  {
   "cell_type": "code",
   "execution_count": 25,
   "metadata": {},
   "outputs": [
    {
     "data": {
      "image/png": "[encoded data removed]",
      "text/plain": [
       "<Figure size 1080x360 with 1 Axes>"
      ]
     },
     "metadata": {
      "needs_background": "light"
     },
     "output_type": "display_data"
    }
   ],
   "source": [
    "plt.figure(figsize=(15,5))\n",
    "plt.plot(my_pca.explained_variance_ratio_.cumsum())\n",
    "plt.show()"
   ]
  },
  {
   "cell_type": "code",
   "execution_count": 26,
   "metadata": {},
   "outputs": [],
   "source": [
    "X_train_mel = my_pca.transform(X_train_mel)\n",
    "X_test_mel = my_pca.transform(X_test_mel)"
   ]
  },
  {
   "cell_type": "code",
   "execution_count": 27,
   "metadata": {},
   "outputs": [
    {
     "data": {
      "text/plain": [
       "(305, 305)"
      ]
     },
     "execution_count": 27,
     "metadata": {},
     "output_type": "execute_result"
    }
   ],
   "source": [
    "X_train_mel.shape"
   ]
  },
  {
   "cell_type": "code",
   "execution_count": 28,
   "metadata": {},
   "outputs": [
    {
     "data": {
      "text/plain": [
       "(131, 305)"
      ]
     },
     "execution_count": 28,
     "metadata": {},
     "output_type": "execute_result"
    }
   ],
   "source": [
    "X_test_mel.shape"
   ]
  },
  {
   "cell_type": "markdown",
   "metadata": {},
   "source": [
    "## Basic Model - Logistic Regression\n",
    "\n",
    "Let's start by establishing a baseline performance. I am just going to load the raw audio data as features (where each feature is an audio measurement) and see how well a simple logistic regression (linear model) and decision tree (non-linear model) will perform"
   ]
  },
  {
   "cell_type": "code",
   "execution_count": 29,
   "metadata": {},
   "outputs": [
    {
     "name": "stdout",
     "output_type": "stream",
     "text": [
      "(305, 305) (131, 305)\n",
      "(305,) (131,)\n"
     ]
    }
   ],
   "source": [
    "condition_label_encoder = LabelEncoder()\n",
    "\n",
    "\n",
    "y_train = condition_label_encoder.fit_transform(train_dataset['label'])[:X_train_mel.shape[0]]\n",
    "y_test = condition_label_encoder.transform(test_dataset['label'])\n",
    "\n",
    "print(X_train_mel.shape, X_test_mel.shape)\n",
    "print(y_train.shape, y_test.shape)"
   ]
  },
  {
   "cell_type": "code",
   "execution_count": 30,
   "metadata": {},
   "outputs": [
    {
     "name": "stdout",
     "output_type": "stream",
     "text": [
      "CPU times: user 410 ms, sys: 40.6 ms, total: 451 ms\n",
      "Wall time: 50.5 ms\n"
     ]
    }
   ],
   "source": [
    "%%time\n",
    "\n",
    "my_logit = LogisticRegression(random_state=1).fit(X_train_mel, y_train)\n",
    "train_acc = my_logit.score(X_train_mel, y_train)\n",
    "test_acc = my_logit.score(X_test_mel, y_test)"
   ]
  },
  {
   "cell_type": "code",
   "execution_count": 31,
   "metadata": {},
   "outputs": [],
   "source": [
    "y_proba_train = my_logit.predict_proba(X_train_mel)[:, 1]\n",
    "y_proba_test = my_logit.predict_proba(X_test_mel)[:, 1]\n",
    "\n",
    "\n",
    "train_auc = roc_auc_score(y_train, y_proba_train)\n",
    "test_auc = roc_auc_score(y_test, y_proba_test)"
   ]
  },
  {
   "cell_type": "code",
   "execution_count": 32,
   "metadata": {},
   "outputs": [
    {
     "name": "stdout",
     "output_type": "stream",
     "text": [
      "The training accuracy is 100.0%\n",
      "The test accuracy is 56.49%\n"
     ]
    }
   ],
   "source": [
    "print(f\"The training accuracy is {round(train_acc*100,2)}%\")\n",
    "print(f\"The test accuracy is {round(test_acc*100,2)}%\")"
   ]
  },
  {
   "cell_type": "code",
   "execution_count": 33,
   "metadata": {},
   "outputs": [
    {
     "name": "stdout",
     "output_type": "stream",
     "text": [
      "The training AUC is 100.0%\n",
      "The test AUC is 61.92%\n"
     ]
    }
   ],
   "source": [
    "print(f\"The training AUC is {round(train_auc*100,2)}%\")\n",
    "print(f\"The test AUC is {round(test_auc*100,2)}%\")"
   ]
  },
  {
   "cell_type": "code",
   "execution_count": 34,
   "metadata": {},
   "outputs": [],
   "source": [
    "y_proba = my_logit.predict_proba(X_test_mel)"
   ]
  },
  {
   "cell_type": "code",
   "execution_count": 35,
   "metadata": {},
   "outputs": [
    {
     "data": {
      "image/png": "[encoded data removed]",
      "text/plain": [
       "<Figure size 1080x360 with 1 Axes>"
      ]
     },
     "metadata": {
      "needs_background": "light"
     },
     "output_type": "display_data"
    }
   ],
   "source": [
    "plt.figure(figsize=(15, 5))\n",
    "plt.scatter(y_proba[:, 1], y_test)\n",
    "plt.show();"
   ]
  },
  {
   "cell_type": "code",
   "execution_count": 36,
   "metadata": {},
   "outputs": [],
   "source": [
    "def boris_score(y_true, y_positive_proba):\n",
    "    \n",
    "    positive_pure_points = 0\n",
    "    negative_pure_points = 0\n",
    "    for threshold in np.unique(y_positive_proba):\n",
    "        \n",
    "        under_threshold = y_true[y_positive_proba < threshold]\n",
    "        if (np.sum(under_threshold) == 0):\n",
    "            if (len(under_threshold) > negative_pure_points):\n",
    "                negative_pure_points = len(under_threshold)\n",
    "                \n",
    "        over_threshold = y_true[y_positive_proba >= threshold]\n",
    "        if (np.sum(over_threshold) == len(over_threshold)):\n",
    "            if (len(over_threshold) > positive_pure_points):\n",
    "                positive_pure_points = len(over_threshold)\n",
    "                \n",
    "    return positive_pure_points + negative_pure_points\n",
    "        \n",
    "        "
   ]
  },
  {
   "cell_type": "code",
   "execution_count": 37,
   "metadata": {},
   "outputs": [],
   "source": [
    "from sklearn.metrics import make_scorer\n",
    "score = make_scorer(boris_score, needs_proba=True)"
   ]
  },
  {
   "cell_type": "code",
   "execution_count": 38,
   "metadata": {},
   "outputs": [
    {
     "data": {
      "text/plain": [
       "8"
      ]
     },
     "execution_count": 38,
     "metadata": {},
     "output_type": "execute_result"
    }
   ],
   "source": [
    "score(my_logit, X_test_mel, y_test)"
   ]
  },
  {
   "cell_type": "markdown",
   "metadata": {},
   "source": [
    "Extremely suspicious results. There is clearly a very large sign of overfitting here. Let's explore how the logistic regression makes decisions.\n",
    "\n",
    "Let's plot the coefficients as if they were an audio mask (which is really what they end up becoming)."
   ]
  },
  {
   "cell_type": "code",
   "execution_count": 39,
   "metadata": {
    "scrolled": false
   },
   "outputs": [
    {
     "data": {
      "image/png": "[encoded data removed]",
      "text/plain": [
       "<Figure size 504x504 with 2 Axes>"
      ]
     },
     "metadata": {
      "needs_background": "light"
     },
     "output_type": "display_data"
    }
   ],
   "source": [
    "figure, ax = plt.subplots(figsize=(7, 7))\n",
    "disp = plot_confusion_matrix(my_logit, X_test_mel, y_test,\n",
    "                             display_labels = condition_label_encoder.classes_,\n",
    "                             cmap=plt.cm.Blues,\n",
    "                             normalize=None,\n",
    "                             ax=ax)\n",
    "disp.ax_.set_title(\"Logit Confusion Matrix\")\n",
    "plt.show()"
   ]
  },
  {
   "cell_type": "code",
   "execution_count": 40,
   "metadata": {},
   "outputs": [
    {
     "data": {
      "image/png": "[encoded data removed]",
      "text/plain": [
       "<Figure size 504x504 with 2 Axes>"
      ]
     },
     "metadata": {
      "needs_background": "light"
     },
     "output_type": "display_data"
    }
   ],
   "source": [
    "figure, ax = plt.subplots(figsize=(7, 7))\n",
    "disp = plot_confusion_matrix(my_logit, X_test_mel, y_test,\n",
    "                             display_labels=condition_label_encoder.classes_,\n",
    "                             cmap=plt.cm.Blues,\n",
    "                             normalize='pred',\n",
    "                             ax=ax)\n",
    "disp.ax_.set_title(\"Logit Confusion Matrix\")\n",
    "plt.show()"
   ]
  },
  {
   "cell_type": "code",
   "execution_count": 41,
   "metadata": {},
   "outputs": [],
   "source": [
    "param_grid = {'penalty': ['l1', 'l2'],\n",
    "              'C': [2**i for i in range(-17, 18)]}\n",
    "my_estimator = LogisticRegression(solver='saga')\n",
    "my_logit_gs = GridSearchCV(my_estimator, param_grid, cv=CV_FOLD, verbose=1, n_jobs=3, scoring=score)"
   ]
  },
  {
   "cell_type": "code",
   "execution_count": 42,
   "metadata": {
    "scrolled": true
   },
   "outputs": [
    {
     "name": "stdout",
     "output_type": "stream",
     "text": [
      "Fitting 10 folds for each of 70 candidates, totalling 700 fits\n"
     ]
    },
    {
     "name": "stderr",
     "output_type": "stream",
     "text": [
      "[Parallel(n_jobs=3)]: Using backend LokyBackend with 3 concurrent workers.\n",
      "[Parallel(n_jobs=3)]: Done 185 tasks      | elapsed:    3.8s\n",
      "[Parallel(n_jobs=3)]: Done 491 tasks      | elapsed:   14.1s\n"
     ]
    },
    {
     "name": "stdout",
     "output_type": "stream",
     "text": [
      "CPU times: user 1.08 s, sys: 158 ms, total: 1.23 s\n",
      "Wall time: 22.5 s\n"
     ]
    },
    {
     "name": "stderr",
     "output_type": "stream",
     "text": [
      "[Parallel(n_jobs=3)]: Done 700 out of 700 | elapsed:   22.3s finished\n"
     ]
    },
    {
     "data": {
      "text/plain": [
       "GridSearchCV(cv=10, estimator=LogisticRegression(solver='saga'), n_jobs=3,\n",
       "             param_grid={'C': [7.62939453125e-06, 1.52587890625e-05,\n",
       "                               3.0517578125e-05, 6.103515625e-05,\n",
       "                               0.0001220703125, 0.000244140625, 0.00048828125,\n",
       "                               0.0009765625, 0.001953125, 0.00390625, 0.0078125,\n",
       "                               0.015625, 0.03125, 0.0625, 0.125, 0.25, 0.5, 1,\n",
       "                               2, 4, 8, 16, 32, 64, 128, 256, 512, 1024, 2048,\n",
       "                               4096, ...],\n",
       "                         'penalty': ['l1', 'l2']},\n",
       "             scoring=make_scorer(boris_score, needs_proba=True), verbose=1)"
      ]
     },
     "execution_count": 42,
     "metadata": {},
     "output_type": "execute_result"
    }
   ],
   "source": [
    "%%time\n",
    "my_logit_gs.fit(X_train_mel, y_train);"
   ]
  },
  {
   "cell_type": "code",
   "execution_count": 43,
   "metadata": {},
   "outputs": [
    {
     "data": {
      "text/plain": [
       "{'C': 0.00048828125, 'penalty': 'l2'}"
      ]
     },
     "execution_count": 43,
     "metadata": {},
     "output_type": "execute_result"
    }
   ],
   "source": [
    "my_logit_gs.best_params_"
   ]
  },
  {
   "cell_type": "code",
   "execution_count": 44,
   "metadata": {},
   "outputs": [],
   "source": [
    "train_acc = my_logit_gs.score(X_train_mel, y_train)\n",
    "test_acc = my_logit_gs.score(X_test_mel, y_test)"
   ]
  },
  {
   "cell_type": "code",
   "execution_count": 45,
   "metadata": {},
   "outputs": [
    {
     "name": "stdout",
     "output_type": "stream",
     "text": [
      "The training accuracy is 4700%\n",
      "The test accuracy is 1600%\n"
     ]
    }
   ],
   "source": [
    "print(f\"The training accuracy is {round(train_acc*100,2)}%\")\n",
    "print(f\"The test accuracy is {round(test_acc*100,2)}%\")"
   ]
  },
  {
   "cell_type": "code",
   "execution_count": 46,
   "metadata": {},
   "outputs": [],
   "source": [
    "y_proba_train = my_logit_gs.predict_proba(X_train_mel)[:, 1]\n",
    "y_proba_test = my_logit_gs.predict_proba(X_test_mel)[:, 1]\n",
    "\n",
    "\n",
    "train_auc = roc_auc_score(y_train, y_proba_train)\n",
    "test_auc = roc_auc_score(y_test, y_proba_test)"
   ]
  },
  {
   "cell_type": "code",
   "execution_count": 47,
   "metadata": {},
   "outputs": [
    {
     "name": "stdout",
     "output_type": "stream",
     "text": [
      "The training AUC is 83.64%\n",
      "The test AUC is 73.05%\n"
     ]
    }
   ],
   "source": [
    "print(f\"The training AUC is {round(train_auc*100,2)}%\")\n",
    "print(f\"The test AUC is {round(test_auc*100,2)}%\")"
   ]
  },
  {
   "cell_type": "code",
   "execution_count": 48,
   "metadata": {
    "scrolled": false
   },
   "outputs": [
    {
     "data": {
      "image/png": "[encoded data removed]",
      "text/plain": [
       "<Figure size 504x504 with 2 Axes>"
      ]
     },
     "metadata": {
      "needs_background": "light"
     },
     "output_type": "display_data"
    }
   ],
   "source": [
    "figure, ax = plt.subplots(figsize=(7, 7))\n",
    "disp = plot_confusion_matrix(my_logit_gs, X_test_mel, y_test,\n",
    "                             display_labels = condition_label_encoder.classes_,\n",
    "                             cmap=plt.cm.Blues,\n",
    "                             normalize=None,\n",
    "                             ax=ax)\n",
    "disp.ax_.set_title(\"Logit Confusion Matrix\")\n",
    "plt.show()"
   ]
  },
  {
   "cell_type": "code",
   "execution_count": 49,
   "metadata": {},
   "outputs": [
    {
     "data": {
      "image/png": "[encoded data removed]",
      "text/plain": [
       "<Figure size 504x504 with 2 Axes>"
      ]
     },
     "metadata": {
      "needs_background": "light"
     },
     "output_type": "display_data"
    }
   ],
   "source": [
    "figure, ax = plt.subplots(figsize=(7, 7))\n",
    "disp = plot_confusion_matrix(my_logit_gs, X_test_mel, y_test,\n",
    "                             display_labels=condition_label_encoder.classes_,\n",
    "                             cmap=plt.cm.Blues,\n",
    "                             normalize='pred',\n",
    "                             ax=ax)\n",
    "disp.ax_.set_title(\"Logit Confusion Matrix\")\n",
    "plt.show()"
   ]
  },
  {
   "cell_type": "code",
   "execution_count": 50,
   "metadata": {},
   "outputs": [
    {
     "name": "stdout",
     "output_type": "stream",
     "text": [
      "              precision    recall  f1-score   support\n",
      "\n",
      "           0       0.67      0.69      0.68        62\n",
      "           1       0.72      0.70      0.71        69\n",
      "\n",
      "    accuracy                           0.69       131\n",
      "   macro avg       0.69      0.69      0.69       131\n",
      "weighted avg       0.70      0.69      0.69       131\n",
      "\n"
     ]
    }
   ],
   "source": [
    "print(classification_report(y_test, my_logit_gs.predict(X_test_mel)))"
   ]
  },
  {
   "cell_type": "code",
   "execution_count": 51,
   "metadata": {},
   "outputs": [],
   "source": [
    "y_proba = my_logit_gs.predict_proba(X_test_mel)"
   ]
  },
  {
   "cell_type": "code",
   "execution_count": 52,
   "metadata": {},
   "outputs": [
    {
     "data": {
      "image/png": "[encoded data removed]",
      "text/plain": [
       "<Figure size 1080x360 with 1 Axes>"
      ]
     },
     "metadata": {
      "needs_background": "light"
     },
     "output_type": "display_data"
    }
   ],
   "source": [
    "plt.figure(figsize=(15, 5))\n",
    "plt.scatter(y_proba[:, 1], y_test)\n",
    "plt.show();"
   ]
  },
  {
   "cell_type": "markdown",
   "metadata": {},
   "source": [
    "### Let's look at the examples that were misclassified "
   ]
  },
  {
   "cell_type": "code",
   "execution_count": 53,
   "metadata": {},
   "outputs": [
    {
     "data": {
      "text/html": [
       "<div>\n",
       "<style scoped>\n",
       "    .dataframe tbody tr th:only-of-type {\n",
       "        vertical-align: middle;\n",
       "    }\n",
       "\n",
       "    .dataframe tbody tr th {\n",
       "        vertical-align: top;\n",
       "    }\n",
       "\n",
       "    .dataframe thead th {\n",
       "        text-align: right;\n",
       "    }\n",
       "</style>\n",
       "<table border=\"1\" class=\"dataframe\">\n",
       "  <thead>\n",
       "    <tr style=\"text-align: right;\">\n",
       "      <th></th>\n",
       "      <th>signal</th>\n",
       "      <th>sampling_rate</th>\n",
       "      <th>audio_length</th>\n",
       "      <th>label</th>\n",
       "    </tr>\n",
       "  </thead>\n",
       "  <tbody>\n",
       "    <tr>\n",
       "      <th>426</th>\n",
       "      <td>[-0.029129596, -0.03262708, -0.034381352, -0.0...</td>\n",
       "      <td>22050</td>\n",
       "      <td>2.581270</td>\n",
       "      <td>normal</td>\n",
       "    </tr>\n",
       "    <tr>\n",
       "      <th>328</th>\n",
       "      <td>[0.0013529711, 0.0024457676, 0.003745941, 0.00...</td>\n",
       "      <td>22050</td>\n",
       "      <td>2.217778</td>\n",
       "      <td>normal</td>\n",
       "    </tr>\n",
       "    <tr>\n",
       "      <th>256</th>\n",
       "      <td>[0.10968155, 0.1198264, 0.124032594, 0.1228437...</td>\n",
       "      <td>22050</td>\n",
       "      <td>5.156508</td>\n",
       "      <td>normal</td>\n",
       "    </tr>\n",
       "    <tr>\n",
       "      <th>247</th>\n",
       "      <td>[-0.0041752537, -0.0053787753, -0.0064964327, ...</td>\n",
       "      <td>22050</td>\n",
       "      <td>3.761542</td>\n",
       "      <td>normal</td>\n",
       "    </tr>\n",
       "    <tr>\n",
       "      <th>64</th>\n",
       "      <td>[0.008199658, 0.0116692, 0.009676605, 0.010819...</td>\n",
       "      <td>22050</td>\n",
       "      <td>9.000000</td>\n",
       "      <td>abnormal</td>\n",
       "    </tr>\n",
       "    <tr>\n",
       "      <th>...</th>\n",
       "      <td>...</td>\n",
       "      <td>...</td>\n",
       "      <td>...</td>\n",
       "      <td>...</td>\n",
       "    </tr>\n",
       "    <tr>\n",
       "      <th>374</th>\n",
       "      <td>[-0.021742398, -0.02307921, -0.023118906, -0.0...</td>\n",
       "      <td>22050</td>\n",
       "      <td>1.233288</td>\n",
       "      <td>normal</td>\n",
       "    </tr>\n",
       "    <tr>\n",
       "      <th>363</th>\n",
       "      <td>[-0.010866927, -0.011477671, -0.011558568, -0....</td>\n",
       "      <td>22050</td>\n",
       "      <td>2.369751</td>\n",
       "      <td>normal</td>\n",
       "    </tr>\n",
       "    <tr>\n",
       "      <th>86</th>\n",
       "      <td>[-0.00061363465, -0.00093659124, -0.0008520273...</td>\n",
       "      <td>22050</td>\n",
       "      <td>7.935556</td>\n",
       "      <td>abnormal</td>\n",
       "    </tr>\n",
       "    <tr>\n",
       "      <th>71</th>\n",
       "      <td>[0.01639377, 0.026940092, 0.02657546, 0.029489...</td>\n",
       "      <td>22050</td>\n",
       "      <td>7.935556</td>\n",
       "      <td>abnormal</td>\n",
       "    </tr>\n",
       "    <tr>\n",
       "      <th>180</th>\n",
       "      <td>[0.030754091, 0.03522011, 0.038546264, 0.04074...</td>\n",
       "      <td>22050</td>\n",
       "      <td>16.960272</td>\n",
       "      <td>abnormal</td>\n",
       "    </tr>\n",
       "  </tbody>\n",
       "</table>\n",
       "<p>91 rows × 4 columns</p>\n",
       "</div>"
      ],
      "text/plain": [
       "                                                signal  sampling_rate  \\\n",
       "426  [-0.029129596, -0.03262708, -0.034381352, -0.0...          22050   \n",
       "328  [0.0013529711, 0.0024457676, 0.003745941, 0.00...          22050   \n",
       "256  [0.10968155, 0.1198264, 0.124032594, 0.1228437...          22050   \n",
       "247  [-0.0041752537, -0.0053787753, -0.0064964327, ...          22050   \n",
       "64   [0.008199658, 0.0116692, 0.009676605, 0.010819...          22050   \n",
       "..                                                 ...            ...   \n",
       "374  [-0.021742398, -0.02307921, -0.023118906, -0.0...          22050   \n",
       "363  [-0.010866927, -0.011477671, -0.011558568, -0....          22050   \n",
       "86   [-0.00061363465, -0.00093659124, -0.0008520273...          22050   \n",
       "71   [0.01639377, 0.026940092, 0.02657546, 0.029489...          22050   \n",
       "180  [0.030754091, 0.03522011, 0.038546264, 0.04074...          22050   \n",
       "\n",
       "     audio_length     label  \n",
       "426      2.581270    normal  \n",
       "328      2.217778    normal  \n",
       "256      5.156508    normal  \n",
       "247      3.761542    normal  \n",
       "64       9.000000  abnormal  \n",
       "..            ...       ...  \n",
       "374      1.233288    normal  \n",
       "363      2.369751    normal  \n",
       "86       7.935556  abnormal  \n",
       "71       7.935556  abnormal  \n",
       "180     16.960272  abnormal  \n",
       "\n",
       "[91 rows x 4 columns]"
      ]
     },
     "execution_count": 53,
     "metadata": {},
     "output_type": "execute_result"
    }
   ],
   "source": [
    "misclassified_examples = test_dataset.loc[y_test == my_logit_gs.predict(X_test_mel)]\n",
    "misclassified_examples"
   ]
  },
  {
   "cell_type": "code",
   "execution_count": 54,
   "metadata": {},
   "outputs": [
    {
     "data": {
      "text/plain": [
       "[<matplotlib.lines.Line2D at 0x186041430>]"
      ]
     },
     "execution_count": 54,
     "metadata": {},
     "output_type": "execute_result"
    },
    {
     "data": {
      "image/png": "[encoded data removed]",
      "text/plain": [
       "<Figure size 432x288 with 1 Axes>"
      ]
     },
     "metadata": {
      "needs_background": "light"
     },
     "output_type": "display_data"
    }
   ],
   "source": [
    "plt.plot(misclassified_examples.loc[426, 'signal'])"
   ]
  },
  {
   "cell_type": "code",
   "execution_count": 55,
   "metadata": {},
   "outputs": [
    {
     "data": {
      "text/plain": [
       "[<matplotlib.lines.Line2D at 0x1961fa5e0>]"
      ]
     },
     "execution_count": 55,
     "metadata": {},
     "output_type": "execute_result"
    },
    {
     "data": {
      "image/png": "[encoded data removed]",
      "text/plain": [
       "<Figure size 432x288 with 1 Axes>"
      ]
     },
     "metadata": {
      "needs_background": "light"
     },
     "output_type": "display_data"
    }
   ],
   "source": [
    "plt.plot(misclassified_examples.loc[64, 'signal'])"
   ]
  },
  {
   "cell_type": "markdown",
   "metadata": {},
   "source": [
    "## Basic Model - Support Vector Machine\n",
    "\n",
    "Let's start by establishing a baseline performance. I am just going to load the raw audio data as features (where each feature is an audio measurement) and see how well a simple logistic regression (linear model) and decision tree (non-linear model) will perform"
   ]
  },
  {
   "cell_type": "code",
   "execution_count": 56,
   "metadata": {},
   "outputs": [
    {
     "name": "stdout",
     "output_type": "stream",
     "text": [
      "(305, 305) (131, 305)\n",
      "(305,) (131,)\n"
     ]
    }
   ],
   "source": [
    "condition_label_encoder = LabelEncoder()\n",
    "\n",
    "\n",
    "y_train = condition_label_encoder.fit_transform(train_dataset['label'])[:X_train_mel.shape[0]]\n",
    "y_test = condition_label_encoder.transform(test_dataset['label'])\n",
    "\n",
    "print(X_train_mel.shape, X_test_mel.shape)\n",
    "print(y_train.shape, y_test.shape)"
   ]
  },
  {
   "cell_type": "code",
   "execution_count": 57,
   "metadata": {},
   "outputs": [
    {
     "name": "stdout",
     "output_type": "stream",
     "text": [
      "CPU times: user 205 ms, sys: 1.98 ms, total: 207 ms\n",
      "Wall time: 206 ms\n"
     ]
    }
   ],
   "source": [
    "%%time\n",
    "\n",
    "my_svm = SVC(random_state=1, max_iter=1000, probability=True).fit(X_train_mel, y_train)\n",
    "train_acc = my_svm.score(X_train_mel, y_train)\n",
    "test_acc = my_svm.score(X_test_mel, y_test)"
   ]
  },
  {
   "cell_type": "code",
   "execution_count": 58,
   "metadata": {},
   "outputs": [
    {
     "name": "stdout",
     "output_type": "stream",
     "text": [
      "The training accuracy is 78.69%\n",
      "The test accuracy is 71.76%\n"
     ]
    }
   ],
   "source": [
    "print(f\"The training accuracy is {round(train_acc*100,2)}%\")\n",
    "print(f\"The test accuracy is {round(test_acc*100,2)}%\")"
   ]
  },
  {
   "cell_type": "code",
   "execution_count": 69,
   "metadata": {},
   "outputs": [],
   "source": [
    "param_grid = {'C': [10**i for i in range(-7, 8)],\n",
    "              'kernel': ['poly', 'rbf', 'sigmoid', 'linear']}\n",
    "my_estimator = SVC(max_iter=1000, probability=True)\n",
    "my_svm_gs = GridSearchCV(my_estimator, param_grid, cv=CV_FOLD, verbose=1, n_jobs=3, scoring=score)"
   ]
  },
  {
   "cell_type": "code",
   "execution_count": 70,
   "metadata": {
    "scrolled": true
   },
   "outputs": [
    {
     "name": "stdout",
     "output_type": "stream",
     "text": [
      "Fitting 10 folds for each of 60 candidates, totalling 600 fits\n"
     ]
    },
    {
     "name": "stderr",
     "output_type": "stream",
     "text": [
      "[Parallel(n_jobs=3)]: Using backend LokyBackend with 3 concurrent workers.\n",
      "[Parallel(n_jobs=3)]: Done  82 tasks      | elapsed:    3.7s\n",
      "[Parallel(n_jobs=3)]: Done 382 tasks      | elapsed:   15.9s\n"
     ]
    },
    {
     "name": "stdout",
     "output_type": "stream",
     "text": [
      "CPU times: user 779 ms, sys: 67.2 ms, total: 847 ms\n",
      "Wall time: 23.8 s\n"
     ]
    },
    {
     "name": "stderr",
     "output_type": "stream",
     "text": [
      "[Parallel(n_jobs=3)]: Done 600 out of 600 | elapsed:   23.6s finished\n"
     ]
    },
    {
     "data": {
      "text/plain": [
       "GridSearchCV(cv=10, estimator=SVC(max_iter=1000, probability=True), n_jobs=3,\n",
       "             param_grid={'C': [1e-07, 1e-06, 1e-05, 0.0001, 0.001, 0.01, 0.1, 1,\n",
       "                               10, 100, 1000, 10000, 100000, 1000000,\n",
       "                               10000000],\n",
       "                         'kernel': ['poly', 'rbf', 'sigmoid', 'linear']},\n",
       "             scoring=make_scorer(boris_score, needs_proba=True), verbose=1)"
      ]
     },
     "execution_count": 70,
     "metadata": {},
     "output_type": "execute_result"
    }
   ],
   "source": [
    "%%time\n",
    "my_svm_gs.fit(X_train_mel, y_train);"
   ]
  },
  {
   "cell_type": "code",
   "execution_count": 71,
   "metadata": {},
   "outputs": [
    {
     "data": {
      "text/plain": [
       "{'C': 100, 'kernel': 'rbf'}"
      ]
     },
     "execution_count": 71,
     "metadata": {},
     "output_type": "execute_result"
    }
   ],
   "source": [
    "my_svm_gs.best_params_"
   ]
  },
  {
   "cell_type": "code",
   "execution_count": 72,
   "metadata": {},
   "outputs": [],
   "source": [
    "train_acc = my_svm_gs.score(X_train_mel, y_train)\n",
    "test_acc = my_svm_gs.score(X_test_mel, y_test)"
   ]
  },
  {
   "cell_type": "code",
   "execution_count": 73,
   "metadata": {},
   "outputs": [
    {
     "name": "stdout",
     "output_type": "stream",
     "text": [
      "The training accuracy is 30500%\n",
      "The test accuracy is 2100%\n"
     ]
    }
   ],
   "source": [
    "print(f\"The training accuracy is {round(train_acc*100,2)}%\")\n",
    "print(f\"The test accuracy is {round(test_acc*100,2)}%\")"
   ]
  },
  {
   "cell_type": "code",
   "execution_count": 74,
   "metadata": {
    "scrolled": false
   },
   "outputs": [
    {
     "data": {
      "image/png": "[encoded data removed]",
      "text/plain": [
       "<Figure size 504x504 with 2 Axes>"
      ]
     },
     "metadata": {
      "needs_background": "light"
     },
     "output_type": "display_data"
    }
   ],
   "source": [
    "figure, ax = plt.subplots(figsize=(7, 7))\n",
    "disp = plot_confusion_matrix(my_svm_gs, X_test_mel, y_test,\n",
    "                             display_labels = condition_label_encoder.classes_,\n",
    "                             cmap=plt.cm.Blues,\n",
    "                             normalize=None,\n",
    "                             ax=ax)\n",
    "disp.ax_.set_title(\"Logit Confusion Matrix\")\n",
    "plt.show()"
   ]
  },
  {
   "cell_type": "code",
   "execution_count": 75,
   "metadata": {},
   "outputs": [
    {
     "data": {
      "image/png": "[encoded data removed]",
      "text/plain": [
       "<Figure size 504x504 with 2 Axes>"
      ]
     },
     "metadata": {
      "needs_background": "light"
     },
     "output_type": "display_data"
    }
   ],
   "source": [
    "figure, ax = plt.subplots(figsize=(7, 7))\n",
    "disp = plot_confusion_matrix(my_svm_gs, X_test_mel, y_test,\n",
    "                             display_labels=condition_label_encoder.classes_,\n",
    "                             cmap=plt.cm.Blues,\n",
    "                             normalize='pred',\n",
    "                             ax=ax)\n",
    "disp.ax_.set_title(\"Logit Confusion Matrix\")\n",
    "plt.show()"
   ]
  },
  {
   "cell_type": "code",
   "execution_count": 76,
   "metadata": {},
   "outputs": [
    {
     "name": "stdout",
     "output_type": "stream",
     "text": [
      "              precision    recall  f1-score   support\n",
      "\n",
      "           0       0.71      0.44      0.54        62\n",
      "           1       0.62      0.84      0.72        69\n",
      "\n",
      "    accuracy                           0.65       131\n",
      "   macro avg       0.67      0.64      0.63       131\n",
      "weighted avg       0.66      0.65      0.63       131\n",
      "\n"
     ]
    }
   ],
   "source": [
    "print(classification_report(y_test, my_svm_gs.predict(X_test_mel)))"
   ]
  },
  {
   "cell_type": "code",
   "execution_count": 77,
   "metadata": {},
   "outputs": [],
   "source": [
    "y_proba = my_svm_gs.predict_proba(X_test_mel)"
   ]
  },
  {
   "cell_type": "code",
   "execution_count": 78,
   "metadata": {},
   "outputs": [
    {
     "data": {
      "image/png": "[encoded data removed]",
      "text/plain": [
       "<Figure size 1080x360 with 1 Axes>"
      ]
     },
     "metadata": {
      "needs_background": "light"
     },
     "output_type": "display_data"
    }
   ],
   "source": [
    "plt.figure(figsize=(15, 5))\n",
    "plt.scatter(y_proba[:, 1], y_test)\n",
    "plt.show();"
   ]
  },
  {
   "cell_type": "markdown",
   "metadata": {},
   "source": [
    "## Basic Model - KNN\n",
    "\n",
    "Let's start by establishing a baseline performance. I am just going to load the raw audio data as features (where each feature is an audio measurement) and see how well a simple logistic regression (linear model) and decision tree (non-linear model) will perform"
   ]
  },
  {
   "cell_type": "code",
   "execution_count": 79,
   "metadata": {},
   "outputs": [
    {
     "name": "stdout",
     "output_type": "stream",
     "text": [
      "(305, 305) (131, 305)\n",
      "(305,) (131,)\n"
     ]
    }
   ],
   "source": [
    "condition_label_encoder = LabelEncoder()\n",
    "\n",
    "\n",
    "y_train = condition_label_encoder.fit_transform(train_dataset['label'])[:X_train_mel.shape[0]]\n",
    "y_test = condition_label_encoder.transform(test_dataset['label'])\n",
    "\n",
    "print(X_train_mel.shape, X_test_mel.shape)\n",
    "print(y_train.shape, y_test.shape)"
   ]
  },
  {
   "cell_type": "code",
   "execution_count": 80,
   "metadata": {},
   "outputs": [
    {
     "name": "stdout",
     "output_type": "stream",
     "text": [
      "CPU times: user 70.5 ms, sys: 1.6 ms, total: 72.1 ms\n",
      "Wall time: 70.8 ms\n"
     ]
    }
   ],
   "source": [
    "%%time\n",
    "\n",
    "my_knn = KNN().fit(X_train_mel, y_train)\n",
    "train_acc = my_knn.score(X_train_mel, y_train)\n",
    "test_acc = my_knn.score(X_test_mel, y_test)"
   ]
  },
  {
   "cell_type": "code",
   "execution_count": 81,
   "metadata": {},
   "outputs": [
    {
     "name": "stdout",
     "output_type": "stream",
     "text": [
      "The training accuracy is 73.44%\n",
      "The test accuracy is 64.89%\n"
     ]
    }
   ],
   "source": [
    "print(f\"The training accuracy is {round(train_acc*100,2)}%\")\n",
    "print(f\"The test accuracy is {round(test_acc*100,2)}%\")"
   ]
  },
  {
   "cell_type": "markdown",
   "metadata": {},
   "source": [
    "Extremely suspicious results. There is clearly a very large sign of overfitting here. Let's explore how the logistic regression makes decisions.\n",
    "\n",
    "Let's plot the coefficients as if they were an audio mask (which is really what they end up becoming)."
   ]
  },
  {
   "cell_type": "code",
   "execution_count": 82,
   "metadata": {
    "scrolled": false
   },
   "outputs": [
    {
     "data": {
      "image/png": "[encoded data removed]",
      "text/plain": [
       "<Figure size 504x504 with 2 Axes>"
      ]
     },
     "metadata": {
      "needs_background": "light"
     },
     "output_type": "display_data"
    }
   ],
   "source": [
    "figure, ax = plt.subplots(figsize=(7, 7))\n",
    "disp = plot_confusion_matrix(my_knn, X_test_mel, y_test,\n",
    "                             display_labels = condition_label_encoder.classes_,\n",
    "                             cmap=plt.cm.Blues,\n",
    "                             normalize=None,\n",
    "                             ax=ax)\n",
    "disp.ax_.set_title(\"Logit Confusion Matrix\")\n",
    "plt.show()"
   ]
  },
  {
   "cell_type": "code",
   "execution_count": 83,
   "metadata": {},
   "outputs": [
    {
     "data": {
      "image/png": "[encoded data removed]",
      "text/plain": [
       "<Figure size 504x504 with 2 Axes>"
      ]
     },
     "metadata": {
      "needs_background": "light"
     },
     "output_type": "display_data"
    }
   ],
   "source": [
    "figure, ax = plt.subplots(figsize=(7, 7))\n",
    "disp = plot_confusion_matrix(my_knn, X_test_mel, y_test,\n",
    "                             display_labels=condition_label_encoder.classes_,\n",
    "                             cmap=plt.cm.Blues,\n",
    "                             normalize='pred',\n",
    "                             ax=ax)\n",
    "disp.ax_.set_title(\"Logit Confusion Matrix\")\n",
    "plt.show()"
   ]
  },
  {
   "cell_type": "code",
   "execution_count": 84,
   "metadata": {},
   "outputs": [],
   "source": [
    "from sklearn.pipeline import Pipeline\n",
    "from sklearn.preprocessing import StandardScaler"
   ]
  },
  {
   "cell_type": "code",
   "execution_count": 85,
   "metadata": {},
   "outputs": [],
   "source": [
    "param_grid = {'n_neighbors': [i for i in range(3,10)] + \\\n",
    "                             [i for i in range(10, 100, 5)] + \\\n",
    "                             [i for i in range(100, X_train_mel.shape[0]//2, 20)],\n",
    "              'weights': ['uniform', 'distance']}\n",
    "\n",
    "my_pipe = Pipeline([('scaler', MinMaxScaler()),\n",
    "                    ('knn', KNN(algorithm='auto'))])\n",
    "\n",
    "my_knn_gs = GridSearchCV(KNN(algorithm='auto'), param_grid, cv=CV_FOLD, verbose=1, n_jobs=3, scoring=score)"
   ]
  },
  {
   "cell_type": "code",
   "execution_count": 86,
   "metadata": {
    "scrolled": false
   },
   "outputs": [
    {
     "name": "stdout",
     "output_type": "stream",
     "text": [
      "Fitting 10 folds for each of 56 candidates, totalling 560 fits\n"
     ]
    },
    {
     "name": "stderr",
     "output_type": "stream",
     "text": [
      "[Parallel(n_jobs=3)]: Using backend LokyBackend with 3 concurrent workers.\n",
      "[Parallel(n_jobs=3)]: Done 484 tasks      | elapsed:    1.2s\n",
      "[Parallel(n_jobs=3)]: Done 560 out of 560 | elapsed:    1.4s finished\n"
     ]
    },
    {
     "name": "stdout",
     "output_type": "stream",
     "text": [
      "CPU times: user 233 ms, sys: 22.2 ms, total: 255 ms\n",
      "Wall time: 1.44 s\n"
     ]
    },
    {
     "data": {
      "text/plain": [
       "GridSearchCV(cv=10, estimator=KNeighborsClassifier(), n_jobs=3,\n",
       "             param_grid={'n_neighbors': [3, 4, 5, 6, 7, 8, 9, 10, 15, 20, 25,\n",
       "                                         30, 35, 40, 45, 50, 55, 60, 65, 70, 75,\n",
       "                                         80, 85, 90, 95, 100, 120, 140],\n",
       "                         'weights': ['uniform', 'distance']},\n",
       "             scoring=make_scorer(boris_score, needs_proba=True), verbose=1)"
      ]
     },
     "execution_count": 86,
     "metadata": {},
     "output_type": "execute_result"
    }
   ],
   "source": [
    "%%time\n",
    "my_knn_gs.fit(X_train_mel, y_train);"
   ]
  },
  {
   "cell_type": "code",
   "execution_count": 87,
   "metadata": {},
   "outputs": [
    {
     "data": {
      "text/plain": [
       "{'n_neighbors': 15, 'weights': 'distance'}"
      ]
     },
     "execution_count": 87,
     "metadata": {},
     "output_type": "execute_result"
    }
   ],
   "source": [
    "my_knn_gs.best_params_"
   ]
  },
  {
   "cell_type": "code",
   "execution_count": 88,
   "metadata": {},
   "outputs": [],
   "source": [
    "train_acc = my_knn_gs.score(X_train_mel, y_train)\n",
    "test_acc = my_knn_gs.score(X_test_mel, y_test)"
   ]
  },
  {
   "cell_type": "code",
   "execution_count": 89,
   "metadata": {},
   "outputs": [
    {
     "name": "stdout",
     "output_type": "stream",
     "text": [
      "The training accuracy is 30500%\n",
      "The test accuracy is 1300%\n"
     ]
    }
   ],
   "source": [
    "print(f\"The training accuracy is {round(train_acc*100,2)}%\")\n",
    "print(f\"The test accuracy is {round(test_acc*100,2)}%\")"
   ]
  },
  {
   "cell_type": "code",
   "execution_count": 90,
   "metadata": {
    "scrolled": false
   },
   "outputs": [
    {
     "data": {
      "image/png": "[encoded data removed]",
      "text/plain": [
       "<Figure size 504x504 with 2 Axes>"
      ]
     },
     "metadata": {
      "needs_background": "light"
     },
     "output_type": "display_data"
    }
   ],
   "source": [
    "figure, ax = plt.subplots(figsize=(7, 7))\n",
    "disp = plot_confusion_matrix(my_knn_gs, X_test_mel, y_test,\n",
    "                             display_labels = condition_label_encoder.classes_,\n",
    "                             cmap=plt.cm.Blues,\n",
    "                             normalize=None,\n",
    "                             ax=ax)\n",
    "disp.ax_.set_title(\"Logit Confusion Matrix\")\n",
    "plt.show()"
   ]
  },
  {
   "cell_type": "code",
   "execution_count": 91,
   "metadata": {},
   "outputs": [
    {
     "data": {
      "image/png": "[encoded data removed]",
      "text/plain": [
       "<Figure size 504x504 with 2 Axes>"
      ]
     },
     "metadata": {
      "needs_background": "light"
     },
     "output_type": "display_data"
    }
   ],
   "source": [
    "figure, ax = plt.subplots(figsize=(7, 7))\n",
    "disp = plot_confusion_matrix(my_knn_gs, X_test_mel, y_test,\n",
    "                             display_labels=condition_label_encoder.classes_,\n",
    "                             cmap=plt.cm.Blues,\n",
    "                             normalize='pred',\n",
    "                             ax=ax)\n",
    "disp.ax_.set_title(\"Logit Confusion Matrix\")\n",
    "plt.show()"
   ]
  },
  {
   "cell_type": "code",
   "execution_count": 92,
   "metadata": {},
   "outputs": [
    {
     "name": "stdout",
     "output_type": "stream",
     "text": [
      "              precision    recall  f1-score   support\n",
      "\n",
      "           0       0.83      0.40      0.54        62\n",
      "           1       0.63      0.93      0.75        69\n",
      "\n",
      "    accuracy                           0.68       131\n",
      "   macro avg       0.73      0.67      0.65       131\n",
      "weighted avg       0.73      0.68      0.65       131\n",
      "\n"
     ]
    }
   ],
   "source": [
    "print(classification_report(y_test, my_knn_gs.predict(X_test_mel)))"
   ]
  },
  {
   "cell_type": "code",
   "execution_count": 93,
   "metadata": {},
   "outputs": [],
   "source": [
    "y_proba = my_knn_gs.predict_proba(X_test_mel)"
   ]
  },
  {
   "cell_type": "code",
   "execution_count": 94,
   "metadata": {},
   "outputs": [
    {
     "data": {
      "image/png": "[encoded data removed]",
      "text/plain": [
       "<Figure size 1080x360 with 1 Axes>"
      ]
     },
     "metadata": {
      "needs_background": "light"
     },
     "output_type": "display_data"
    }
   ],
   "source": [
    "plt.figure(figsize=(15, 5))\n",
    "plt.scatter(y_proba[:, 1], y_test)\n",
    "plt.show();"
   ]
  },
  {
   "cell_type": "markdown",
   "metadata": {},
   "source": [
    "## Basic Model - Decision Tree\n",
    "\n",
    "As another baseline, I will train a decision tree to see if introducing non-linearity to the learning process produces better results"
   ]
  },
  {
   "cell_type": "code",
   "execution_count": 95,
   "metadata": {},
   "outputs": [
    {
     "name": "stdout",
     "output_type": "stream",
     "text": [
      "(305, 305) (131, 305)\n",
      "(305,) (131,)\n"
     ]
    }
   ],
   "source": [
    "print(X_train_mel.shape, X_test_mel.shape)\n",
    "print(y_train.shape, y_test.shape)"
   ]
  },
  {
   "cell_type": "code",
   "execution_count": 96,
   "metadata": {},
   "outputs": [
    {
     "name": "stdout",
     "output_type": "stream",
     "text": [
      "Fitting 10 folds for each of 1140 candidates, totalling 11400 fits\n"
     ]
    },
    {
     "name": "stderr",
     "output_type": "stream",
     "text": [
      "[Parallel(n_jobs=3)]: Using backend LokyBackend with 3 concurrent workers.\n",
      "[Parallel(n_jobs=3)]: Done 185 tasks      | elapsed:    1.6s\n",
      "[Parallel(n_jobs=3)]: Done 3511 tasks      | elapsed:   18.8s\n",
      "[Parallel(n_jobs=3)]: Done 8511 tasks      | elapsed:   54.1s\n"
     ]
    },
    {
     "name": "stdout",
     "output_type": "stream",
     "text": [
      "CPU times: user 3.39 s, sys: 344 ms, total: 3.73 s\n",
      "Wall time: 1min 13s\n"
     ]
    },
    {
     "name": "stderr",
     "output_type": "stream",
     "text": [
      "[Parallel(n_jobs=3)]: Done 11400 out of 11400 | elapsed:  1.2min finished\n"
     ]
    }
   ],
   "source": [
    "%%time \n",
    "\n",
    "# Let's set some regularization otherwise we know the tree will overfit\n",
    "my_tree = DecisionTreeClassifier()\n",
    "param_grid = {'min_samples_leaf': [i for i in range(1, 20)],\n",
    "              'max_depth' : [i for i in range(1, X_train_mel.shape[1], X_train_mel.shape[1]//10)]+[None],\n",
    "              'max_features': [i/10 for i in range(2, 11, 2)]}\n",
    "\n",
    "my_tree_gs = GridSearchCV(my_tree, param_grid, cv=CV_FOLD, verbose=1, n_jobs=3, scoring=score)\n",
    "my_tree_gs.fit(X_train_mel, y_train)\n",
    "\n",
    "\n",
    "train_acc = my_tree_gs.score(X_train_mel, y_train)\n",
    "test_acc = my_tree_gs.score(X_test_mel, y_test)"
   ]
  },
  {
   "cell_type": "code",
   "execution_count": 97,
   "metadata": {},
   "outputs": [
    {
     "name": "stdout",
     "output_type": "stream",
     "text": [
      "The training accuracy is 0%\n",
      "The test accuracy is 0%\n"
     ]
    }
   ],
   "source": [
    "print(f\"The training accuracy is {round(train_acc*100,2)}%\")\n",
    "print(f\"The test accuracy is {round(test_acc*100,2)}%\")"
   ]
  },
  {
   "cell_type": "code",
   "execution_count": 98,
   "metadata": {},
   "outputs": [
    {
     "data": {
      "text/plain": [
       "{'max_depth': 241, 'max_features': 0.2, 'min_samples_leaf': 19}"
      ]
     },
     "execution_count": 98,
     "metadata": {},
     "output_type": "execute_result"
    }
   ],
   "source": [
    "my_tree_gs.best_params_"
   ]
  },
  {
   "cell_type": "markdown",
   "metadata": {},
   "source": [
    "Much better results! However, let's see how the model performs using the confusion matrix of the test set\n",
    "\n"
   ]
  },
  {
   "cell_type": "code",
   "execution_count": 99,
   "metadata": {},
   "outputs": [
    {
     "data": {
      "image/png": "[encoded data removed]",
      "text/plain": [
       "<Figure size 504x504 with 2 Axes>"
      ]
     },
     "metadata": {
      "needs_background": "light"
     },
     "output_type": "display_data"
    }
   ],
   "source": [
    "figure, ax = plt.subplots(figsize=(7, 7))\n",
    "disp = plot_confusion_matrix(my_tree_gs, X_test_mel, y_test,\n",
    "                             display_labels = condition_label_encoder.classes_,\n",
    "                             cmap=plt.cm.Blues,\n",
    "                             normalize=None,\n",
    "                             ax=ax)\n",
    "disp.ax_.set_title(\"Decision Tree Confusion Matrix\")\n",
    "plt.show()"
   ]
  },
  {
   "cell_type": "code",
   "execution_count": 100,
   "metadata": {},
   "outputs": [
    {
     "data": {
      "image/png": "[encoded data removed]",
      "text/plain": [
       "<Figure size 504x504 with 2 Axes>"
      ]
     },
     "metadata": {
      "needs_background": "light"
     },
     "output_type": "display_data"
    }
   ],
   "source": [
    "figure, ax = plt.subplots(figsize=(7, 7))\n",
    "disp = plot_confusion_matrix(my_tree_gs, X_test_mel, y_test,\n",
    "                             display_labels=condition_label_encoder.classes_,\n",
    "                             cmap=plt.cm.Blues,\n",
    "                             normalize='true',\n",
    "                             ax=ax)\n",
    "disp.ax_.set_title(\"Decision Tree Confusion Matrix\")\n",
    "plt.show()"
   ]
  },
  {
   "cell_type": "markdown",
   "metadata": {},
   "source": [
    "As suspected, quite a bit of the classification seems to classify abnormal conditions and sounds as \"normal\" due to the sheer volume of that class, but interestingly, ~39% of the normal examples get misclassified as abnormalities."
   ]
  },
  {
   "cell_type": "code",
   "execution_count": 101,
   "metadata": {},
   "outputs": [
    {
     "name": "stdout",
     "output_type": "stream",
     "text": [
      "              precision    recall  f1-score   support\n",
      "\n",
      "           0       0.49      0.45      0.47        62\n",
      "           1       0.54      0.58      0.56        69\n",
      "\n",
      "    accuracy                           0.52       131\n",
      "   macro avg       0.52      0.52      0.52       131\n",
      "weighted avg       0.52      0.52      0.52       131\n",
      "\n"
     ]
    }
   ],
   "source": [
    "print(classification_report(y_test, my_tree_gs.predict(X_test_mel)))"
   ]
  },
  {
   "cell_type": "code",
   "execution_count": 102,
   "metadata": {},
   "outputs": [],
   "source": [
    "y_proba = my_tree_gs.predict_proba(X_test_mel)"
   ]
  },
  {
   "cell_type": "code",
   "execution_count": 103,
   "metadata": {},
   "outputs": [
    {
     "data": {
      "image/png": "[encoded data removed]",
      "text/plain": [
       "<Figure size 1080x360 with 1 Axes>"
      ]
     },
     "metadata": {
      "needs_background": "light"
     },
     "output_type": "display_data"
    }
   ],
   "source": [
    "plt.figure(figsize=(15, 5))\n",
    "plt.scatter(y_proba[:, 1], \n",
    "            y_test)\n",
    "plt.show();"
   ]
  },
  {
   "cell_type": "markdown",
   "metadata": {},
   "source": [
    "## Advanced Model - Random Forest\n",
    "\n",
    "..."
   ]
  },
  {
   "cell_type": "code",
   "execution_count": 104,
   "metadata": {},
   "outputs": [
    {
     "name": "stdout",
     "output_type": "stream",
     "text": [
      "(305, 305) (131, 305)\n",
      "(305,) (131,)\n"
     ]
    }
   ],
   "source": [
    "print(X_train_mel.shape, X_test_mel.shape)\n",
    "print(y_train.shape, y_test.shape)"
   ]
  },
  {
   "cell_type": "code",
   "execution_count": 106,
   "metadata": {},
   "outputs": [
    {
     "name": "stdout",
     "output_type": "stream",
     "text": [
      "Fitting 10 folds for each of 2280 candidates, totalling 22800 fits\n"
     ]
    },
    {
     "name": "stderr",
     "output_type": "stream",
     "text": [
      "[Parallel(n_jobs=3)]: Using backend LokyBackend with 3 concurrent workers.\n",
      "[Parallel(n_jobs=3)]: Done  55 tasks      | elapsed:    8.2s\n",
      "[Parallel(n_jobs=3)]: Done 355 tasks      | elapsed:   15.2s\n",
      "[Parallel(n_jobs=3)]: Done 855 tasks      | elapsed:   31.6s\n",
      "[Parallel(n_jobs=3)]: Done 1555 tasks      | elapsed:  1.1min\n",
      "[Parallel(n_jobs=3)]: Done 2455 tasks      | elapsed:  2.1min\n",
      "[Parallel(n_jobs=3)]: Done 3132 tasks      | elapsed:  3.4min\n",
      "[Parallel(n_jobs=3)]: Done 3782 tasks      | elapsed:  5.2min\n",
      "[Parallel(n_jobs=3)]: Done 4910 tasks      | elapsed:  6.9min\n",
      "[Parallel(n_jobs=3)]: Done 5766 tasks      | elapsed:  9.2min\n",
      "[Parallel(n_jobs=3)]: Done 7085 tasks      | elapsed: 11.4min\n",
      "[Parallel(n_jobs=3)]: Done 8510 tasks      | elapsed: 14.1min\n",
      "[Parallel(n_jobs=3)]: Done 9744 tasks      | elapsed: 16.9min\n",
      "[Parallel(n_jobs=3)]: Done 11273 tasks      | elapsed: 20.2min\n",
      "[Parallel(n_jobs=3)]: Done 12959 tasks      | elapsed: 23.5min\n",
      "[Parallel(n_jobs=3)]: Done 14727 tasks      | elapsed: 27.2min\n",
      "[Parallel(n_jobs=3)]: Done 16586 tasks      | elapsed: 31.4min\n",
      "[Parallel(n_jobs=3)]: Done 18494 tasks      | elapsed: 35.9min\n",
      "[Parallel(n_jobs=3)]: Done 20553 tasks      | elapsed: 40.7min\n",
      "[Parallel(n_jobs=3)]: Done 22736 tasks      | elapsed: 46.1min\n",
      "[Parallel(n_jobs=3)]: Done 22800 out of 22800 | elapsed: 46.3min finished\n"
     ]
    },
    {
     "name": "stdout",
     "output_type": "stream",
     "text": [
      "CPU times: user 36.7 s, sys: 4.16 s, total: 40.8 s\n",
      "Wall time: 46min 19s\n"
     ]
    }
   ],
   "source": [
    "%%time \n",
    "\n",
    "param_grid = {'min_samples_leaf': [i for i in range(1, 20)],\n",
    "              'max_depth' : [i for i in range(1, X_train_mel.shape[1], X_train_mel.shape[1]//10)]+[None],\n",
    "              'max_features': [i/10 for i in range(2, 11, 2)],\n",
    "              'n_estimators': [i*10 for i in range(1,10, 5)]}\n",
    "\n",
    "my_rf_gs = GridSearchCV(RandomForestClassifier(random_state=1), \n",
    "                          param_grid, cv=CV_FOLD, verbose=1, n_jobs=3, scoring=score)\n",
    "my_rf_gs.fit(X_train_mel, y_train)\n",
    "\n",
    "\n",
    "train_acc = my_rf_gs.score(X_train_mel, y_train)\n",
    "test_acc = my_rf_gs.score(X_test_mel, y_test)"
   ]
  },
  {
   "cell_type": "code",
   "execution_count": 115,
   "metadata": {},
   "outputs": [
    {
     "data": {
      "text/plain": [
       "{'max_depth': 31,\n",
       " 'max_features': 0.2,\n",
       " 'min_samples_leaf': 3,\n",
       " 'n_estimators': 60}"
      ]
     },
     "execution_count": 115,
     "metadata": {},
     "output_type": "execute_result"
    }
   ],
   "source": [
    "my_rf_gs.best_params_"
   ]
  },
  {
   "cell_type": "code",
   "execution_count": 107,
   "metadata": {},
   "outputs": [
    {
     "name": "stdout",
     "output_type": "stream",
     "text": [
      "The training accuracy is 30500%\n",
      "The test accuracy is 800%\n"
     ]
    }
   ],
   "source": [
    "print(f\"The training accuracy is {round(train_acc*100,2)}%\")\n",
    "print(f\"The test accuracy is {round(test_acc*100,2)}%\")"
   ]
  },
  {
   "cell_type": "markdown",
   "metadata": {},
   "source": [
    "Much better results! However, let's see how the model performs using the confusion matrix of the test set\n",
    "\n"
   ]
  },
  {
   "cell_type": "code",
   "execution_count": 109,
   "metadata": {},
   "outputs": [
    {
     "data": {
      "image/png": "[encoded data removed]",
      "text/plain": [
       "<Figure size 504x504 with 2 Axes>"
      ]
     },
     "metadata": {
      "needs_background": "light"
     },
     "output_type": "display_data"
    }
   ],
   "source": [
    "figure, ax = plt.subplots(figsize=(7, 7))\n",
    "disp = plot_confusion_matrix(my_rf_gs, X_test_mel, y_test,\n",
    "                             display_labels = condition_label_encoder.classes_,\n",
    "                             cmap=plt.cm.Blues,\n",
    "                             normalize=None,\n",
    "                             ax=ax)\n",
    "disp.ax_.set_title(\"Gradient Boosting Confusion Matrix\")\n",
    "plt.show()"
   ]
  },
  {
   "cell_type": "code",
   "execution_count": 110,
   "metadata": {},
   "outputs": [
    {
     "data": {
      "image/png": "[encoded data removed]",
      "text/plain": [
       "<Figure size 504x504 with 2 Axes>"
      ]
     },
     "metadata": {
      "needs_background": "light"
     },
     "output_type": "display_data"
    }
   ],
   "source": [
    "figure, ax = plt.subplots(figsize=(7, 7))\n",
    "disp = plot_confusion_matrix(my_rf_gs, X_test_mel, y_test,\n",
    "                             display_labels=condition_label_encoder.classes_,\n",
    "                             cmap=plt.cm.Blues,\n",
    "                             normalize='true',\n",
    "                             ax=ax)\n",
    "disp.ax_.set_title(\"Gradient Boosting Confusion Matrix\")\n",
    "plt.show()"
   ]
  },
  {
   "cell_type": "markdown",
   "metadata": {},
   "source": []
  },
  {
   "cell_type": "code",
   "execution_count": 111,
   "metadata": {},
   "outputs": [
    {
     "name": "stdout",
     "output_type": "stream",
     "text": [
      "              precision    recall  f1-score   support\n",
      "\n",
      "           0       0.57      0.45      0.50        62\n",
      "           1       0.59      0.70      0.64        69\n",
      "\n",
      "    accuracy                           0.58       131\n",
      "   macro avg       0.58      0.57      0.57       131\n",
      "weighted avg       0.58      0.58      0.57       131\n",
      "\n"
     ]
    }
   ],
   "source": [
    "print(classification_report(y_test, my_rf_gs.predict(X_test_mel)))"
   ]
  },
  {
   "cell_type": "code",
   "execution_count": 113,
   "metadata": {},
   "outputs": [],
   "source": [
    "y_proba = my_rf_gs.predict_proba(X_test_mel)"
   ]
  },
  {
   "cell_type": "code",
   "execution_count": 114,
   "metadata": {},
   "outputs": [
    {
     "data": {
      "image/png": "[encoded data removed]",
      "text/plain": [
       "<Figure size 1080x360 with 1 Axes>"
      ]
     },
     "metadata": {
      "needs_background": "light"
     },
     "output_type": "display_data"
    }
   ],
   "source": [
    "plt.figure(figsize=(15, 5))\n",
    "plt.scatter(y_proba[:, 1], \n",
    "            y_test)\n",
    "plt.show();"
   ]
  },
  {
   "cell_type": "markdown",
   "metadata": {},
   "source": [
    "## Advanced Model - Gradient Boosting\n",
    "\n",
    "..."
   ]
  },
  {
   "cell_type": "code",
   "execution_count": 116,
   "metadata": {},
   "outputs": [
    {
     "name": "stdout",
     "output_type": "stream",
     "text": [
      "(305, 305) (131, 305)\n",
      "(305,) (131,)\n"
     ]
    }
   ],
   "source": [
    "print(X_train_mel.shape, X_test_mel.shape)\n",
    "print(y_train.shape, y_test.shape)"
   ]
  },
  {
   "cell_type": "code",
   "execution_count": null,
   "metadata": {},
   "outputs": [],
   "source": [
    "{'max_depth': 31,\n",
    " 'max_features': 0.2,\n",
    " 'min_samples_leaf': 3,\n",
    " 'n_estimators': 60}"
   ]
  },
  {
   "cell_type": "code",
   "execution_count": 124,
   "metadata": {},
   "outputs": [
    {
     "name": "stdout",
     "output_type": "stream",
     "text": [
      "      Iter       Train Loss   Remaining Time \n",
      "         1           1.2147            2.27s\n",
      "         2           1.0760            2.57s\n",
      "         3           0.9548            2.59s\n",
      "         4           0.8515            2.52s\n",
      "         5           0.7593            2.51s\n",
      "         6           0.6818            2.47s\n",
      "         7           0.6107            2.40s\n",
      "         8           0.5500            2.30s\n",
      "         9           0.4954            2.22s\n",
      "        10           0.4457            2.18s\n",
      "        20           0.1704            1.68s\n",
      "        30           0.0680            1.20s\n",
      "        40           0.0275            0.78s\n",
      "        50           0.0111            0.38s\n",
      "        60           0.0046            0.00s\n",
      "CPU times: user 2.3 s, sys: 8.52 ms, total: 2.31 s\n",
      "Wall time: 2.31 s\n"
     ]
    }
   ],
   "source": [
    "%%time \n",
    "\n",
    "# Let's set some regularization otherwise we know the tree will overfit\n",
    "my_gb = GradientBoostingClassifier(min_samples_leaf=3, \n",
    "                                   max_features=0.8,\n",
    "                                   max_depth=31,\n",
    "                                   random_state=1, \n",
    "                                   n_estimators=60,\n",
    "                                   verbose=1,\n",
    "                                   learning_rate=0.1).fit(X_train_mel, y_train)\n",
    "\n",
    "\n",
    "train_acc = my_gb.score(X_train_mel, y_train)\n",
    "test_acc = my_gb.score(X_test_mel, y_test)"
   ]
  },
  {
   "cell_type": "code",
   "execution_count": 125,
   "metadata": {},
   "outputs": [
    {
     "name": "stdout",
     "output_type": "stream",
     "text": [
      "The training accuracy is 100.0%\n",
      "The test accuracy is 66.41%\n"
     ]
    }
   ],
   "source": [
    "print(f\"The training accuracy is {round(train_acc*100,2)}%\")\n",
    "print(f\"The test accuracy is {round(test_acc*100,2)}%\")"
   ]
  },
  {
   "cell_type": "markdown",
   "metadata": {},
   "source": [
    "Much better results! However, let's see how the model performs using the confusion matrix of the test set\n",
    "\n"
   ]
  },
  {
   "cell_type": "code",
   "execution_count": 126,
   "metadata": {},
   "outputs": [
    {
     "data": {
      "image/png": "[encoded data removed]",
      "text/plain": [
       "<Figure size 504x504 with 2 Axes>"
      ]
     },
     "metadata": {
      "needs_background": "light"
     },
     "output_type": "display_data"
    }
   ],
   "source": [
    "figure, ax = plt.subplots(figsize=(7, 7))\n",
    "disp = plot_confusion_matrix(my_gb, X_test_mel, y_test,\n",
    "                             display_labels = condition_label_encoder.classes_,\n",
    "                             cmap=plt.cm.Blues,\n",
    "                             normalize=None,\n",
    "                             ax=ax)\n",
    "disp.ax_.set_title(\"Gradient Boosting Confusion Matrix\")\n",
    "plt.show()"
   ]
  },
  {
   "cell_type": "code",
   "execution_count": 127,
   "metadata": {},
   "outputs": [
    {
     "data": {
      "image/png": "[encoded data removed]",
      "text/plain": [
       "<Figure size 504x504 with 2 Axes>"
      ]
     },
     "metadata": {
      "needs_background": "light"
     },
     "output_type": "display_data"
    }
   ],
   "source": [
    "figure, ax = plt.subplots(figsize=(7, 7))\n",
    "disp = plot_confusion_matrix(my_gb, X_test_mel, y_test,\n",
    "                             display_labels=condition_label_encoder.classes_,\n",
    "                             cmap=plt.cm.Blues,\n",
    "                             normalize='true',\n",
    "                             ax=ax)\n",
    "disp.ax_.set_title(\"Gradient Boosting Confusion Matrix\")\n",
    "plt.show()"
   ]
  },
  {
   "cell_type": "markdown",
   "metadata": {},
   "source": []
  },
  {
   "cell_type": "code",
   "execution_count": 128,
   "metadata": {},
   "outputs": [
    {
     "name": "stdout",
     "output_type": "stream",
     "text": [
      "              precision    recall  f1-score   support\n",
      "\n",
      "           0       0.70      0.50      0.58        62\n",
      "           1       0.64      0.81      0.72        69\n",
      "\n",
      "    accuracy                           0.66       131\n",
      "   macro avg       0.67      0.66      0.65       131\n",
      "weighted avg       0.67      0.66      0.65       131\n",
      "\n"
     ]
    }
   ],
   "source": [
    "print(classification_report(y_test, my_gb.predict(X_test_mel)))"
   ]
  },
  {
   "cell_type": "code",
   "execution_count": 129,
   "metadata": {},
   "outputs": [],
   "source": [
    "y_proba = my_gb.predict_proba(X_test_mel)"
   ]
  },
  {
   "cell_type": "code",
   "execution_count": 130,
   "metadata": {},
   "outputs": [
    {
     "data": {
      "image/png": "[encoded data removed]",
      "text/plain": [
       "<Figure size 1080x360 with 1 Axes>"
      ]
     },
     "metadata": {
      "needs_background": "light"
     },
     "output_type": "display_data"
    }
   ],
   "source": [
    "plt.figure(figsize=(15, 5))\n",
    "plt.scatter(y_proba[:, 1], \n",
    "            y_test)\n",
    "plt.show();"
   ]
  },
  {
   "cell_type": "code",
   "execution_count": null,
   "metadata": {},
   "outputs": [],
   "source": []
  },
  {
   "cell_type": "code",
   "execution_count": null,
   "metadata": {},
   "outputs": [],
   "source": []
  }
 ],
 "metadata": {
  "hide_input": false,
  "kernelspec": {
   "display_name": "Python 3",
   "language": "python",
   "name": "python3"
  },
  "language_info": {
   "codemirror_mode": {
    "name": "ipython",
    "version": 3
   },
   "file_extension": ".py",
   "mimetype": "text/x-python",
   "name": "python",
   "nbconvert_exporter": "python",
   "pygments_lexer": "ipython3",
   "version": "3.8.5"
  }
 },
 "nbformat": 4,
 "nbformat_minor": 4
}
