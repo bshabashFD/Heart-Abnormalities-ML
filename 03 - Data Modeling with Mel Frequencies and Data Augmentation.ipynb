{
 "cells": [
  {
   "cell_type": "code",
   "execution_count": 1,
   "metadata": {},
   "outputs": [],
   "source": [
    "import numpy as np\n",
    "import pandas as pd\n",
    "import time\n",
    "import librosa\n",
    "import librosa.display\n",
    "\n",
    "import warnings\n",
    "warnings.filterwarnings(\"ignore\")\n",
    "\n",
    "import matplotlib.pyplot as plt\n",
    "%matplotlib inline\n",
    "\n",
    "from boris_util import *"
   ]
  },
  {
   "cell_type": "code",
   "execution_count": 2,
   "metadata": {},
   "outputs": [],
   "source": [
    "from sklearn.model_selection import train_test_split\n",
    "from sklearn.preprocessing import MinMaxScaler, StandardScaler, LabelEncoder\n",
    "from sklearn.decomposition import PCA\n",
    "\n",
    "\n",
    "from sklearn.linear_model import LogisticRegression\n",
    "from sklearn.tree import DecisionTreeClassifier\n",
    "from sklearn.ensemble import RandomForestClassifier\n",
    "from sklearn.svm import SVC\n",
    "from sklearn.neighbors import KNeighborsClassifier as KNN\n",
    "\n",
    "from xgboost import XGBClassifier\n",
    "\n",
    "from sklearn.pipeline import Pipeline\n",
    "\n",
    "from sklearn.metrics import plot_confusion_matrix\n",
    "from sklearn.metrics import classification_report\n",
    "from sklearn.metrics import roc_auc_score\n",
    "from sklearn.model_selection import GridSearchCV\n",
    "from sklearn.model_selection import RandomizedSearchCV\n",
    "\n",
    "\n",
    "\n",
    "import multiprocessing"
   ]
  },
  {
   "cell_type": "markdown",
   "metadata": {},
   "source": [
    "# Importing the dataset\n",
    "\n",
    "We'll read in the data again and combine all abnormalities"
   ]
  },
  {
   "cell_type": "code",
   "execution_count": 3,
   "metadata": {},
   "outputs": [
    {
     "name": "stdout",
     "output_type": "stream",
     "text": [
      "processed 100.00%\n",
      "(436, 4)\n"
     ]
    },
    {
     "data": {
      "text/html": [
       "<div>\n",
       "<style scoped>\n",
       "    .dataframe tbody tr th:only-of-type {\n",
       "        vertical-align: middle;\n",
       "    }\n",
       "\n",
       "    .dataframe tbody tr th {\n",
       "        vertical-align: top;\n",
       "    }\n",
       "\n",
       "    .dataframe thead th {\n",
       "        text-align: right;\n",
       "    }\n",
       "</style>\n",
       "<table border=\"1\" class=\"dataframe\">\n",
       "  <thead>\n",
       "    <tr style=\"text-align: right;\">\n",
       "      <th></th>\n",
       "      <th>signal</th>\n",
       "      <th>sampling_rate</th>\n",
       "      <th>audio_length</th>\n",
       "      <th>label</th>\n",
       "    </tr>\n",
       "  </thead>\n",
       "  <tbody>\n",
       "    <tr>\n",
       "      <th>0</th>\n",
       "      <td>[2.2960085e-05, -0.00012982322, -0.00018070513...</td>\n",
       "      <td>22050</td>\n",
       "      <td>9.0</td>\n",
       "      <td>artifact</td>\n",
       "    </tr>\n",
       "    <tr>\n",
       "      <th>1</th>\n",
       "      <td>[-1.0927635e-05, 1.0574424e-06, 2.108567e-06, ...</td>\n",
       "      <td>22050</td>\n",
       "      <td>9.0</td>\n",
       "      <td>artifact</td>\n",
       "    </tr>\n",
       "    <tr>\n",
       "      <th>2</th>\n",
       "      <td>[3.728857e-05, -0.0001664555, -7.4023155e-05, ...</td>\n",
       "      <td>22050</td>\n",
       "      <td>9.0</td>\n",
       "      <td>artifact</td>\n",
       "    </tr>\n",
       "    <tr>\n",
       "      <th>3</th>\n",
       "      <td>[-0.0027429417, -0.0066496185, -0.0049779303, ...</td>\n",
       "      <td>22050</td>\n",
       "      <td>9.0</td>\n",
       "      <td>artifact</td>\n",
       "    </tr>\n",
       "    <tr>\n",
       "      <th>4</th>\n",
       "      <td>[0.000106223946, 0.0015002153, 0.0097254915, 0...</td>\n",
       "      <td>22050</td>\n",
       "      <td>9.0</td>\n",
       "      <td>artifact</td>\n",
       "    </tr>\n",
       "  </tbody>\n",
       "</table>\n",
       "</div>"
      ],
      "text/plain": [
       "                                              signal  sampling_rate  \\\n",
       "0  [2.2960085e-05, -0.00012982322, -0.00018070513...          22050   \n",
       "1  [-1.0927635e-05, 1.0574424e-06, 2.108567e-06, ...          22050   \n",
       "2  [3.728857e-05, -0.0001664555, -7.4023155e-05, ...          22050   \n",
       "3  [-0.0027429417, -0.0066496185, -0.0049779303, ...          22050   \n",
       "4  [0.000106223946, 0.0015002153, 0.0097254915, 0...          22050   \n",
       "\n",
       "   audio_length     label  \n",
       "0           9.0  artifact  \n",
       "1           9.0  artifact  \n",
       "2           9.0  artifact  \n",
       "3           9.0  artifact  \n",
       "4           9.0  artifact  "
      ]
     },
     "execution_count": 3,
     "metadata": {},
     "output_type": "execute_result"
    }
   ],
   "source": [
    "dataset = read_and_combine_data('453_923_bundle_archive', read_noisy_data=False)\n",
    "print(dataset.shape)\n",
    "dataset.head()"
   ]
  },
  {
   "cell_type": "code",
   "execution_count": 4,
   "metadata": {},
   "outputs": [],
   "source": [
    "def relabel(label):\n",
    "    if (label == \"normal\"):\n",
    "        return \"normal\"\n",
    "    else:\n",
    "        return \"abnormal\"\n",
    "dataset['label'] = dataset['label'].apply(relabel)"
   ]
  },
  {
   "cell_type": "code",
   "execution_count": 5,
   "metadata": {},
   "outputs": [
    {
     "data": {
      "image/png": "[encoded data removed]",
      "text/plain": [
       "<Figure size 1080x360 with 1 Axes>"
      ]
     },
     "metadata": {
      "needs_background": "light"
     },
     "output_type": "display_data"
    }
   ],
   "source": [
    "label_counts = dataset['label'].value_counts()\n",
    "\n",
    "plt.figure(figsize=(15,5))\n",
    "plt.barh(label_counts.index, label_counts.values)\n",
    "plt.xlabel(\"Value Counts\")\n",
    "plt.ylabel(\"Condition\")\n",
    "plt.title(\"The Distribution of Different Labels in the Re-labeled Dataset\")\n",
    "plt.show()"
   ]
  },
  {
   "cell_type": "markdown",
   "metadata": {},
   "source": [
    "Let's split our data now into a simple train/test stratified split"
   ]
  },
  {
   "cell_type": "code",
   "execution_count": 6,
   "metadata": {},
   "outputs": [
    {
     "name": "stdout",
     "output_type": "stream",
     "text": [
      "(305, 4)\n",
      "(131, 4)\n"
     ]
    }
   ],
   "source": [
    "from sklearn.model_selection import train_test_split\n",
    "\n",
    "train_dataset, test_dataset = train_test_split(dataset, test_size=0.3, stratify=dataset['label'], random_state=1)\n",
    "print(train_dataset.shape)\n",
    "print(test_dataset.shape)"
   ]
  },
  {
   "cell_type": "markdown",
   "metadata": {},
   "source": [
    "And look at the data. As we can see each row contains:\n",
    "* A signal (which is a numpy array)\n",
    "* A sampling rate (they all have the same sampling rate but it's useful to have that information handy)\n",
    "* The audio_length in seconds\n",
    "* The label which is the target"
   ]
  },
  {
   "cell_type": "code",
   "execution_count": 7,
   "metadata": {},
   "outputs": [
    {
     "data": {
      "text/html": [
       "<div>\n",
       "<style scoped>\n",
       "    .dataframe tbody tr th:only-of-type {\n",
       "        vertical-align: middle;\n",
       "    }\n",
       "\n",
       "    .dataframe tbody tr th {\n",
       "        vertical-align: top;\n",
       "    }\n",
       "\n",
       "    .dataframe thead th {\n",
       "        text-align: right;\n",
       "    }\n",
       "</style>\n",
       "<table border=\"1\" class=\"dataframe\">\n",
       "  <thead>\n",
       "    <tr style=\"text-align: right;\">\n",
       "      <th></th>\n",
       "      <th>signal</th>\n",
       "      <th>sampling_rate</th>\n",
       "      <th>audio_length</th>\n",
       "      <th>label</th>\n",
       "    </tr>\n",
       "  </thead>\n",
       "  <tbody>\n",
       "    <tr>\n",
       "      <th>302</th>\n",
       "      <td>[-0.014594975, -0.016623363, -0.017930867, -0....</td>\n",
       "      <td>22050</td>\n",
       "      <td>5.025533</td>\n",
       "      <td>normal</td>\n",
       "    </tr>\n",
       "    <tr>\n",
       "      <th>401</th>\n",
       "      <td>[0.00535502, 0.0048318487, 0.0038144102, 0.002...</td>\n",
       "      <td>22050</td>\n",
       "      <td>1.724263</td>\n",
       "      <td>normal</td>\n",
       "    </tr>\n",
       "    <tr>\n",
       "      <th>311</th>\n",
       "      <td>[-0.0009814408, -0.00052338943, 9.0988244e-05,...</td>\n",
       "      <td>22050</td>\n",
       "      <td>3.822766</td>\n",
       "      <td>normal</td>\n",
       "    </tr>\n",
       "    <tr>\n",
       "      <th>346</th>\n",
       "      <td>[-0.007578952, -0.011004641, -0.015165693, -0....</td>\n",
       "      <td>22050</td>\n",
       "      <td>4.312018</td>\n",
       "      <td>normal</td>\n",
       "    </tr>\n",
       "    <tr>\n",
       "      <th>410</th>\n",
       "      <td>[-0.030912954, -0.033952978, -0.035377894, -0....</td>\n",
       "      <td>22050</td>\n",
       "      <td>3.167755</td>\n",
       "      <td>normal</td>\n",
       "    </tr>\n",
       "  </tbody>\n",
       "</table>\n",
       "</div>"
      ],
      "text/plain": [
       "                                                signal  sampling_rate  \\\n",
       "302  [-0.014594975, -0.016623363, -0.017930867, -0....          22050   \n",
       "401  [0.00535502, 0.0048318487, 0.0038144102, 0.002...          22050   \n",
       "311  [-0.0009814408, -0.00052338943, 9.0988244e-05,...          22050   \n",
       "346  [-0.007578952, -0.011004641, -0.015165693, -0....          22050   \n",
       "410  [-0.030912954, -0.033952978, -0.035377894, -0....          22050   \n",
       "\n",
       "     audio_length   label  \n",
       "302      5.025533  normal  \n",
       "401      1.724263  normal  \n",
       "311      3.822766  normal  \n",
       "346      4.312018  normal  \n",
       "410      3.167755  normal  "
      ]
     },
     "execution_count": 7,
     "metadata": {},
     "output_type": "execute_result"
    }
   ],
   "source": [
    "train_dataset.head()"
   ]
  },
  {
   "cell_type": "markdown",
   "metadata": {},
   "source": [
    "## Dataset Augmentation\n",
    "\n",
    "We won't get very far with the examples we have. There aren't very many of them\n",
    "\n",
    "Luckily, we can easily augment the dataset by shifting the data and/or adding some noise"
   ]
  },
  {
   "cell_type": "code",
   "execution_count": 8,
   "metadata": {},
   "outputs": [],
   "source": [
    "DATASET_TARGET = train_dataset.shape[0]\n",
    "DATASET_TARGET = 1500"
   ]
  },
  {
   "cell_type": "code",
   "execution_count": 9,
   "metadata": {},
   "outputs": [
    {
     "data": {
      "text/plain": [
       "normal      0.468852\n",
       "abnormal    0.531148\n",
       "Name: label, dtype: float64"
      ]
     },
     "execution_count": 9,
     "metadata": {},
     "output_type": "execute_result"
    }
   ],
   "source": [
    "# find the label ratios\n",
    "inverse_counts = 1/train_dataset['label'].value_counts()\n",
    "probability_counts = inverse_counts/inverse_counts.sum()\n",
    "probability_counts"
   ]
  },
  {
   "cell_type": "code",
   "execution_count": 10,
   "metadata": {},
   "outputs": [],
   "source": [
    "# https://medium.com/@makcedward/data-augmentation-for-audio-76912b01fdf6\n",
    "    \n",
    "def shift_sound(data, sampling_rate, shift_max, shift_direction='both'):\n",
    "    shift = np.random.randint(int(shift_max * data.shape[0]))\n",
    "    if shift_direction == 'right':\n",
    "        shift = -shift\n",
    "    elif shift_direction == 'both':\n",
    "        direction = np.random.randint(0, 2)\n",
    "        if direction == 1:\n",
    "            shift = -shift\n",
    "    augmented_data = np.roll(data, shift)\n",
    "    # Set to silence for heading/ tailing\n",
    "    if shift > 0:\n",
    "        augmented_data = augmented_data[shift:]\n",
    "    else:\n",
    "        augmented_data = augmented_data[:shift]\n",
    "    return augmented_data"
   ]
  },
  {
   "cell_type": "code",
   "execution_count": 11,
   "metadata": {},
   "outputs": [],
   "source": [
    "def make_noise(data, noise_factor):\n",
    "    \n",
    "    noise = np.random.randn(len(data))\n",
    "    augmented_data = data + noise_factor * noise\n",
    "    \n",
    "    \n",
    "    return augmented_data"
   ]
  },
  {
   "cell_type": "code",
   "execution_count": 12,
   "metadata": {},
   "outputs": [
    {
     "name": "stdout",
     "output_type": "stream",
     "text": [
      "(1500, 4)\r"
     ]
    }
   ],
   "source": [
    "choices = np.random.choice(probability_counts.index, \n",
    "                           p=probability_counts.values, \n",
    "                           size=(DATASET_TARGET,))\n",
    "i = 0\n",
    "\n",
    "# Do this so we don't make a variant of a variant, but keep choosing from the original data\n",
    "new_dataset = train_dataset.copy()\n",
    "\n",
    "while new_dataset.shape[0] < DATASET_TARGET:\n",
    "    choice = choices[i]\n",
    "    available_instances = train_dataset[train_dataset['label'] == choice]\n",
    "    selected_row_position = np.random.randint(available_instances.shape[0])\n",
    "    \n",
    "    selected_row = available_instances.iloc[selected_row_position]\n",
    "    \n",
    "    base_signal = selected_row['signal']\n",
    "    sampling_rate = selected_row['sampling_rate']\n",
    "    \n",
    "    shift_direction = 'both'\n",
    "    new_signal = shift_sound(base_signal, sampling_rate, (np.random.random()*0.3), shift_direction)\n",
    "    \n",
    "        \n",
    "    if (new_signal.shape[0] > 0):\n",
    "    \n",
    "        new_series = pd.Series({'signal' :new_signal, 'sampling_rate': sampling_rate, 'label': choice})\n",
    "        new_dataset = new_dataset.append(new_series, ignore_index=True)\n",
    "    \n",
    "        print(new_dataset.shape, end=\"\\r\")\n",
    "    i+= 1\n",
    "    \n",
    "train_dataset = new_dataset"
   ]
  },
  {
   "cell_type": "markdown",
   "metadata": {},
   "source": [
    "Now let's define a class which will convert the signals into Mel spectrograms"
   ]
  },
  {
   "cell_type": "code",
   "execution_count": 13,
   "metadata": {},
   "outputs": [],
   "source": [
    "class MelEncoder:\n",
    "    \n",
    "    '''\n",
    "        This transformer takes an audio signal and employes librosa\n",
    "        to transform the audio signal into a Mel-frequency spectrogram.\n",
    "        \n",
    "        The transformation transforms the audio signal from samples in a \n",
    "        time domain, to frequencies over each time window. The frequencies\n",
    "        are then collected into buckets which are easily distinguished by\n",
    "        human hearing\n",
    "        \n",
    "        The code here is largely dervied from functions in \n",
    "        https://towardsdatascience.com/getting-to-know-the-mel-spectrogram-31bca3e2d9d0\n",
    "        \n",
    "        I took those and turned them into a class for an easy interface\n",
    "    '''\n",
    "    \n",
    "    def __init__(self, \n",
    "                 flatten=True, \n",
    "                 n_fft=2048, \n",
    "                 hop_length=512, \n",
    "                 n_mels=128, \n",
    "                 sampling_rate=22050.0, \n",
    "                 n_windows=1000, \n",
    "                 verbose=0):\n",
    "        \n",
    "        \n",
    "        self.n_fft = n_fft\n",
    "        self.hop_length = hop_length\n",
    "        self.n_mels = n_mels\n",
    "        self.sampling_rate = sampling_rate\n",
    "        self.n_windows = n_windows\n",
    "        self.verbose = verbose\n",
    "        \n",
    "        \n",
    "        self.flatten = flatten\n",
    "        \n",
    "    ################################################################################################\n",
    "    def fit(self, X, y=None):\n",
    "        '''\n",
    "            This method doesn't do much except initialize a private variables\n",
    "        '''\n",
    "        self.longest_signal_length = None\n",
    "        \n",
    "        \n",
    "    ################################################################################################    \n",
    "    def _signal_to_mel_spectrogram(self, signal):\n",
    "        '''\n",
    "            This method accepts an audio signal as a list of measurements\n",
    "            and returns the signal broken up into the Mel scale.\n",
    "            \n",
    "            If n_windows was specified, the signal is broken up into\n",
    "            n_windows. Otherwise, the signal is broken up based\n",
    "            on hop_length and is broken into however many windows\n",
    "            can be fitted using hop_length\n",
    "        '''\n",
    "        \n",
    "        \n",
    "        if (self.n_windows is not None):\n",
    "            hop_length = signal.shape[0]//self.n_windows\n",
    "        else:\n",
    "            hop_length = self.hop_length\n",
    "        S = librosa.feature.melspectrogram(signal, \n",
    "                                           sr=self.sampling_rate, \n",
    "                                           n_fft=self.n_fft, \n",
    "                                           hop_length=hop_length, \n",
    "                                           n_mels=self.n_mels)\n",
    "        S_DB = librosa.power_to_db(S, ref=np.max)\n",
    "        return S_DB\n",
    "    \n",
    "    ################################################################################################\n",
    "    def _create_spectrogram_list(self, X):\n",
    "        '''\n",
    "            This method accepts a an array of signals \n",
    "            (each signal is a list of measurements)\n",
    "            and returns a list of the Mel spectrograms\n",
    "            corresponding to each signal\n",
    "        '''\n",
    "        \n",
    "        spectrogram_list = []\n",
    "        \n",
    "        \n",
    "        for i, signal in enumerate(X):\n",
    "                mel_spectrogram = self._signal_to_mel_spectrogram(signal)\n",
    "                spectrogram_list.append(mel_spectrogram)\n",
    "                if (self.verbose):\n",
    "                    print(f\"processed: {round(100*i/X.shape[0], 2)}%\", end=\"\\r\")\n",
    "                    \n",
    "                \n",
    "        print(f\"processed: {round(100*i/X.shape[0], 2)}%\")\n",
    "        \n",
    "        return spectrogram_list\n",
    "    \n",
    "    ################################################################################################\n",
    "    def _find_longest_signal_length(self, spectrogram_list):\n",
    "        '''\n",
    "            This method accepts a spectrogram list and finds\n",
    "            the length of the longest spectrogram\n",
    "        '''\n",
    "        \n",
    "        max_length = 0\n",
    "        for mel_spectrogram in spectrogram_list:\n",
    "            if (mel_spectrogram.shape[1] > max_length):\n",
    "                max_length = mel_spectrogram.shape[1]\n",
    "\n",
    "        return max_length\n",
    "    \n",
    "    ################################################################################################\n",
    "    def _build_mel_spectrogram_stack(self, spectrogram_list):\n",
    "        '''\n",
    "            This method accepts a list of spectrograms and\n",
    "            returns a numpy array which is a stack of those\n",
    "            spectrograms of shape (len(spectrogram_list), n_mels, N)\n",
    "            where N is the length of the longest spectrogram\n",
    "            in the list. \n",
    "            Empty spots are filled with -80 \n",
    "            (the default value for no signal)\n",
    "        '''\n",
    "        \n",
    "        X_transformed = np.full(shape=(len(spectrogram_list), self.n_mels, self.longest_signal_length),\n",
    "                                fill_value=-80.0)\n",
    "        \n",
    "        for i, mel_spectrogram in enumerate(spectrogram_list):\n",
    "            if (mel_spectrogram.shape[1] <= self.longest_signal_length):\n",
    "                X_transformed[i, :, -mel_spectrogram.shape[1]:] = mel_spectrogram[:, :]\n",
    "            else:\n",
    "                X_transformed[i, :, :] = mel_spectrogram[:, -self.longest_signal_length:]\n",
    "                \n",
    "        return X_transformed\n",
    "    \n",
    "    \n",
    "    \n",
    "    ################################################################################################\n",
    "    def transform(self, X):\n",
    "        '''\n",
    "            This method accepts an array of audio signals and returns\n",
    "            a numpy array of spectrograms \n",
    "            \n",
    "            The spectrogram array returns with shape (len(X), n_mels, N) \n",
    "            where N is the length of the longest spectrogram, if flatten \n",
    "            was set to True\n",
    "            \n",
    "            The spectrogram array returns with shape (len(X), n_mels X N) \n",
    "            where N is the length of the longest spectrogram, if flatten \n",
    "            was set to False\n",
    "            \n",
    "            \n",
    "        '''\n",
    "        \n",
    "        spectrogram_list = self._create_spectrogram_list(X)\n",
    "        \n",
    "        if (self.longest_signal_length is None):\n",
    "            self.longest_signal_length = self._find_longest_signal_length(spectrogram_list)\n",
    "            \n",
    "        X_transformed = self._build_mel_spectrogram_stack(spectrogram_list)\n",
    "        \n",
    "        \n",
    "        if (self.flatten):\n",
    "            return X_transformed.reshape(X_transformed.shape[0], -1)\n",
    "        else:\n",
    "            return X_transformed\n",
    "        \n",
    "    ################################################################################################ \n",
    "    def fit_transform(self, X, y=None):\n",
    "        '''\n",
    "            This method accepts an array of audio signals and returns\n",
    "            a numpy array of spectrograms \n",
    "            \n",
    "            The spectrogram array returns with shape (len(X), n_mels, N) \n",
    "            where N is the length of the longest spectrogram, if flatten \n",
    "            was set to True\n",
    "            \n",
    "            The spectrogram array returns with shape (len(X), n_mels X N) \n",
    "            where N is the length of the longest spectrogram, if flatten \n",
    "            was set to False\n",
    "        '''\n",
    "        return self.fit(X).transform(X)"
   ]
  },
  {
   "cell_type": "markdown",
   "metadata": {},
   "source": [
    "Let's employ out encoder and transform the data. Since we'll be using basic machine learning models we will flatten the output"
   ]
  },
  {
   "cell_type": "code",
   "execution_count": 14,
   "metadata": {},
   "outputs": [
    {
     "name": "stdout",
     "output_type": "stream",
     "text": [
      "processed: 99.93%\n"
     ]
    },
    {
     "data": {
      "text/plain": [
       "(1500, 135296)"
      ]
     },
     "execution_count": 14,
     "metadata": {},
     "output_type": "execute_result"
    }
   ],
   "source": [
    "my_encoder = MelEncoder(n_mels=128, n_windows=1000, verbose=1)\n",
    "my_encoder.fit(train_dataset['signal'])\n",
    "\n",
    "X_train_mel = my_encoder.transform(train_dataset['signal'])\n",
    "X_train_mel.shape"
   ]
  },
  {
   "cell_type": "code",
   "execution_count": 15,
   "metadata": {
    "scrolled": true
   },
   "outputs": [
    {
     "name": "stdout",
     "output_type": "stream",
     "text": [
      "processed: 99.24%\n"
     ]
    },
    {
     "data": {
      "text/plain": [
       "(131, 135296)"
      ]
     },
     "execution_count": 15,
     "metadata": {},
     "output_type": "execute_result"
    }
   ],
   "source": [
    "X_test_mel = my_encoder.transform(test_dataset['signal'])\n",
    "X_test_mel.shape"
   ]
  },
  {
   "cell_type": "markdown",
   "metadata": {},
   "source": [
    "## PCA\n",
    "\n",
    "Since there is a very small collection of data points, we can embed them in a much smaller dimensional space without losing any of the variance.\n",
    "\n",
    "Let's scale the data:"
   ]
  },
  {
   "cell_type": "code",
   "execution_count": 16,
   "metadata": {},
   "outputs": [],
   "source": [
    "from sklearn.preprocessing import MinMaxScaler"
   ]
  },
  {
   "cell_type": "code",
   "execution_count": 17,
   "metadata": {},
   "outputs": [
    {
     "name": "stdout",
     "output_type": "stream",
     "text": [
      "CPU times: user 2.49 s, sys: 654 ms, total: 3.15 s\n",
      "Wall time: 2.18 s\n"
     ]
    }
   ],
   "source": [
    "%%time \n",
    "my_mmscaler = MinMaxScaler()\n",
    "\n",
    "X_train_mel = my_mmscaler.fit_transform(X_train_mel)\n",
    "X_test_mel = my_mmscaler.transform(X_test_mel)"
   ]
  },
  {
   "cell_type": "markdown",
   "metadata": {},
   "source": [
    "And employ PCA to reduce the number of dimensions to the smaller of the row number or column number. In this case the data is <font color=\"red\">$2,000 \\times 134,400$ in size, so it will be reduced to $2,000 \\times 2,000$"
   ]
  },
  {
   "cell_type": "code",
   "execution_count": 18,
   "metadata": {},
   "outputs": [
    {
     "name": "stdout",
     "output_type": "stream",
     "text": [
      "CPU times: user 12min 2s, sys: 28 s, total: 12min 30s\n",
      "Wall time: 1min 18s\n"
     ]
    },
    {
     "data": {
      "text/plain": [
       "PCA(n_components=0.95)"
      ]
     },
     "execution_count": 18,
     "metadata": {},
     "output_type": "execute_result"
    }
   ],
   "source": [
    "%%time \n",
    "\n",
    "component_number = 0.95\n",
    "#component_number = min(*X_train_mel.shape)\n",
    "my_pca = PCA(n_components=component_number, svd_solver='auto')\n",
    "my_pca.fit(X_train_mel)"
   ]
  },
  {
   "cell_type": "code",
   "execution_count": 19,
   "metadata": {},
   "outputs": [
    {
     "data": {
      "image/png": "[encoded data removed]",
      "text/plain": [
       "<Figure size 1080x360 with 1 Axes>"
      ]
     },
     "metadata": {
      "needs_background": "light"
     },
     "output_type": "display_data"
    }
   ],
   "source": [
    "plt.figure(figsize=(15,5))\n",
    "plt.plot(my_pca.explained_variance_ratio_.cumsum())\n",
    "plt.xlabel(\"Component Number\")\n",
    "plt.ylabel(\"Explained Variance\")\n",
    "plt.show()"
   ]
  },
  {
   "cell_type": "code",
   "execution_count": 20,
   "metadata": {},
   "outputs": [],
   "source": [
    "X_train_mel = my_pca.transform(X_train_mel)\n",
    "X_test_mel = my_pca.transform(X_test_mel)"
   ]
  },
  {
   "cell_type": "code",
   "execution_count": 21,
   "metadata": {},
   "outputs": [
    {
     "data": {
      "text/plain": [
       "(1500, 156)"
      ]
     },
     "execution_count": 21,
     "metadata": {},
     "output_type": "execute_result"
    }
   ],
   "source": [
    "X_train_mel.shape"
   ]
  },
  {
   "cell_type": "code",
   "execution_count": 22,
   "metadata": {},
   "outputs": [
    {
     "data": {
      "text/plain": [
       "(131, 156)"
      ]
     },
     "execution_count": 22,
     "metadata": {},
     "output_type": "execute_result"
    }
   ],
   "source": [
    "X_test_mel.shape"
   ]
  },
  {
   "cell_type": "markdown",
   "metadata": {},
   "source": [
    "Let's encode the categorical targets into labels"
   ]
  },
  {
   "cell_type": "code",
   "execution_count": 23,
   "metadata": {},
   "outputs": [
    {
     "name": "stdout",
     "output_type": "stream",
     "text": [
      "(1500, 156) (131, 156)\n",
      "(1500,) (131,)\n"
     ]
    }
   ],
   "source": [
    "condition_label_encoder = LabelEncoder()\n",
    "\n",
    "\n",
    "y_train = condition_label_encoder.fit_transform(train_dataset['label'])[:X_train_mel.shape[0]]\n",
    "y_test = condition_label_encoder.transform(test_dataset['label'])\n",
    "\n",
    "print(X_train_mel.shape, X_test_mel.shape)\n",
    "print(y_train.shape, y_test.shape)"
   ]
  },
  {
   "cell_type": "markdown",
   "metadata": {},
   "source": [
    "## Basic Model - Logistic Regression\n",
    "\n",
    "Let's start by establishing a baseline performance. I'm going to load the data into a logistic regression and see how it performs out-of-the-box"
   ]
  },
  {
   "cell_type": "code",
   "execution_count": 24,
   "metadata": {},
   "outputs": [
    {
     "name": "stdout",
     "output_type": "stream",
     "text": [
      "CPU times: user 198 ms, sys: 14.5 ms, total: 213 ms\n",
      "Wall time: 214 ms\n"
     ]
    }
   ],
   "source": [
    "%%time\n",
    "\n",
    "my_logit = LogisticRegression(solver='saga', random_state=1).fit(X_train_mel, y_train)\n",
    "train_acc = my_logit.score(X_train_mel, y_train)\n",
    "test_acc = my_logit.score(X_test_mel, y_test)"
   ]
  },
  {
   "cell_type": "code",
   "execution_count": 25,
   "metadata": {},
   "outputs": [
    {
     "name": "stdout",
     "output_type": "stream",
     "text": [
      "The training accuracy is 78.0%\n",
      "The test accuracy is 64.12%\n"
     ]
    }
   ],
   "source": [
    "print(f\"The training accuracy is {round(train_acc*100,2)}%\")\n",
    "print(f\"The test accuracy is {round(test_acc*100,2)}%\")"
   ]
  },
  {
   "cell_type": "markdown",
   "metadata": {},
   "source": [
    "Extremely suspicious results. There is clearly a very large sign of overfitting here. We can look at the confusion matrix, and normalize across the predictions"
   ]
  },
  {
   "cell_type": "code",
   "execution_count": 26,
   "metadata": {},
   "outputs": [
    {
     "data": {
      "image/png": "[encoded data removed]",
      "text/plain": [
       "<Figure size 504x504 with 2 Axes>"
      ]
     },
     "metadata": {
      "needs_background": "light"
     },
     "output_type": "display_data"
    }
   ],
   "source": [
    "figure, ax = plt.subplots(figsize=(7, 7))\n",
    "disp = plot_confusion_matrix(my_logit, X_test_mel, y_test,\n",
    "                             display_labels=condition_label_encoder.classes_,\n",
    "                             cmap=plt.cm.Blues,\n",
    "                             normalize='pred',\n",
    "                             ax=ax)\n",
    "disp.ax_.set_title(\"Logit Confusion Matrix\")\n",
    "plt.show()"
   ]
  },
  {
   "cell_type": "markdown",
   "metadata": {},
   "source": [
    "Certainly we see an improvement over the non-augmented data where if our model predicted an example to be \"normal\" it will be right 58% of the time, and wrong 48% of the time\n",
    "\n",
    "Let's run a grid search and see if we can find a better configuration"
   ]
  },
  {
   "cell_type": "code",
   "execution_count": 27,
   "metadata": {},
   "outputs": [],
   "source": [
    "CV_FOLD = 5"
   ]
  },
  {
   "cell_type": "code",
   "execution_count": 28,
   "metadata": {},
   "outputs": [],
   "source": [
    "param_grid = {'penalty': ['l1', 'l2'],\n",
    "              'C': [2**i for i in range(-17, 18)]}\n",
    "my_estimator = LogisticRegression(solver='saga', random_state=1)\n",
    "\n",
    "my_logit_gs = GridSearchCV(my_estimator, \n",
    "                           param_grid, \n",
    "                           cv=CV_FOLD, \n",
    "                           verbose=1, \n",
    "                           n_jobs=multiprocessing.cpu_count()-2)"
   ]
  },
  {
   "cell_type": "code",
   "execution_count": 29,
   "metadata": {
    "scrolled": false
   },
   "outputs": [
    {
     "name": "stdout",
     "output_type": "stream",
     "text": [
      "Fitting 5 folds for each of 70 candidates, totalling 350 fits\n"
     ]
    },
    {
     "name": "stderr",
     "output_type": "stream",
     "text": [
      "[Parallel(n_jobs=10)]: Using backend LokyBackend with 10 concurrent workers.\n",
      "[Parallel(n_jobs=10)]: Done  30 tasks      | elapsed:    1.3s\n",
      "[Parallel(n_jobs=10)]: Done 350 out of 350 | elapsed:    8.9s finished\n"
     ]
    },
    {
     "name": "stdout",
     "output_type": "stream",
     "text": [
      "CPU times: user 576 ms, sys: 190 ms, total: 766 ms\n",
      "Wall time: 9.36 s\n"
     ]
    },
    {
     "data": {
      "text/plain": [
       "GridSearchCV(cv=5, estimator=LogisticRegression(random_state=1, solver='saga'),\n",
       "             n_jobs=10,\n",
       "             param_grid={'C': [7.62939453125e-06, 1.52587890625e-05,\n",
       "                               3.0517578125e-05, 6.103515625e-05,\n",
       "                               0.0001220703125, 0.000244140625, 0.00048828125,\n",
       "                               0.0009765625, 0.001953125, 0.00390625, 0.0078125,\n",
       "                               0.015625, 0.03125, 0.0625, 0.125, 0.25, 0.5, 1,\n",
       "                               2, 4, 8, 16, 32, 64, 128, 256, 512, 1024, 2048,\n",
       "                               4096, ...],\n",
       "                         'penalty': ['l1', 'l2']},\n",
       "             verbose=1)"
      ]
     },
     "execution_count": 29,
     "metadata": {},
     "output_type": "execute_result"
    }
   ],
   "source": [
    "%%time\n",
    "my_logit_gs.fit(X_train_mel, y_train);"
   ]
  },
  {
   "cell_type": "code",
   "execution_count": 30,
   "metadata": {},
   "outputs": [
    {
     "data": {
      "text/plain": [
       "{'C': 4, 'penalty': 'l1'}"
      ]
     },
     "execution_count": 30,
     "metadata": {},
     "output_type": "execute_result"
    }
   ],
   "source": [
    "my_logit_gs.best_params_"
   ]
  },
  {
   "cell_type": "code",
   "execution_count": 31,
   "metadata": {},
   "outputs": [],
   "source": [
    "train_acc = my_logit_gs.score(X_train_mel, y_train)\n",
    "test_acc = my_logit_gs.score(X_test_mel, y_test)"
   ]
  },
  {
   "cell_type": "code",
   "execution_count": 32,
   "metadata": {},
   "outputs": [
    {
     "name": "stdout",
     "output_type": "stream",
     "text": [
      "The training accuracy is 78.07%\n",
      "The test accuracy is 64.12%\n"
     ]
    }
   ],
   "source": [
    "print(f\"The training accuracy is {round(train_acc*100,2)}%\")\n",
    "print(f\"The test accuracy is {round(test_acc*100,2)}%\")"
   ]
  },
  {
   "cell_type": "code",
   "execution_count": 33,
   "metadata": {},
   "outputs": [
    {
     "data": {
      "image/png": "[encoded data removed]",
      "text/plain": [
       "<Figure size 504x504 with 2 Axes>"
      ]
     },
     "metadata": {
      "needs_background": "light"
     },
     "output_type": "display_data"
    }
   ],
   "source": [
    "figure, ax = plt.subplots(figsize=(7, 7))\n",
    "disp = plot_confusion_matrix(my_logit_gs, X_test_mel, y_test,\n",
    "                             display_labels=condition_label_encoder.classes_,\n",
    "                             cmap=plt.cm.Blues,\n",
    "                             normalize='pred',\n",
    "                             ax=ax)\n",
    "disp.ax_.set_title(\"Logit Confusion Matrix\")\n",
    "plt.show()"
   ]
  },
  {
   "cell_type": "markdown",
   "metadata": {},
   "source": [
    "Our results have not improved much over the cross validation"
   ]
  },
  {
   "cell_type": "code",
   "execution_count": 34,
   "metadata": {},
   "outputs": [],
   "source": [
    "y_proba = my_logit_gs.predict_proba(X_test_mel)"
   ]
  },
  {
   "cell_type": "code",
   "execution_count": 35,
   "metadata": {},
   "outputs": [
    {
     "data": {
      "image/png": "[encoded data removed]",
      "text/plain": [
       "<Figure size 1080x360 with 1 Axes>"
      ]
     },
     "metadata": {
      "needs_background": "light"
     },
     "output_type": "display_data"
    }
   ],
   "source": [
    "plt.figure(figsize=(15, 5))\n",
    "plt.scatter(y_proba[:, 1], y_test)\n",
    "plt.show();"
   ]
  },
  {
   "cell_type": "markdown",
   "metadata": {},
   "source": [
    "We are going to run other models for comparison purposes. Let's create a dataframe that will store these results for us. That way we can later easily perform a statistical analysis on the models and compare their performances visually"
   ]
  },
  {
   "cell_type": "code",
   "execution_count": 36,
   "metadata": {},
   "outputs": [
    {
     "data": {
      "text/html": [
       "<div>\n",
       "<style scoped>\n",
       "    .dataframe tbody tr th:only-of-type {\n",
       "        vertical-align: middle;\n",
       "    }\n",
       "\n",
       "    .dataframe tbody tr th {\n",
       "        vertical-align: top;\n",
       "    }\n",
       "\n",
       "    .dataframe thead th {\n",
       "        text-align: right;\n",
       "    }\n",
       "</style>\n",
       "<table border=\"1\" class=\"dataframe\">\n",
       "  <thead>\n",
       "    <tr style=\"text-align: right;\">\n",
       "      <th></th>\n",
       "      <th>model</th>\n",
       "      <th>dataset</th>\n",
       "      <th>score</th>\n",
       "    </tr>\n",
       "  </thead>\n",
       "  <tbody>\n",
       "  </tbody>\n",
       "</table>\n",
       "</div>"
      ],
      "text/plain": [
       "Empty DataFrame\n",
       "Columns: [model, dataset, score]\n",
       "Index: []"
      ]
     },
     "execution_count": 36,
     "metadata": {},
     "output_type": "execute_result"
    }
   ],
   "source": [
    "total_run_times_dataframe = pd.DataFrame({\"model\": [],\n",
    "                                          \"dataset\": [],\n",
    "                                          \"score\": []})\n",
    "total_run_times_dataframe"
   ]
  },
  {
   "cell_type": "code",
   "execution_count": 37,
   "metadata": {},
   "outputs": [
    {
     "data": {
      "text/html": [
       "<div>\n",
       "<style scoped>\n",
       "    .dataframe tbody tr th:only-of-type {\n",
       "        vertical-align: middle;\n",
       "    }\n",
       "\n",
       "    .dataframe tbody tr th {\n",
       "        vertical-align: top;\n",
       "    }\n",
       "\n",
       "    .dataframe thead th {\n",
       "        text-align: right;\n",
       "    }\n",
       "</style>\n",
       "<table border=\"1\" class=\"dataframe\">\n",
       "  <thead>\n",
       "    <tr style=\"text-align: right;\">\n",
       "      <th></th>\n",
       "      <th>model</th>\n",
       "      <th>dataset</th>\n",
       "      <th>score</th>\n",
       "    </tr>\n",
       "  </thead>\n",
       "  <tbody>\n",
       "    <tr>\n",
       "      <th>0</th>\n",
       "      <td>Logistic Regression</td>\n",
       "      <td>test</td>\n",
       "      <td>0.641221</td>\n",
       "    </tr>\n",
       "    <tr>\n",
       "      <th>1</th>\n",
       "      <td>Logistic Regression</td>\n",
       "      <td>train</td>\n",
       "      <td>0.780667</td>\n",
       "    </tr>\n",
       "  </tbody>\n",
       "</table>\n",
       "</div>"
      ],
      "text/plain": [
       "                 model dataset     score\n",
       "0  Logistic Regression    test  0.641221\n",
       "1  Logistic Regression   train  0.780667"
      ]
     },
     "execution_count": 37,
     "metadata": {},
     "output_type": "execute_result"
    }
   ],
   "source": [
    "current_row = total_run_times_dataframe.shape[0]\n",
    "total_run_times_dataframe.loc[current_row, 'model'] = \"Logistic Regression\"\n",
    "total_run_times_dataframe.loc[current_row, 'dataset'] = \"test\"\n",
    "total_run_times_dataframe.loc[current_row, 'score'] = test_acc\n",
    "\n",
    "current_row = total_run_times_dataframe.shape[0]\n",
    "total_run_times_dataframe.loc[current_row, 'model'] = \"Logistic Regression\"\n",
    "total_run_times_dataframe.loc[current_row, 'dataset'] = \"train\"\n",
    "total_run_times_dataframe.loc[current_row, 'score'] = train_acc\n",
    "total_run_times_dataframe"
   ]
  },
  {
   "cell_type": "markdown",
   "metadata": {},
   "source": [
    "### Let's write a function for all that\n",
    "\n",
    "The function will perform grid search, will output confusion matrices for us, and will update our dataframe of results"
   ]
  },
  {
   "cell_type": "code",
   "execution_count": 38,
   "metadata": {},
   "outputs": [],
   "source": [
    "def run_model(estimator, param_grid, X_train_mel, y_train, X_test_mel, y_test, total_run_times_dataframe, model_name, search_type='gs'):\n",
    "    \n",
    "    print(\"Fitting model\")\n",
    "    if (search_type ==  'gs'):\n",
    "        my_gs = GridSearchCV(estimator, param_grid, cv=CV_FOLD, verbose=1, n_jobs=multiprocessing.cpu_count()-2)\n",
    "    elif (search_type == 'random'):\n",
    "        my_gs = RandomizedSearchCV(estimator, \n",
    "                                   param_grid, \n",
    "                                   cv=CV_FOLD, \n",
    "                                   verbose=1, \n",
    "                                   n_jobs=multiprocessing.cpu_count()-2,\n",
    "                                   n_iter=1000)\n",
    "    else:\n",
    "        print(\"Search type has not been defined, must be either 'gs' or 'random'\")\n",
    "        my_gs = None\n",
    "        \n",
    "    my_gs.fit(X_train_mel, y_train);\n",
    "    \n",
    "    train_acc = my_gs.score(X_train_mel, y_train)\n",
    "    test_acc = my_gs.score(X_test_mel, y_test)\n",
    "    \n",
    "    print(f\"The training accuracy is {round(train_acc*100,2)}%\")\n",
    "    print(f\"The test accuracy is {round(test_acc*100,2)}%\")\n",
    "    print(f\"Optimal Parameters are: {my_gs.best_params_}\")\n",
    "    \n",
    "    \n",
    "    figure, ax = plt.subplots(figsize=(7, 7))\n",
    "    disp = plot_confusion_matrix(my_gs, X_test_mel, y_test,\n",
    "                             display_labels=condition_label_encoder.classes_,\n",
    "                             cmap=plt.cm.Blues,\n",
    "                             normalize='pred',\n",
    "                             ax=ax)\n",
    "    disp.ax_.set_title(f\"{model_name} Confusion Matrix\")\n",
    "    plt.show()\n",
    "    \n",
    "    \n",
    "    try:\n",
    "        y_proba = my_gs.predict_proba(X_test_mel)\n",
    "\n",
    "        plt.figure(figsize=(15, 5))    \n",
    "        plt.scatter(y_proba[:, 1], y_test)\n",
    "        plt.xlabel(\"Probabilities\")\n",
    "        plt.ylabel(\"True Class\")\n",
    "        plt.title(f\"Probabilities Predicted by {model_name} versus the True Classes\")\n",
    "        plt.show();\n",
    "    except AttributeError:\n",
    "        print(\"Model cannot output probabilities\")\n",
    "    \n",
    "    \n",
    "    current_row = total_run_times_dataframe.shape[0]\n",
    "    total_run_times_dataframe.loc[current_row, 'model'] = model_name\n",
    "    total_run_times_dataframe.loc[current_row, 'dataset'] = \"test\"\n",
    "    total_run_times_dataframe.loc[current_row, 'score'] = test_acc\n",
    "\n",
    "    current_row = total_run_times_dataframe.shape[0]\n",
    "    total_run_times_dataframe.loc[current_row, 'model'] = model_name\n",
    "    total_run_times_dataframe.loc[current_row, 'dataset'] = \"train\"\n",
    "    total_run_times_dataframe.loc[current_row, 'score'] = train_acc\n",
    "    total_run_times_dataframe\n",
    "    \n",
    "    \n",
    "    \n",
    "    \n",
    "    \n",
    "    "
   ]
  },
  {
   "cell_type": "markdown",
   "metadata": {},
   "source": [
    "Let's test that it works on the logistic regression and provides the same results as before:"
   ]
  },
  {
   "cell_type": "code",
   "execution_count": 39,
   "metadata": {},
   "outputs": [
    {
     "name": "stdout",
     "output_type": "stream",
     "text": [
      "Fitting model\n",
      "Fitting 5 folds for each of 70 candidates, totalling 350 fits\n"
     ]
    },
    {
     "name": "stderr",
     "output_type": "stream",
     "text": [
      "[Parallel(n_jobs=10)]: Using backend LokyBackend with 10 concurrent workers.\n",
      "[Parallel(n_jobs=10)]: Done  40 tasks      | elapsed:    0.2s\n",
      "[Parallel(n_jobs=10)]: Done 320 tasks      | elapsed:    8.0s\n",
      "[Parallel(n_jobs=10)]: Done 350 out of 350 | elapsed:    8.9s finished\n"
     ]
    },
    {
     "name": "stdout",
     "output_type": "stream",
     "text": [
      "The training accuracy is 78.07%\n",
      "The test accuracy is 64.12%\n",
      "Optimal Parameters are: {'C': 4, 'penalty': 'l1'}\n"
     ]
    },
    {
     "data": {
      "image/png": "[encoded data removed]",
      "text/plain": [
       "<Figure size 504x504 with 2 Axes>"
      ]
     },
     "metadata": {
      "needs_background": "light"
     },
     "output_type": "display_data"
    },
    {
     "data": {
      "image/png": "[encoded data removed]",
      "text/plain": [
       "<Figure size 1080x360 with 1 Axes>"
      ]
     },
     "metadata": {
      "needs_background": "light"
     },
     "output_type": "display_data"
    },
    {
     "data": {
      "text/html": [
       "<div>\n",
       "<style scoped>\n",
       "    .dataframe tbody tr th:only-of-type {\n",
       "        vertical-align: middle;\n",
       "    }\n",
       "\n",
       "    .dataframe tbody tr th {\n",
       "        vertical-align: top;\n",
       "    }\n",
       "\n",
       "    .dataframe thead th {\n",
       "        text-align: right;\n",
       "    }\n",
       "</style>\n",
       "<table border=\"1\" class=\"dataframe\">\n",
       "  <thead>\n",
       "    <tr style=\"text-align: right;\">\n",
       "      <th></th>\n",
       "      <th>model</th>\n",
       "      <th>dataset</th>\n",
       "      <th>score</th>\n",
       "    </tr>\n",
       "  </thead>\n",
       "  <tbody>\n",
       "    <tr>\n",
       "      <th>0</th>\n",
       "      <td>Logistic Regression</td>\n",
       "      <td>test</td>\n",
       "      <td>0.641221</td>\n",
       "    </tr>\n",
       "    <tr>\n",
       "      <th>1</th>\n",
       "      <td>Logistic Regression</td>\n",
       "      <td>train</td>\n",
       "      <td>0.780667</td>\n",
       "    </tr>\n",
       "    <tr>\n",
       "      <th>2</th>\n",
       "      <td>Logistic Regression</td>\n",
       "      <td>test</td>\n",
       "      <td>0.641221</td>\n",
       "    </tr>\n",
       "    <tr>\n",
       "      <th>3</th>\n",
       "      <td>Logistic Regression</td>\n",
       "      <td>train</td>\n",
       "      <td>0.780667</td>\n",
       "    </tr>\n",
       "  </tbody>\n",
       "</table>\n",
       "</div>"
      ],
      "text/plain": [
       "                 model dataset     score\n",
       "0  Logistic Regression    test  0.641221\n",
       "1  Logistic Regression   train  0.780667\n",
       "2  Logistic Regression    test  0.641221\n",
       "3  Logistic Regression   train  0.780667"
      ]
     },
     "execution_count": 39,
     "metadata": {},
     "output_type": "execute_result"
    }
   ],
   "source": [
    "param_grid = {'penalty': ['l1', 'l2'],\n",
    "              'C': [2**i for i in range(-17, 18)]}\n",
    "\n",
    "run_model(LogisticRegression(solver='saga', random_state=1), \n",
    "          param_grid, \n",
    "          X_train_mel, \n",
    "          y_train, \n",
    "          X_test_mel, \n",
    "          y_test, \n",
    "          total_run_times_dataframe, \n",
    "          \"Logistic Regression\")\n",
    "\n",
    "total_run_times_dataframe"
   ]
  },
  {
   "cell_type": "markdown",
   "metadata": {},
   "source": [
    "## Basic Model - Support Vector Machine\n",
    "\n",
    "We can also explore how well an optimized SVM will perform on our data. We will explore several regularization levels as well as several different out-of-the-box kernels available:"
   ]
  },
  {
   "cell_type": "code",
   "execution_count": 40,
   "metadata": {},
   "outputs": [
    {
     "name": "stdout",
     "output_type": "stream",
     "text": [
      "Fitting model\n",
      "Fitting 5 folds for each of 60 candidates, totalling 300 fits\n"
     ]
    },
    {
     "name": "stderr",
     "output_type": "stream",
     "text": [
      "[Parallel(n_jobs=10)]: Using backend LokyBackend with 10 concurrent workers.\n",
      "[Parallel(n_jobs=10)]: Done  30 tasks      | elapsed:    2.2s\n",
      "[Parallel(n_jobs=10)]: Done 180 tasks      | elapsed:   14.5s\n",
      "[Parallel(n_jobs=10)]: Done 300 out of 300 | elapsed:   18.8s finished\n"
     ]
    },
    {
     "name": "stdout",
     "output_type": "stream",
     "text": [
      "The training accuracy is 99.6%\n",
      "The test accuracy is 63.36%\n",
      "Optimal Parameters are: {'C': 100, 'kernel': 'rbf'}\n"
     ]
    },
    {
     "data": {
      "image/png": "[encoded data removed]",
      "text/plain": [
       "<Figure size 504x504 with 2 Axes>"
      ]
     },
     "metadata": {
      "needs_background": "light"
     },
     "output_type": "display_data"
    },
    {
     "name": "stdout",
     "output_type": "stream",
     "text": [
      "Model cannot output probabilities\n"
     ]
    },
    {
     "data": {
      "text/html": [
       "<div>\n",
       "<style scoped>\n",
       "    .dataframe tbody tr th:only-of-type {\n",
       "        vertical-align: middle;\n",
       "    }\n",
       "\n",
       "    .dataframe tbody tr th {\n",
       "        vertical-align: top;\n",
       "    }\n",
       "\n",
       "    .dataframe thead th {\n",
       "        text-align: right;\n",
       "    }\n",
       "</style>\n",
       "<table border=\"1\" class=\"dataframe\">\n",
       "  <thead>\n",
       "    <tr style=\"text-align: right;\">\n",
       "      <th></th>\n",
       "      <th>model</th>\n",
       "      <th>dataset</th>\n",
       "      <th>score</th>\n",
       "    </tr>\n",
       "  </thead>\n",
       "  <tbody>\n",
       "    <tr>\n",
       "      <th>0</th>\n",
       "      <td>Logistic Regression</td>\n",
       "      <td>test</td>\n",
       "      <td>0.641221</td>\n",
       "    </tr>\n",
       "    <tr>\n",
       "      <th>1</th>\n",
       "      <td>Logistic Regression</td>\n",
       "      <td>train</td>\n",
       "      <td>0.780667</td>\n",
       "    </tr>\n",
       "    <tr>\n",
       "      <th>2</th>\n",
       "      <td>Logistic Regression</td>\n",
       "      <td>test</td>\n",
       "      <td>0.641221</td>\n",
       "    </tr>\n",
       "    <tr>\n",
       "      <th>3</th>\n",
       "      <td>Logistic Regression</td>\n",
       "      <td>train</td>\n",
       "      <td>0.780667</td>\n",
       "    </tr>\n",
       "    <tr>\n",
       "      <th>4</th>\n",
       "      <td>SVM</td>\n",
       "      <td>test</td>\n",
       "      <td>0.633588</td>\n",
       "    </tr>\n",
       "    <tr>\n",
       "      <th>5</th>\n",
       "      <td>SVM</td>\n",
       "      <td>train</td>\n",
       "      <td>0.996000</td>\n",
       "    </tr>\n",
       "  </tbody>\n",
       "</table>\n",
       "</div>"
      ],
      "text/plain": [
       "                 model dataset     score\n",
       "0  Logistic Regression    test  0.641221\n",
       "1  Logistic Regression   train  0.780667\n",
       "2  Logistic Regression    test  0.641221\n",
       "3  Logistic Regression   train  0.780667\n",
       "4                  SVM    test  0.633588\n",
       "5                  SVM   train  0.996000"
      ]
     },
     "execution_count": 40,
     "metadata": {},
     "output_type": "execute_result"
    }
   ],
   "source": [
    "param_grid = {'C': [10**i for i in range(-7, 8)],\n",
    "              'kernel': ['poly', 'rbf', 'sigmoid', 'linear']}\n",
    "my_estimator = SVC(max_iter=1000, probability=False, random_state=1)\n",
    "\n",
    "\n",
    "\n",
    "run_model(my_estimator, \n",
    "          param_grid, \n",
    "          X_train_mel, \n",
    "          y_train, \n",
    "          X_test_mel, \n",
    "          y_test, \n",
    "          total_run_times_dataframe, \n",
    "          \"SVM\")\n",
    "\n",
    "total_run_times_dataframe"
   ]
  },
  {
   "cell_type": "markdown",
   "metadata": {},
   "source": [
    "This performance seems on-par with the logistic regression. We would need to repeat this experiment many times to see if there is a statistically significant difference in performance"
   ]
  },
  {
   "cell_type": "markdown",
   "metadata": {},
   "source": [
    "## Basic Model - KNN\n",
    "\n",
    "We can also explore the performance for KNN. KNN will search for the most similar spectrograms and use those to infer the new spectrogram example.\n",
    "\n",
    "We're going to experiment with many configurations for the neighbour number, as well as for the method of distance calculation. We're exploring both uniform distance calculations (i.e. the 5 closest neighbours simply vote on the identity of the new example), as well as distance weighted (i.e. the 5 closest neighbours vote is weighted by their distance, further neighbours get a more discounted vote)."
   ]
  },
  {
   "cell_type": "code",
   "execution_count": 41,
   "metadata": {},
   "outputs": [
    {
     "name": "stdout",
     "output_type": "stream",
     "text": [
      "Fitting model\n",
      "Fitting 5 folds for each of 116 candidates, totalling 580 fits\n"
     ]
    },
    {
     "name": "stderr",
     "output_type": "stream",
     "text": [
      "[Parallel(n_jobs=10)]: Using backend LokyBackend with 10 concurrent workers.\n",
      "[Parallel(n_jobs=10)]: Done  30 tasks      | elapsed:    0.7s\n",
      "[Parallel(n_jobs=10)]: Done 180 tasks      | elapsed:    3.3s\n",
      "[Parallel(n_jobs=10)]: Done 430 tasks      | elapsed:    8.0s\n",
      "[Parallel(n_jobs=10)]: Done 580 out of 580 | elapsed:   10.2s finished\n"
     ]
    },
    {
     "name": "stdout",
     "output_type": "stream",
     "text": [
      "The training accuracy is 100.0%\n",
      "The test accuracy is 63.36%\n",
      "Optimal Parameters are: {'n_neighbors': 4, 'weights': 'distance'}\n"
     ]
    },
    {
     "data": {
      "image/png": "[encoded data removed]",
      "text/plain": [
       "<Figure size 504x504 with 2 Axes>"
      ]
     },
     "metadata": {
      "needs_background": "light"
     },
     "output_type": "display_data"
    },
    {
     "data": {
      "image/png": "[encoded data removed]",
      "text/plain": [
       "<Figure size 1080x360 with 1 Axes>"
      ]
     },
     "metadata": {
      "needs_background": "light"
     },
     "output_type": "display_data"
    },
    {
     "data": {
      "text/html": [
       "<div>\n",
       "<style scoped>\n",
       "    .dataframe tbody tr th:only-of-type {\n",
       "        vertical-align: middle;\n",
       "    }\n",
       "\n",
       "    .dataframe tbody tr th {\n",
       "        vertical-align: top;\n",
       "    }\n",
       "\n",
       "    .dataframe thead th {\n",
       "        text-align: right;\n",
       "    }\n",
       "</style>\n",
       "<table border=\"1\" class=\"dataframe\">\n",
       "  <thead>\n",
       "    <tr style=\"text-align: right;\">\n",
       "      <th></th>\n",
       "      <th>model</th>\n",
       "      <th>dataset</th>\n",
       "      <th>score</th>\n",
       "    </tr>\n",
       "  </thead>\n",
       "  <tbody>\n",
       "    <tr>\n",
       "      <th>0</th>\n",
       "      <td>Logistic Regression</td>\n",
       "      <td>test</td>\n",
       "      <td>0.641221</td>\n",
       "    </tr>\n",
       "    <tr>\n",
       "      <th>1</th>\n",
       "      <td>Logistic Regression</td>\n",
       "      <td>train</td>\n",
       "      <td>0.780667</td>\n",
       "    </tr>\n",
       "    <tr>\n",
       "      <th>2</th>\n",
       "      <td>Logistic Regression</td>\n",
       "      <td>test</td>\n",
       "      <td>0.641221</td>\n",
       "    </tr>\n",
       "    <tr>\n",
       "      <th>3</th>\n",
       "      <td>Logistic Regression</td>\n",
       "      <td>train</td>\n",
       "      <td>0.780667</td>\n",
       "    </tr>\n",
       "    <tr>\n",
       "      <th>4</th>\n",
       "      <td>SVM</td>\n",
       "      <td>test</td>\n",
       "      <td>0.633588</td>\n",
       "    </tr>\n",
       "    <tr>\n",
       "      <th>5</th>\n",
       "      <td>SVM</td>\n",
       "      <td>train</td>\n",
       "      <td>0.996000</td>\n",
       "    </tr>\n",
       "    <tr>\n",
       "      <th>6</th>\n",
       "      <td>KNN</td>\n",
       "      <td>test</td>\n",
       "      <td>0.633588</td>\n",
       "    </tr>\n",
       "    <tr>\n",
       "      <th>7</th>\n",
       "      <td>KNN</td>\n",
       "      <td>train</td>\n",
       "      <td>1.000000</td>\n",
       "    </tr>\n",
       "  </tbody>\n",
       "</table>\n",
       "</div>"
      ],
      "text/plain": [
       "                 model dataset     score\n",
       "0  Logistic Regression    test  0.641221\n",
       "1  Logistic Regression   train  0.780667\n",
       "2  Logistic Regression    test  0.641221\n",
       "3  Logistic Regression   train  0.780667\n",
       "4                  SVM    test  0.633588\n",
       "5                  SVM   train  0.996000\n",
       "6                  KNN    test  0.633588\n",
       "7                  KNN   train  1.000000"
      ]
     },
     "execution_count": 41,
     "metadata": {},
     "output_type": "execute_result"
    }
   ],
   "source": [
    "param_grid = {'n_neighbors': [i for i in range(3,10)] + \\\n",
    "                             [i for i in range(10, 100, 5)] + \\\n",
    "                             [i for i in range(100, X_train_mel.shape[0]//2, 20)],\n",
    "              'weights': ['uniform', 'distance']}\n",
    "\n",
    "my_estimator = KNN()\n",
    "\n",
    "\n",
    "\n",
    "run_model(my_estimator, \n",
    "          param_grid, \n",
    "          X_train_mel, \n",
    "          y_train, \n",
    "          X_test_mel, \n",
    "          y_test, \n",
    "          total_run_times_dataframe, \n",
    "          \"KNN\")\n",
    "\n",
    "total_run_times_dataframe"
   ]
  },
  {
   "cell_type": "markdown",
   "metadata": {},
   "source": [
    "## Basic Model - Decision Tree\n",
    "\n",
    "As another baseline, I will train a decision tree on the data. We're going to experiment with the maximum depth the tree can grow to (limiting the number of features it can explore), the maximum features each split sees (prevents the tree from focusing on only a few features) and the minimum samples per leaf (prevents overfitting by forcing the tree to build larger regions containing multiple examples)."
   ]
  },
  {
   "cell_type": "code",
   "execution_count": 42,
   "metadata": {
    "scrolled": false
   },
   "outputs": [
    {
     "name": "stdout",
     "output_type": "stream",
     "text": [
      "Fitting model\n",
      "Fitting 5 folds for each of 1140 candidates, totalling 5700 fits\n"
     ]
    },
    {
     "name": "stderr",
     "output_type": "stream",
     "text": [
      "[Parallel(n_jobs=10)]: Using backend LokyBackend with 10 concurrent workers.\n",
      "[Parallel(n_jobs=10)]: Done  40 tasks      | elapsed:    0.2s\n",
      "[Parallel(n_jobs=10)]: Done 1200 tasks      | elapsed:    7.8s\n",
      "[Parallel(n_jobs=10)]: Done 1700 tasks      | elapsed:   14.3s\n",
      "[Parallel(n_jobs=10)]: Done 2800 tasks      | elapsed:   29.2s\n",
      "[Parallel(n_jobs=10)]: Done 4600 tasks      | elapsed:   51.2s\n",
      "[Parallel(n_jobs=10)]: Done 5681 out of 5700 | elapsed:  1.1min remaining:    0.2s\n",
      "[Parallel(n_jobs=10)]: Done 5700 out of 5700 | elapsed:  1.1min finished\n"
     ]
    },
    {
     "name": "stdout",
     "output_type": "stream",
     "text": [
      "The training accuracy is 96.33%\n",
      "The test accuracy is 61.07%\n",
      "Optimal Parameters are: {'max_depth': 16, 'max_features': 0.4, 'min_samples_leaf': 2}\n"
     ]
    },
    {
     "data": {
      "image/png": "[encoded data removed]",
      "text/plain": [
       "<Figure size 504x504 with 2 Axes>"
      ]
     },
     "metadata": {
      "needs_background": "light"
     },
     "output_type": "display_data"
    },
    {
     "data": {
      "image/png": "[encoded data removed]",
      "text/plain": [
       "<Figure size 1080x360 with 1 Axes>"
      ]
     },
     "metadata": {
      "needs_background": "light"
     },
     "output_type": "display_data"
    },
    {
     "name": "stdout",
     "output_type": "stream",
     "text": [
      "CPU times: user 4 s, sys: 358 ms, total: 4.36 s\n",
      "Wall time: 1min 5s\n"
     ]
    },
    {
     "data": {
      "text/html": [
       "<div>\n",
       "<style scoped>\n",
       "    .dataframe tbody tr th:only-of-type {\n",
       "        vertical-align: middle;\n",
       "    }\n",
       "\n",
       "    .dataframe tbody tr th {\n",
       "        vertical-align: top;\n",
       "    }\n",
       "\n",
       "    .dataframe thead th {\n",
       "        text-align: right;\n",
       "    }\n",
       "</style>\n",
       "<table border=\"1\" class=\"dataframe\">\n",
       "  <thead>\n",
       "    <tr style=\"text-align: right;\">\n",
       "      <th></th>\n",
       "      <th>model</th>\n",
       "      <th>dataset</th>\n",
       "      <th>score</th>\n",
       "    </tr>\n",
       "  </thead>\n",
       "  <tbody>\n",
       "    <tr>\n",
       "      <th>0</th>\n",
       "      <td>Logistic Regression</td>\n",
       "      <td>test</td>\n",
       "      <td>0.641221</td>\n",
       "    </tr>\n",
       "    <tr>\n",
       "      <th>1</th>\n",
       "      <td>Logistic Regression</td>\n",
       "      <td>train</td>\n",
       "      <td>0.780667</td>\n",
       "    </tr>\n",
       "    <tr>\n",
       "      <th>2</th>\n",
       "      <td>Logistic Regression</td>\n",
       "      <td>test</td>\n",
       "      <td>0.641221</td>\n",
       "    </tr>\n",
       "    <tr>\n",
       "      <th>3</th>\n",
       "      <td>Logistic Regression</td>\n",
       "      <td>train</td>\n",
       "      <td>0.780667</td>\n",
       "    </tr>\n",
       "    <tr>\n",
       "      <th>4</th>\n",
       "      <td>SVM</td>\n",
       "      <td>test</td>\n",
       "      <td>0.633588</td>\n",
       "    </tr>\n",
       "    <tr>\n",
       "      <th>5</th>\n",
       "      <td>SVM</td>\n",
       "      <td>train</td>\n",
       "      <td>0.996000</td>\n",
       "    </tr>\n",
       "    <tr>\n",
       "      <th>6</th>\n",
       "      <td>KNN</td>\n",
       "      <td>test</td>\n",
       "      <td>0.633588</td>\n",
       "    </tr>\n",
       "    <tr>\n",
       "      <th>7</th>\n",
       "      <td>KNN</td>\n",
       "      <td>train</td>\n",
       "      <td>1.000000</td>\n",
       "    </tr>\n",
       "    <tr>\n",
       "      <th>8</th>\n",
       "      <td>Decision Tree</td>\n",
       "      <td>test</td>\n",
       "      <td>0.610687</td>\n",
       "    </tr>\n",
       "    <tr>\n",
       "      <th>9</th>\n",
       "      <td>Decision Tree</td>\n",
       "      <td>train</td>\n",
       "      <td>0.963333</td>\n",
       "    </tr>\n",
       "  </tbody>\n",
       "</table>\n",
       "</div>"
      ],
      "text/plain": [
       "                 model dataset     score\n",
       "0  Logistic Regression    test  0.641221\n",
       "1  Logistic Regression   train  0.780667\n",
       "2  Logistic Regression    test  0.641221\n",
       "3  Logistic Regression   train  0.780667\n",
       "4                  SVM    test  0.633588\n",
       "5                  SVM   train  0.996000\n",
       "6                  KNN    test  0.633588\n",
       "7                  KNN   train  1.000000\n",
       "8        Decision Tree    test  0.610687\n",
       "9        Decision Tree   train  0.963333"
      ]
     },
     "execution_count": 42,
     "metadata": {},
     "output_type": "execute_result"
    }
   ],
   "source": [
    "%%time \n",
    "\n",
    "my_estimator = DecisionTreeClassifier(random_state=1)\n",
    "param_grid = {'min_samples_leaf': [i for i in range(1, 20)],\n",
    "              'max_depth' : [i for i in range(1, X_train_mel.shape[1], X_train_mel.shape[1]//10)]+[None],\n",
    "              'max_features': [i/10 for i in range(2, 11, 2)]}\n",
    "\n",
    "\n",
    "\n",
    "run_model(my_estimator, \n",
    "          param_grid, \n",
    "          X_train_mel, \n",
    "          y_train, \n",
    "          X_test_mel, \n",
    "          y_test, \n",
    "          total_run_times_dataframe, \n",
    "          \"Decision Tree\")\n",
    "\n",
    "total_run_times_dataframe"
   ]
  },
  {
   "cell_type": "markdown",
   "metadata": {},
   "source": [
    "Neither KNN nor the decision tree seem to provide comparable performance to logistic regression or SVM. Again, we will later on verify this using the appropriate statistical analysis."
   ]
  },
  {
   "cell_type": "markdown",
   "metadata": {},
   "source": [
    "## Advanced Model - Random Forest\n",
    "\n",
    "Decision trees performed especially poorly in the previous section. However, their performance can be improved by different ensemble methods. The easiest method to explore is the random forest, where a collection of trees is averaged out.\n",
    "\n",
    "What makes the random forest random is that each tree only sees a random bootstrapped subsample of the data. Thus outliers are only seen by some trees, but the trend in the data are seen by almost all trees."
   ]
  },
  {
   "cell_type": "code",
   "execution_count": 43,
   "metadata": {
    "scrolled": false
   },
   "outputs": [
    {
     "name": "stdout",
     "output_type": "stream",
     "text": [
      "Fitting model\n",
      "Fitting 5 folds for each of 1000 candidates, totalling 5000 fits\n"
     ]
    },
    {
     "name": "stderr",
     "output_type": "stream",
     "text": [
      "[Parallel(n_jobs=10)]: Using backend LokyBackend with 10 concurrent workers.\n",
      "[Parallel(n_jobs=10)]: Done  30 tasks      | elapsed:    6.5s\n",
      "[Parallel(n_jobs=10)]: Done 180 tasks      | elapsed:   41.6s\n",
      "[Parallel(n_jobs=10)]: Done 430 tasks      | elapsed:  1.6min\n",
      "[Parallel(n_jobs=10)]: Done 780 tasks      | elapsed:  2.7min\n",
      "[Parallel(n_jobs=10)]: Done 1230 tasks      | elapsed:  4.2min\n",
      "[Parallel(n_jobs=10)]: Done 1780 tasks      | elapsed:  6.1min\n",
      "[Parallel(n_jobs=10)]: Done 2430 tasks      | elapsed:  8.2min\n",
      "[Parallel(n_jobs=10)]: Done 3180 tasks      | elapsed: 10.7min\n",
      "[Parallel(n_jobs=10)]: Done 4030 tasks      | elapsed: 13.9min\n",
      "[Parallel(n_jobs=10)]: Done 4980 tasks      | elapsed: 17.1min\n",
      "[Parallel(n_jobs=10)]: Done 5000 out of 5000 | elapsed: 17.3min finished\n"
     ]
    },
    {
     "name": "stdout",
     "output_type": "stream",
     "text": [
      "The training accuracy is 100.0%\n",
      "The test accuracy is 64.12%\n",
      "Optimal Parameters are: {'n_estimators': 60, 'min_samples_leaf': 2, 'max_features': 0.8, 'max_depth': 76}\n"
     ]
    },
    {
     "data": {
      "image/png": "[encoded data removed]",
      "text/plain": [
       "<Figure size 504x504 with 2 Axes>"
      ]
     },
     "metadata": {
      "needs_background": "light"
     },
     "output_type": "display_data"
    },
    {
     "data": {
      "image/png": "[encoded data removed]",
      "text/plain": [
       "<Figure size 1080x360 with 1 Axes>"
      ]
     },
     "metadata": {
      "needs_background": "light"
     },
     "output_type": "display_data"
    },
    {
     "data": {
      "text/html": [
       "<div>\n",
       "<style scoped>\n",
       "    .dataframe tbody tr th:only-of-type {\n",
       "        vertical-align: middle;\n",
       "    }\n",
       "\n",
       "    .dataframe tbody tr th {\n",
       "        vertical-align: top;\n",
       "    }\n",
       "\n",
       "    .dataframe thead th {\n",
       "        text-align: right;\n",
       "    }\n",
       "</style>\n",
       "<table border=\"1\" class=\"dataframe\">\n",
       "  <thead>\n",
       "    <tr style=\"text-align: right;\">\n",
       "      <th></th>\n",
       "      <th>model</th>\n",
       "      <th>dataset</th>\n",
       "      <th>score</th>\n",
       "    </tr>\n",
       "  </thead>\n",
       "  <tbody>\n",
       "    <tr>\n",
       "      <th>0</th>\n",
       "      <td>Logistic Regression</td>\n",
       "      <td>test</td>\n",
       "      <td>0.641221</td>\n",
       "    </tr>\n",
       "    <tr>\n",
       "      <th>1</th>\n",
       "      <td>Logistic Regression</td>\n",
       "      <td>train</td>\n",
       "      <td>0.780667</td>\n",
       "    </tr>\n",
       "    <tr>\n",
       "      <th>2</th>\n",
       "      <td>Logistic Regression</td>\n",
       "      <td>test</td>\n",
       "      <td>0.641221</td>\n",
       "    </tr>\n",
       "    <tr>\n",
       "      <th>3</th>\n",
       "      <td>Logistic Regression</td>\n",
       "      <td>train</td>\n",
       "      <td>0.780667</td>\n",
       "    </tr>\n",
       "    <tr>\n",
       "      <th>4</th>\n",
       "      <td>SVM</td>\n",
       "      <td>test</td>\n",
       "      <td>0.633588</td>\n",
       "    </tr>\n",
       "    <tr>\n",
       "      <th>5</th>\n",
       "      <td>SVM</td>\n",
       "      <td>train</td>\n",
       "      <td>0.996000</td>\n",
       "    </tr>\n",
       "    <tr>\n",
       "      <th>6</th>\n",
       "      <td>KNN</td>\n",
       "      <td>test</td>\n",
       "      <td>0.633588</td>\n",
       "    </tr>\n",
       "    <tr>\n",
       "      <th>7</th>\n",
       "      <td>KNN</td>\n",
       "      <td>train</td>\n",
       "      <td>1.000000</td>\n",
       "    </tr>\n",
       "    <tr>\n",
       "      <th>8</th>\n",
       "      <td>Decision Tree</td>\n",
       "      <td>test</td>\n",
       "      <td>0.610687</td>\n",
       "    </tr>\n",
       "    <tr>\n",
       "      <th>9</th>\n",
       "      <td>Decision Tree</td>\n",
       "      <td>train</td>\n",
       "      <td>0.963333</td>\n",
       "    </tr>\n",
       "    <tr>\n",
       "      <th>10</th>\n",
       "      <td>Random Forest</td>\n",
       "      <td>test</td>\n",
       "      <td>0.641221</td>\n",
       "    </tr>\n",
       "    <tr>\n",
       "      <th>11</th>\n",
       "      <td>Random Forest</td>\n",
       "      <td>train</td>\n",
       "      <td>1.000000</td>\n",
       "    </tr>\n",
       "  </tbody>\n",
       "</table>\n",
       "</div>"
      ],
      "text/plain": [
       "                  model dataset     score\n",
       "0   Logistic Regression    test  0.641221\n",
       "1   Logistic Regression   train  0.780667\n",
       "2   Logistic Regression    test  0.641221\n",
       "3   Logistic Regression   train  0.780667\n",
       "4                   SVM    test  0.633588\n",
       "5                   SVM   train  0.996000\n",
       "6                   KNN    test  0.633588\n",
       "7                   KNN   train  1.000000\n",
       "8         Decision Tree    test  0.610687\n",
       "9         Decision Tree   train  0.963333\n",
       "10        Random Forest    test  0.641221\n",
       "11        Random Forest   train  1.000000"
      ]
     },
     "execution_count": 43,
     "metadata": {},
     "output_type": "execute_result"
    }
   ],
   "source": [
    "param_grid = {'min_samples_leaf': [i for i in range(1, 20)],\n",
    "              'max_depth' : [i for i in range(1, X_train_mel.shape[1], X_train_mel.shape[1]//10)]+[None],\n",
    "              'max_features': [i/10 for i in range(2, 11, 2)],\n",
    "              'n_estimators': [i*10 for i in range(1,10, 5)]}\n",
    "\n",
    "my_estimator = RandomForestClassifier(random_state=1)\n",
    "\n",
    "run_model(my_estimator, \n",
    "          param_grid, \n",
    "          X_train_mel, \n",
    "          y_train, \n",
    "          X_test_mel, \n",
    "          y_test, \n",
    "          total_run_times_dataframe, \n",
    "          \"Random Forest\",\n",
    "          search_type='random')\n",
    "\n",
    "total_run_times_dataframe"
   ]
  },
  {
   "cell_type": "markdown",
   "metadata": {},
   "source": [
    "Interestingly, it seems that employing a random forest did improve the accuracy that can be obtained from decision trees, but it is still inferior to the performance provided by SVM and logistic regression."
   ]
  },
  {
   "cell_type": "markdown",
   "metadata": {},
   "source": [
    "## Advanced Model - Gradient Boosting\n",
    "\n",
    "A more powerful way of improving performance in decision trees is the use of Gradient Boosting. In this case, trees are not averaged out but are built in sequence. Each tree makes the ensemble slightly better by correcting errors encountered so far.\n",
    "\n",
    "I will employ eXtreme Gradient Boosting (XGBoost) due to its quick implementation and thus faster training time."
   ]
  },
  {
   "cell_type": "code",
   "execution_count": 44,
   "metadata": {
    "scrolled": false
   },
   "outputs": [
    {
     "name": "stdout",
     "output_type": "stream",
     "text": [
      "Fitting model\n",
      "Fitting 5 folds for each of 1000 candidates, totalling 5000 fits\n"
     ]
    },
    {
     "name": "stderr",
     "output_type": "stream",
     "text": [
      "[Parallel(n_jobs=10)]: Using backend LokyBackend with 10 concurrent workers.\n",
      "[Parallel(n_jobs=10)]: Done  30 tasks      | elapsed:    4.7s\n",
      "[Parallel(n_jobs=10)]: Done 180 tasks      | elapsed:   19.5s\n",
      "[Parallel(n_jobs=10)]: Done 430 tasks      | elapsed:   50.9s\n",
      "[Parallel(n_jobs=10)]: Done 780 tasks      | elapsed:  1.6min\n",
      "[Parallel(n_jobs=10)]: Done 1230 tasks      | elapsed:  2.6min\n",
      "[Parallel(n_jobs=10)]: Done 1780 tasks      | elapsed:  3.8min\n",
      "[Parallel(n_jobs=10)]: Done 2430 tasks      | elapsed:  5.0min\n",
      "[Parallel(n_jobs=10)]: Done 3180 tasks      | elapsed:  6.5min\n",
      "[Parallel(n_jobs=10)]: Done 4030 tasks      | elapsed:  8.3min\n",
      "[Parallel(n_jobs=10)]: Done 4980 tasks      | elapsed: 10.0min\n",
      "[Parallel(n_jobs=10)]: Done 5000 out of 5000 | elapsed: 10.1min finished\n"
     ]
    },
    {
     "name": "stdout",
     "output_type": "stream",
     "text": [
      "The training accuracy is 100.0%\n",
      "The test accuracy is 65.65%\n",
      "Optimal Parameters are: {'subsample': 0.8, 'n_estimators': 90, 'min_child_weight': 2, 'max_depth': 106}\n"
     ]
    },
    {
     "data": {
      "image/png": "[encoded data removed]",
      "text/plain": [
       "<Figure size 504x504 with 2 Axes>"
      ]
     },
     "metadata": {
      "needs_background": "light"
     },
     "output_type": "display_data"
    },
    {
     "data": {
      "image/png": "[encoded data removed]",
      "text/plain": [
       "<Figure size 1080x360 with 1 Axes>"
      ]
     },
     "metadata": {
      "needs_background": "light"
     },
     "output_type": "display_data"
    },
    {
     "data": {
      "text/html": [
       "<div>\n",
       "<style scoped>\n",
       "    .dataframe tbody tr th:only-of-type {\n",
       "        vertical-align: middle;\n",
       "    }\n",
       "\n",
       "    .dataframe tbody tr th {\n",
       "        vertical-align: top;\n",
       "    }\n",
       "\n",
       "    .dataframe thead th {\n",
       "        text-align: right;\n",
       "    }\n",
       "</style>\n",
       "<table border=\"1\" class=\"dataframe\">\n",
       "  <thead>\n",
       "    <tr style=\"text-align: right;\">\n",
       "      <th></th>\n",
       "      <th>model</th>\n",
       "      <th>dataset</th>\n",
       "      <th>score</th>\n",
       "    </tr>\n",
       "  </thead>\n",
       "  <tbody>\n",
       "    <tr>\n",
       "      <th>0</th>\n",
       "      <td>Logistic Regression</td>\n",
       "      <td>test</td>\n",
       "      <td>0.641221</td>\n",
       "    </tr>\n",
       "    <tr>\n",
       "      <th>1</th>\n",
       "      <td>Logistic Regression</td>\n",
       "      <td>train</td>\n",
       "      <td>0.780667</td>\n",
       "    </tr>\n",
       "    <tr>\n",
       "      <th>2</th>\n",
       "      <td>Logistic Regression</td>\n",
       "      <td>test</td>\n",
       "      <td>0.641221</td>\n",
       "    </tr>\n",
       "    <tr>\n",
       "      <th>3</th>\n",
       "      <td>Logistic Regression</td>\n",
       "      <td>train</td>\n",
       "      <td>0.780667</td>\n",
       "    </tr>\n",
       "    <tr>\n",
       "      <th>4</th>\n",
       "      <td>SVM</td>\n",
       "      <td>test</td>\n",
       "      <td>0.633588</td>\n",
       "    </tr>\n",
       "    <tr>\n",
       "      <th>5</th>\n",
       "      <td>SVM</td>\n",
       "      <td>train</td>\n",
       "      <td>0.996000</td>\n",
       "    </tr>\n",
       "    <tr>\n",
       "      <th>6</th>\n",
       "      <td>KNN</td>\n",
       "      <td>test</td>\n",
       "      <td>0.633588</td>\n",
       "    </tr>\n",
       "    <tr>\n",
       "      <th>7</th>\n",
       "      <td>KNN</td>\n",
       "      <td>train</td>\n",
       "      <td>1.000000</td>\n",
       "    </tr>\n",
       "    <tr>\n",
       "      <th>8</th>\n",
       "      <td>Decision Tree</td>\n",
       "      <td>test</td>\n",
       "      <td>0.610687</td>\n",
       "    </tr>\n",
       "    <tr>\n",
       "      <th>9</th>\n",
       "      <td>Decision Tree</td>\n",
       "      <td>train</td>\n",
       "      <td>0.963333</td>\n",
       "    </tr>\n",
       "    <tr>\n",
       "      <th>10</th>\n",
       "      <td>Random Forest</td>\n",
       "      <td>test</td>\n",
       "      <td>0.641221</td>\n",
       "    </tr>\n",
       "    <tr>\n",
       "      <th>11</th>\n",
       "      <td>Random Forest</td>\n",
       "      <td>train</td>\n",
       "      <td>1.000000</td>\n",
       "    </tr>\n",
       "    <tr>\n",
       "      <th>12</th>\n",
       "      <td>Gradient Boosting</td>\n",
       "      <td>test</td>\n",
       "      <td>0.656489</td>\n",
       "    </tr>\n",
       "    <tr>\n",
       "      <th>13</th>\n",
       "      <td>Gradient Boosting</td>\n",
       "      <td>train</td>\n",
       "      <td>1.000000</td>\n",
       "    </tr>\n",
       "  </tbody>\n",
       "</table>\n",
       "</div>"
      ],
      "text/plain": [
       "                  model dataset     score\n",
       "0   Logistic Regression    test  0.641221\n",
       "1   Logistic Regression   train  0.780667\n",
       "2   Logistic Regression    test  0.641221\n",
       "3   Logistic Regression   train  0.780667\n",
       "4                   SVM    test  0.633588\n",
       "5                   SVM   train  0.996000\n",
       "6                   KNN    test  0.633588\n",
       "7                   KNN   train  1.000000\n",
       "8         Decision Tree    test  0.610687\n",
       "9         Decision Tree   train  0.963333\n",
       "10        Random Forest    test  0.641221\n",
       "11        Random Forest   train  1.000000\n",
       "12    Gradient Boosting    test  0.656489\n",
       "13    Gradient Boosting   train  1.000000"
      ]
     },
     "execution_count": 44,
     "metadata": {},
     "output_type": "execute_result"
    }
   ],
   "source": [
    "param_grid = {'min_child_weight': [i for i in range(1, 20)],\n",
    "              'max_depth' : [i for i in range(1, X_train_mel.shape[1], X_train_mel.shape[1]//10)]+[None],\n",
    "              'subsample': [i/10 for i in range(2, 11, 2)],\n",
    "              'n_estimators': [i*10 for i in range(1,11, 2)]}\n",
    "my_estimator = XGBClassifier(learning_rate=0.1, random_state=1)\n",
    "\n",
    "run_model(my_estimator, \n",
    "          param_grid, \n",
    "          X_train_mel, \n",
    "          y_train, \n",
    "          X_test_mel, \n",
    "          y_test, \n",
    "          total_run_times_dataframe, \n",
    "          \"Gradient Boosting\",\n",
    "          search_type='random')\n",
    "\n",
    "total_run_times_dataframe"
   ]
  },
  {
   "cell_type": "markdown",
   "metadata": {},
   "source": [
    "The results again show an improvement over a single decision tree, but are not enough to perform better than a logistic regression or SVM."
   ]
  },
  {
   "cell_type": "markdown",
   "metadata": {},
   "source": [
    "## Repeat the process for different splits\n",
    "\n",
    "All of the measurements we have are for a single train/test split. However, we would like to have a clearer image of the how the models compare on unseen data. Therefore, we will create a few functions that will encapsulate the workflow we have performed so far, and then repeat the process for many different splits\n",
    "\n",
    "Once we have observations for 30 splits, we will run a [Tukey's Test for Post-Hoc Analysis](https://aaronschlegel.me/tukeys-test-post-hoc-analysis.html) to see which methodologies indeed provide significantly different results"
   ]
  },
  {
   "cell_type": "code",
   "execution_count": 45,
   "metadata": {},
   "outputs": [],
   "source": [
    "def run_model(estimator, param_grid, X_train_mel, y_train, X_test_mel, y_test, total_run_times_dataframe, model_name, verbose=0, core_number=1, search_type=\"gs\"):\n",
    "    \n",
    "    if (verbose):\n",
    "        print(\"Fitting model\")\n",
    "        \n",
    "    if (search_type ==  'gs'):\n",
    "        my_gs = GridSearchCV(estimator, param_grid, cv=CV_FOLD, verbose=1, n_jobs=multiprocessing.cpu_count()-2)\n",
    "    elif (search_type == 'random'):\n",
    "        my_gs = RandomizedSearchCV(estimator, \n",
    "                                   param_grid, \n",
    "                                   cv=CV_FOLD, \n",
    "                                   verbose=1, \n",
    "                                   n_jobs=multiprocessing.cpu_count()-2,\n",
    "                                   n_iter=1000)\n",
    "    else:\n",
    "        print(\"Search type has not been defined, must be either 'gs' or 'random'\")\n",
    "        my_gs = None\n",
    "    my_gs.fit(X_train_mel, y_train);\n",
    "    \n",
    "    train_acc = my_gs.score(X_train_mel, y_train)\n",
    "    test_acc = my_gs.score(X_test_mel, y_test)\n",
    "    \n",
    "    if (verbose):\n",
    "        print(f\"The training accuracy is {round(train_acc*100,2)}%\")\n",
    "        print(f\"The test accuracy is {round(test_acc*100,2)}%\")\n",
    "    \n",
    "    print(f\"Optimal Parameters are: {my_gs.best_params_}\")\n",
    "\n",
    "    if (verbose):\n",
    "    \n",
    "        figure, ax = plt.subplots(figsize=(7, 7))\n",
    "        disp = plot_confusion_matrix(my_gs, X_test_mel, y_test,\n",
    "                                 display_labels=condition_label_encoder.classes_,\n",
    "                                 cmap=plt.cm.Blues,\n",
    "                                 normalize='pred',\n",
    "                                 ax=ax)\n",
    "        disp.ax_.set_title(f\"{model_name} Confusion Matrix\")\n",
    "        plt.show()\n",
    "\n",
    "        print(classification_report(y_test, my_gs.predict(X_test_mel)))\n",
    "        \n",
    "        try:\n",
    "            y_proba = my_gs.predict_proba(X_test_mel)\n",
    "\n",
    "            plt.figure(figsize=(15, 5))    \n",
    "            plt.scatter(y_proba[:, 1], y_test)\n",
    "            plt.xlabel(\"Probabilities\")\n",
    "            plt.ylabel(\"True Class\")\n",
    "            plt.title(f\"Probabilities Predicted by {model_name} versus the True Classes\")\n",
    "            plt.show();\n",
    "        except AttributeError:\n",
    "            print(\"This model does not support probabilities\")\n",
    "    \n",
    "    current_row = total_run_times_dataframe.shape[0]\n",
    "    total_run_times_dataframe.loc[current_row, 'model'] = model_name\n",
    "    total_run_times_dataframe.loc[current_row, 'dataset'] = \"test\"\n",
    "    total_run_times_dataframe.loc[current_row, 'score'] = test_acc\n",
    "\n",
    "    current_row = total_run_times_dataframe.shape[0]\n",
    "    total_run_times_dataframe.loc[current_row, 'model'] = model_name\n",
    "    total_run_times_dataframe.loc[current_row, 'dataset'] = \"train\"\n",
    "    total_run_times_dataframe.loc[current_row, 'score'] = train_acc\n",
    "    total_run_times_dataframe\n",
    "    "
   ]
  },
  {
   "cell_type": "markdown",
   "metadata": {},
   "source": [
    "Create another function for pre-processing. Notice that given more time for this project, I would incorporate the PCA and Mel Encoder into a pipeline for a proper workflow over the cross-validation. However, due to time constraints, I will pre-process the data first, and then perform cross validation"
   ]
  },
  {
   "cell_type": "code",
   "execution_count": 46,
   "metadata": {},
   "outputs": [],
   "source": [
    "def increase_dataset(the_dataset):\n",
    "    inverse_counts = 1/the_dataset['label'].value_counts()\n",
    "    probability_counts = inverse_counts/inverse_counts.sum()\n",
    "    probability_counts\n",
    "    \n",
    "    choices = np.random.choice(probability_counts.index, \n",
    "                               p=probability_counts.values, \n",
    "                               size=(DATASET_TARGET,))\n",
    "    i = 0\n",
    "    \n",
    "    new_dataset = the_dataset.copy()\n",
    "    \n",
    "    while new_dataset.shape[0] < DATASET_TARGET:\n",
    "        choice = choices[i]\n",
    "        available_instances = the_dataset[the_dataset['label'] == choice]\n",
    "        selected_row_position = np.random.randint(available_instances.shape[0])\n",
    "\n",
    "        selected_row = available_instances.iloc[selected_row_position]\n",
    "\n",
    "        base_signal = selected_row['signal']\n",
    "        sampling_rate = selected_row['sampling_rate']\n",
    "\n",
    "        shift_direction = 'both'\n",
    "        new_signal = shift_sound(base_signal, sampling_rate, (np.random.random()*0.3), shift_direction)\n",
    "\n",
    "\n",
    "        if (new_signal.shape[0] > 0):\n",
    "\n",
    "            new_series = pd.Series({'signal' :new_signal, 'sampling_rate': sampling_rate, 'label': choice})\n",
    "            new_dataset = new_dataset.append(new_series, ignore_index=True)\n",
    "\n",
    "            print(new_dataset.shape, end=\"\\r\")\n",
    "        i+= 1\n",
    "    \n",
    "    print(new_dataset.shape)    \n",
    "    return new_dataset"
   ]
  },
  {
   "cell_type": "code",
   "execution_count": 49,
   "metadata": {},
   "outputs": [],
   "source": [
    "def preprocess_data(dataset, random_state=None):\n",
    "    train_dataset, test_dataset = train_test_split(dataset, test_size=0.3, \n",
    "                                                   stratify=dataset['label'], \n",
    "                                                   random_state=random_state)\n",
    "\n",
    "    train_dataset = increase_dataset(train_dataset)\n",
    "    \n",
    "    \n",
    "    my_encoder = MelEncoder(n_mels=128, n_windows=1000, verbose=1)\n",
    "    my_encoder.fit(train_dataset['signal'])\n",
    "\n",
    "    X_train_mel = my_encoder.transform(train_dataset['signal'])\n",
    "    X_test_mel = my_encoder.transform(test_dataset['signal'])\n",
    "\n",
    "    my_mmscaler = MinMaxScaler()\n",
    "\n",
    "    X_train_mel = my_mmscaler.fit_transform(X_train_mel)\n",
    "    X_test_mel = my_mmscaler.transform(X_test_mel)\n",
    "\n",
    "    component_number = min(*X_train_mel.shape)\n",
    "    component_number = 0.95\n",
    "    my_pca = PCA(n_components=component_number, svd_solver='auto')\n",
    "    my_pca.fit(X_train_mel)\n",
    "\n",
    "    X_train_mel = my_pca.transform(X_train_mel)\n",
    "    X_test_mel = my_pca.transform(X_test_mel)\n",
    "\n",
    "    condition_label_encoder = LabelEncoder()\n",
    "\n",
    "\n",
    "    y_train = condition_label_encoder.fit_transform(train_dataset['label'])[:X_train_mel.shape[0]]\n",
    "    y_test = condition_label_encoder.transform(test_dataset['label'])\n",
    "    \n",
    "    return X_train_mel, X_test_mel, y_train, y_test"
   ]
  },
  {
   "cell_type": "markdown",
   "metadata": {},
   "source": [
    "Now define all the different estimators, parameter grids, and display names, and cycle through them for different train/test splits of the data"
   ]
  },
  {
   "cell_type": "code",
   "execution_count": 152,
   "metadata": {},
   "outputs": [
    {
     "name": "stdout",
     "output_type": "stream",
     "text": [
      "0: Preprocessing data...\n",
      "(1500, 4)\n",
      "processed: 99.93%\n",
      "processed: 99.24%\n",
      "Running Logistic Regression\n",
      "Fitting 5 folds for each of 70 candidates, totalling 350 fits\n"
     ]
    },
    {
     "name": "stderr",
     "output_type": "stream",
     "text": [
      "[Parallel(n_jobs=10)]: Using backend LokyBackend with 10 concurrent workers.\n",
      "[Parallel(n_jobs=10)]: Done  30 tasks      | elapsed:    1.7s\n",
      "[Parallel(n_jobs=10)]: Done 300 tasks      | elapsed:    9.8s\n",
      "[Parallel(n_jobs=10)]: Done 350 out of 350 | elapsed:   11.3s finished\n"
     ]
    },
    {
     "name": "stdout",
     "output_type": "stream",
     "text": [
      "Optimal Parameters are: {'C': 0.0625, 'penalty': 'l1'}\n",
      "Running SVM\n",
      "Fitting 5 folds for each of 60 candidates, totalling 300 fits\n"
     ]
    },
    {
     "name": "stderr",
     "output_type": "stream",
     "text": [
      "[Parallel(n_jobs=10)]: Using backend LokyBackend with 10 concurrent workers.\n",
      "[Parallel(n_jobs=10)]: Done  30 tasks      | elapsed:    2.2s\n",
      "[Parallel(n_jobs=10)]: Done 180 tasks      | elapsed:   11.2s\n",
      "[Parallel(n_jobs=10)]: Done 300 out of 300 | elapsed:   14.9s finished\n"
     ]
    },
    {
     "name": "stdout",
     "output_type": "stream",
     "text": [
      "Optimal Parameters are: {'C': 100, 'kernel': 'rbf'}\n",
      "Running KNN\n",
      "Fitting 5 folds for each of 116 candidates, totalling 580 fits\n"
     ]
    },
    {
     "name": "stderr",
     "output_type": "stream",
     "text": [
      "[Parallel(n_jobs=10)]: Using backend LokyBackend with 10 concurrent workers.\n",
      "[Parallel(n_jobs=10)]: Done  40 tasks      | elapsed:    0.5s\n",
      "[Parallel(n_jobs=10)]: Done 340 tasks      | elapsed:    5.0s\n",
      "[Parallel(n_jobs=10)]: Done 580 out of 580 | elapsed:    9.4s finished\n"
     ]
    },
    {
     "name": "stdout",
     "output_type": "stream",
     "text": [
      "Optimal Parameters are: {'n_neighbors': 4, 'weights': 'distance'}\n",
      "Running Decision Tree\n",
      "Fitting 5 folds for each of 1140 candidates, totalling 5700 fits\n"
     ]
    },
    {
     "name": "stderr",
     "output_type": "stream",
     "text": [
      "[Parallel(n_jobs=10)]: Using backend LokyBackend with 10 concurrent workers.\n",
      "[Parallel(n_jobs=10)]: Done  40 tasks      | elapsed:    0.1s\n",
      "[Parallel(n_jobs=10)]: Done 1170 tasks      | elapsed:    9.7s\n",
      "[Parallel(n_jobs=10)]: Done 1420 tasks      | elapsed:   15.7s\n",
      "[Parallel(n_jobs=10)]: Done 2398 tasks      | elapsed:   33.4s\n",
      "[Parallel(n_jobs=10)]: Done 3270 tasks      | elapsed:   47.7s\n",
      "[Parallel(n_jobs=10)]: Done 4370 tasks      | elapsed:  1.0min\n",
      "[Parallel(n_jobs=10)]: Done 5700 out of 5700 | elapsed:  1.3min finished\n"
     ]
    },
    {
     "name": "stdout",
     "output_type": "stream",
     "text": [
      "Optimal Parameters are: {'max_depth': 35, 'max_features': 0.6, 'min_samples_leaf': 1}\n",
      "Running Random Forest\n",
      "Fitting 5 folds for each of 1000 candidates, totalling 5000 fits\n"
     ]
    },
    {
     "name": "stderr",
     "output_type": "stream",
     "text": [
      "[Parallel(n_jobs=10)]: Using backend LokyBackend with 10 concurrent workers.\n",
      "[Parallel(n_jobs=10)]: Done  30 tasks      | elapsed:   12.1s\n",
      "[Parallel(n_jobs=10)]: Done 180 tasks      | elapsed:   52.7s\n",
      "[Parallel(n_jobs=10)]: Done 430 tasks      | elapsed:  2.5min\n",
      "[Parallel(n_jobs=10)]: Done 780 tasks      | elapsed:  4.6min\n",
      "[Parallel(n_jobs=10)]: Done 1230 tasks      | elapsed:  6.8min\n",
      "[Parallel(n_jobs=10)]: Done 1780 tasks      | elapsed:  9.6min\n",
      "[Parallel(n_jobs=10)]: Done 2430 tasks      | elapsed: 12.9min\n",
      "[Parallel(n_jobs=10)]: Done 3180 tasks      | elapsed: 16.5min\n",
      "[Parallel(n_jobs=10)]: Done 4030 tasks      | elapsed: 21.0min\n",
      "[Parallel(n_jobs=10)]: Done 4980 tasks      | elapsed: 26.1min\n",
      "[Parallel(n_jobs=10)]: Done 5000 out of 5000 | elapsed: 26.2min finished\n"
     ]
    },
    {
     "name": "stdout",
     "output_type": "stream",
     "text": [
      "Optimal Parameters are: {'n_estimators': 90, 'min_samples_leaf': 1, 'max_features': 0.4, 'max_depth': 86}\n",
      "Running Gradient Boosting\n",
      "Fitting 5 folds for each of 1000 candidates, totalling 5000 fits\n"
     ]
    },
    {
     "name": "stderr",
     "output_type": "stream",
     "text": [
      "[Parallel(n_jobs=10)]: Using backend LokyBackend with 10 concurrent workers.\n",
      "[Parallel(n_jobs=10)]: Done  30 tasks      | elapsed:    3.6s\n",
      "[Parallel(n_jobs=10)]: Done 180 tasks      | elapsed:   17.9s\n",
      "[Parallel(n_jobs=10)]: Done 430 tasks      | elapsed:   41.5s\n",
      "[Parallel(n_jobs=10)]: Done 780 tasks      | elapsed:  1.4min\n",
      "[Parallel(n_jobs=10)]: Done 1230 tasks      | elapsed:  2.6min\n",
      "[Parallel(n_jobs=10)]: Done 1780 tasks      | elapsed:  3.8min\n",
      "[Parallel(n_jobs=10)]: Done 2430 tasks      | elapsed:  5.4min\n",
      "[Parallel(n_jobs=10)]: Done 3180 tasks      | elapsed:  6.9min\n",
      "[Parallel(n_jobs=10)]: Done 4030 tasks      | elapsed:  8.5min\n",
      "[Parallel(n_jobs=10)]: Done 4980 tasks      | elapsed: 10.4min\n",
      "[Parallel(n_jobs=10)]: Done 5000 out of 5000 | elapsed: 10.5min finished\n"
     ]
    },
    {
     "name": "stdout",
     "output_type": "stream",
     "text": [
      "Optimal Parameters are: {'subsample': 1.0, 'n_estimators': 70, 'min_child_weight': 1, 'max_depth': 69}\n",
      "CPU times: user 21min 39s, sys: 1min 11s, total: 22min 51s\n",
      "Wall time: 41min 20s\n"
     ]
    },
    {
     "data": {
      "text/html": [
       "<div>\n",
       "<style scoped>\n",
       "    .dataframe tbody tr th:only-of-type {\n",
       "        vertical-align: middle;\n",
       "    }\n",
       "\n",
       "    .dataframe tbody tr th {\n",
       "        vertical-align: top;\n",
       "    }\n",
       "\n",
       "    .dataframe thead th {\n",
       "        text-align: right;\n",
       "    }\n",
       "</style>\n",
       "<table border=\"1\" class=\"dataframe\">\n",
       "  <thead>\n",
       "    <tr style=\"text-align: right;\">\n",
       "      <th></th>\n",
       "      <th>model</th>\n",
       "      <th>dataset</th>\n",
       "      <th>score</th>\n",
       "    </tr>\n",
       "  </thead>\n",
       "  <tbody>\n",
       "    <tr>\n",
       "      <th>0</th>\n",
       "      <td>Logistic Regression</td>\n",
       "      <td>test</td>\n",
       "      <td>0.641221</td>\n",
       "    </tr>\n",
       "    <tr>\n",
       "      <th>1</th>\n",
       "      <td>Logistic Regression</td>\n",
       "      <td>train</td>\n",
       "      <td>0.780667</td>\n",
       "    </tr>\n",
       "    <tr>\n",
       "      <th>2</th>\n",
       "      <td>Logistic Regression</td>\n",
       "      <td>test</td>\n",
       "      <td>0.641221</td>\n",
       "    </tr>\n",
       "    <tr>\n",
       "      <th>3</th>\n",
       "      <td>Logistic Regression</td>\n",
       "      <td>train</td>\n",
       "      <td>0.780667</td>\n",
       "    </tr>\n",
       "    <tr>\n",
       "      <th>4</th>\n",
       "      <td>SVM</td>\n",
       "      <td>test</td>\n",
       "      <td>0.633588</td>\n",
       "    </tr>\n",
       "    <tr>\n",
       "      <th>...</th>\n",
       "      <td>...</td>\n",
       "      <td>...</td>\n",
       "      <td>...</td>\n",
       "    </tr>\n",
       "    <tr>\n",
       "      <th>281</th>\n",
       "      <td>Decision Tree</td>\n",
       "      <td>train</td>\n",
       "      <td>1.000000</td>\n",
       "    </tr>\n",
       "    <tr>\n",
       "      <th>282</th>\n",
       "      <td>Random Forest</td>\n",
       "      <td>test</td>\n",
       "      <td>0.725191</td>\n",
       "    </tr>\n",
       "    <tr>\n",
       "      <th>283</th>\n",
       "      <td>Random Forest</td>\n",
       "      <td>train</td>\n",
       "      <td>1.000000</td>\n",
       "    </tr>\n",
       "    <tr>\n",
       "      <th>284</th>\n",
       "      <td>Gradient Boosting</td>\n",
       "      <td>test</td>\n",
       "      <td>0.725191</td>\n",
       "    </tr>\n",
       "    <tr>\n",
       "      <th>285</th>\n",
       "      <td>Gradient Boosting</td>\n",
       "      <td>train</td>\n",
       "      <td>1.000000</td>\n",
       "    </tr>\n",
       "  </tbody>\n",
       "</table>\n",
       "<p>286 rows × 3 columns</p>\n",
       "</div>"
      ],
      "text/plain": [
       "                   model dataset     score\n",
       "0    Logistic Regression    test  0.641221\n",
       "1    Logistic Regression   train  0.780667\n",
       "2    Logistic Regression    test  0.641221\n",
       "3    Logistic Regression   train  0.780667\n",
       "4                    SVM    test  0.633588\n",
       "..                   ...     ...       ...\n",
       "281        Decision Tree   train  1.000000\n",
       "282        Random Forest    test  0.725191\n",
       "283        Random Forest   train  1.000000\n",
       "284    Gradient Boosting    test  0.725191\n",
       "285    Gradient Boosting   train  1.000000\n",
       "\n",
       "[286 rows x 3 columns]"
      ]
     },
     "execution_count": 152,
     "metadata": {},
     "output_type": "execute_result"
    }
   ],
   "source": [
    "%%time\n",
    "\n",
    "# Logistic Regression parameters\n",
    "logit = LogisticRegression(solver='saga')\n",
    "logit_params = param_grid = {'penalty': ['l1', 'l2'],\n",
    "              'C': [2**i for i in range(-17, 18)]}\n",
    "logit_name = \"Logistic Regression\"\n",
    "\n",
    "logit_tuple = (logit, logit_params, logit_name)\n",
    "\n",
    "\n",
    "# SVM parameters\n",
    "svm_model = SVC(max_iter=1000, probability=False, random_state=1)\n",
    "svm_params = {'C': [10**i for i in range(-7, 8)],\n",
    "              'kernel': ['poly', 'rbf', 'sigmoid', 'linear']}\n",
    "svm_name = \"SVM\"\n",
    "svm_tuple = (svm_model, svm_params, svm_name)\n",
    "\n",
    "\n",
    "# k-Nearest Neighbour parameters\n",
    "knn = KNN()\n",
    "knn_params = {'n_neighbors': [i for i in range(3,10)] + \\\n",
    "                             [i for i in range(10, 100, 5)] + \\\n",
    "                             [i for i in range(100, X_train_mel.shape[0]//2, 20)],\n",
    "              'weights': ['uniform', 'distance']}\n",
    "knn_name = \"KNN\"\n",
    "knn_tuple = (knn, knn_params, knn_name)\n",
    "\n",
    "# Decision tree parameters\n",
    "dt = DecisionTreeClassifier(random_state=1)\n",
    "dt_params = {'min_samples_leaf': [i for i in range(1, 20)],\n",
    "              'max_depth' : [i for i in range(1, X_train_mel.shape[1], X_train_mel.shape[1]//10)]+[None],\n",
    "              'max_features': [i/10 for i in range(2, 11, 2)]}\n",
    "dt_name = \"Decision Tree\"\n",
    "dt_tuple = (dt, dt_params, dt_name)\n",
    "\n",
    "# Random forest parameters\n",
    "rf = RandomForestClassifier(random_state=1)\n",
    "rf_params = {'min_samples_leaf': [i for i in range(1, 20)],\n",
    "              'max_depth' : [i for i in range(1, X_train_mel.shape[1], X_train_mel.shape[1]//10)]+[None],\n",
    "              'max_features': [i/10 for i in range(2, 11, 2)],\n",
    "              'n_estimators': [i*10 for i in range(1,10, 2)]}\n",
    "rf_name = \"Random Forest\"\n",
    "rf_tuple = (rf, rf_params, rf_name)\n",
    "\n",
    "# Gradient boosting parameters\n",
    "xgb = XGBClassifier(learning_rate=0.1, random_state=1)\n",
    "xgb_params = {'min_child_weight': [i for i in range(1, 20)],\n",
    "              'max_depth' : [i for i in range(1, X_train_mel.shape[1], X_train_mel.shape[1]//10)]+[None],\n",
    "              'subsample': [i/10 for i in range(2, 11, 2)],\n",
    "              'n_estimators': [i*10 for i in range(1,10, 2)]}\n",
    "xgb_name = \"Gradient Boosting\"\n",
    "xgb_tuple = (xgb, xgb_params, xgb_name)\n",
    "\n",
    "\n",
    "\n",
    "# Place all model collections into a list\n",
    "model_list = [logit_tuple, svm_tuple, knn_tuple, dt_tuple, rf_tuple, xgb_tuple]\n",
    "#model_list = [logit_tuple, svm_tuple, knn_tuple, dt_tuple]\n",
    "#model_list = [svm_tuple, knn_tuple, dt_tuple]\n",
    "\n",
    "# And run through them for different splits\n",
    "for i in range(1):\n",
    "    \n",
    "    # create a different split\n",
    "    print(f\"{i}: Preprocessing data...\")\n",
    "    X_train_mel, X_test_mel, y_train, y_test = preprocess_data(dataset, random_state=None)\n",
    "    \n",
    "    # Run through all the models\n",
    "    for estimator, param_grid, model_name in model_list:\n",
    "        print(f\"Running {model_name}\")\n",
    "\n",
    "        if (model_name == \"Gradient Boosting\") or (model_name == \"Random Forest\"):\n",
    "            mode = \"random\"\n",
    "        else:\n",
    "            mode = \"gs\"\n",
    "        run_model(estimator, \n",
    "                  param_grid, \n",
    "                  X_train_mel, \n",
    "                  y_train, \n",
    "                  X_test_mel, \n",
    "                  y_test, \n",
    "                  total_run_times_dataframe, \n",
    "                  model_name,\n",
    "                  core_number = multiprocessing.cpu_count()-2,\n",
    "                  search_type=mode)\n",
    "\n",
    "\n",
    "    # After every successful model run, save result to hard-drive in case of kernel crash\n",
    "    total_run_times_dataframe.to_csv('outputs/augmented_data_scores.csv', index=False)\n",
    "    \n",
    "    \n",
    "total_run_times_dataframe"
   ]
  },
  {
   "cell_type": "markdown",
   "metadata": {},
   "source": [
    "Aggregate the results based on model and dataset, and calculate the mean and standard deviation. We then separate the results into a train and test dataframes for easy visualization"
   ]
  },
  {
   "cell_type": "code",
   "execution_count": 168,
   "metadata": {},
   "outputs": [
    {
     "data": {
      "text/html": [
       "<div>\n",
       "<style scoped>\n",
       "    .dataframe tbody tr th:only-of-type {\n",
       "        vertical-align: middle;\n",
       "    }\n",
       "\n",
       "    .dataframe tbody tr th {\n",
       "        vertical-align: top;\n",
       "    }\n",
       "\n",
       "    .dataframe thead tr th {\n",
       "        text-align: left;\n",
       "    }\n",
       "</style>\n",
       "<table border=\"1\" class=\"dataframe\">\n",
       "  <thead>\n",
       "    <tr>\n",
       "      <th></th>\n",
       "      <th>model</th>\n",
       "      <th>dataset</th>\n",
       "      <th colspan=\"2\" halign=\"left\">score</th>\n",
       "    </tr>\n",
       "    <tr>\n",
       "      <th></th>\n",
       "      <th></th>\n",
       "      <th></th>\n",
       "      <th>mean</th>\n",
       "      <th>std</th>\n",
       "    </tr>\n",
       "  </thead>\n",
       "  <tbody>\n",
       "    <tr>\n",
       "      <th>1</th>\n",
       "      <td>Decision Tree</td>\n",
       "      <td>train</td>\n",
       "      <td>0.964194</td>\n",
       "      <td>0.036946</td>\n",
       "    </tr>\n",
       "    <tr>\n",
       "      <th>3</th>\n",
       "      <td>Gradient Boosting</td>\n",
       "      <td>train</td>\n",
       "      <td>1.000000</td>\n",
       "      <td>0.000000</td>\n",
       "    </tr>\n",
       "    <tr>\n",
       "      <th>5</th>\n",
       "      <td>KNN</td>\n",
       "      <td>train</td>\n",
       "      <td>1.000000</td>\n",
       "      <td>0.000000</td>\n",
       "    </tr>\n",
       "    <tr>\n",
       "      <th>7</th>\n",
       "      <td>Logistic Regression</td>\n",
       "      <td>train</td>\n",
       "      <td>0.788240</td>\n",
       "      <td>0.010481</td>\n",
       "    </tr>\n",
       "    <tr>\n",
       "      <th>9</th>\n",
       "      <td>Random Forest</td>\n",
       "      <td>train</td>\n",
       "      <td>0.999884</td>\n",
       "      <td>0.000258</td>\n",
       "    </tr>\n",
       "    <tr>\n",
       "      <th>11</th>\n",
       "      <td>SVM</td>\n",
       "      <td>train</td>\n",
       "      <td>0.985111</td>\n",
       "      <td>0.015253</td>\n",
       "    </tr>\n",
       "  </tbody>\n",
       "</table>\n",
       "</div>"
      ],
      "text/plain": [
       "                  model dataset     score          \n",
       "                                     mean       std\n",
       "1         Decision Tree   train  0.964194  0.036946\n",
       "3     Gradient Boosting   train  1.000000  0.000000\n",
       "5                   KNN   train  1.000000  0.000000\n",
       "7   Logistic Regression   train  0.788240  0.010481\n",
       "9         Random Forest   train  0.999884  0.000258\n",
       "11                  SVM   train  0.985111  0.015253"
      ]
     },
     "metadata": {},
     "output_type": "display_data"
    },
    {
     "data": {
      "text/html": [
       "<div>\n",
       "<style scoped>\n",
       "    .dataframe tbody tr th:only-of-type {\n",
       "        vertical-align: middle;\n",
       "    }\n",
       "\n",
       "    .dataframe tbody tr th {\n",
       "        vertical-align: top;\n",
       "    }\n",
       "\n",
       "    .dataframe thead tr th {\n",
       "        text-align: left;\n",
       "    }\n",
       "</style>\n",
       "<table border=\"1\" class=\"dataframe\">\n",
       "  <thead>\n",
       "    <tr>\n",
       "      <th></th>\n",
       "      <th>model</th>\n",
       "      <th>dataset</th>\n",
       "      <th colspan=\"2\" halign=\"left\">score</th>\n",
       "    </tr>\n",
       "    <tr>\n",
       "      <th></th>\n",
       "      <th></th>\n",
       "      <th></th>\n",
       "      <th>mean</th>\n",
       "      <th>std</th>\n",
       "    </tr>\n",
       "  </thead>\n",
       "  <tbody>\n",
       "    <tr>\n",
       "      <th>0</th>\n",
       "      <td>Decision Tree</td>\n",
       "      <td>test</td>\n",
       "      <td>0.635178</td>\n",
       "      <td>0.042709</td>\n",
       "    </tr>\n",
       "    <tr>\n",
       "      <th>4</th>\n",
       "      <td>KNN</td>\n",
       "      <td>test</td>\n",
       "      <td>0.642494</td>\n",
       "      <td>0.025534</td>\n",
       "    </tr>\n",
       "    <tr>\n",
       "      <th>6</th>\n",
       "      <td>Logistic Regression</td>\n",
       "      <td>test</td>\n",
       "      <td>0.661374</td>\n",
       "      <td>0.035250</td>\n",
       "    </tr>\n",
       "    <tr>\n",
       "      <th>10</th>\n",
       "      <td>SVM</td>\n",
       "      <td>test</td>\n",
       "      <td>0.678753</td>\n",
       "      <td>0.037796</td>\n",
       "    </tr>\n",
       "    <tr>\n",
       "      <th>2</th>\n",
       "      <td>Gradient Boosting</td>\n",
       "      <td>test</td>\n",
       "      <td>0.700962</td>\n",
       "      <td>0.033799</td>\n",
       "    </tr>\n",
       "    <tr>\n",
       "      <th>8</th>\n",
       "      <td>Random Forest</td>\n",
       "      <td>test</td>\n",
       "      <td>0.705277</td>\n",
       "      <td>0.034118</td>\n",
       "    </tr>\n",
       "  </tbody>\n",
       "</table>\n",
       "</div>"
      ],
      "text/plain": [
       "                  model dataset     score          \n",
       "                                     mean       std\n",
       "0         Decision Tree    test  0.635178  0.042709\n",
       "4                   KNN    test  0.642494  0.025534\n",
       "6   Logistic Regression    test  0.661374  0.035250\n",
       "10                  SVM    test  0.678753  0.037796\n",
       "2     Gradient Boosting    test  0.700962  0.033799\n",
       "8         Random Forest    test  0.705277  0.034118"
      ]
     },
     "metadata": {},
     "output_type": "display_data"
    }
   ],
   "source": [
    "grouped_df = total_run_times_dataframe.groupby(['model', 'dataset']).agg(['mean', 'std']).reset_index()\n",
    "\n",
    "\n",
    "train_grouped_df = grouped_df[grouped_df['dataset'] == 'train']\n",
    "display(train_grouped_df)\n",
    "\n",
    "test_grouped_df = grouped_df[grouped_df['dataset'] == 'test'].sort_values(by=('score', 'mean'))\n",
    "display(test_grouped_df)"
   ]
  },
  {
   "cell_type": "markdown",
   "metadata": {},
   "source": [
    "And visualize the results:"
   ]
  },
  {
   "cell_type": "code",
   "execution_count": 171,
   "metadata": {},
   "outputs": [
    {
     "data": {
      "application/vnd.plotly.v1+json": {
       "config": {
        "plotlyServerURL": "https://plot.ly"
       },
       "data": [
        {
         "error_y": {
          "array": [
           3.69,
           0,
           0,
           1.05,
           0.03,
           1.53
          ]
         },
         "name": "Train",
         "type": "bar",
         "x": [
          "Decision Tree",
          "Gradient Boosting",
          "KNN",
          "Logistic Regression",
          "Random Forest",
          "SVM"
         ],
         "y": [
          96.42,
          100,
          100,
          78.82,
          99.99,
          98.51
         ]
        },
        {
         "error_y": {
          "array": [
           4.27,
           2.55,
           3.52,
           3.78,
           3.38,
           3.41
          ]
         },
         "marker": {
          "color": "orange"
         },
         "name": "Test",
         "type": "bar",
         "x": [
          "Decision Tree",
          "Gradient Boosting",
          "KNN",
          "Logistic Regression",
          "Random Forest",
          "SVM"
         ],
         "y": [
          63.52,
          64.25,
          66.14,
          67.88,
          70.1,
          70.53
         ]
        }
       ],
       "layout": {
        "barmode": "group",
        "font": {
         "family": "Courier New, monospace",
         "size": 18
        },
        "legend": {
         "title": {
          "text": "Dataset"
         }
        },
        "template": {
         "data": {
          "bar": [
           {
            "error_x": {
             "color": "#2a3f5f"
            },
            "error_y": {
             "color": "#2a3f5f"
            },
            "marker": {
             "line": {
              "color": "#E5ECF6",
              "width": 0.5
             }
            },
            "type": "bar"
           }
          ],
          "barpolar": [
           {
            "marker": {
             "line": {
              "color": "#E5ECF6",
              "width": 0.5
             }
            },
            "type": "barpolar"
           }
          ],
          "carpet": [
           {
            "aaxis": {
             "endlinecolor": "#2a3f5f",
             "gridcolor": "white",
             "linecolor": "white",
             "minorgridcolor": "white",
             "startlinecolor": "#2a3f5f"
            },
            "baxis": {
             "endlinecolor": "#2a3f5f",
             "gridcolor": "white",
             "linecolor": "white",
             "minorgridcolor": "white",
             "startlinecolor": "#2a3f5f"
            },
            "type": "carpet"
           }
          ],
          "choropleth": [
           {
            "colorbar": {
             "outlinewidth": 0,
             "ticks": ""
            },
            "type": "choropleth"
           }
          ],
          "contour": [
           {
            "colorbar": {
             "outlinewidth": 0,
             "ticks": ""
            },
            "colorscale": [
             [
              0,
              "#0d0887"
             ],
             [
              0.1111111111111111,
              "#46039f"
             ],
             [
              0.2222222222222222,
              "#7201a8"
             ],
             [
              0.3333333333333333,
              "#9c179e"
             ],
             [
              0.4444444444444444,
              "#bd3786"
             ],
             [
              0.5555555555555556,
              "#d8576b"
             ],
             [
              0.6666666666666666,
              "#ed7953"
             ],
             [
              0.7777777777777778,
              "#fb9f3a"
             ],
             [
              0.8888888888888888,
              "#fdca26"
             ],
             [
              1,
              "#f0f921"
             ]
            ],
            "type": "contour"
           }
          ],
          "contourcarpet": [
           {
            "colorbar": {
             "outlinewidth": 0,
             "ticks": ""
            },
            "type": "contourcarpet"
           }
          ],
          "heatmap": [
           {
            "colorbar": {
             "outlinewidth": 0,
             "ticks": ""
            },
            "colorscale": [
             [
              0,
              "#0d0887"
             ],
             [
              0.1111111111111111,
              "#46039f"
             ],
             [
              0.2222222222222222,
              "#7201a8"
             ],
             [
              0.3333333333333333,
              "#9c179e"
             ],
             [
              0.4444444444444444,
              "#bd3786"
             ],
             [
              0.5555555555555556,
              "#d8576b"
             ],
             [
              0.6666666666666666,
              "#ed7953"
             ],
             [
              0.7777777777777778,
              "#fb9f3a"
             ],
             [
              0.8888888888888888,
              "#fdca26"
             ],
             [
              1,
              "#f0f921"
             ]
            ],
            "type": "heatmap"
           }
          ],
          "heatmapgl": [
           {
            "colorbar": {
             "outlinewidth": 0,
             "ticks": ""
            },
            "colorscale": [
             [
              0,
              "#0d0887"
             ],
             [
              0.1111111111111111,
              "#46039f"
             ],
             [
              0.2222222222222222,
              "#7201a8"
             ],
             [
              0.3333333333333333,
              "#9c179e"
             ],
             [
              0.4444444444444444,
              "#bd3786"
             ],
             [
              0.5555555555555556,
              "#d8576b"
             ],
             [
              0.6666666666666666,
              "#ed7953"
             ],
             [
              0.7777777777777778,
              "#fb9f3a"
             ],
             [
              0.8888888888888888,
              "#fdca26"
             ],
             [
              1,
              "#f0f921"
             ]
            ],
            "type": "heatmapgl"
           }
          ],
          "histogram": [
           {
            "marker": {
             "colorbar": {
              "outlinewidth": 0,
              "ticks": ""
             }
            },
            "type": "histogram"
           }
          ],
          "histogram2d": [
           {
            "colorbar": {
             "outlinewidth": 0,
             "ticks": ""
            },
            "colorscale": [
             [
              0,
              "#0d0887"
             ],
             [
              0.1111111111111111,
              "#46039f"
             ],
             [
              0.2222222222222222,
              "#7201a8"
             ],
             [
              0.3333333333333333,
              "#9c179e"
             ],
             [
              0.4444444444444444,
              "#bd3786"
             ],
             [
              0.5555555555555556,
              "#d8576b"
             ],
             [
              0.6666666666666666,
              "#ed7953"
             ],
             [
              0.7777777777777778,
              "#fb9f3a"
             ],
             [
              0.8888888888888888,
              "#fdca26"
             ],
             [
              1,
              "#f0f921"
             ]
            ],
            "type": "histogram2d"
           }
          ],
          "histogram2dcontour": [
           {
            "colorbar": {
             "outlinewidth": 0,
             "ticks": ""
            },
            "colorscale": [
             [
              0,
              "#0d0887"
             ],
             [
              0.1111111111111111,
              "#46039f"
             ],
             [
              0.2222222222222222,
              "#7201a8"
             ],
             [
              0.3333333333333333,
              "#9c179e"
             ],
             [
              0.4444444444444444,
              "#bd3786"
             ],
             [
              0.5555555555555556,
              "#d8576b"
             ],
             [
              0.6666666666666666,
              "#ed7953"
             ],
             [
              0.7777777777777778,
              "#fb9f3a"
             ],
             [
              0.8888888888888888,
              "#fdca26"
             ],
             [
              1,
              "#f0f921"
             ]
            ],
            "type": "histogram2dcontour"
           }
          ],
          "mesh3d": [
           {
            "colorbar": {
             "outlinewidth": 0,
             "ticks": ""
            },
            "type": "mesh3d"
           }
          ],
          "parcoords": [
           {
            "line": {
             "colorbar": {
              "outlinewidth": 0,
              "ticks": ""
             }
            },
            "type": "parcoords"
           }
          ],
          "pie": [
           {
            "automargin": true,
            "type": "pie"
           }
          ],
          "scatter": [
           {
            "marker": {
             "colorbar": {
              "outlinewidth": 0,
              "ticks": ""
             }
            },
            "type": "scatter"
           }
          ],
          "scatter3d": [
           {
            "line": {
             "colorbar": {
              "outlinewidth": 0,
              "ticks": ""
             }
            },
            "marker": {
             "colorbar": {
              "outlinewidth": 0,
              "ticks": ""
             }
            },
            "type": "scatter3d"
           }
          ],
          "scattercarpet": [
           {
            "marker": {
             "colorbar": {
              "outlinewidth": 0,
              "ticks": ""
             }
            },
            "type": "scattercarpet"
           }
          ],
          "scattergeo": [
           {
            "marker": {
             "colorbar": {
              "outlinewidth": 0,
              "ticks": ""
             }
            },
            "type": "scattergeo"
           }
          ],
          "scattergl": [
           {
            "marker": {
             "colorbar": {
              "outlinewidth": 0,
              "ticks": ""
             }
            },
            "type": "scattergl"
           }
          ],
          "scattermapbox": [
           {
            "marker": {
             "colorbar": {
              "outlinewidth": 0,
              "ticks": ""
             }
            },
            "type": "scattermapbox"
           }
          ],
          "scatterpolar": [
           {
            "marker": {
             "colorbar": {
              "outlinewidth": 0,
              "ticks": ""
             }
            },
            "type": "scatterpolar"
           }
          ],
          "scatterpolargl": [
           {
            "marker": {
             "colorbar": {
              "outlinewidth": 0,
              "ticks": ""
             }
            },
            "type": "scatterpolargl"
           }
          ],
          "scatterternary": [
           {
            "marker": {
             "colorbar": {
              "outlinewidth": 0,
              "ticks": ""
             }
            },
            "type": "scatterternary"
           }
          ],
          "surface": [
           {
            "colorbar": {
             "outlinewidth": 0,
             "ticks": ""
            },
            "colorscale": [
             [
              0,
              "#0d0887"
             ],
             [
              0.1111111111111111,
              "#46039f"
             ],
             [
              0.2222222222222222,
              "#7201a8"
             ],
             [
              0.3333333333333333,
              "#9c179e"
             ],
             [
              0.4444444444444444,
              "#bd3786"
             ],
             [
              0.5555555555555556,
              "#d8576b"
             ],
             [
              0.6666666666666666,
              "#ed7953"
             ],
             [
              0.7777777777777778,
              "#fb9f3a"
             ],
             [
              0.8888888888888888,
              "#fdca26"
             ],
             [
              1,
              "#f0f921"
             ]
            ],
            "type": "surface"
           }
          ],
          "table": [
           {
            "cells": {
             "fill": {
              "color": "#EBF0F8"
             },
             "line": {
              "color": "white"
             }
            },
            "header": {
             "fill": {
              "color": "#C8D4E3"
             },
             "line": {
              "color": "white"
             }
            },
            "type": "table"
           }
          ]
         },
         "layout": {
          "annotationdefaults": {
           "arrowcolor": "#2a3f5f",
           "arrowhead": 0,
           "arrowwidth": 1
          },
          "coloraxis": {
           "colorbar": {
            "outlinewidth": 0,
            "ticks": ""
           }
          },
          "colorscale": {
           "diverging": [
            [
             0,
             "#8e0152"
            ],
            [
             0.1,
             "#c51b7d"
            ],
            [
             0.2,
             "#de77ae"
            ],
            [
             0.3,
             "#f1b6da"
            ],
            [
             0.4,
             "#fde0ef"
            ],
            [
             0.5,
             "#f7f7f7"
            ],
            [
             0.6,
             "#e6f5d0"
            ],
            [
             0.7,
             "#b8e186"
            ],
            [
             0.8,
             "#7fbc41"
            ],
            [
             0.9,
             "#4d9221"
            ],
            [
             1,
             "#276419"
            ]
           ],
           "sequential": [
            [
             0,
             "#0d0887"
            ],
            [
             0.1111111111111111,
             "#46039f"
            ],
            [
             0.2222222222222222,
             "#7201a8"
            ],
            [
             0.3333333333333333,
             "#9c179e"
            ],
            [
             0.4444444444444444,
             "#bd3786"
            ],
            [
             0.5555555555555556,
             "#d8576b"
            ],
            [
             0.6666666666666666,
             "#ed7953"
            ],
            [
             0.7777777777777778,
             "#fb9f3a"
            ],
            [
             0.8888888888888888,
             "#fdca26"
            ],
            [
             1,
             "#f0f921"
            ]
           ],
           "sequentialminus": [
            [
             0,
             "#0d0887"
            ],
            [
             0.1111111111111111,
             "#46039f"
            ],
            [
             0.2222222222222222,
             "#7201a8"
            ],
            [
             0.3333333333333333,
             "#9c179e"
            ],
            [
             0.4444444444444444,
             "#bd3786"
            ],
            [
             0.5555555555555556,
             "#d8576b"
            ],
            [
             0.6666666666666666,
             "#ed7953"
            ],
            [
             0.7777777777777778,
             "#fb9f3a"
            ],
            [
             0.8888888888888888,
             "#fdca26"
            ],
            [
             1,
             "#f0f921"
            ]
           ]
          },
          "colorway": [
           "#636efa",
           "#EF553B",
           "#00cc96",
           "#ab63fa",
           "#FFA15A",
           "#19d3f3",
           "#FF6692",
           "#B6E880",
           "#FF97FF",
           "#FECB52"
          ],
          "font": {
           "color": "#2a3f5f"
          },
          "geo": {
           "bgcolor": "white",
           "lakecolor": "white",
           "landcolor": "#E5ECF6",
           "showlakes": true,
           "showland": true,
           "subunitcolor": "white"
          },
          "hoverlabel": {
           "align": "left"
          },
          "hovermode": "closest",
          "mapbox": {
           "style": "light"
          },
          "paper_bgcolor": "white",
          "plot_bgcolor": "#E5ECF6",
          "polar": {
           "angularaxis": {
            "gridcolor": "white",
            "linecolor": "white",
            "ticks": ""
           },
           "bgcolor": "#E5ECF6",
           "radialaxis": {
            "gridcolor": "white",
            "linecolor": "white",
            "ticks": ""
           }
          },
          "scene": {
           "xaxis": {
            "backgroundcolor": "#E5ECF6",
            "gridcolor": "white",
            "gridwidth": 2,
            "linecolor": "white",
            "showbackground": true,
            "ticks": "",
            "zerolinecolor": "white"
           },
           "yaxis": {
            "backgroundcolor": "#E5ECF6",
            "gridcolor": "white",
            "gridwidth": 2,
            "linecolor": "white",
            "showbackground": true,
            "ticks": "",
            "zerolinecolor": "white"
           },
           "zaxis": {
            "backgroundcolor": "#E5ECF6",
            "gridcolor": "white",
            "gridwidth": 2,
            "linecolor": "white",
            "showbackground": true,
            "ticks": "",
            "zerolinecolor": "white"
           }
          },
          "shapedefaults": {
           "line": {
            "color": "#2a3f5f"
           }
          },
          "ternary": {
           "aaxis": {
            "gridcolor": "white",
            "linecolor": "white",
            "ticks": ""
           },
           "baxis": {
            "gridcolor": "white",
            "linecolor": "white",
            "ticks": ""
           },
           "bgcolor": "#E5ECF6",
           "caxis": {
            "gridcolor": "white",
            "linecolor": "white",
            "ticks": ""
           }
          },
          "title": {
           "x": 0.05
          },
          "xaxis": {
           "automargin": true,
           "gridcolor": "white",
           "linecolor": "white",
           "ticks": "",
           "title": {
            "standoff": 15
           },
           "zerolinecolor": "white",
           "zerolinewidth": 2
          },
          "yaxis": {
           "automargin": true,
           "gridcolor": "white",
           "linecolor": "white",
           "ticks": "",
           "title": {
            "standoff": 15
           },
           "zerolinecolor": "white",
           "zerolinewidth": 2
          }
         }
        },
        "title": {
         "text": "Accuracy Comparison across Different Models"
        },
        "xaxis": {
         "title": {
          "text": "Model"
         }
        },
        "yaxis": {
         "range": [
          0,
          110
         ],
         "title": {
          "text": "Accuracy Score (%)"
         }
        }
       }
      },
      "text/html": [
       "<div>\n",
       "        \n",
       "        \n",
       "            <div id=\"6e3d54de-c2a1-4195-8282-f46e05296e1f\" class=\"plotly-graph-div\" style=\"height:525px; width:100%;\"></div>\n",
       "            <script type=\"text/javascript\">\n",
       "                require([\"plotly\"], function(Plotly) {\n",
       "                    window.PLOTLYENV=window.PLOTLYENV || {};\n",
       "                    \n",
       "                if (document.getElementById(\"6e3d54de-c2a1-4195-8282-f46e05296e1f\")) {\n",
       "                    Plotly.newPlot(\n",
       "                        '6e3d54de-c2a1-4195-8282-f46e05296e1f',\n",
       "                        [{\"error_y\": {\"array\": [3.69, 0.0, 0.0, 1.05, 0.03, 1.53]}, \"name\": \"Train\", \"type\": \"bar\", \"x\": [\"Decision Tree\", \"Gradient Boosting\", \"KNN\", \"Logistic Regression\", \"Random Forest\", \"SVM\"], \"y\": [96.42, 100.0, 100.0, 78.82, 99.99, 98.51]}, {\"error_y\": {\"array\": [4.27, 2.55, 3.52, 3.78, 3.38, 3.41]}, \"marker\": {\"color\": \"orange\"}, \"name\": \"Test\", \"type\": \"bar\", \"x\": [\"Decision Tree\", \"Gradient Boosting\", \"KNN\", \"Logistic Regression\", \"Random Forest\", \"SVM\"], \"y\": [63.52, 64.25, 66.14, 67.88, 70.1, 70.53]}],\n",
       "                        {\"barmode\": \"group\", \"font\": {\"family\": \"Courier New, monospace\", \"size\": 18}, \"legend\": {\"title\": {\"text\": \"Dataset\"}}, \"template\": {\"data\": {\"bar\": [{\"error_x\": {\"color\": \"#2a3f5f\"}, \"error_y\": {\"color\": \"#2a3f5f\"}, \"marker\": {\"line\": {\"color\": \"#E5ECF6\", \"width\": 0.5}}, \"type\": \"bar\"}], \"barpolar\": [{\"marker\": {\"line\": {\"color\": \"#E5ECF6\", \"width\": 0.5}}, \"type\": \"barpolar\"}], \"carpet\": [{\"aaxis\": {\"endlinecolor\": \"#2a3f5f\", \"gridcolor\": \"white\", \"linecolor\": \"white\", \"minorgridcolor\": \"white\", \"startlinecolor\": \"#2a3f5f\"}, \"baxis\": {\"endlinecolor\": \"#2a3f5f\", \"gridcolor\": \"white\", \"linecolor\": \"white\", \"minorgridcolor\": \"white\", \"startlinecolor\": \"#2a3f5f\"}, \"type\": \"carpet\"}], \"choropleth\": [{\"colorbar\": {\"outlinewidth\": 0, \"ticks\": \"\"}, \"type\": \"choropleth\"}], \"contour\": [{\"colorbar\": {\"outlinewidth\": 0, \"ticks\": \"\"}, \"colorscale\": [[0.0, \"#0d0887\"], [0.1111111111111111, \"#46039f\"], [0.2222222222222222, \"#7201a8\"], [0.3333333333333333, \"#9c179e\"], [0.4444444444444444, \"#bd3786\"], [0.5555555555555556, \"#d8576b\"], [0.6666666666666666, \"#ed7953\"], [0.7777777777777778, \"#fb9f3a\"], [0.8888888888888888, \"#fdca26\"], [1.0, \"#f0f921\"]], \"type\": \"contour\"}], \"contourcarpet\": [{\"colorbar\": {\"outlinewidth\": 0, \"ticks\": \"\"}, \"type\": \"contourcarpet\"}], \"heatmap\": [{\"colorbar\": {\"outlinewidth\": 0, \"ticks\": \"\"}, \"colorscale\": [[0.0, \"#0d0887\"], [0.1111111111111111, \"#46039f\"], [0.2222222222222222, \"#7201a8\"], [0.3333333333333333, \"#9c179e\"], [0.4444444444444444, \"#bd3786\"], [0.5555555555555556, \"#d8576b\"], [0.6666666666666666, \"#ed7953\"], [0.7777777777777778, \"#fb9f3a\"], [0.8888888888888888, \"#fdca26\"], [1.0, \"#f0f921\"]], \"type\": \"heatmap\"}], \"heatmapgl\": [{\"colorbar\": {\"outlinewidth\": 0, \"ticks\": \"\"}, \"colorscale\": [[0.0, \"#0d0887\"], [0.1111111111111111, \"#46039f\"], [0.2222222222222222, \"#7201a8\"], [0.3333333333333333, \"#9c179e\"], [0.4444444444444444, \"#bd3786\"], [0.5555555555555556, \"#d8576b\"], [0.6666666666666666, \"#ed7953\"], [0.7777777777777778, \"#fb9f3a\"], [0.8888888888888888, \"#fdca26\"], [1.0, \"#f0f921\"]], \"type\": \"heatmapgl\"}], \"histogram\": [{\"marker\": {\"colorbar\": {\"outlinewidth\": 0, \"ticks\": \"\"}}, \"type\": \"histogram\"}], \"histogram2d\": [{\"colorbar\": {\"outlinewidth\": 0, \"ticks\": \"\"}, \"colorscale\": [[0.0, \"#0d0887\"], [0.1111111111111111, \"#46039f\"], [0.2222222222222222, \"#7201a8\"], [0.3333333333333333, \"#9c179e\"], [0.4444444444444444, \"#bd3786\"], [0.5555555555555556, \"#d8576b\"], [0.6666666666666666, \"#ed7953\"], [0.7777777777777778, \"#fb9f3a\"], [0.8888888888888888, \"#fdca26\"], [1.0, \"#f0f921\"]], \"type\": \"histogram2d\"}], \"histogram2dcontour\": [{\"colorbar\": {\"outlinewidth\": 0, \"ticks\": \"\"}, \"colorscale\": [[0.0, \"#0d0887\"], [0.1111111111111111, \"#46039f\"], [0.2222222222222222, \"#7201a8\"], [0.3333333333333333, \"#9c179e\"], [0.4444444444444444, \"#bd3786\"], [0.5555555555555556, \"#d8576b\"], [0.6666666666666666, \"#ed7953\"], [0.7777777777777778, \"#fb9f3a\"], [0.8888888888888888, \"#fdca26\"], [1.0, \"#f0f921\"]], \"type\": \"histogram2dcontour\"}], \"mesh3d\": [{\"colorbar\": {\"outlinewidth\": 0, \"ticks\": \"\"}, \"type\": \"mesh3d\"}], \"parcoords\": [{\"line\": {\"colorbar\": {\"outlinewidth\": 0, \"ticks\": \"\"}}, \"type\": \"parcoords\"}], \"pie\": [{\"automargin\": true, \"type\": \"pie\"}], \"scatter\": [{\"marker\": {\"colorbar\": {\"outlinewidth\": 0, \"ticks\": \"\"}}, \"type\": \"scatter\"}], \"scatter3d\": [{\"line\": {\"colorbar\": {\"outlinewidth\": 0, \"ticks\": \"\"}}, \"marker\": {\"colorbar\": {\"outlinewidth\": 0, \"ticks\": \"\"}}, \"type\": \"scatter3d\"}], \"scattercarpet\": [{\"marker\": {\"colorbar\": {\"outlinewidth\": 0, \"ticks\": \"\"}}, \"type\": \"scattercarpet\"}], \"scattergeo\": [{\"marker\": {\"colorbar\": {\"outlinewidth\": 0, \"ticks\": \"\"}}, \"type\": \"scattergeo\"}], \"scattergl\": [{\"marker\": {\"colorbar\": {\"outlinewidth\": 0, \"ticks\": \"\"}}, \"type\": \"scattergl\"}], \"scattermapbox\": [{\"marker\": {\"colorbar\": {\"outlinewidth\": 0, \"ticks\": \"\"}}, \"type\": \"scattermapbox\"}], \"scatterpolar\": [{\"marker\": {\"colorbar\": {\"outlinewidth\": 0, \"ticks\": \"\"}}, \"type\": \"scatterpolar\"}], \"scatterpolargl\": [{\"marker\": {\"colorbar\": {\"outlinewidth\": 0, \"ticks\": \"\"}}, \"type\": \"scatterpolargl\"}], \"scatterternary\": [{\"marker\": {\"colorbar\": {\"outlinewidth\": 0, \"ticks\": \"\"}}, \"type\": \"scatterternary\"}], \"surface\": [{\"colorbar\": {\"outlinewidth\": 0, \"ticks\": \"\"}, \"colorscale\": [[0.0, \"#0d0887\"], [0.1111111111111111, \"#46039f\"], [0.2222222222222222, \"#7201a8\"], [0.3333333333333333, \"#9c179e\"], [0.4444444444444444, \"#bd3786\"], [0.5555555555555556, \"#d8576b\"], [0.6666666666666666, \"#ed7953\"], [0.7777777777777778, \"#fb9f3a\"], [0.8888888888888888, \"#fdca26\"], [1.0, \"#f0f921\"]], \"type\": \"surface\"}], \"table\": [{\"cells\": {\"fill\": {\"color\": \"#EBF0F8\"}, \"line\": {\"color\": \"white\"}}, \"header\": {\"fill\": {\"color\": \"#C8D4E3\"}, \"line\": {\"color\": \"white\"}}, \"type\": \"table\"}]}, \"layout\": {\"annotationdefaults\": {\"arrowcolor\": \"#2a3f5f\", \"arrowhead\": 0, \"arrowwidth\": 1}, \"coloraxis\": {\"colorbar\": {\"outlinewidth\": 0, \"ticks\": \"\"}}, \"colorscale\": {\"diverging\": [[0, \"#8e0152\"], [0.1, \"#c51b7d\"], [0.2, \"#de77ae\"], [0.3, \"#f1b6da\"], [0.4, \"#fde0ef\"], [0.5, \"#f7f7f7\"], [0.6, \"#e6f5d0\"], [0.7, \"#b8e186\"], [0.8, \"#7fbc41\"], [0.9, \"#4d9221\"], [1, \"#276419\"]], \"sequential\": [[0.0, \"#0d0887\"], [0.1111111111111111, \"#46039f\"], [0.2222222222222222, \"#7201a8\"], [0.3333333333333333, \"#9c179e\"], [0.4444444444444444, \"#bd3786\"], [0.5555555555555556, \"#d8576b\"], [0.6666666666666666, \"#ed7953\"], [0.7777777777777778, \"#fb9f3a\"], [0.8888888888888888, \"#fdca26\"], [1.0, \"#f0f921\"]], \"sequentialminus\": [[0.0, \"#0d0887\"], [0.1111111111111111, \"#46039f\"], [0.2222222222222222, \"#7201a8\"], [0.3333333333333333, \"#9c179e\"], [0.4444444444444444, \"#bd3786\"], [0.5555555555555556, \"#d8576b\"], [0.6666666666666666, \"#ed7953\"], [0.7777777777777778, \"#fb9f3a\"], [0.8888888888888888, \"#fdca26\"], [1.0, \"#f0f921\"]]}, \"colorway\": [\"#636efa\", \"#EF553B\", \"#00cc96\", \"#ab63fa\", \"#FFA15A\", \"#19d3f3\", \"#FF6692\", \"#B6E880\", \"#FF97FF\", \"#FECB52\"], \"font\": {\"color\": \"#2a3f5f\"}, \"geo\": {\"bgcolor\": \"white\", \"lakecolor\": \"white\", \"landcolor\": \"#E5ECF6\", \"showlakes\": true, \"showland\": true, \"subunitcolor\": \"white\"}, \"hoverlabel\": {\"align\": \"left\"}, \"hovermode\": \"closest\", \"mapbox\": {\"style\": \"light\"}, \"paper_bgcolor\": \"white\", \"plot_bgcolor\": \"#E5ECF6\", \"polar\": {\"angularaxis\": {\"gridcolor\": \"white\", \"linecolor\": \"white\", \"ticks\": \"\"}, \"bgcolor\": \"#E5ECF6\", \"radialaxis\": {\"gridcolor\": \"white\", \"linecolor\": \"white\", \"ticks\": \"\"}}, \"scene\": {\"xaxis\": {\"backgroundcolor\": \"#E5ECF6\", \"gridcolor\": \"white\", \"gridwidth\": 2, \"linecolor\": \"white\", \"showbackground\": true, \"ticks\": \"\", \"zerolinecolor\": \"white\"}, \"yaxis\": {\"backgroundcolor\": \"#E5ECF6\", \"gridcolor\": \"white\", \"gridwidth\": 2, \"linecolor\": \"white\", \"showbackground\": true, \"ticks\": \"\", \"zerolinecolor\": \"white\"}, \"zaxis\": {\"backgroundcolor\": \"#E5ECF6\", \"gridcolor\": \"white\", \"gridwidth\": 2, \"linecolor\": \"white\", \"showbackground\": true, \"ticks\": \"\", \"zerolinecolor\": \"white\"}}, \"shapedefaults\": {\"line\": {\"color\": \"#2a3f5f\"}}, \"ternary\": {\"aaxis\": {\"gridcolor\": \"white\", \"linecolor\": \"white\", \"ticks\": \"\"}, \"baxis\": {\"gridcolor\": \"white\", \"linecolor\": \"white\", \"ticks\": \"\"}, \"bgcolor\": \"#E5ECF6\", \"caxis\": {\"gridcolor\": \"white\", \"linecolor\": \"white\", \"ticks\": \"\"}}, \"title\": {\"x\": 0.05}, \"xaxis\": {\"automargin\": true, \"gridcolor\": \"white\", \"linecolor\": \"white\", \"ticks\": \"\", \"title\": {\"standoff\": 15}, \"zerolinecolor\": \"white\", \"zerolinewidth\": 2}, \"yaxis\": {\"automargin\": true, \"gridcolor\": \"white\", \"linecolor\": \"white\", \"ticks\": \"\", \"title\": {\"standoff\": 15}, \"zerolinecolor\": \"white\", \"zerolinewidth\": 2}}}, \"title\": {\"text\": \"Accuracy Comparison across Different Models\"}, \"xaxis\": {\"title\": {\"text\": \"Model\"}}, \"yaxis\": {\"range\": [0, 110], \"title\": {\"text\": \"Accuracy Score (%)\"}}},\n",
       "                        {\"responsive\": true}\n",
       "                    ).then(function(){\n",
       "                            \n",
       "var gd = document.getElementById('6e3d54de-c2a1-4195-8282-f46e05296e1f');\n",
       "var x = new MutationObserver(function (mutations, observer) {{\n",
       "        var display = window.getComputedStyle(gd).display;\n",
       "        if (!display || display === 'none') {{\n",
       "            console.log([gd, 'removed!']);\n",
       "            Plotly.purge(gd);\n",
       "            observer.disconnect();\n",
       "        }}\n",
       "}});\n",
       "\n",
       "// Listen for the removal of the full notebook cells\n",
       "var notebookContainer = gd.closest('#notebook-container');\n",
       "if (notebookContainer) {{\n",
       "    x.observe(notebookContainer, {childList: true});\n",
       "}}\n",
       "\n",
       "// Listen for the clearing of the current output cell\n",
       "var outputEl = gd.closest('.output');\n",
       "if (outputEl) {{\n",
       "    x.observe(outputEl, {childList: true});\n",
       "}}\n",
       "\n",
       "                        })\n",
       "                };\n",
       "                });\n",
       "            </script>\n",
       "        </div>"
      ]
     },
     "metadata": {},
     "output_type": "display_data"
    }
   ],
   "source": [
    "import plotly.graph_objects as go\n",
    "models = train_grouped_df['model']\n",
    "\n",
    "\n",
    "\n",
    "my_data = []\n",
    "\n",
    "#my_data.append(go.Bar(name='Train', \n",
    "#                      x=models, \n",
    "#                      y=np.round(100*train_grouped_df['score']['mean'], 2), \n",
    "#                      error_y={\"array\":np.round(100*train_grouped_df['score']['std'], 2)}))\n",
    "my_data.append(go.Bar(name='Test', \n",
    "                      x=models, \n",
    "                      y=round(100*test_grouped_df['score']['mean'], 2), \n",
    "                      error_y={\"array\":np.round(100*test_grouped_df['score']['std'],2)},\n",
    "                      marker={\"color\": \"orange\"}))\n",
    "\n",
    "\n",
    "fig = go.Figure(data=my_data)\n",
    "# Change the bar mode\n",
    "fig.update_layout(barmode='group', \n",
    "                  title_text='Accuracy Comparison across Different Models',\n",
    "                  xaxis_title=\"Model\",\n",
    "                  yaxis_title=\"Accuracy Score (%)\",\n",
    "                  legend_title=\"Dataset\",\n",
    "                  font=dict(\n",
    "                      family=\"Courier New, monospace\",\n",
    "                      size=18)\n",
    "                 )\n",
    "fig.update_yaxes(range=(0,110))\n",
    "\n",
    "fig.show()"
   ]
  },
  {
   "cell_type": "markdown",
   "metadata": {},
   "source": [
    "We also want to check where there are statistically significant differences"
   ]
  },
  {
   "cell_type": "code",
   "execution_count": 155,
   "metadata": {},
   "outputs": [
    {
     "data": {
      "text/html": [
       "<div>\n",
       "<style scoped>\n",
       "    .dataframe tbody tr th:only-of-type {\n",
       "        vertical-align: middle;\n",
       "    }\n",
       "\n",
       "    .dataframe tbody tr th {\n",
       "        vertical-align: top;\n",
       "    }\n",
       "\n",
       "    .dataframe thead th {\n",
       "        text-align: right;\n",
       "    }\n",
       "</style>\n",
       "<table border=\"1\" class=\"dataframe\">\n",
       "  <thead>\n",
       "    <tr style=\"text-align: right;\">\n",
       "      <th></th>\n",
       "      <th>model</th>\n",
       "      <th>dataset</th>\n",
       "      <th>score</th>\n",
       "    </tr>\n",
       "  </thead>\n",
       "  <tbody>\n",
       "    <tr>\n",
       "      <th>0</th>\n",
       "      <td>Logistic Regression</td>\n",
       "      <td>test</td>\n",
       "      <td>0.641221</td>\n",
       "    </tr>\n",
       "    <tr>\n",
       "      <th>2</th>\n",
       "      <td>Logistic Regression</td>\n",
       "      <td>test</td>\n",
       "      <td>0.641221</td>\n",
       "    </tr>\n",
       "    <tr>\n",
       "      <th>4</th>\n",
       "      <td>SVM</td>\n",
       "      <td>test</td>\n",
       "      <td>0.633588</td>\n",
       "    </tr>\n",
       "    <tr>\n",
       "      <th>6</th>\n",
       "      <td>KNN</td>\n",
       "      <td>test</td>\n",
       "      <td>0.633588</td>\n",
       "    </tr>\n",
       "    <tr>\n",
       "      <th>8</th>\n",
       "      <td>Decision Tree</td>\n",
       "      <td>test</td>\n",
       "      <td>0.610687</td>\n",
       "    </tr>\n",
       "  </tbody>\n",
       "</table>\n",
       "</div>"
      ],
      "text/plain": [
       "                 model dataset     score\n",
       "0  Logistic Regression    test  0.641221\n",
       "2  Logistic Regression    test  0.641221\n",
       "4                  SVM    test  0.633588\n",
       "6                  KNN    test  0.633588\n",
       "8        Decision Tree    test  0.610687"
      ]
     },
     "execution_count": 155,
     "metadata": {},
     "output_type": "execute_result"
    }
   ],
   "source": [
    "ungrouped_test_df = total_run_times_dataframe[total_run_times_dataframe['dataset'] == 'test']\n",
    "ungrouped_test_df.head()"
   ]
  },
  {
   "cell_type": "code",
   "execution_count": 156,
   "metadata": {},
   "outputs": [
    {
     "data": {
      "text/plain": [
       "23"
      ]
     },
     "execution_count": 156,
     "metadata": {},
     "output_type": "execute_result"
    }
   ],
   "source": [
    "ungrouped_test_df.shape[0]//6"
   ]
  },
  {
   "cell_type": "code",
   "execution_count": 157,
   "metadata": {},
   "outputs": [
    {
     "data": {
      "text/html": [
       "<table class=\"simpletable\">\n",
       "<caption>Multiple Comparison of Means - Tukey HSD, FWER=0.05</caption>\n",
       "<tr>\n",
       "        <th>group1</th>              <th>group2</th>        <th>meandiff</th>  <th>p-adj</th>  <th>lower</th>   <th>upper</th>  <th>reject</th>\n",
       "</tr>\n",
       "<tr>\n",
       "     <td>Decision Tree</td>     <td>Gradient Boosting</td>   <td>0.0658</td>   <td>0.001</td>  <td>0.036</td>  <td>0.0955</td>   <td>True</td> \n",
       "</tr>\n",
       "<tr>\n",
       "     <td>Decision Tree</td>            <td>KNN</td>          <td>0.0073</td>    <td>0.9</td>  <td>-0.0221</td> <td>0.0367</td>   <td>False</td>\n",
       "</tr>\n",
       "<tr>\n",
       "     <td>Decision Tree</td>    <td>Logistic Regression</td>  <td>0.0262</td>  <td>0.1044</td> <td>-0.0029</td> <td>0.0553</td>   <td>False</td>\n",
       "</tr>\n",
       "<tr>\n",
       "     <td>Decision Tree</td>       <td>Random Forest</td>     <td>0.0701</td>   <td>0.001</td> <td>0.0404</td>  <td>0.0998</td>   <td>True</td> \n",
       "</tr>\n",
       "<tr>\n",
       "     <td>Decision Tree</td>            <td>SVM</td>          <td>0.0436</td>   <td>0.001</td> <td>0.0142</td>   <td>0.073</td>   <td>True</td> \n",
       "</tr>\n",
       "<tr>\n",
       "   <td>Gradient Boosting</td>          <td>KNN</td>          <td>-0.0585</td>  <td>0.001</td> <td>-0.0882</td> <td>-0.0287</td>  <td>True</td> \n",
       "</tr>\n",
       "<tr>\n",
       "   <td>Gradient Boosting</td>  <td>Logistic Regression</td>  <td>-0.0396</td> <td>0.0022</td> <td>-0.069</td>  <td>-0.0101</td>  <td>True</td> \n",
       "</tr>\n",
       "<tr>\n",
       "   <td>Gradient Boosting</td>     <td>Random Forest</td>     <td>0.0043</td>    <td>0.9</td>  <td>-0.0257</td> <td>0.0344</td>   <td>False</td>\n",
       "</tr>\n",
       "<tr>\n",
       "   <td>Gradient Boosting</td>          <td>SVM</td>          <td>-0.0222</td> <td>0.2642</td> <td>-0.052</td>  <td>0.0075</td>   <td>False</td>\n",
       "</tr>\n",
       "<tr>\n",
       "          <td>KNN</td>         <td>Logistic Regression</td>  <td>0.0189</td>  <td>0.4248</td> <td>-0.0102</td>  <td>0.048</td>   <td>False</td>\n",
       "</tr>\n",
       "<tr>\n",
       "          <td>KNN</td>            <td>Random Forest</td>     <td>0.0628</td>   <td>0.001</td>  <td>0.033</td>  <td>0.0925</td>   <td>True</td> \n",
       "</tr>\n",
       "<tr>\n",
       "          <td>KNN</td>                 <td>SVM</td>          <td>0.0363</td>  <td>0.0066</td> <td>0.0068</td>  <td>0.0657</td>   <td>True</td> \n",
       "</tr>\n",
       "<tr>\n",
       "  <td>Logistic Regression</td>    <td>Random Forest</td>     <td>0.0439</td>   <td>0.001</td> <td>0.0145</td>  <td>0.0734</td>   <td>True</td> \n",
       "</tr>\n",
       "<tr>\n",
       "  <td>Logistic Regression</td>         <td>SVM</td>          <td>0.0174</td>  <td>0.5153</td> <td>-0.0117</td> <td>0.0465</td>   <td>False</td>\n",
       "</tr>\n",
       "<tr>\n",
       "     <td>Random Forest</td>            <td>SVM</td>          <td>-0.0265</td>  <td>0.11</td>  <td>-0.0563</td> <td>0.0032</td>   <td>False</td>\n",
       "</tr>\n",
       "</table>"
      ],
      "text/plain": [
       "<class 'statsmodels.iolib.table.SimpleTable'>"
      ]
     },
     "execution_count": 157,
     "metadata": {},
     "output_type": "execute_result"
    }
   ],
   "source": [
    "from statsmodels.stats.multicomp import pairwise_tukeyhsd\n",
    "\n",
    "result = pairwise_tukeyhsd(ungrouped_test_df['score'], \n",
    "                           ungrouped_test_df['model'])\n",
    "result.summary()"
   ]
  },
  {
   "cell_type": "markdown",
   "metadata": {},
   "source": [
    "We can see that SVMs are statistically better than all other attempted models, while decision trees are statistically worse than all other explored models.\n",
    "\n",
    "With only 30 observations for each model, we have little support for other inferences, but certainly we see that algorithm like KNN, gradient boosting, and logistic regression, perform no worse than SVMs.\n",
    "\n",
    "Still, with an accuracy rate of 70%, we might ask ourselves if we can improve these results. We will first attempt to improve the results with data augmentation shown in the next notebook."
   ]
  }
 ],
 "metadata": {
  "hide_input": false,
  "kernelspec": {
   "display_name": "Python 3",
   "language": "python",
   "name": "python3"
  },
  "language_info": {
   "codemirror_mode": {
    "name": "ipython",
    "version": 3
   },
   "file_extension": ".py",
   "mimetype": "text/x-python",
   "name": "python",
   "nbconvert_exporter": "python",
   "pygments_lexer": "ipython3",
   "version": "3.8.5"
  }
 },
 "nbformat": 4,
 "nbformat_minor": 4
}
